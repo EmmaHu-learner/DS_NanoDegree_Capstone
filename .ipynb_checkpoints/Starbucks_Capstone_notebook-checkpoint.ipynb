{
 "cells": [
  {
   "cell_type": "markdown",
   "metadata": {},
   "source": [
    "# Starbucks Capstone Challenge\n",
    "\n",
    "### Introduction\n",
    "\n",
    "This data set contains simulated data that mimics customer behavior on the Starbucks rewards mobile app. Once every few days, Starbucks sends out an offer to users of the mobile app. An offer can be merely an advertisement for a drink or an actual offer such as a discount or BOGO (buy one get one free). Some users might not receive any offer during certain weeks. \n",
    "\n",
    "Not all users receive the same offer, and that is the challenge to solve with this data set.\n",
    "\n",
    "Your task is to combine transaction, demographic and offer data to determine which demographic groups respond best to which offer type. This data set is a simplified version of the real Starbucks app because the underlying simulator only has one product whereas Starbucks actually sells dozens of products.\n",
    "\n",
    "Every offer has a validity period before the offer expires. As an example, a BOGO offer might be valid for only 5 days. You'll see in the data set that informational offers have a validity period even though these ads are merely providing information about a product; for example, if an informational offer has 7 days of validity, you can assume the customer is feeling the influence of the offer for 7 days after receiving the advertisement.\n",
    "\n",
    "You'll be given transactional data showing user purchases made on the app including the timestamp of purchase and the amount of money spent on a purchase. This transactional data also has a record for each offer that a user receives as well as a record for when a user actually views the offer. There are also records for when a user completes an offer. \n",
    "\n",
    "Keep in mind as well that someone using the app might make a purchase through the app without having received an offer or seen an offer.\n",
    "\n",
    "### Example\n",
    "\n",
    "To give an example, a user could receive a discount offer buy 10 dollars get 2 off on Monday. The offer is valid for 10 days from receipt. If the customer accumulates at least 10 dollars in purchases during the validity period, the customer completes the offer.\n",
    "\n",
    "However, there are a few things to watch out for in this data set. Customers do not opt into the offers that they receive; in other words, a user can receive an offer, never actually view the offer, and still complete the offer. For example, a user might receive the \"buy 10 dollars get 2 dollars off offer\", but the user never opens the offer during the 10 day validity period. The customer spends 15 dollars during those ten days. There will be an offer completion record in the data set; however, the customer was not influenced by the offer because the customer never viewed the offer.\n",
    "\n",
    "### Cleaning\n",
    "\n",
    "This makes data cleaning especially important and tricky.\n",
    "\n",
    "You'll also want to take into account that some demographic groups will make purchases even if they don't receive an offer. From a business perspective, if a customer is going to make a 10 dollar purchase without an offer anyway, you wouldn't want to send a buy 10 dollars get 2 dollars off offer. You'll want to try to assess what a certain demographic group will buy when not receiving any offers.\n",
    "\n",
    "### Final Advice\n",
    "\n",
    "Because this is a capstone project, you are free to analyze the data any way you see fit. For example, you could build a machine learning model that predicts how much someone will spend based on demographics and offer type. Or you could build a model that predicts whether or not someone will respond to an offer. Or, you don't need to build a machine learning model at all. You could develop a set of heuristics that determine what offer you should send to each customer (i.e., 75 percent of women customers who were 35 years old responded to offer A vs 40 percent from the same demographic to offer B, so send offer A)."
   ]
  },
  {
   "cell_type": "markdown",
   "metadata": {},
   "source": [
    "# Data Sets\n",
    "\n",
    "The data is contained in three files:\n",
    "\n",
    "* portfolio.json - containing offer ids and meta data about each offer (duration, type, etc.)\n",
    "* profile.json - demographic data for each customer\n",
    "* transcript.json - records for transactions, offers received, offers viewed, and offers completed\n",
    "\n",
    "Here is the schema and explanation of each variable in the files:\n",
    "\n",
    "**portfolio.json**\n",
    "* id (string) - offer id\n",
    "* offer_type (string) - type of offer ie BOGO, discount, informational\n",
    "* difficulty (int) - minimum required spend to complete an offer\n",
    "* reward (int) - reward given for completing an offer\n",
    "* duration (int) - time for offer to be open, in days\n",
    "* channels (list of strings)\n",
    "\n",
    "**profile.json**\n",
    "* age (int) - age of the customer \n",
    "* became_member_on (int) - date when customer created an app account\n",
    "* gender (str) - gender of the customer (note some entries contain 'O' for other rather than M or F)\n",
    "* id (str) - customer id\n",
    "* income (float) - customer's income\n",
    "\n",
    "**transcript.json**\n",
    "* event (str) - record description (ie transaction, offer received, offer viewed, etc.)\n",
    "* person (str) - customer id\n",
    "* time (int) - time in hours since start of test. The data begins at time t=0\n",
    "* value - (dict of strings) - either an offer id or transaction amount depending on the record"
   ]
  },
  {
   "cell_type": "code",
   "execution_count": 235,
   "metadata": {},
   "outputs": [],
   "source": [
    "import pandas as pd\n",
    "import numpy as np\n",
    "import matplotlib.pyplot as plt\n",
    "\n",
    "import math\n",
    "import json\n",
    "\n",
    "%matplotlib inline\n",
    "\n",
    "# read in the json files\n",
    "portfolio = pd.read_json('data/portfolio.json', orient='records', lines=True)\n",
    "profile = pd.read_json('data/profile.json', orient='records', lines=True)\n",
    "transcript = pd.read_json('data/transcript.json', orient='records', lines=True)"
   ]
  },
  {
   "cell_type": "markdown",
   "metadata": {},
   "source": [
    "# Data Preprocessing"
   ]
  },
  {
   "cell_type": "markdown",
   "metadata": {},
   "source": [
    "## Helper Function"
   ]
  },
  {
   "cell_type": "code",
   "execution_count": 236,
   "metadata": {},
   "outputs": [],
   "source": [
    "def category_plot(df, col, title, fsize=(15,5)):\n",
    "    plt.figure(figsize=fsize)\n",
    "    df[col].value_counts(sort=True).plot(kind='bar')\n",
    "    plt.title(title)\n",
    "    plt.xticks(rotation=0)\n",
    "    plt.show()\n",
    "\n",
    "def hist_plot(df, col, title, figs=(15,5), nbin=10):\n",
    "    plt.figure(figsize=figs)\n",
    "    df[col].hist(bins=nbin)\n",
    "    plt.xlabel(col)\n",
    "    plt.ylabel('counts')\n",
    "    plt.title(title)\n",
    "    plt.show()\n",
    "    \n",
    "def into_bins(df, col, bins, labels, nan_label='unknown' ):\n",
    "    \"\"\"\n",
    "    Takes in a column name, bin cut points and labels, replaces the original column with a\n",
    "    binned version, and replaces nulls (with 'unknown' if unspecified).\n",
    "    \"\"\"\n",
    "    df[col] = pd.cut(df[col], bins=bins, labels=labels, include_lowest=True)\n",
    "    \n",
    "    df[col] = df[col].cat.add_categories(nan_label)\n",
    "    df[col].fillna(nan_label, inplace =True) \n",
    "\n",
    "    df[col] = df[col].astype('str')\n",
    "    \n",
    "\n",
    "def pri_missing_perc(df,col):\n",
    "    print(\" {} ({}%) missing values in {} \".format(df[col].isnull().sum(),round(df[col].isnull().sum()/df.shape[0]*100,4), col))\n",
    "\n",
    "\n",
    "# keep features to be dropped at the end\n",
    "to_be_dropped=[]"
   ]
  },
  {
   "cell_type": "markdown",
   "metadata": {},
   "source": [
    "## portfolio"
   ]
  },
  {
   "cell_type": "code",
   "execution_count": 237,
   "metadata": {},
   "outputs": [
    {
     "data": {
      "text/html": [
       "<div>\n",
       "<style scoped>\n",
       "    .dataframe tbody tr th:only-of-type {\n",
       "        vertical-align: middle;\n",
       "    }\n",
       "\n",
       "    .dataframe tbody tr th {\n",
       "        vertical-align: top;\n",
       "    }\n",
       "\n",
       "    .dataframe thead th {\n",
       "        text-align: right;\n",
       "    }\n",
       "</style>\n",
       "<table border=\"1\" class=\"dataframe\">\n",
       "  <thead>\n",
       "    <tr style=\"text-align: right;\">\n",
       "      <th></th>\n",
       "      <th>reward</th>\n",
       "      <th>channels</th>\n",
       "      <th>difficulty</th>\n",
       "      <th>duration</th>\n",
       "      <th>offer_type</th>\n",
       "      <th>id</th>\n",
       "    </tr>\n",
       "  </thead>\n",
       "  <tbody>\n",
       "    <tr>\n",
       "      <th>0</th>\n",
       "      <td>10</td>\n",
       "      <td>[email, mobile, social]</td>\n",
       "      <td>10</td>\n",
       "      <td>7</td>\n",
       "      <td>bogo</td>\n",
       "      <td>ae264e3637204a6fb9bb56bc8210ddfd</td>\n",
       "    </tr>\n",
       "    <tr>\n",
       "      <th>1</th>\n",
       "      <td>10</td>\n",
       "      <td>[web, email, mobile, social]</td>\n",
       "      <td>10</td>\n",
       "      <td>5</td>\n",
       "      <td>bogo</td>\n",
       "      <td>4d5c57ea9a6940dd891ad53e9dbe8da0</td>\n",
       "    </tr>\n",
       "    <tr>\n",
       "      <th>2</th>\n",
       "      <td>0</td>\n",
       "      <td>[web, email, mobile]</td>\n",
       "      <td>0</td>\n",
       "      <td>4</td>\n",
       "      <td>informational</td>\n",
       "      <td>3f207df678b143eea3cee63160fa8bed</td>\n",
       "    </tr>\n",
       "    <tr>\n",
       "      <th>3</th>\n",
       "      <td>5</td>\n",
       "      <td>[web, email, mobile]</td>\n",
       "      <td>5</td>\n",
       "      <td>7</td>\n",
       "      <td>bogo</td>\n",
       "      <td>9b98b8c7a33c4b65b9aebfe6a799e6d9</td>\n",
       "    </tr>\n",
       "    <tr>\n",
       "      <th>4</th>\n",
       "      <td>5</td>\n",
       "      <td>[web, email]</td>\n",
       "      <td>20</td>\n",
       "      <td>10</td>\n",
       "      <td>discount</td>\n",
       "      <td>0b1e1539f2cc45b7b9fa7c272da2e1d7</td>\n",
       "    </tr>\n",
       "  </tbody>\n",
       "</table>\n",
       "</div>"
      ],
      "text/plain": [
       "   reward                      channels  difficulty  duration     offer_type  \\\n",
       "0      10       [email, mobile, social]          10         7           bogo   \n",
       "1      10  [web, email, mobile, social]          10         5           bogo   \n",
       "2       0          [web, email, mobile]           0         4  informational   \n",
       "3       5          [web, email, mobile]           5         7           bogo   \n",
       "4       5                  [web, email]          20        10       discount   \n",
       "\n",
       "                                 id  \n",
       "0  ae264e3637204a6fb9bb56bc8210ddfd  \n",
       "1  4d5c57ea9a6940dd891ad53e9dbe8da0  \n",
       "2  3f207df678b143eea3cee63160fa8bed  \n",
       "3  9b98b8c7a33c4b65b9aebfe6a799e6d9  \n",
       "4  0b1e1539f2cc45b7b9fa7c272da2e1d7  "
      ]
     },
     "execution_count": 237,
     "metadata": {},
     "output_type": "execute_result"
    }
   ],
   "source": [
    "portfolio.head()"
   ]
  },
  {
   "cell_type": "code",
   "execution_count": 238,
   "metadata": {},
   "outputs": [
    {
     "name": "stdout",
     "output_type": "stream",
     "text": [
      " 0 (0.0%) missing values in offer_type \n"
     ]
    },
    {
     "data": {
      "image/png": "[encoded data removed]",
      "text/plain": [
       "<Figure size 432x216 with 1 Axes>"
      ]
     },
     "metadata": {
      "needs_background": "light"
     },
     "output_type": "display_data"
    }
   ],
   "source": [
    "pri_missing_perc(portfolio, 'offer_type')\n",
    "category_plot(portfolio, 'offer_type', 'offer type', (6,3))"
   ]
  },
  {
   "cell_type": "code",
   "execution_count": 239,
   "metadata": {},
   "outputs": [
    {
     "name": "stdout",
     "output_type": "stream",
     "text": [
      " 0 (0.0%) missing values in difficulty \n"
     ]
    },
    {
     "data": {
      "image/png": "[encoded data removed]",
      "text/plain": [
       "<Figure size 432x216 with 1 Axes>"
      ]
     },
     "metadata": {
      "needs_background": "light"
     },
     "output_type": "display_data"
    }
   ],
   "source": [
    "# overall difficulties\n",
    "pri_missing_perc(portfolio, 'difficulty')\n",
    "category_plot(portfolio, 'difficulty', 'offer difficulty', (6,3))"
   ]
  },
  {
   "cell_type": "code",
   "execution_count": 240,
   "metadata": {},
   "outputs": [
    {
     "data": {
      "image/png": "[encoded data removed]",
      "text/plain": [
       "<Figure size 432x288 with 1 Axes>"
      ]
     },
     "metadata": {
      "needs_background": "light"
     },
     "output_type": "display_data"
    }
   ],
   "source": [
    "# difficulties for each type of offer\n",
    "\n",
    "# df['difficulty'].hist(by=df['offer_type'])\n",
    "\n",
    "grouped = portfolio.groupby('offer_type')\n",
    "plt.figure()\n",
    "for group in grouped:\n",
    "    plt.hist(group[1]['difficulty'],histtype='bar', bins=range(0,21,1), rwidth=1, label=group[0],  alpha=0.6, stacked=True)\n",
    "plt.legend()\n",
    "plt.title('Offer Difficulty for Different Offer Types')\n",
    "plt.xlabel('Offer Difficulty')\n",
    "plt.title('Count')\n",
    "plt.show()\n"
   ]
  },
  {
   "cell_type": "code",
   "execution_count": 241,
   "metadata": {},
   "outputs": [
    {
     "name": "stdout",
     "output_type": "stream",
     "text": [
      " 0 (0.0%) missing values in duration \n"
     ]
    },
    {
     "data": {
      "image/png": "[encoded data removed]",
      "text/plain": [
       "<Figure size 432x216 with 1 Axes>"
      ]
     },
     "metadata": {
      "needs_background": "light"
     },
     "output_type": "display_data"
    }
   ],
   "source": [
    "pri_missing_perc(portfolio, 'duration')\n",
    "\n",
    "# transfer duration of days into hours such that it can be compared to transaction time\n",
    "portfolio['duration']=portfolio['duration']*24\n",
    "\n",
    "category_plot(portfolio, 'duration', 'offer duration', (6,3))"
   ]
  },
  {
   "cell_type": "code",
   "execution_count": 242,
   "metadata": {},
   "outputs": [
    {
     "data": {
      "image/png": "[encoded data removed]",
      "text/plain": [
       "<Figure size 432x288 with 1 Axes>"
      ]
     },
     "metadata": {
      "needs_background": "light"
     },
     "output_type": "display_data"
    }
   ],
   "source": [
    "grouped = portfolio.groupby('offer_type')\n",
    "\n",
    "plt.figure()\n",
    "for group in grouped:\n",
    "    plt.hist(group[1]['duration'],histtype='bar', bins=range(portfolio['duration'].min(),portfolio['duration'].max()+20,20), rwidth=0.5, label=group[0],  alpha=0.6, stacked=True)\n",
    "plt.legend()\n",
    "plt.title('Offer Duration for Different Offer Types')\n",
    "plt.xlabel('Offer Duration')\n",
    "plt.title('Count')\n",
    "plt.show()"
   ]
  },
  {
   "cell_type": "code",
   "execution_count": 243,
   "metadata": {},
   "outputs": [
    {
     "name": "stdout",
     "output_type": "stream",
     "text": [
      " 0 (0.0%) missing values in channels \n",
      "types of offer channels: {'email', 'mobile', 'social', 'web'}\n"
     ]
    }
   ],
   "source": [
    "pri_missing_perc(portfolio, 'channels')\n",
    "channel_types=set([x for i in list(portfolio['channels']) for x in i ])\n",
    "print('types of offer channels:', channel_types)"
   ]
  },
  {
   "cell_type": "code",
   "execution_count": 244,
   "metadata": {},
   "outputs": [
    {
     "data": {
      "text/html": [
       "<div>\n",
       "<style scoped>\n",
       "    .dataframe tbody tr th:only-of-type {\n",
       "        vertical-align: middle;\n",
       "    }\n",
       "\n",
       "    .dataframe tbody tr th {\n",
       "        vertical-align: top;\n",
       "    }\n",
       "\n",
       "    .dataframe thead th {\n",
       "        text-align: right;\n",
       "    }\n",
       "</style>\n",
       "<table border=\"1\" class=\"dataframe\">\n",
       "  <thead>\n",
       "    <tr style=\"text-align: right;\">\n",
       "      <th></th>\n",
       "      <th>reward</th>\n",
       "      <th>difficulty</th>\n",
       "      <th>duration</th>\n",
       "      <th>offer_type</th>\n",
       "      <th>id</th>\n",
       "      <th>email</th>\n",
       "      <th>mobile</th>\n",
       "      <th>social</th>\n",
       "      <th>web</th>\n",
       "    </tr>\n",
       "  </thead>\n",
       "  <tbody>\n",
       "    <tr>\n",
       "      <th>0</th>\n",
       "      <td>10</td>\n",
       "      <td>10</td>\n",
       "      <td>168</td>\n",
       "      <td>bogo</td>\n",
       "      <td>ae264e3637204a6fb9bb56bc8210ddfd</td>\n",
       "      <td>1</td>\n",
       "      <td>1</td>\n",
       "      <td>1</td>\n",
       "      <td>0</td>\n",
       "    </tr>\n",
       "    <tr>\n",
       "      <th>1</th>\n",
       "      <td>10</td>\n",
       "      <td>10</td>\n",
       "      <td>120</td>\n",
       "      <td>bogo</td>\n",
       "      <td>4d5c57ea9a6940dd891ad53e9dbe8da0</td>\n",
       "      <td>1</td>\n",
       "      <td>1</td>\n",
       "      <td>1</td>\n",
       "      <td>1</td>\n",
       "    </tr>\n",
       "    <tr>\n",
       "      <th>2</th>\n",
       "      <td>0</td>\n",
       "      <td>0</td>\n",
       "      <td>96</td>\n",
       "      <td>informational</td>\n",
       "      <td>3f207df678b143eea3cee63160fa8bed</td>\n",
       "      <td>1</td>\n",
       "      <td>1</td>\n",
       "      <td>0</td>\n",
       "      <td>1</td>\n",
       "    </tr>\n",
       "    <tr>\n",
       "      <th>3</th>\n",
       "      <td>5</td>\n",
       "      <td>5</td>\n",
       "      <td>168</td>\n",
       "      <td>bogo</td>\n",
       "      <td>9b98b8c7a33c4b65b9aebfe6a799e6d9</td>\n",
       "      <td>1</td>\n",
       "      <td>1</td>\n",
       "      <td>0</td>\n",
       "      <td>1</td>\n",
       "    </tr>\n",
       "    <tr>\n",
       "      <th>4</th>\n",
       "      <td>5</td>\n",
       "      <td>20</td>\n",
       "      <td>240</td>\n",
       "      <td>discount</td>\n",
       "      <td>0b1e1539f2cc45b7b9fa7c272da2e1d7</td>\n",
       "      <td>1</td>\n",
       "      <td>0</td>\n",
       "      <td>0</td>\n",
       "      <td>1</td>\n",
       "    </tr>\n",
       "    <tr>\n",
       "      <th>5</th>\n",
       "      <td>3</td>\n",
       "      <td>7</td>\n",
       "      <td>168</td>\n",
       "      <td>discount</td>\n",
       "      <td>2298d6c36e964ae4a3e7e9706d1fb8c2</td>\n",
       "      <td>1</td>\n",
       "      <td>1</td>\n",
       "      <td>1</td>\n",
       "      <td>1</td>\n",
       "    </tr>\n",
       "    <tr>\n",
       "      <th>6</th>\n",
       "      <td>2</td>\n",
       "      <td>10</td>\n",
       "      <td>240</td>\n",
       "      <td>discount</td>\n",
       "      <td>fafdcd668e3743c1bb461111dcafc2a4</td>\n",
       "      <td>1</td>\n",
       "      <td>1</td>\n",
       "      <td>1</td>\n",
       "      <td>1</td>\n",
       "    </tr>\n",
       "    <tr>\n",
       "      <th>7</th>\n",
       "      <td>0</td>\n",
       "      <td>0</td>\n",
       "      <td>72</td>\n",
       "      <td>informational</td>\n",
       "      <td>5a8bc65990b245e5a138643cd4eb9837</td>\n",
       "      <td>1</td>\n",
       "      <td>1</td>\n",
       "      <td>1</td>\n",
       "      <td>0</td>\n",
       "    </tr>\n",
       "    <tr>\n",
       "      <th>8</th>\n",
       "      <td>5</td>\n",
       "      <td>5</td>\n",
       "      <td>120</td>\n",
       "      <td>bogo</td>\n",
       "      <td>f19421c1d4aa40978ebb69ca19b0e20d</td>\n",
       "      <td>1</td>\n",
       "      <td>1</td>\n",
       "      <td>1</td>\n",
       "      <td>1</td>\n",
       "    </tr>\n",
       "    <tr>\n",
       "      <th>9</th>\n",
       "      <td>2</td>\n",
       "      <td>10</td>\n",
       "      <td>168</td>\n",
       "      <td>discount</td>\n",
       "      <td>2906b810c7d4411798c6938adc9daaa5</td>\n",
       "      <td>1</td>\n",
       "      <td>1</td>\n",
       "      <td>0</td>\n",
       "      <td>1</td>\n",
       "    </tr>\n",
       "  </tbody>\n",
       "</table>\n",
       "</div>"
      ],
      "text/plain": [
       "   reward  difficulty  duration     offer_type  \\\n",
       "0      10          10       168           bogo   \n",
       "1      10          10       120           bogo   \n",
       "2       0           0        96  informational   \n",
       "3       5           5       168           bogo   \n",
       "4       5          20       240       discount   \n",
       "5       3           7       168       discount   \n",
       "6       2          10       240       discount   \n",
       "7       0           0        72  informational   \n",
       "8       5           5       120           bogo   \n",
       "9       2          10       168       discount   \n",
       "\n",
       "                                 id  email  mobile  social  web  \n",
       "0  ae264e3637204a6fb9bb56bc8210ddfd      1       1       1    0  \n",
       "1  4d5c57ea9a6940dd891ad53e9dbe8da0      1       1       1    1  \n",
       "2  3f207df678b143eea3cee63160fa8bed      1       1       0    1  \n",
       "3  9b98b8c7a33c4b65b9aebfe6a799e6d9      1       1       0    1  \n",
       "4  0b1e1539f2cc45b7b9fa7c272da2e1d7      1       0       0    1  \n",
       "5  2298d6c36e964ae4a3e7e9706d1fb8c2      1       1       1    1  \n",
       "6  fafdcd668e3743c1bb461111dcafc2a4      1       1       1    1  \n",
       "7  5a8bc65990b245e5a138643cd4eb9837      1       1       1    0  \n",
       "8  f19421c1d4aa40978ebb69ca19b0e20d      1       1       1    1  \n",
       "9  2906b810c7d4411798c6938adc9daaa5      1       1       0    1  "
      ]
     },
     "execution_count": 244,
     "metadata": {},
     "output_type": "execute_result"
    }
   ],
   "source": [
    "for x in channel_types:\n",
    "    portfolio[x]=0\n",
    "    portfolio.loc[pd.DataFrame(portfolio['channels'].tolist()).isin([x]).any(1),x]=1\n",
    "portfolio.drop('channels', axis=1, inplace=True)\n",
    "portfolio"
   ]
  },
  {
   "cell_type": "code",
   "execution_count": 245,
   "metadata": {},
   "outputs": [
    {
     "data": {
      "text/html": [
       "<div>\n",
       "<style scoped>\n",
       "    .dataframe tbody tr th:only-of-type {\n",
       "        vertical-align: middle;\n",
       "    }\n",
       "\n",
       "    .dataframe tbody tr th {\n",
       "        vertical-align: top;\n",
       "    }\n",
       "\n",
       "    .dataframe thead th {\n",
       "        text-align: right;\n",
       "    }\n",
       "</style>\n",
       "<table border=\"1\" class=\"dataframe\">\n",
       "  <thead>\n",
       "    <tr style=\"text-align: right;\">\n",
       "      <th></th>\n",
       "      <th>email</th>\n",
       "      <th>social</th>\n",
       "      <th>web</th>\n",
       "      <th>mobile</th>\n",
       "    </tr>\n",
       "    <tr>\n",
       "      <th>offer_type</th>\n",
       "      <th></th>\n",
       "      <th></th>\n",
       "      <th></th>\n",
       "      <th></th>\n",
       "    </tr>\n",
       "  </thead>\n",
       "  <tbody>\n",
       "    <tr>\n",
       "      <th>bogo</th>\n",
       "      <td>4</td>\n",
       "      <td>3</td>\n",
       "      <td>3</td>\n",
       "      <td>4</td>\n",
       "    </tr>\n",
       "    <tr>\n",
       "      <th>discount</th>\n",
       "      <td>4</td>\n",
       "      <td>2</td>\n",
       "      <td>4</td>\n",
       "      <td>3</td>\n",
       "    </tr>\n",
       "    <tr>\n",
       "      <th>informational</th>\n",
       "      <td>2</td>\n",
       "      <td>1</td>\n",
       "      <td>1</td>\n",
       "      <td>2</td>\n",
       "    </tr>\n",
       "  </tbody>\n",
       "</table>\n",
       "</div>"
      ],
      "text/plain": [
       "               email  social  web  mobile\n",
       "offer_type                               \n",
       "bogo               4       3    3       4\n",
       "discount           4       2    4       3\n",
       "informational      2       1    1       2"
      ]
     },
     "execution_count": 245,
     "metadata": {},
     "output_type": "execute_result"
    }
   ],
   "source": [
    "portfolio.groupby('offer_type')[['email', 'social', 'web', 'mobile']].sum()"
   ]
  },
  {
   "cell_type": "markdown",
   "metadata": {},
   "source": [
    "each offer type comes with four ways of promotion. Since we are not interested in finding out the most effective promting methods in this study, we will only count the total number of methods each offer was sent and they will be stored in \"channels\" in stead. "
   ]
  },
  {
   "cell_type": "code",
   "execution_count": 246,
   "metadata": {},
   "outputs": [],
   "source": [
    "portfolio.loc[:,'channels']=portfolio['email']+portfolio['social']+portfolio['web']+portfolio['mobile']\n"
   ]
  },
  {
   "cell_type": "code",
   "execution_count": 364,
   "metadata": {},
   "outputs": [
    {
     "data": {
      "text/plain": [
       "0    10\n",
       "1    10\n",
       "2     0\n",
       "3     5\n",
       "4    20\n",
       "5     7\n",
       "6    10\n",
       "7     0\n",
       "8     5\n",
       "9    10\n",
       "Name: difficulty, dtype: object"
      ]
     },
     "execution_count": 364,
     "metadata": {},
     "output_type": "execute_result"
    }
   ],
   "source": [
    "portfolio['difficulty'].astype(str)"
   ]
  },
  {
   "cell_type": "markdown",
   "metadata": {},
   "source": [
    "## profile"
   ]
  },
  {
   "cell_type": "code",
   "execution_count": 247,
   "metadata": {},
   "outputs": [
    {
     "name": "stdout",
     "output_type": "stream",
     "text": [
      "(17000, 5)\n"
     ]
    },
    {
     "data": {
      "text/html": [
       "<div>\n",
       "<style scoped>\n",
       "    .dataframe tbody tr th:only-of-type {\n",
       "        vertical-align: middle;\n",
       "    }\n",
       "\n",
       "    .dataframe tbody tr th {\n",
       "        vertical-align: top;\n",
       "    }\n",
       "\n",
       "    .dataframe thead th {\n",
       "        text-align: right;\n",
       "    }\n",
       "</style>\n",
       "<table border=\"1\" class=\"dataframe\">\n",
       "  <thead>\n",
       "    <tr style=\"text-align: right;\">\n",
       "      <th></th>\n",
       "      <th>gender</th>\n",
       "      <th>age</th>\n",
       "      <th>id</th>\n",
       "      <th>became_member_on</th>\n",
       "      <th>income</th>\n",
       "    </tr>\n",
       "  </thead>\n",
       "  <tbody>\n",
       "    <tr>\n",
       "      <th>0</th>\n",
       "      <td>None</td>\n",
       "      <td>118</td>\n",
       "      <td>68be06ca386d4c31939f3a4f0e3dd783</td>\n",
       "      <td>20170212</td>\n",
       "      <td>NaN</td>\n",
       "    </tr>\n",
       "    <tr>\n",
       "      <th>1</th>\n",
       "      <td>F</td>\n",
       "      <td>55</td>\n",
       "      <td>0610b486422d4921ae7d2bf64640c50b</td>\n",
       "      <td>20170715</td>\n",
       "      <td>112000.0</td>\n",
       "    </tr>\n",
       "    <tr>\n",
       "      <th>2</th>\n",
       "      <td>None</td>\n",
       "      <td>118</td>\n",
       "      <td>38fe809add3b4fcf9315a9694bb96ff5</td>\n",
       "      <td>20180712</td>\n",
       "      <td>NaN</td>\n",
       "    </tr>\n",
       "    <tr>\n",
       "      <th>3</th>\n",
       "      <td>F</td>\n",
       "      <td>75</td>\n",
       "      <td>78afa995795e4d85b5d9ceeca43f5fef</td>\n",
       "      <td>20170509</td>\n",
       "      <td>100000.0</td>\n",
       "    </tr>\n",
       "    <tr>\n",
       "      <th>4</th>\n",
       "      <td>None</td>\n",
       "      <td>118</td>\n",
       "      <td>a03223e636434f42ac4c3df47e8bac43</td>\n",
       "      <td>20170804</td>\n",
       "      <td>NaN</td>\n",
       "    </tr>\n",
       "  </tbody>\n",
       "</table>\n",
       "</div>"
      ],
      "text/plain": [
       "  gender  age                                id  became_member_on    income\n",
       "0   None  118  68be06ca386d4c31939f3a4f0e3dd783          20170212       NaN\n",
       "1      F   55  0610b486422d4921ae7d2bf64640c50b          20170715  112000.0\n",
       "2   None  118  38fe809add3b4fcf9315a9694bb96ff5          20180712       NaN\n",
       "3      F   75  78afa995795e4d85b5d9ceeca43f5fef          20170509  100000.0\n",
       "4   None  118  a03223e636434f42ac4c3df47e8bac43          20170804       NaN"
      ]
     },
     "execution_count": 247,
     "metadata": {},
     "output_type": "execute_result"
    }
   ],
   "source": [
    "print(profile.shape)\n",
    "profile.head()"
   ]
  },
  {
   "cell_type": "code",
   "execution_count": 248,
   "metadata": {},
   "outputs": [
    {
     "data": {
      "text/plain": [
       "False"
      ]
     },
     "execution_count": 248,
     "metadata": {},
     "output_type": "execute_result"
    }
   ],
   "source": [
    "# check duplicates\n",
    "profile.duplicated().any()"
   ]
  },
  {
   "cell_type": "code",
   "execution_count": 249,
   "metadata": {},
   "outputs": [
    {
     "name": "stdout",
     "output_type": "stream",
     "text": [
      " 2175 (12.7941%) missing values in gender \n"
     ]
    },
    {
     "data": {
      "image/png": "[encoded data removed]",
      "text/plain": [
       "<Figure size 432x216 with 1 Axes>"
      ]
     },
     "metadata": {
      "needs_background": "light"
     },
     "output_type": "display_data"
    }
   ],
   "source": [
    "pri_missing_perc(profile, 'gender')\n",
    "profile['gender'].fillna('unknown', inplace =True) \n",
    "\n",
    "category_plot(profile, 'gender', 'gender', (6,3))"
   ]
  },
  {
   "cell_type": "code",
   "execution_count": 250,
   "metadata": {},
   "outputs": [
    {
     "name": "stdout",
     "output_type": "stream",
     "text": [
      " 2175 (12.7941%) missing values in income \n"
     ]
    },
    {
     "data": {
      "image/png": "[encoded data removed]",
      "text/plain": [
       "<Figure size 720x288 with 1 Axes>"
      ]
     },
     "metadata": {
      "needs_background": "light"
     },
     "output_type": "display_data"
    }
   ],
   "source": [
    "pri_missing_perc(profile, 'income')\n",
    "hist_plot(profile, 'income', 'income', figs=(10,4), nbin=15)"
   ]
  },
  {
   "cell_type": "code",
   "execution_count": 251,
   "metadata": {},
   "outputs": [
    {
     "data": {
      "image/png": "[encoded data removed]",
      "text/plain": [
       "<Figure size 1080x360 with 1 Axes>"
      ]
     },
     "metadata": {
      "needs_background": "light"
     },
     "output_type": "display_data"
    }
   ],
   "source": [
    "# fill NULL\n",
    "\n",
    "# # get median and mean\n",
    "# print(\"Mean days as host:\", round(profile['income'].mean(),2))\n",
    "# print(\"Median days as host:\", round(profile['income'].median(),2))\n",
    "\n",
    "# profile['income'].fillna(profile['income'].median(), inplace=True)\n",
    "# hist_plot(profile, 'income', 'income', figs=(10,4), nbin=10)\n",
    "\n",
    "into_bins(profile,'income',bins=[0, 40000, 60000, 80000, 100000, 150000],\n",
    "          labels=['<40k', '40-60k' ,'60-80k', '80-100k','>100k'])\n",
    "category_plot(profile,'income', 'Member Income')"
   ]
  },
  {
   "cell_type": "code",
   "execution_count": 252,
   "metadata": {},
   "outputs": [
    {
     "name": "stdout",
     "output_type": "stream",
     "text": [
      " 0 (0.0%) missing values in age \n"
     ]
    },
    {
     "data": {
      "image/png": "[encoded data removed]",
      "text/plain": [
       "<Figure size 1080x360 with 1 Axes>"
      ]
     },
     "metadata": {
      "needs_background": "light"
     },
     "output_type": "display_data"
    },
    {
     "name": "stdout",
     "output_type": "stream",
     "text": [
      "Max age: 118\n",
      "Percentage of Age 118: 12.7941%\n"
     ]
    }
   ],
   "source": [
    "pri_missing_perc(profile, 'age')\n",
    "hist_plot(profile, 'age', 'age', figs=(15,5), nbin=20)\n",
    "\n",
    "# get the value of outier\n",
    "print(\"Max age:\", profile['age'].max())\n",
    "print('Percentage of Age 118: {}%'.format(round(profile[profile['age']==profile['age'].max()].shape[0]/profile.shape[0]*100, 4)))"
   ]
  },
  {
   "cell_type": "code",
   "execution_count": 253,
   "metadata": {},
   "outputs": [
    {
     "data": {
      "image/png": "[encoded data removed]",
      "text/plain": [
       "<Figure size 1080x360 with 1 Axes>"
      ]
     },
     "metadata": {
      "needs_background": "light"
     },
     "output_type": "display_data"
    }
   ],
   "source": [
    "profile.loc[(profile['age']==118),'age']=np.nan\n",
    "into_bins(profile,'age',bins=[0, 20, 40, 60, 80, 120],\n",
    "          labels=['<20', '20-40', '40-60' ,'60-80', '>80'])\n",
    "category_plot(profile,'age', 'Customer Age')"
   ]
  },
  {
   "cell_type": "code",
   "execution_count": 254,
   "metadata": {},
   "outputs": [
    {
     "name": "stdout",
     "output_type": "stream",
     "text": [
      " 0 (0.0%) missing values in became_member_on \n"
     ]
    },
    {
     "data": {
      "image/png": "[encoded data removed]",
      "text/plain": [
       "<Figure size 1080x360 with 1 Axes>"
      ]
     },
     "metadata": {
      "needs_background": "light"
     },
     "output_type": "display_data"
    }
   ],
   "source": [
    "pri_missing_perc(profile, 'became_member_on')\n",
    "\n",
    "profile['became_member_on']=pd.to_datetime(profile['became_member_on'].astype('str'))\n",
    "profile['membership_days']=(pd.to_datetime('20200501')-profile['became_member_on']).astype('timedelta64[D]')\n",
    "profile.drop('became_member_on', axis=1, inplace=True)\n",
    "\n",
    "hist_plot(profile, 'membership_days', 'membership_days', figs=(15,5), nbin=20)"
   ]
  },
  {
   "cell_type": "code",
   "execution_count": 255,
   "metadata": {},
   "outputs": [
    {
     "data": {
      "text/plain": [
       "False"
      ]
     },
     "execution_count": 255,
     "metadata": {},
     "output_type": "execute_result"
    }
   ],
   "source": [
    "profile.duplicated().any()"
   ]
  },
  {
   "cell_type": "code",
   "execution_count": 256,
   "metadata": {},
   "outputs": [
    {
     "data": {
      "text/html": [
       "<div>\n",
       "<style scoped>\n",
       "    .dataframe tbody tr th:only-of-type {\n",
       "        vertical-align: middle;\n",
       "    }\n",
       "\n",
       "    .dataframe tbody tr th {\n",
       "        vertical-align: top;\n",
       "    }\n",
       "\n",
       "    .dataframe thead th {\n",
       "        text-align: right;\n",
       "    }\n",
       "</style>\n",
       "<table border=\"1\" class=\"dataframe\">\n",
       "  <thead>\n",
       "    <tr style=\"text-align: right;\">\n",
       "      <th></th>\n",
       "      <th>gender</th>\n",
       "      <th>age</th>\n",
       "      <th>id</th>\n",
       "      <th>income</th>\n",
       "      <th>membership_days</th>\n",
       "    </tr>\n",
       "  </thead>\n",
       "  <tbody>\n",
       "    <tr>\n",
       "      <th>0</th>\n",
       "      <td>unknown</td>\n",
       "      <td>unknown</td>\n",
       "      <td>68be06ca386d4c31939f3a4f0e3dd783</td>\n",
       "      <td>unknown</td>\n",
       "      <td>1174.0</td>\n",
       "    </tr>\n",
       "    <tr>\n",
       "      <th>1</th>\n",
       "      <td>F</td>\n",
       "      <td>40-60</td>\n",
       "      <td>0610b486422d4921ae7d2bf64640c50b</td>\n",
       "      <td>&gt;100k</td>\n",
       "      <td>1021.0</td>\n",
       "    </tr>\n",
       "    <tr>\n",
       "      <th>2</th>\n",
       "      <td>unknown</td>\n",
       "      <td>unknown</td>\n",
       "      <td>38fe809add3b4fcf9315a9694bb96ff5</td>\n",
       "      <td>unknown</td>\n",
       "      <td>659.0</td>\n",
       "    </tr>\n",
       "    <tr>\n",
       "      <th>3</th>\n",
       "      <td>F</td>\n",
       "      <td>60-80</td>\n",
       "      <td>78afa995795e4d85b5d9ceeca43f5fef</td>\n",
       "      <td>80-100k</td>\n",
       "      <td>1088.0</td>\n",
       "    </tr>\n",
       "    <tr>\n",
       "      <th>4</th>\n",
       "      <td>unknown</td>\n",
       "      <td>unknown</td>\n",
       "      <td>a03223e636434f42ac4c3df47e8bac43</td>\n",
       "      <td>unknown</td>\n",
       "      <td>1001.0</td>\n",
       "    </tr>\n",
       "    <tr>\n",
       "      <th>5</th>\n",
       "      <td>M</td>\n",
       "      <td>60-80</td>\n",
       "      <td>e2127556f4f64592b11af22de27a7932</td>\n",
       "      <td>60-80k</td>\n",
       "      <td>736.0</td>\n",
       "    </tr>\n",
       "    <tr>\n",
       "      <th>6</th>\n",
       "      <td>unknown</td>\n",
       "      <td>unknown</td>\n",
       "      <td>8ec6ce2a7e7949b1bf142def7d0e0586</td>\n",
       "      <td>unknown</td>\n",
       "      <td>949.0</td>\n",
       "    </tr>\n",
       "    <tr>\n",
       "      <th>7</th>\n",
       "      <td>unknown</td>\n",
       "      <td>unknown</td>\n",
       "      <td>68617ca6246f4fbc85e91a2a49552598</td>\n",
       "      <td>unknown</td>\n",
       "      <td>942.0</td>\n",
       "    </tr>\n",
       "    <tr>\n",
       "      <th>8</th>\n",
       "      <td>M</td>\n",
       "      <td>60-80</td>\n",
       "      <td>389bc3fa690240e798340f5a15918d5c</td>\n",
       "      <td>40-60k</td>\n",
       "      <td>812.0</td>\n",
       "    </tr>\n",
       "    <tr>\n",
       "      <th>9</th>\n",
       "      <td>unknown</td>\n",
       "      <td>unknown</td>\n",
       "      <td>8974fc5686fe429db53ddde067b88302</td>\n",
       "      <td>unknown</td>\n",
       "      <td>1256.0</td>\n",
       "    </tr>\n",
       "  </tbody>\n",
       "</table>\n",
       "</div>"
      ],
      "text/plain": [
       "    gender      age                                id   income  \\\n",
       "0  unknown  unknown  68be06ca386d4c31939f3a4f0e3dd783  unknown   \n",
       "1        F    40-60  0610b486422d4921ae7d2bf64640c50b    >100k   \n",
       "2  unknown  unknown  38fe809add3b4fcf9315a9694bb96ff5  unknown   \n",
       "3        F    60-80  78afa995795e4d85b5d9ceeca43f5fef  80-100k   \n",
       "4  unknown  unknown  a03223e636434f42ac4c3df47e8bac43  unknown   \n",
       "5        M    60-80  e2127556f4f64592b11af22de27a7932   60-80k   \n",
       "6  unknown  unknown  8ec6ce2a7e7949b1bf142def7d0e0586  unknown   \n",
       "7  unknown  unknown  68617ca6246f4fbc85e91a2a49552598  unknown   \n",
       "8        M    60-80  389bc3fa690240e798340f5a15918d5c   40-60k   \n",
       "9  unknown  unknown  8974fc5686fe429db53ddde067b88302  unknown   \n",
       "\n",
       "   membership_days  \n",
       "0           1174.0  \n",
       "1           1021.0  \n",
       "2            659.0  \n",
       "3           1088.0  \n",
       "4           1001.0  \n",
       "5            736.0  \n",
       "6            949.0  \n",
       "7            942.0  \n",
       "8            812.0  \n",
       "9           1256.0  "
      ]
     },
     "execution_count": 256,
     "metadata": {},
     "output_type": "execute_result"
    }
   ],
   "source": [
    "# after preprocessing\n",
    "profile.head(10)"
   ]
  },
  {
   "cell_type": "markdown",
   "metadata": {},
   "source": [
    "## transcript"
   ]
  },
  {
   "cell_type": "code",
   "execution_count": 257,
   "metadata": {},
   "outputs": [
    {
     "data": {
      "text/html": [
       "<div>\n",
       "<style scoped>\n",
       "    .dataframe tbody tr th:only-of-type {\n",
       "        vertical-align: middle;\n",
       "    }\n",
       "\n",
       "    .dataframe tbody tr th {\n",
       "        vertical-align: top;\n",
       "    }\n",
       "\n",
       "    .dataframe thead th {\n",
       "        text-align: right;\n",
       "    }\n",
       "</style>\n",
       "<table border=\"1\" class=\"dataframe\">\n",
       "  <thead>\n",
       "    <tr style=\"text-align: right;\">\n",
       "      <th></th>\n",
       "      <th>person</th>\n",
       "      <th>event</th>\n",
       "      <th>value</th>\n",
       "      <th>time</th>\n",
       "    </tr>\n",
       "  </thead>\n",
       "  <tbody>\n",
       "    <tr>\n",
       "      <th>0</th>\n",
       "      <td>78afa995795e4d85b5d9ceeca43f5fef</td>\n",
       "      <td>offer received</td>\n",
       "      <td>{'offer id': '9b98b8c7a33c4b65b9aebfe6a799e6d9'}</td>\n",
       "      <td>0</td>\n",
       "    </tr>\n",
       "    <tr>\n",
       "      <th>1</th>\n",
       "      <td>a03223e636434f42ac4c3df47e8bac43</td>\n",
       "      <td>offer received</td>\n",
       "      <td>{'offer id': '0b1e1539f2cc45b7b9fa7c272da2e1d7'}</td>\n",
       "      <td>0</td>\n",
       "    </tr>\n",
       "    <tr>\n",
       "      <th>2</th>\n",
       "      <td>e2127556f4f64592b11af22de27a7932</td>\n",
       "      <td>offer received</td>\n",
       "      <td>{'offer id': '2906b810c7d4411798c6938adc9daaa5'}</td>\n",
       "      <td>0</td>\n",
       "    </tr>\n",
       "    <tr>\n",
       "      <th>3</th>\n",
       "      <td>8ec6ce2a7e7949b1bf142def7d0e0586</td>\n",
       "      <td>offer received</td>\n",
       "      <td>{'offer id': 'fafdcd668e3743c1bb461111dcafc2a4'}</td>\n",
       "      <td>0</td>\n",
       "    </tr>\n",
       "    <tr>\n",
       "      <th>4</th>\n",
       "      <td>68617ca6246f4fbc85e91a2a49552598</td>\n",
       "      <td>offer received</td>\n",
       "      <td>{'offer id': '4d5c57ea9a6940dd891ad53e9dbe8da0'}</td>\n",
       "      <td>0</td>\n",
       "    </tr>\n",
       "  </tbody>\n",
       "</table>\n",
       "</div>"
      ],
      "text/plain": [
       "                             person           event  \\\n",
       "0  78afa995795e4d85b5d9ceeca43f5fef  offer received   \n",
       "1  a03223e636434f42ac4c3df47e8bac43  offer received   \n",
       "2  e2127556f4f64592b11af22de27a7932  offer received   \n",
       "3  8ec6ce2a7e7949b1bf142def7d0e0586  offer received   \n",
       "4  68617ca6246f4fbc85e91a2a49552598  offer received   \n",
       "\n",
       "                                              value  time  \n",
       "0  {'offer id': '9b98b8c7a33c4b65b9aebfe6a799e6d9'}     0  \n",
       "1  {'offer id': '0b1e1539f2cc45b7b9fa7c272da2e1d7'}     0  \n",
       "2  {'offer id': '2906b810c7d4411798c6938adc9daaa5'}     0  \n",
       "3  {'offer id': 'fafdcd668e3743c1bb461111dcafc2a4'}     0  \n",
       "4  {'offer id': '4d5c57ea9a6940dd891ad53e9dbe8da0'}     0  "
      ]
     },
     "execution_count": 257,
     "metadata": {},
     "output_type": "execute_result"
    }
   ],
   "source": [
    "transcript.head()"
   ]
  },
  {
   "cell_type": "code",
   "execution_count": 258,
   "metadata": {},
   "outputs": [
    {
     "data": {
      "image/png": "[encoded data removed]",
      "text/plain": [
       "<Figure size 432x216 with 1 Axes>"
      ]
     },
     "metadata": {
      "needs_background": "light"
     },
     "output_type": "display_data"
    }
   ],
   "source": [
    "category_plot(transcript, 'event', 'event', (6,3))"
   ]
  },
  {
   "cell_type": "code",
   "execution_count": 259,
   "metadata": {},
   "outputs": [
    {
     "data": {
      "text/plain": [
       "{'amount', 'offer id', 'offer_id', 'reward'}"
      ]
     },
     "execution_count": 259,
     "metadata": {},
     "output_type": "execute_result"
    }
   ],
   "source": [
    "key=set([i for item in list(transcript['value']) for i in item.keys()])\n",
    "key"
   ]
  },
  {
   "cell_type": "code",
   "execution_count": 260,
   "metadata": {},
   "outputs": [],
   "source": [
    "# split the value column into three columns: amount, offer id and 'reward'\n",
    "\n",
    "transcript=pd.concat([transcript.drop(['value'], axis=1), transcript['value'].apply(pd.Series)], axis=1)\n",
    "transcript.loc[transcript['offer_id'].isna()==False, 'offer id']=transcript[transcript['offer_id'].isna()==False]['offer_id']\n",
    "transcript.drop(['offer_id'], axis=1, inplace=True)\n"
   ]
  },
  {
   "cell_type": "code",
   "execution_count": 261,
   "metadata": {},
   "outputs": [],
   "source": [
    "# reward will not be considered as transaction amount, it will be deleted later\n",
    "transcript.rename(columns={'reward':'store_credit'}, inplace=True)\n",
    "\n",
    "transcript[['offer id']]=transcript[['offer id']].fillna('unknown')\n",
    "transcript[['amount']]=transcript[['amount']].fillna(0)\n",
    "transcript[['store_credit']]=transcript[['store_credit']].fillna(0)\n",
    "\n"
   ]
  },
  {
   "cell_type": "code",
   "execution_count": 262,
   "metadata": {},
   "outputs": [
    {
     "name": "stdout",
     "output_type": "stream",
     "text": [
      "Number of records 306534\n"
     ]
    },
    {
     "data": {
      "text/plain": [
       "True"
      ]
     },
     "execution_count": 262,
     "metadata": {},
     "output_type": "execute_result"
    }
   ],
   "source": [
    "print('Number of records', transcript.shape[0])\n",
    "transcript.duplicated().any()"
   ]
  },
  {
   "cell_type": "code",
   "execution_count": 263,
   "metadata": {},
   "outputs": [],
   "source": [
    "# transcript.drop_duplicates(inplace=True)\n",
    "# print('Number of records after dropping duplicates', transcript.shape[0])"
   ]
  },
  {
   "cell_type": "markdown",
   "metadata": {},
   "source": [
    "### check total transaction amount"
   ]
  },
  {
   "cell_type": "code",
   "execution_count": 264,
   "metadata": {},
   "outputs": [
    {
     "data": {
      "text/plain": [
       "offer id\n",
       "0b1e1539f2cc45b7b9fa7c272da2e1d7          0.00\n",
       "2298d6c36e964ae4a3e7e9706d1fb8c2          0.00\n",
       "2906b810c7d4411798c6938adc9daaa5          0.00\n",
       "3f207df678b143eea3cee63160fa8bed          0.00\n",
       "4d5c57ea9a6940dd891ad53e9dbe8da0          0.00\n",
       "5a8bc65990b245e5a138643cd4eb9837          0.00\n",
       "9b98b8c7a33c4b65b9aebfe6a799e6d9          0.00\n",
       "ae264e3637204a6fb9bb56bc8210ddfd          0.00\n",
       "f19421c1d4aa40978ebb69ca19b0e20d          0.00\n",
       "fafdcd668e3743c1bb461111dcafc2a4          0.00\n",
       "unknown                             1775451.97\n",
       "Name: amount, dtype: float64"
      ]
     },
     "execution_count": 264,
     "metadata": {},
     "output_type": "execute_result"
    }
   ],
   "source": [
    "transcript.groupby(['offer id'])['amount'].sum()"
   ]
  },
  {
   "cell_type": "markdown",
   "metadata": {},
   "source": [
    "# Dataset Preparation and Analysis"
   ]
  },
  {
   "cell_type": "markdown",
   "metadata": {},
   "source": [
    "<img src=\"flowchart.png\" alt=\"Drawing\" style=\"width: 450px;\"/>"
   ]
  },
  {
   "cell_type": "markdown",
   "metadata": {},
   "source": [
    "## Find Effective Offers --> Offer-Driven Purchases\n",
    "\n",
    "**Category**\n",
    "* BOGO/Discount offer: \"offer completed\" event following an \"offer viewed\" event\n",
    "* informational: \"transaction\" follows \"offer viewed\" event & before offer expires"
   ]
  },
  {
   "cell_type": "markdown",
   "metadata": {},
   "source": [
    "#### 1. Associate transaction with an offer id\n",
    "\n",
    "For those whose \"offer viewed\" happen before \"transaction\", fill the transaction with \"offer id\" from \"offer viewed\" as they may be influenced by offer. Will determine if they are actually influenced by the offer later. \n",
    "\n",
    "Steps:\n",
    "* sorting the transcript dataset by time and then event and group them by person. This will ensure that each event for each person occurs in the right sequence. \n",
    "* Then we can check if a \"transaction\" follows a \"offer viewed\" event. If so, then we assume that the transaction was potentially influenced by this offer, so we assign the \"offer id\" from \"offer view\" event to \"transaction\" event.  "
   ]
  },
  {
   "cell_type": "code",
   "execution_count": 265,
   "metadata": {},
   "outputs": [
    {
     "data": {
      "text/html": [
       "<div>\n",
       "<style scoped>\n",
       "    .dataframe tbody tr th:only-of-type {\n",
       "        vertical-align: middle;\n",
       "    }\n",
       "\n",
       "    .dataframe tbody tr th {\n",
       "        vertical-align: top;\n",
       "    }\n",
       "\n",
       "    .dataframe thead th {\n",
       "        text-align: right;\n",
       "    }\n",
       "</style>\n",
       "<table border=\"1\" class=\"dataframe\">\n",
       "  <thead>\n",
       "    <tr style=\"text-align: right;\">\n",
       "      <th></th>\n",
       "      <th>person</th>\n",
       "      <th>event</th>\n",
       "      <th>time</th>\n",
       "      <th>offer id</th>\n",
       "      <th>amount</th>\n",
       "      <th>store_credit</th>\n",
       "      <th>pre_event</th>\n",
       "      <th>pre_offer</th>\n",
       "    </tr>\n",
       "  </thead>\n",
       "  <tbody>\n",
       "    <tr>\n",
       "      <th>0</th>\n",
       "      <td>78afa995795e4d85b5d9ceeca43f5fef</td>\n",
       "      <td>offer received</td>\n",
       "      <td>0</td>\n",
       "      <td>9b98b8c7a33c4b65b9aebfe6a799e6d9</td>\n",
       "      <td>0.0</td>\n",
       "      <td>0.0</td>\n",
       "      <td>NaN</td>\n",
       "      <td>NaN</td>\n",
       "    </tr>\n",
       "    <tr>\n",
       "      <th>1</th>\n",
       "      <td>a03223e636434f42ac4c3df47e8bac43</td>\n",
       "      <td>offer received</td>\n",
       "      <td>0</td>\n",
       "      <td>0b1e1539f2cc45b7b9fa7c272da2e1d7</td>\n",
       "      <td>0.0</td>\n",
       "      <td>0.0</td>\n",
       "      <td>NaN</td>\n",
       "      <td>NaN</td>\n",
       "    </tr>\n",
       "    <tr>\n",
       "      <th>2</th>\n",
       "      <td>e2127556f4f64592b11af22de27a7932</td>\n",
       "      <td>offer received</td>\n",
       "      <td>0</td>\n",
       "      <td>2906b810c7d4411798c6938adc9daaa5</td>\n",
       "      <td>0.0</td>\n",
       "      <td>0.0</td>\n",
       "      <td>NaN</td>\n",
       "      <td>NaN</td>\n",
       "    </tr>\n",
       "    <tr>\n",
       "      <th>3</th>\n",
       "      <td>8ec6ce2a7e7949b1bf142def7d0e0586</td>\n",
       "      <td>offer received</td>\n",
       "      <td>0</td>\n",
       "      <td>fafdcd668e3743c1bb461111dcafc2a4</td>\n",
       "      <td>0.0</td>\n",
       "      <td>0.0</td>\n",
       "      <td>NaN</td>\n",
       "      <td>NaN</td>\n",
       "    </tr>\n",
       "    <tr>\n",
       "      <th>4</th>\n",
       "      <td>68617ca6246f4fbc85e91a2a49552598</td>\n",
       "      <td>offer received</td>\n",
       "      <td>0</td>\n",
       "      <td>4d5c57ea9a6940dd891ad53e9dbe8da0</td>\n",
       "      <td>0.0</td>\n",
       "      <td>0.0</td>\n",
       "      <td>NaN</td>\n",
       "      <td>NaN</td>\n",
       "    </tr>\n",
       "  </tbody>\n",
       "</table>\n",
       "</div>"
      ],
      "text/plain": [
       "                             person           event  time  \\\n",
       "0  78afa995795e4d85b5d9ceeca43f5fef  offer received     0   \n",
       "1  a03223e636434f42ac4c3df47e8bac43  offer received     0   \n",
       "2  e2127556f4f64592b11af22de27a7932  offer received     0   \n",
       "3  8ec6ce2a7e7949b1bf142def7d0e0586  offer received     0   \n",
       "4  68617ca6246f4fbc85e91a2a49552598  offer received     0   \n",
       "\n",
       "                           offer id  amount  store_credit pre_event pre_offer  \n",
       "0  9b98b8c7a33c4b65b9aebfe6a799e6d9     0.0           0.0       NaN       NaN  \n",
       "1  0b1e1539f2cc45b7b9fa7c272da2e1d7     0.0           0.0       NaN       NaN  \n",
       "2  2906b810c7d4411798c6938adc9daaa5     0.0           0.0       NaN       NaN  \n",
       "3  fafdcd668e3743c1bb461111dcafc2a4     0.0           0.0       NaN       NaN  \n",
       "4  4d5c57ea9a6940dd891ad53e9dbe8da0     0.0           0.0       NaN       NaN  "
      ]
     },
     "execution_count": 265,
     "metadata": {},
     "output_type": "execute_result"
    }
   ],
   "source": [
    "transcript['event'] = pd.Categorical(transcript['event'], ['offer received', 'offer viewed', 'transaction', 'offer completed'])\n",
    "\n",
    "transcript['pre_event']=transcript.sort_values(['time','event']).groupby(['person'])['event'].shift(1)\n",
    "transcript['pre_offer']=transcript.sort_values(['time','event']).groupby(['person'])['offer id'].shift(1)\n",
    "transcript.loc[((transcript['event']=='transaction') & (transcript['pre_event']=='offer viewed')), 'offer id']=transcript[((transcript['event']=='transaction') & (transcript['pre_event']=='offer viewed'))]['pre_offer']\n",
    "\n",
    "transcript.head()\n"
   ]
  },
  {
   "cell_type": "markdown",
   "metadata": {},
   "source": [
    "#### 2.  Combining all three datasets\n",
    "steps:\n",
    "1. merge \"profile\" with \"transcript\" based on customer id\n",
    "2. left merge the combined dataset with \"portfolio\" based on \"offer id\"."
   ]
  },
  {
   "cell_type": "code",
   "execution_count": 266,
   "metadata": {},
   "outputs": [
    {
     "data": {
      "text/html": [
       "<div>\n",
       "<style scoped>\n",
       "    .dataframe tbody tr th:only-of-type {\n",
       "        vertical-align: middle;\n",
       "    }\n",
       "\n",
       "    .dataframe tbody tr th {\n",
       "        vertical-align: top;\n",
       "    }\n",
       "\n",
       "    .dataframe thead th {\n",
       "        text-align: right;\n",
       "    }\n",
       "</style>\n",
       "<table border=\"1\" class=\"dataframe\">\n",
       "  <thead>\n",
       "    <tr style=\"text-align: right;\">\n",
       "      <th></th>\n",
       "      <th>gender</th>\n",
       "      <th>age</th>\n",
       "      <th>income</th>\n",
       "      <th>membership_days</th>\n",
       "      <th>person</th>\n",
       "      <th>event</th>\n",
       "      <th>time</th>\n",
       "      <th>offer id</th>\n",
       "      <th>amount</th>\n",
       "      <th>store_credit</th>\n",
       "      <th>...</th>\n",
       "      <th>pre_offer</th>\n",
       "      <th>reward</th>\n",
       "      <th>difficulty</th>\n",
       "      <th>duration</th>\n",
       "      <th>offer_type</th>\n",
       "      <th>email</th>\n",
       "      <th>mobile</th>\n",
       "      <th>social</th>\n",
       "      <th>web</th>\n",
       "      <th>channels</th>\n",
       "    </tr>\n",
       "  </thead>\n",
       "  <tbody>\n",
       "    <tr>\n",
       "      <th>0</th>\n",
       "      <td>unknown</td>\n",
       "      <td>unknown</td>\n",
       "      <td>unknown</td>\n",
       "      <td>1174.0</td>\n",
       "      <td>68be06ca386d4c31939f3a4f0e3dd783</td>\n",
       "      <td>offer received</td>\n",
       "      <td>168</td>\n",
       "      <td>2906b810c7d4411798c6938adc9daaa5</td>\n",
       "      <td>0.00</td>\n",
       "      <td>0.0</td>\n",
       "      <td>...</td>\n",
       "      <td>NaN</td>\n",
       "      <td>2.0</td>\n",
       "      <td>10.0</td>\n",
       "      <td>168.0</td>\n",
       "      <td>discount</td>\n",
       "      <td>1.0</td>\n",
       "      <td>1.0</td>\n",
       "      <td>0.0</td>\n",
       "      <td>1.0</td>\n",
       "      <td>3.0</td>\n",
       "    </tr>\n",
       "    <tr>\n",
       "      <th>1</th>\n",
       "      <td>unknown</td>\n",
       "      <td>unknown</td>\n",
       "      <td>unknown</td>\n",
       "      <td>1174.0</td>\n",
       "      <td>68be06ca386d4c31939f3a4f0e3dd783</td>\n",
       "      <td>offer viewed</td>\n",
       "      <td>216</td>\n",
       "      <td>2906b810c7d4411798c6938adc9daaa5</td>\n",
       "      <td>0.00</td>\n",
       "      <td>0.0</td>\n",
       "      <td>...</td>\n",
       "      <td>2906b810c7d4411798c6938adc9daaa5</td>\n",
       "      <td>2.0</td>\n",
       "      <td>10.0</td>\n",
       "      <td>168.0</td>\n",
       "      <td>discount</td>\n",
       "      <td>1.0</td>\n",
       "      <td>1.0</td>\n",
       "      <td>0.0</td>\n",
       "      <td>1.0</td>\n",
       "      <td>3.0</td>\n",
       "    </tr>\n",
       "    <tr>\n",
       "      <th>2</th>\n",
       "      <td>unknown</td>\n",
       "      <td>unknown</td>\n",
       "      <td>unknown</td>\n",
       "      <td>1174.0</td>\n",
       "      <td>68be06ca386d4c31939f3a4f0e3dd783</td>\n",
       "      <td>offer received</td>\n",
       "      <td>336</td>\n",
       "      <td>0b1e1539f2cc45b7b9fa7c272da2e1d7</td>\n",
       "      <td>0.00</td>\n",
       "      <td>0.0</td>\n",
       "      <td>...</td>\n",
       "      <td>2906b810c7d4411798c6938adc9daaa5</td>\n",
       "      <td>5.0</td>\n",
       "      <td>20.0</td>\n",
       "      <td>240.0</td>\n",
       "      <td>discount</td>\n",
       "      <td>1.0</td>\n",
       "      <td>0.0</td>\n",
       "      <td>0.0</td>\n",
       "      <td>1.0</td>\n",
       "      <td>2.0</td>\n",
       "    </tr>\n",
       "    <tr>\n",
       "      <th>3</th>\n",
       "      <td>unknown</td>\n",
       "      <td>unknown</td>\n",
       "      <td>unknown</td>\n",
       "      <td>1174.0</td>\n",
       "      <td>68be06ca386d4c31939f3a4f0e3dd783</td>\n",
       "      <td>offer viewed</td>\n",
       "      <td>348</td>\n",
       "      <td>0b1e1539f2cc45b7b9fa7c272da2e1d7</td>\n",
       "      <td>0.00</td>\n",
       "      <td>0.0</td>\n",
       "      <td>...</td>\n",
       "      <td>0b1e1539f2cc45b7b9fa7c272da2e1d7</td>\n",
       "      <td>5.0</td>\n",
       "      <td>20.0</td>\n",
       "      <td>240.0</td>\n",
       "      <td>discount</td>\n",
       "      <td>1.0</td>\n",
       "      <td>0.0</td>\n",
       "      <td>0.0</td>\n",
       "      <td>1.0</td>\n",
       "      <td>2.0</td>\n",
       "    </tr>\n",
       "    <tr>\n",
       "      <th>4</th>\n",
       "      <td>unknown</td>\n",
       "      <td>unknown</td>\n",
       "      <td>unknown</td>\n",
       "      <td>1174.0</td>\n",
       "      <td>68be06ca386d4c31939f3a4f0e3dd783</td>\n",
       "      <td>transaction</td>\n",
       "      <td>360</td>\n",
       "      <td>0b1e1539f2cc45b7b9fa7c272da2e1d7</td>\n",
       "      <td>0.35</td>\n",
       "      <td>0.0</td>\n",
       "      <td>...</td>\n",
       "      <td>0b1e1539f2cc45b7b9fa7c272da2e1d7</td>\n",
       "      <td>5.0</td>\n",
       "      <td>20.0</td>\n",
       "      <td>240.0</td>\n",
       "      <td>discount</td>\n",
       "      <td>1.0</td>\n",
       "      <td>0.0</td>\n",
       "      <td>0.0</td>\n",
       "      <td>1.0</td>\n",
       "      <td>2.0</td>\n",
       "    </tr>\n",
       "  </tbody>\n",
       "</table>\n",
       "<p>5 rows × 21 columns</p>\n",
       "</div>"
      ],
      "text/plain": [
       "    gender      age   income  membership_days  \\\n",
       "0  unknown  unknown  unknown           1174.0   \n",
       "1  unknown  unknown  unknown           1174.0   \n",
       "2  unknown  unknown  unknown           1174.0   \n",
       "3  unknown  unknown  unknown           1174.0   \n",
       "4  unknown  unknown  unknown           1174.0   \n",
       "\n",
       "                             person           event  time  \\\n",
       "0  68be06ca386d4c31939f3a4f0e3dd783  offer received   168   \n",
       "1  68be06ca386d4c31939f3a4f0e3dd783    offer viewed   216   \n",
       "2  68be06ca386d4c31939f3a4f0e3dd783  offer received   336   \n",
       "3  68be06ca386d4c31939f3a4f0e3dd783    offer viewed   348   \n",
       "4  68be06ca386d4c31939f3a4f0e3dd783     transaction   360   \n",
       "\n",
       "                           offer id  amount  store_credit  ...  \\\n",
       "0  2906b810c7d4411798c6938adc9daaa5    0.00           0.0  ...   \n",
       "1  2906b810c7d4411798c6938adc9daaa5    0.00           0.0  ...   \n",
       "2  0b1e1539f2cc45b7b9fa7c272da2e1d7    0.00           0.0  ...   \n",
       "3  0b1e1539f2cc45b7b9fa7c272da2e1d7    0.00           0.0  ...   \n",
       "4  0b1e1539f2cc45b7b9fa7c272da2e1d7    0.35           0.0  ...   \n",
       "\n",
       "                          pre_offer reward  difficulty  duration  offer_type  \\\n",
       "0                               NaN    2.0        10.0     168.0    discount   \n",
       "1  2906b810c7d4411798c6938adc9daaa5    2.0        10.0     168.0    discount   \n",
       "2  2906b810c7d4411798c6938adc9daaa5    5.0        20.0     240.0    discount   \n",
       "3  0b1e1539f2cc45b7b9fa7c272da2e1d7    5.0        20.0     240.0    discount   \n",
       "4  0b1e1539f2cc45b7b9fa7c272da2e1d7    5.0        20.0     240.0    discount   \n",
       "\n",
       "  email  mobile  social  web  channels  \n",
       "0   1.0     1.0     0.0  1.0       3.0  \n",
       "1   1.0     1.0     0.0  1.0       3.0  \n",
       "2   1.0     0.0     0.0  1.0       2.0  \n",
       "3   1.0     0.0     0.0  1.0       2.0  \n",
       "4   1.0     0.0     0.0  1.0       2.0  \n",
       "\n",
       "[5 rows x 21 columns]"
      ]
     },
     "execution_count": 266,
     "metadata": {},
     "output_type": "execute_result"
    }
   ],
   "source": [
    "# merge profile and transcripts based on customer id\n",
    "df=profile.merge(transcript, left_on='id', right_on='person').drop('id', axis=1)\n",
    "\n",
    "# merge with offer portfolio based on offer id\n",
    "df=df.merge(portfolio, left_on='offer id', right_on='id', how='left').drop('id', axis=1)\n",
    "\n",
    "df.head()"
   ]
  },
  {
   "cell_type": "markdown",
   "metadata": {},
   "source": [
    "#### 3. Check if offer is still valid at transaction\n",
    "\n",
    "* get the difference between \"transaction\" and \"offer received\" as a new column named \"time_since_receive\". \n"
   ]
  },
  {
   "cell_type": "code",
   "execution_count": 267,
   "metadata": {},
   "outputs": [],
   "source": [
    "# get difference in time\n",
    "\n",
    "df['time_since_receive']=df[((df['event']=='offer received') | (df['event']=='transaction'))].groupby(['person','offer id'])['time'].diff()\n",
    "\n"
   ]
  },
  {
   "cell_type": "markdown",
   "metadata": {},
   "source": [
    "**CAUTION**: df[df['time_since_receive']<df['duration']] may false positives rows for the following cases: \n",
    "* offer received - offer received\n",
    "* transaction - transaction\n",
    "* offer received - transaction\n",
    "\n",
    "so \"time_since_receive\" < \"duration\" need to used along with other conditions, i.e.:\n",
    "1. \"time_since_receive\" < \"duration\"\n",
    "2. event == 'transaction'\n",
    "3. \"transaction\" has a valid \"offer id\" (since this indicates this transaction is followed by \"offer view\" )"
   ]
  },
  {
   "cell_type": "markdown",
   "metadata": {},
   "source": [
    "#### 4. considred to be an effective offer if the following criterias are met:\n",
    "* If an offer completed happens after an offer viewed event, then it is considered to be an offer driven purchase.\n",
    "* If a transaction happens after an offer viewed event and the transaction happens within the window of an offer, then it is considered to be an offer driven purchase."
   ]
  },
  {
   "cell_type": "code",
   "execution_count": 268,
   "metadata": {},
   "outputs": [],
   "source": [
    "# consider offer to be effective if time_since_receive<duration\n",
    "\n",
    "# initialize all to 0\n",
    "df['offer_driven']=0\n",
    "\n",
    "# offers with \"offer completed\" happening after \"offer viewed\" \n",
    "df['event'] = pd.Categorical(df['event'], ['offer received', 'offer viewed', 'transaction', 'offer completed'])\n",
    "df['pre_event']=df[((df['event']=='offer viewed') |(df['event']=='offer completed'))].sort_values(['time','event']).groupby(['person', 'offer id'])['event'].shift(1)\n",
    "df['pre_offer']=df[((df['event']=='offer viewed') |(df['event']=='offer completed'))].sort_values(['time','event']).groupby(['person', 'offer id'])['offer id'].shift(1)\n",
    "df.loc[((df['event']=='offer completed') & (df['pre_event']=='offer viewed')), 'offer_driven']=1\n",
    "\n",
    "\n",
    "# offer viewed\" before \"transaction\" AND \"time_since_receive\"<\"duration\"\n",
    "df.loc[(df['offer id']!='unknown') & (df['event']=='transaction') & (df['time_since_receive']<=df['duration']),'offer_driven']=1\n"
   ]
  },
  {
   "cell_type": "markdown",
   "metadata": {},
   "source": [
    "## Inactive Customers _ Customers Never Made Any Purchases"
   ]
  },
  {
   "cell_type": "code",
   "execution_count": 269,
   "metadata": {},
   "outputs": [
    {
     "name": "stdout",
     "output_type": "stream",
     "text": [
      "There are 422 customers that never made a purchase\n"
     ]
    }
   ],
   "source": [
    "# find all customers with purchase history\n",
    "cust_with_purchase=set(df[df['event'].isin(['offer completed', 'transaction'])].groupby('person')['event'].count().index.to_list())\n",
    "cust_no_purchase=set(df[~df['person'].isin(cust_with_purchase)]['person'].to_list())\n",
    "print(\"There are {} customers that never made a purchase\".format(len(cust_no_purchase)))\n",
    "\n",
    "# a new column \"active_customer\": 0: inactive; 1: active\n",
    "df['active_customer']=1\n",
    "df.loc[df['person'].isin(cust_no_purchase), 'active_customer']=0\n"
   ]
  },
  {
   "cell_type": "markdown",
   "metadata": {},
   "source": [
    "## Offer-Irrelevant Purchases\n",
    "1. standalone \"transaction\", those not following \"offer viewed\"\n",
    "    * \"offer id\" is unknown\n",
    "2. \"transaction\" followed \"offer viewed\", but\n",
    "    * transaction happens when offer expired.\n",
    "   "
   ]
  },
  {
   "cell_type": "code",
   "execution_count": 270,
   "metadata": {},
   "outputs": [],
   "source": [
    "# initialize all to 0\n",
    "df['offer_irrelevant']=0\n",
    "\n",
    "# transaction not following \"offer viewed\" -- standalone transactions\n",
    "df.loc[((df['event']=='transaction') & (df['offer id']=='unknown')), 'offer_irrelevant']=1\n",
    "\n",
    "# transaction follows 'offer viewed', but time_since_receive>duration (informational offer)\n",
    "df.loc[(df['offer id']!='unknown') & (df['event']=='transaction') & ((df['time_since_receive']>df['duration'])),'offer_irrelevant']=1\n"
   ]
  },
  {
   "cell_type": "code",
   "execution_count": 271,
   "metadata": {},
   "outputs": [],
   "source": [
    "\n",
    "\n",
    "# df['event'] = pd.Categorical(df['event'], ['offer received', 'offer viewed', 'transaction', 'offer completed'])\n",
    "\n",
    "# df['post_event']=df.sort_values(['time','event']).groupby(['person', 'offer id'])['event'].shift(-1)\n",
    "# df['post_offer']=df.sort_values(['time','event']).groupby(['person', 'offer id'])['offer id'].shift(-1)\n",
    "\n",
    "\n",
    "# original\n",
    "# df.loc[((df['event']=='transaction') & (df['offer id']!='unknown') & (df['time_since_receive'].isnull()) & ((df['post_event']!='offer completed') | (df['post_offer']!=df['offer id']))), 'offer_irrelevant']=1\n",
    "\n",
    "\n",
    "# today's try\n",
    "# df.loc[((df['event']=='transaction') & (df['offer id']!='unknown') & ((df['post_event']!='offer completed') | (df['post_offer']!=df['offer id']))), 'offer_irrelevant']=1\n",
    "\n",
    "# df.loc[( (df['offer_type'].isin(['bogo', 'discount'])) & (df['event']=='transaction') & (df['offer id']!='unknown') & ((df['post_event']!='offer completed') | (df['post_offer']!=df['offer id']))), 'offer_irrelevant']=1\n",
    "\n"
   ]
  },
  {
   "cell_type": "code",
   "execution_count": 272,
   "metadata": {},
   "outputs": [],
   "source": [
    "# offer completed not following offer viewed\n",
    "\n",
    "# BOGO/Discount offers with \"offer completed\" happening after \"offer viewed\" \n",
    "df['event'] = pd.Categorical(df['event'], ['offer received', 'offer viewed', 'transaction', 'offer completed'])\n",
    "df['pre_event']=df[((df['event']=='offer viewed') |(df['event']=='offer completed'))].sort_values(['time','event']).groupby(['person', 'offer id'])['event'].shift(1)\n",
    "df['pre_offer']=df[((df['event']=='offer viewed') |(df['event']=='offer completed'))].sort_values(['time','event']).groupby(['person', 'offer id'])['offer id'].shift(1)\n",
    "\n",
    "df.loc[((df['event']=='offer completed') & ((df['pre_event']!='offer viewed') | (df['pre_event'].isnull()))), 'offer_irrelevant']=1\n"
   ]
  },
  {
   "cell_type": "code",
   "execution_count": 273,
   "metadata": {},
   "outputs": [
    {
     "name": "stdout",
     "output_type": "stream",
     "text": [
      "total purchase amount with offers 584549.0\n",
      "total purchase amount without offers 1190903.0\n",
      "total purchase amount 1775452.0\n",
      "--------------------------------------------\n"
     ]
    }
   ],
   "source": [
    "# Check: total purchase amount\n",
    "print(\"total purchase amount with offers\", round(df[df['offer id']!='unknown'].groupby('offer id')['amount'].sum().sum()))\n",
    "print(\"total purchase amount without offers\", round(df[df['offer id']=='unknown'].groupby('offer id')['amount'].sum().sum()))\n",
    "print(\"total purchase amount\", round(df.groupby('offer id')['amount'].sum().sum()))\n",
    "\n",
    "print(\"--------------------------------------------\")\n"
   ]
  },
  {
   "cell_type": "markdown",
   "metadata": {},
   "source": [
    "#### delete transactions before \"offer completed\" and copy transaction amount to \"offer complete\" event"
   ]
  },
  {
   "cell_type": "code",
   "execution_count": 274,
   "metadata": {},
   "outputs": [],
   "source": [
    "# copy transaction amount to \"offer complete\" event\n",
    "df['pre_amount']=df[(df['event']=='transaction') | (df['event']=='offer completed')].sort_values(['time','event']).groupby(['person', 'offer id'])['amount'].shift(1)\n",
    "df['pre_offer']=df[(df['event']=='transaction') | (df['event']=='offer completed')].sort_values(['time','event']).groupby(['person', 'offer id'])['offer id'].shift(1)\n",
    "df['pre_event']=df[(df['event']=='transaction') | (df['event']=='offer completed')].sort_values(['time','event']).groupby(['person', 'offer id'])['event'].shift(1)\n",
    "\n",
    "df.loc[(df['event']=='offer completed') & (df['pre_event']=='transaction') & (df['pre_offer']==df['offer id']), 'amount']=df[(df['event']=='offer completed') & (df['pre_event']=='transaction') & (df['pre_offer']==df['offer id'])]['pre_amount'] \n",
    "\n",
    "\n",
    "# delete transactions before \"offer completed\"\n",
    "df['post_event']=df[(df['event']=='transaction') | (df['event']=='offer completed')].sort_values(['time','event']).groupby(['person', 'offer id'])['event'].shift(-1)\n",
    "df['post_offer']=df[(df['event']=='transaction') | (df['event']=='offer completed')].sort_values(['time','event']).groupby(['person', 'offer id'])['offer id'].shift(-1)\n",
    "\n",
    "df=df.drop(df[(df['offer id']!='unknown') & (df['event']=='transaction') & (df['post_event']=='offer completed') & (df['post_offer']==df['offer id'])].index)\n"
   ]
  },
  {
   "cell_type": "markdown",
   "metadata": {},
   "source": [
    "#### sanity check"
   ]
  },
  {
   "cell_type": "markdown",
   "metadata": {},
   "source": [
    "all \"transaction\" event remaining shall be labeled either as \"offer_irrelevant\" or \"offer_driven\""
   ]
  },
  {
   "cell_type": "code",
   "execution_count": 275,
   "metadata": {},
   "outputs": [
    {
     "data": {
      "text/plain": [
       "0"
      ]
     },
     "execution_count": 275,
     "metadata": {},
     "output_type": "execute_result"
    }
   ],
   "source": [
    "df[(df['event']=='transaction') & (df['offer_irrelevant']==0) & (df['offer_driven']==0)].shape[0]"
   ]
  },
  {
   "cell_type": "markdown",
   "metadata": {},
   "source": [
    "all \"offer completed\" event shall be labeled \"offer_irrelevant\"==0 and \"offer_driven\"==1"
   ]
  },
  {
   "cell_type": "code",
   "execution_count": 276,
   "metadata": {},
   "outputs": [
    {
     "data": {
      "text/plain": [
       "array([1, 0])"
      ]
     },
     "execution_count": 276,
     "metadata": {},
     "output_type": "execute_result"
    }
   ],
   "source": [
    "df[(df['event']=='offer completed')]['offer_driven'].unique()"
   ]
  },
  {
   "cell_type": "code",
   "execution_count": 277,
   "metadata": {},
   "outputs": [
    {
     "data": {
      "text/plain": [
       "array([0, 1])"
      ]
     },
     "execution_count": 277,
     "metadata": {},
     "output_type": "execute_result"
    }
   ],
   "source": [
    "df[(df['event']=='offer completed')]['offer_irrelevant'].unique()"
   ]
  },
  {
   "cell_type": "markdown",
   "metadata": {},
   "source": [
    "all other events should be 0 for both offer_irrelevant and 'offer_driven'"
   ]
  },
  {
   "cell_type": "code",
   "execution_count": 278,
   "metadata": {},
   "outputs": [
    {
     "data": {
      "text/plain": [
       "array([0])"
      ]
     },
     "execution_count": 278,
     "metadata": {},
     "output_type": "execute_result"
    }
   ],
   "source": [
    "df[(df['event']!='offer completed')& (df['event']!='transaction')]['offer_irrelevant'].unique()"
   ]
  },
  {
   "cell_type": "code",
   "execution_count": 279,
   "metadata": {},
   "outputs": [
    {
     "data": {
      "text/plain": [
       "array([0])"
      ]
     },
     "execution_count": 279,
     "metadata": {},
     "output_type": "execute_result"
    }
   ],
   "source": [
    "df[(df['event']!='offer completed')& (df['event']!='transaction')]['offer_driven'].unique()"
   ]
  },
  {
   "cell_type": "code",
   "execution_count": 280,
   "metadata": {},
   "outputs": [
    {
     "name": "stdout",
     "output_type": "stream",
     "text": [
      "total purchase amount with offers 584549.0\n",
      "total purchase amount without offers 1190903.0\n",
      "total purchase amount 1775452.0\n",
      "--------------------------------------------\n",
      "number of purchases with offer 53854\n",
      "number of purchases without offer 97039\n",
      "total number of purchases 150893\n"
     ]
    }
   ],
   "source": [
    "# total purchase amount\n",
    "print(\"total purchase amount with offers\", round(df[df['offer id']!='unknown'].groupby('offer id')['amount'].sum().sum()))\n",
    "print(\"total purchase amount without offers\", round(df[df['offer id']=='unknown'].groupby('offer id')['amount'].sum().sum()))\n",
    "print(\"total purchase amount\", round(df.groupby('offer id')['amount'].sum().sum()))\n",
    "\n",
    "print(\"--------------------------------------------\")\n",
    "\n",
    "# number of purchases with offer \n",
    "print(\"number of purchases with offer\", df[((df['event']=='transaction') & (df['offer id']!='unknown')) | (df['event']=='offer completed') ].shape[0] )\n",
    "print(\"number of purchases without offer\", df[(df['event']=='transaction') & (df['offer id']=='unknown')].shape[0])\n",
    "print(\"total number of purchases\", df[(df['event']=='transaction') | (df['event']=='offer completed')].shape[0])\n"
   ]
  },
  {
   "cell_type": "code",
   "execution_count": 281,
   "metadata": {},
   "outputs": [
    {
     "name": "stdout",
     "output_type": "stream",
     "text": [
      "total number of purchases 150893\n"
     ]
    }
   ],
   "source": [
    "# all purchases should be marked as either offer_driven or offer_irrelevant.\n",
    "print(\"total number of purchases\", df[(df['offer_driven']==1) | (df['offer_irrelevant']==1)].shape[0])"
   ]
  },
  {
   "cell_type": "code",
   "execution_count": 282,
   "metadata": {},
   "outputs": [
    {
     "data": {
      "text/html": [
       "<div>\n",
       "<style scoped>\n",
       "    .dataframe tbody tr th:only-of-type {\n",
       "        vertical-align: middle;\n",
       "    }\n",
       "\n",
       "    .dataframe tbody tr th {\n",
       "        vertical-align: top;\n",
       "    }\n",
       "\n",
       "    .dataframe thead th {\n",
       "        text-align: right;\n",
       "    }\n",
       "</style>\n",
       "<table border=\"1\" class=\"dataframe\">\n",
       "  <thead>\n",
       "    <tr style=\"text-align: right;\">\n",
       "      <th></th>\n",
       "      <th>amount</th>\n",
       "    </tr>\n",
       "    <tr>\n",
       "      <th>offer id</th>\n",
       "      <th></th>\n",
       "    </tr>\n",
       "  </thead>\n",
       "  <tbody>\n",
       "    <tr>\n",
       "      <th>0b1e1539f2cc45b7b9fa7c272da2e1d7</th>\n",
       "      <td>28751.25</td>\n",
       "    </tr>\n",
       "    <tr>\n",
       "      <th>2298d6c36e964ae4a3e7e9706d1fb8c2</th>\n",
       "      <td>73436.90</td>\n",
       "    </tr>\n",
       "    <tr>\n",
       "      <th>2906b810c7d4411798c6938adc9daaa5</th>\n",
       "      <td>44489.37</td>\n",
       "    </tr>\n",
       "    <tr>\n",
       "      <th>3f207df678b143eea3cee63160fa8bed</th>\n",
       "      <td>41570.44</td>\n",
       "    </tr>\n",
       "    <tr>\n",
       "      <th>4d5c57ea9a6940dd891ad53e9dbe8da0</th>\n",
       "      <td>74086.75</td>\n",
       "    </tr>\n",
       "    <tr>\n",
       "      <th>5a8bc65990b245e5a138643cd4eb9837</th>\n",
       "      <td>56366.03</td>\n",
       "    </tr>\n",
       "    <tr>\n",
       "      <th>9b98b8c7a33c4b65b9aebfe6a799e6d9</th>\n",
       "      <td>40508.39</td>\n",
       "    </tr>\n",
       "    <tr>\n",
       "      <th>ae264e3637204a6fb9bb56bc8210ddfd</th>\n",
       "      <td>67846.79</td>\n",
       "    </tr>\n",
       "    <tr>\n",
       "      <th>f19421c1d4aa40978ebb69ca19b0e20d</th>\n",
       "      <td>76680.05</td>\n",
       "    </tr>\n",
       "    <tr>\n",
       "      <th>fafdcd668e3743c1bb461111dcafc2a4</th>\n",
       "      <td>80813.26</td>\n",
       "    </tr>\n",
       "  </tbody>\n",
       "</table>\n",
       "</div>"
      ],
      "text/plain": [
       "                                    amount\n",
       "offer id                                  \n",
       "0b1e1539f2cc45b7b9fa7c272da2e1d7  28751.25\n",
       "2298d6c36e964ae4a3e7e9706d1fb8c2  73436.90\n",
       "2906b810c7d4411798c6938adc9daaa5  44489.37\n",
       "3f207df678b143eea3cee63160fa8bed  41570.44\n",
       "4d5c57ea9a6940dd891ad53e9dbe8da0  74086.75\n",
       "5a8bc65990b245e5a138643cd4eb9837  56366.03\n",
       "9b98b8c7a33c4b65b9aebfe6a799e6d9  40508.39\n",
       "ae264e3637204a6fb9bb56bc8210ddfd  67846.79\n",
       "f19421c1d4aa40978ebb69ca19b0e20d  76680.05\n",
       "fafdcd668e3743c1bb461111dcafc2a4  80813.26"
      ]
     },
     "execution_count": 282,
     "metadata": {},
     "output_type": "execute_result"
    }
   ],
   "source": [
    "df[df['offer id']!='unknown'].groupby('offer id')[['amount']].sum()"
   ]
  },
  {
   "cell_type": "markdown",
   "metadata": {},
   "source": [
    "## More Dataset Exploration and Cleaning"
   ]
  },
  {
   "cell_type": "markdown",
   "metadata": {},
   "source": [
    "### Transaction Cleaning"
   ]
  },
  {
   "cell_type": "markdown",
   "metadata": {},
   "source": [
    "**Goal**： keep 1 transaction history for each offer/order. \n",
    "\n",
    "**Summary** of the three features added before:\n",
    "* offer_driven: qualified \"offer_complete\" and \"transaction\" event == 1\n",
    "* active_customer: \n",
    "    * active customer == 1\n",
    "    * inactive customer == 0 -- without any transaction/complete\n",
    "* offer_irrelevant: all other \"transaction\" event not qualified as \"offer_driven\" == 1 \n",
    "\n",
    "\n",
    "**Steps**:\n",
    "* **A** Each customer may received multiple offers. No matter they used it or not, it is a history of offer sent. So all \"offer received\" event should be kept. We add a new feature **keep** to flag all rows to be kept.\n",
    "* **B** There may be standalone transactions without any offers. All of them don't have an \"offer id\". They will need to be kept.\n",
    "* **C** Information held in transaction and offer received will be copied to their corresponding offer received event and only the offer received will be kept.\n"
   ]
  },
  {
   "cell_type": "code",
   "execution_count": 283,
   "metadata": {},
   "outputs": [],
   "source": [
    "df['keep']=0"
   ]
  },
  {
   "cell_type": "markdown",
   "metadata": {},
   "source": [
    "**A**: \"offer received\" event for inactive customers"
   ]
  },
  {
   "cell_type": "code",
   "execution_count": 284,
   "metadata": {},
   "outputs": [],
   "source": [
    "# df.loc[(df['event']=='offer received') & (df['active_customer']==0), 'keep']=1\n",
    "df.loc[(df['event']=='offer received') , 'keep']=1"
   ]
  },
  {
   "cell_type": "markdown",
   "metadata": {},
   "source": [
    "**B**: standalone purchases"
   ]
  },
  {
   "cell_type": "code",
   "execution_count": 285,
   "metadata": {},
   "outputs": [],
   "source": [
    "# standalone transactions\n",
    "df.loc[((df['event'] == 'transaction') & (df['offer id'] == 'unknown')), 'keep']=1"
   ]
  },
  {
   "cell_type": "markdown",
   "metadata": {},
   "source": [
    "**C**: active customer, \"offer received\", has transactions\n",
    "* shift(-1) to check if there is a \"transaction\" or \"order completed\" event follows an \"offer received\". \n",
    "* \"offer received\" is followed by a \"transaction\" or \"order completed\" event with the same \"offer id\""
   ]
  },
  {
   "cell_type": "code",
   "execution_count": 286,
   "metadata": {},
   "outputs": [],
   "source": [
    "df['post_event']=df[((df['event']=='offer received') | (df['event']=='transaction') |(df['event']=='offer completed'))].sort_values(['time', 'event']).groupby(['person', 'offer id'])['event'].shift(-1)\n",
    "df['post_id']=df[((df['event']=='offer received') | (df['event']=='transaction') |(df['event']=='offer completed'))].sort_values(['time', 'event']).groupby(['person', 'offer id'])['offer id'].shift(-1)\n",
    "\n",
    "df['post_driven']=df[((df['event']=='offer received') | (df['event']=='transaction')  |(df['event']=='offer completed'))].sort_values(['time', 'event']).groupby(['person', 'offer id'])['offer_driven'].shift(-1)\n",
    "df['post_irrelevant']=df[((df['event']=='offer received') | (df['event']=='transaction') |(df['event']=='offer completed'))].sort_values(['time', 'event']).groupby(['person', 'offer id'])['offer_irrelevant'].shift(-1)\n",
    "\n",
    "df['post_amount']=df[((df['event']=='offer received') | (df['event']=='transaction')  |(df['event']=='offer completed'))].sort_values(['time', 'event']).groupby(['person', 'offer id'])['amount'].shift(-1)\n"
   ]
  },
  {
   "cell_type": "code",
   "execution_count": 287,
   "metadata": {},
   "outputs": [],
   "source": [
    "\n",
    "# flag offer related purchases on \"offer receive event\" and copy the transaction amount to 'offer received event'\n",
    "# df.loc[(df['event']=='offer received') & ((df['post_event']=='offer completed') | (df['post_event']=='transaction')) & (df['offer id'] == df['post_id']), ['offer_irrelevant','offer_driven', 'amount']]=df[(df['event']=='offer received') & ((df['post_event']=='offer completed') | (df['post_event']=='transaction')) & (df['offer id'] == df['post_id'])][['post_irrelevant', 'post_driven', 'post_amount']]\n",
    "\n",
    "# offer received --> offer completed (including offer received --> transaction --> offer completed)\n",
    "# offer received --> transaction\n",
    "\n",
    "# mark those records as records to \"keep\"\n",
    "df.loc[(df['event']=='offer received') & ((df['post_event']=='offer completed') | (df['post_event']=='transaction')) & (df['offer id'] == df['post_id']), 'keep']=1\n",
    "\n",
    "\n",
    "df.loc[(df['event']=='offer received') & ((df['post_event']=='offer completed') | (df['post_event']=='transaction')) & (df['offer id'] == df['post_id']), 'offer_irrelevant']=df[(df['event']=='offer received') & ((df['post_event']=='offer completed') | (df['post_event']=='transaction')) & (df['offer id'] == df['post_id'])]['post_irrelevant']\n",
    "df.loc[(df['event']=='offer received') & ((df['post_event']=='offer completed') | (df['post_event']=='transaction')) & (df['offer id'] == df['post_id']), 'offer_driven']=df[(df['event']=='offer received') & ((df['post_event']=='offer completed') | (df['post_event']=='transaction')) & (df['offer id'] == df['post_id'])]['post_driven']\n",
    "df.loc[(df['event']=='offer received') & ((df['post_event']=='offer completed') | (df['post_event']=='transaction')) & (df['offer id'] == df['post_id']), 'amount']=df[(df['event']=='offer received') & ((df['post_event']=='offer completed') | (df['post_event']=='transaction')) & (df['offer id'] == df['post_id'])]['post_amount']\n"
   ]
  },
  {
   "cell_type": "markdown",
   "metadata": {},
   "source": [
    "#### Other Cases\n",
    "transactions that not happening with right order, but already marked with \"offer_driven\" or \"offer_irrelevant\""
   ]
  },
  {
   "cell_type": "code",
   "execution_count": 288,
   "metadata": {},
   "outputs": [],
   "source": [
    "# offer received --> offer completed  --> transaction\n",
    "df['pre_event']=df[((df['event']=='offer received') | (df['event']=='transaction') |(df['event']=='offer completed'))].sort_values(['time', 'event']).groupby(['person', 'offer id'])['event'].shift(1)\n",
    "df['pre_id']=df[((df['event']=='offer received') | (df['event']=='transaction') |(df['event']=='offer completed'))].sort_values(['time', 'event']).groupby(['person', 'offer id'])['offer id'].shift(1)\n",
    "\n",
    "df.loc[(df['event']==\"transaction\") & (df['pre_event']==\"offer completed\") & (df['keep']==0) & ((df['offer_driven']==1)|(df['offer_irrelevant']==1)), 'keep']=1\n"
   ]
  },
  {
   "cell_type": "markdown",
   "metadata": {},
   "source": [
    "offer completed happens between two offer received events: offer recieved --> offer received --> offer completed --> offer completed"
   ]
  },
  {
   "cell_type": "code",
   "execution_count": 289,
   "metadata": {},
   "outputs": [],
   "source": [
    "df['pre_event']=df[((df['event']=='offer received') |(df['event']=='offer completed'))].sort_values(['time', 'event']).groupby(['person', 'offer id'])['event'].shift(1)\n",
    "df['pre_id']=df[((df['event']=='offer received') |(df['event']=='offer completed'))].sort_values(['time', 'event']).groupby(['person', 'offer id'])['offer id'].shift(1)\n",
    "\n",
    "df.loc[(df['event']==\"offer completed\") & (df['pre_event']==\"offer completed\") & (df['offer id']==df['pre_id']), 'keep']=1\n"
   ]
  },
  {
   "cell_type": "markdown",
   "metadata": {},
   "source": [
    "### Dataset Clean"
   ]
  },
  {
   "cell_type": "code",
   "execution_count": 290,
   "metadata": {},
   "outputs": [
    {
     "name": "stdout",
     "output_type": "stream",
     "text": [
      "284895 records before cleaning. 176440 records after cleaning\n"
     ]
    }
   ],
   "source": [
    "n_pre_record=df.shape[0]\n",
    "df=df[(df['keep']==1)]\n",
    "print(\"{} records before cleaning. {} records after cleaning\".format(n_pre_record,df.shape[0]))"
   ]
  },
  {
   "cell_type": "markdown",
   "metadata": {},
   "source": [
    "### Sanity Checks"
   ]
  },
  {
   "cell_type": "code",
   "execution_count": 291,
   "metadata": {},
   "outputs": [
    {
     "data": {
      "text/plain": [
       "<matplotlib.axes._subplots.AxesSubplot at 0x16de9fd90>"
      ]
     },
     "execution_count": 291,
     "metadata": {},
     "output_type": "execute_result"
    },
    {
     "data": {
      "image/png": "[encoded data removed]",
      "text/plain": [
       "<Figure size 432x288 with 1 Axes>"
      ]
     },
     "metadata": {
      "needs_background": "light"
     },
     "output_type": "display_data"
    }
   ],
   "source": [
    "df[df['event']=='offer received'].groupby('person')['event'].count().hist(bins=range(1,8), rwidth=0.5, align='left')\n"
   ]
  },
  {
   "cell_type": "code",
   "execution_count": 292,
   "metadata": {},
   "outputs": [
    {
     "data": {
      "text/html": [
       "<div>\n",
       "<style scoped>\n",
       "    .dataframe tbody tr th:only-of-type {\n",
       "        vertical-align: middle;\n",
       "    }\n",
       "\n",
       "    .dataframe tbody tr th {\n",
       "        vertical-align: top;\n",
       "    }\n",
       "\n",
       "    .dataframe thead th {\n",
       "        text-align: right;\n",
       "    }\n",
       "</style>\n",
       "<table border=\"1\" class=\"dataframe\">\n",
       "  <thead>\n",
       "    <tr style=\"text-align: right;\">\n",
       "      <th></th>\n",
       "      <th>gender</th>\n",
       "      <th>age</th>\n",
       "      <th>income</th>\n",
       "      <th>membership_days</th>\n",
       "      <th>person</th>\n",
       "      <th>event</th>\n",
       "      <th>time</th>\n",
       "      <th>offer id</th>\n",
       "      <th>amount</th>\n",
       "      <th>store_credit</th>\n",
       "      <th>...</th>\n",
       "      <th>offer_irrelevant</th>\n",
       "      <th>pre_amount</th>\n",
       "      <th>post_event</th>\n",
       "      <th>post_offer</th>\n",
       "      <th>keep</th>\n",
       "      <th>post_id</th>\n",
       "      <th>post_driven</th>\n",
       "      <th>post_irrelevant</th>\n",
       "      <th>post_amount</th>\n",
       "      <th>pre_id</th>\n",
       "    </tr>\n",
       "  </thead>\n",
       "  <tbody>\n",
       "  </tbody>\n",
       "</table>\n",
       "<p>0 rows × 34 columns</p>\n",
       "</div>"
      ],
      "text/plain": [
       "Empty DataFrame\n",
       "Columns: [gender, age, income, membership_days, person, event, time, offer id, amount, store_credit, pre_event, pre_offer, reward, difficulty, duration, offer_type, email, mobile, social, web, channels, time_since_receive, offer_driven, active_customer, offer_irrelevant, pre_amount, post_event, post_offer, keep, post_id, post_driven, post_irrelevant, post_amount, pre_id]\n",
       "Index: []\n",
       "\n",
       "[0 rows x 34 columns]"
      ]
     },
     "execution_count": 292,
     "metadata": {},
     "output_type": "execute_result"
    }
   ],
   "source": [
    "df[(df['event']=='transaction') & ((df['offer_driven']==0) & (df['offer_irrelevant']==0))]"
   ]
  },
  {
   "cell_type": "code",
   "execution_count": 293,
   "metadata": {},
   "outputs": [
    {
     "data": {
      "text/plain": [
       "97039"
      ]
     },
     "execution_count": 293,
     "metadata": {},
     "output_type": "execute_result"
    }
   ],
   "source": [
    "# number of standalone transactions\n",
    "# df[(df['event']=='transaction')].shape[0]\n",
    "\n",
    "# equals\n",
    "df[(df['offer id']=='unknown')].shape[0]"
   ]
  },
  {
   "cell_type": "code",
   "execution_count": 294,
   "metadata": {},
   "outputs": [
    {
     "data": {
      "text/plain": [
       "50730"
      ]
     },
     "execution_count": 294,
     "metadata": {},
     "output_type": "execute_result"
    }
   ],
   "source": [
    "df[((df['event']=='offer received') & ((df['offer_driven']==1) | (df['offer_irrelevant']==1)))].shape[0]\n"
   ]
  },
  {
   "cell_type": "code",
   "execution_count": 295,
   "metadata": {},
   "outputs": [
    {
     "data": {
      "text/plain": [
       "array([0., 1.])"
      ]
     },
     "execution_count": 295,
     "metadata": {},
     "output_type": "execute_result"
    }
   ],
   "source": [
    "df[(df['offer id']!='unknown')]['offer_driven'].unique()"
   ]
  },
  {
   "cell_type": "code",
   "execution_count": 296,
   "metadata": {},
   "outputs": [
    {
     "name": "stdout",
     "output_type": "stream",
     "text": [
      "total purchase amount with offers 584549.0\n",
      "total purchase amount without offers 1190903.0\n",
      "total purchase amount 1775452.0\n",
      "--------------------------------------------\n",
      "number of purchases with offer 53854\n",
      "number of purchases without offer 97039\n",
      "total number of purchases 150893\n"
     ]
    }
   ],
   "source": [
    "# total purchase amount\n",
    "print(\"total purchase amount with offers\", round(df[df['offer id']!='unknown'].groupby('offer id')['amount'].sum().sum()))\n",
    "print(\"total purchase amount without offers\", round(df[df['offer id']=='unknown'].groupby('offer id')['amount'].sum().sum()))\n",
    "print(\"total purchase amount\", round(df.groupby('offer id')['amount'].sum().sum()))\n",
    "\n",
    "print(\"--------------------------------------------\")\n",
    "\n",
    "# number of purchases with offer \n",
    "print(\"number of purchases with offer\", df[ (df['offer id']!='unknown') & ((df['offer_driven']==1) | (df['offer_irrelevant']==1))].shape[0] )\n",
    "print(\"number of purchases without offer\", df[(df['offer id']=='unknown')].shape[0])\n",
    "print(\"total number of purchases\", df[(df['event']=='transaction') | (df['event']=='offer completed')| ((df['event']=='offer received') & ((df['offer_driven']==1) | (df['offer_irrelevant']==1)))].shape[0])\n"
   ]
  },
  {
   "cell_type": "code",
   "execution_count": 297,
   "metadata": {},
   "outputs": [
    {
     "data": {
      "text/html": [
       "<div>\n",
       "<style scoped>\n",
       "    .dataframe tbody tr th:only-of-type {\n",
       "        vertical-align: middle;\n",
       "    }\n",
       "\n",
       "    .dataframe tbody tr th {\n",
       "        vertical-align: top;\n",
       "    }\n",
       "\n",
       "    .dataframe thead th {\n",
       "        text-align: right;\n",
       "    }\n",
       "</style>\n",
       "<table border=\"1\" class=\"dataframe\">\n",
       "  <thead>\n",
       "    <tr style=\"text-align: right;\">\n",
       "      <th></th>\n",
       "      <th>amount</th>\n",
       "    </tr>\n",
       "    <tr>\n",
       "      <th>offer id</th>\n",
       "      <th></th>\n",
       "    </tr>\n",
       "  </thead>\n",
       "  <tbody>\n",
       "    <tr>\n",
       "      <th>0b1e1539f2cc45b7b9fa7c272da2e1d7</th>\n",
       "      <td>28751.25</td>\n",
       "    </tr>\n",
       "    <tr>\n",
       "      <th>2298d6c36e964ae4a3e7e9706d1fb8c2</th>\n",
       "      <td>73436.90</td>\n",
       "    </tr>\n",
       "    <tr>\n",
       "      <th>2906b810c7d4411798c6938adc9daaa5</th>\n",
       "      <td>44489.37</td>\n",
       "    </tr>\n",
       "    <tr>\n",
       "      <th>3f207df678b143eea3cee63160fa8bed</th>\n",
       "      <td>41570.44</td>\n",
       "    </tr>\n",
       "    <tr>\n",
       "      <th>4d5c57ea9a6940dd891ad53e9dbe8da0</th>\n",
       "      <td>74086.75</td>\n",
       "    </tr>\n",
       "    <tr>\n",
       "      <th>5a8bc65990b245e5a138643cd4eb9837</th>\n",
       "      <td>56366.03</td>\n",
       "    </tr>\n",
       "    <tr>\n",
       "      <th>9b98b8c7a33c4b65b9aebfe6a799e6d9</th>\n",
       "      <td>40508.39</td>\n",
       "    </tr>\n",
       "    <tr>\n",
       "      <th>ae264e3637204a6fb9bb56bc8210ddfd</th>\n",
       "      <td>67846.79</td>\n",
       "    </tr>\n",
       "    <tr>\n",
       "      <th>f19421c1d4aa40978ebb69ca19b0e20d</th>\n",
       "      <td>76680.05</td>\n",
       "    </tr>\n",
       "    <tr>\n",
       "      <th>fafdcd668e3743c1bb461111dcafc2a4</th>\n",
       "      <td>80813.26</td>\n",
       "    </tr>\n",
       "  </tbody>\n",
       "</table>\n",
       "</div>"
      ],
      "text/plain": [
       "                                    amount\n",
       "offer id                                  \n",
       "0b1e1539f2cc45b7b9fa7c272da2e1d7  28751.25\n",
       "2298d6c36e964ae4a3e7e9706d1fb8c2  73436.90\n",
       "2906b810c7d4411798c6938adc9daaa5  44489.37\n",
       "3f207df678b143eea3cee63160fa8bed  41570.44\n",
       "4d5c57ea9a6940dd891ad53e9dbe8da0  74086.75\n",
       "5a8bc65990b245e5a138643cd4eb9837  56366.03\n",
       "9b98b8c7a33c4b65b9aebfe6a799e6d9  40508.39\n",
       "ae264e3637204a6fb9bb56bc8210ddfd  67846.79\n",
       "f19421c1d4aa40978ebb69ca19b0e20d  76680.05\n",
       "fafdcd668e3743c1bb461111dcafc2a4  80813.26"
      ]
     },
     "execution_count": 297,
     "metadata": {},
     "output_type": "execute_result"
    }
   ],
   "source": [
    "df[df['offer id']!='unknown'].groupby('offer id')[['amount']].sum()"
   ]
  },
  {
   "cell_type": "markdown",
   "metadata": {},
   "source": [
    "## Remove Irrelevant Features"
   ]
  },
  {
   "cell_type": "code",
   "execution_count": 372,
   "metadata": {},
   "outputs": [],
   "source": [
    "df_backup=df.copy()\n",
    "\n",
    "# df=df_backup.copy()"
   ]
  },
  {
   "cell_type": "code",
   "execution_count": 373,
   "metadata": {},
   "outputs": [],
   "source": [
    "# Drop unnecessary columns\n",
    "to_be_dropped=[\n",
    "    'pre_event', 'pre_offer', 'post_event', 'post_offer', 'post_driven','post_irrelevant', 'post_id',  \n",
    "    'time_since_receive', 'time','store_credit',\n",
    "    'mobile', 'web', 'email','social','time_since_receive','post_event',\n",
    "    'post_offer', 'pre_amount', 'keep', 'post_id',\n",
    "    'post_driven', 'post_irrelevant', 'post_amount', 'pre_id'\n",
    "]\n",
    "df=df.drop(to_be_dropped, axis=1)"
   ]
  },
  {
   "cell_type": "code",
   "execution_count": 374,
   "metadata": {},
   "outputs": [
    {
     "data": {
      "text/plain": [
       "gender              False\n",
       "age                 False\n",
       "income              False\n",
       "membership_days     False\n",
       "person              False\n",
       "event               False\n",
       "offer id            False\n",
       "amount              False\n",
       "reward               True\n",
       "difficulty           True\n",
       "duration             True\n",
       "offer_type           True\n",
       "channels             True\n",
       "offer_driven        False\n",
       "active_customer     False\n",
       "offer_irrelevant    False\n",
       "dtype: bool"
      ]
     },
     "execution_count": 374,
     "metadata": {},
     "output_type": "execute_result"
    }
   ],
   "source": [
    "df.isnull().any()"
   ]
  },
  {
   "cell_type": "code",
   "execution_count": 375,
   "metadata": {},
   "outputs": [],
   "source": [
    "df.fillna({x:0 for x in ['channels', 'difficulty', 'duration', 'reward']}, inplace=True) \n",
    "\n",
    "df['offer_type'].fillna(\"NoOffer\", inplace=True)"
   ]
  },
  {
   "cell_type": "code",
   "execution_count": 376,
   "metadata": {},
   "outputs": [
    {
     "data": {
      "text/plain": [
       "gender              False\n",
       "age                 False\n",
       "income              False\n",
       "membership_days     False\n",
       "person              False\n",
       "event               False\n",
       "offer id            False\n",
       "amount              False\n",
       "reward              False\n",
       "difficulty          False\n",
       "duration            False\n",
       "offer_type          False\n",
       "channels            False\n",
       "offer_driven        False\n",
       "active_customer     False\n",
       "offer_irrelevant    False\n",
       "dtype: bool"
      ]
     },
     "execution_count": 376,
     "metadata": {},
     "output_type": "execute_result"
    }
   ],
   "source": [
    "df.isnull().any()"
   ]
  },
  {
   "cell_type": "markdown",
   "metadata": {},
   "source": [
    "### rename offer id"
   ]
  },
  {
   "cell_type": "code",
   "execution_count": 378,
   "metadata": {},
   "outputs": [],
   "source": [
    "df.loc[df['offer id']!='unknown', 'offer id']=df[df['offer id']!='unknown']['offer_type']+'_'+df[df['offer id']!='unknown']['difficulty'].astype(str)+'_'+df[df['offer id']!='unknown']['duration'].astype(str)\n"
   ]
  },
  {
   "cell_type": "markdown",
   "metadata": {},
   "source": [
    "## Data Exploration"
   ]
  },
  {
   "cell_type": "code",
   "execution_count": 379,
   "metadata": {},
   "outputs": [
    {
     "data": {
      "text/html": [
       "<div>\n",
       "<style scoped>\n",
       "    .dataframe tbody tr th:only-of-type {\n",
       "        vertical-align: middle;\n",
       "    }\n",
       "\n",
       "    .dataframe tbody tr th {\n",
       "        vertical-align: top;\n",
       "    }\n",
       "\n",
       "    .dataframe thead th {\n",
       "        text-align: right;\n",
       "    }\n",
       "</style>\n",
       "<table border=\"1\" class=\"dataframe\">\n",
       "  <thead>\n",
       "    <tr style=\"text-align: right;\">\n",
       "      <th></th>\n",
       "      <th>gender</th>\n",
       "      <th>age</th>\n",
       "      <th>income</th>\n",
       "      <th>membership_days</th>\n",
       "      <th>person</th>\n",
       "      <th>event</th>\n",
       "      <th>offer id</th>\n",
       "      <th>amount</th>\n",
       "      <th>reward</th>\n",
       "      <th>difficulty</th>\n",
       "      <th>duration</th>\n",
       "      <th>offer_type</th>\n",
       "      <th>channels</th>\n",
       "      <th>offer_driven</th>\n",
       "      <th>active_customer</th>\n",
       "      <th>offer_irrelevant</th>\n",
       "    </tr>\n",
       "  </thead>\n",
       "  <tbody>\n",
       "    <tr>\n",
       "      <th>0</th>\n",
       "      <td>unknown</td>\n",
       "      <td>unknown</td>\n",
       "      <td>unknown</td>\n",
       "      <td>1174.0</td>\n",
       "      <td>68be06ca386d4c31939f3a4f0e3dd783</td>\n",
       "      <td>offer received</td>\n",
       "      <td>discount_10.0_168.0</td>\n",
       "      <td>0.00</td>\n",
       "      <td>2.0</td>\n",
       "      <td>10.0</td>\n",
       "      <td>168.0</td>\n",
       "      <td>discount</td>\n",
       "      <td>3.0</td>\n",
       "      <td>0.0</td>\n",
       "      <td>1</td>\n",
       "      <td>0.0</td>\n",
       "    </tr>\n",
       "    <tr>\n",
       "      <th>2</th>\n",
       "      <td>unknown</td>\n",
       "      <td>unknown</td>\n",
       "      <td>unknown</td>\n",
       "      <td>1174.0</td>\n",
       "      <td>68be06ca386d4c31939f3a4f0e3dd783</td>\n",
       "      <td>offer received</td>\n",
       "      <td>discount_20.0_240.0</td>\n",
       "      <td>0.35</td>\n",
       "      <td>5.0</td>\n",
       "      <td>20.0</td>\n",
       "      <td>240.0</td>\n",
       "      <td>discount</td>\n",
       "      <td>2.0</td>\n",
       "      <td>1.0</td>\n",
       "      <td>1</td>\n",
       "      <td>0.0</td>\n",
       "    </tr>\n",
       "    <tr>\n",
       "      <th>5</th>\n",
       "      <td>unknown</td>\n",
       "      <td>unknown</td>\n",
       "      <td>unknown</td>\n",
       "      <td>1174.0</td>\n",
       "      <td>68be06ca386d4c31939f3a4f0e3dd783</td>\n",
       "      <td>offer received</td>\n",
       "      <td>discount_10.0_240.0</td>\n",
       "      <td>0.74</td>\n",
       "      <td>2.0</td>\n",
       "      <td>10.0</td>\n",
       "      <td>240.0</td>\n",
       "      <td>discount</td>\n",
       "      <td>4.0</td>\n",
       "      <td>1.0</td>\n",
       "      <td>1</td>\n",
       "      <td>0.0</td>\n",
       "    </tr>\n",
       "    <tr>\n",
       "      <th>8</th>\n",
       "      <td>unknown</td>\n",
       "      <td>unknown</td>\n",
       "      <td>unknown</td>\n",
       "      <td>1174.0</td>\n",
       "      <td>68be06ca386d4c31939f3a4f0e3dd783</td>\n",
       "      <td>transaction</td>\n",
       "      <td>unknown</td>\n",
       "      <td>1.89</td>\n",
       "      <td>0.0</td>\n",
       "      <td>0.0</td>\n",
       "      <td>0.0</td>\n",
       "      <td>NoOffer</td>\n",
       "      <td>0.0</td>\n",
       "      <td>0.0</td>\n",
       "      <td>1</td>\n",
       "      <td>1.0</td>\n",
       "    </tr>\n",
       "    <tr>\n",
       "      <th>9</th>\n",
       "      <td>unknown</td>\n",
       "      <td>unknown</td>\n",
       "      <td>unknown</td>\n",
       "      <td>1174.0</td>\n",
       "      <td>68be06ca386d4c31939f3a4f0e3dd783</td>\n",
       "      <td>offer received</td>\n",
       "      <td>discount_7.0_168.0</td>\n",
       "      <td>5.04</td>\n",
       "      <td>3.0</td>\n",
       "      <td>7.0</td>\n",
       "      <td>168.0</td>\n",
       "      <td>discount</td>\n",
       "      <td>4.0</td>\n",
       "      <td>1.0</td>\n",
       "      <td>1</td>\n",
       "      <td>0.0</td>\n",
       "    </tr>\n",
       "  </tbody>\n",
       "</table>\n",
       "</div>"
      ],
      "text/plain": [
       "    gender      age   income  membership_days  \\\n",
       "0  unknown  unknown  unknown           1174.0   \n",
       "2  unknown  unknown  unknown           1174.0   \n",
       "5  unknown  unknown  unknown           1174.0   \n",
       "8  unknown  unknown  unknown           1174.0   \n",
       "9  unknown  unknown  unknown           1174.0   \n",
       "\n",
       "                             person           event             offer id  \\\n",
       "0  68be06ca386d4c31939f3a4f0e3dd783  offer received  discount_10.0_168.0   \n",
       "2  68be06ca386d4c31939f3a4f0e3dd783  offer received  discount_20.0_240.0   \n",
       "5  68be06ca386d4c31939f3a4f0e3dd783  offer received  discount_10.0_240.0   \n",
       "8  68be06ca386d4c31939f3a4f0e3dd783     transaction              unknown   \n",
       "9  68be06ca386d4c31939f3a4f0e3dd783  offer received   discount_7.0_168.0   \n",
       "\n",
       "   amount  reward  difficulty  duration offer_type  channels  offer_driven  \\\n",
       "0    0.00     2.0        10.0     168.0   discount       3.0           0.0   \n",
       "2    0.35     5.0        20.0     240.0   discount       2.0           1.0   \n",
       "5    0.74     2.0        10.0     240.0   discount       4.0           1.0   \n",
       "8    1.89     0.0         0.0       0.0    NoOffer       0.0           0.0   \n",
       "9    5.04     3.0         7.0     168.0   discount       4.0           1.0   \n",
       "\n",
       "   active_customer  offer_irrelevant  \n",
       "0                1               0.0  \n",
       "2                1               0.0  \n",
       "5                1               0.0  \n",
       "8                1               1.0  \n",
       "9                1               0.0  "
      ]
     },
     "execution_count": 379,
     "metadata": {},
     "output_type": "execute_result"
    }
   ],
   "source": [
    "df.head()"
   ]
  },
  {
   "cell_type": "markdown",
   "metadata": {},
   "source": [
    "#### Q: How many does offers each person receive?"
   ]
  },
  {
   "cell_type": "code",
   "execution_count": 380,
   "metadata": {},
   "outputs": [
    {
     "name": "stdout",
     "output_type": "stream",
     "text": [
      "Person that never receive any offers: ['12ede229379747bd8d74ccdc20097ca3' '3a4874d8f0ef42b9a1b72294902afea9'\n",
      " 'ae8111e7e8cd4b60a8d35c42c1110555' 'c6e579c6821c41d1a7a6a9cf936e91bb'\n",
      " 'da7a7c0dcfcb41a8acc7864a53cf60fb' 'eb540099db834cf59001f83a4561aef3']\n"
     ]
    }
   ],
   "source": [
    "offer_count=df[df['offer id']!='unknown'].groupby('person')[['person']].count().rename(columns={'person':'offer_cnt'}).reset_index()\n",
    "\n",
    "# check the customers that never received any offers\n",
    "a=df['person'].unique()\n",
    "b=offer_count['person'].unique()\n",
    "print('Person that never receive any offers:', np.setdiff1d(a,b))\n",
    "\n",
    "# add the number of offer received to the dataset as a new feature\n",
    "df=df.merge(offer_count, right_on='person', left_on='person', how='left')\n",
    "df['offer_cnt'].fillna(0, inplace=True)"
   ]
  },
  {
   "cell_type": "code",
   "execution_count": 381,
   "metadata": {},
   "outputs": [
    {
     "data": {
      "image/png": "[encoded data removed]",
      "text/plain": [
       "<Figure size 432x288 with 1 Axes>"
      ]
     },
     "metadata": {
      "needs_background": "light"
     },
     "output_type": "display_data"
    }
   ],
   "source": [
    "df.groupby('person')['offer_cnt'].mean().plot(kind='hist', alpha=0.6)\n",
    "plt.xticks(np.arange(df.groupby('person')['offer_cnt'].mean().max()+1))\n",
    "plt.xlim([0,10]);\n",
    "plt.ylim([0,6000]);"
   ]
  },
  {
   "cell_type": "code",
   "execution_count": 382,
   "metadata": {},
   "outputs": [
    {
     "data": {
      "text/plain": [
       "Text(0, 0.5, 'amount')"
      ]
     },
     "execution_count": 382,
     "metadata": {},
     "output_type": "execute_result"
    },
    {
     "data": {
      "image/png": "[encoded data removed]",
      "text/plain": [
       "<Figure size 432x288 with 1 Axes>"
      ]
     },
     "metadata": {
      "needs_background": "light"
     },
     "output_type": "display_data"
    }
   ],
   "source": [
    "df.groupby(\"offer_cnt\")['amount'].mean().plot(kind='bar', alpha=0.6, rot=0)\n",
    "# plt.title('average transaction amount V.S. number of offer received')\n",
    "plt.ylabel('amount')"
   ]
  },
  {
   "cell_type": "code",
   "execution_count": 383,
   "metadata": {},
   "outputs": [
    {
     "data": {
      "text/plain": [
       "Index(['gender', 'age', 'income', 'membership_days', 'person', 'event',\n",
       "       'offer id', 'amount', 'reward', 'difficulty', 'duration', 'offer_type',\n",
       "       'channels', 'offer_driven', 'active_customer', 'offer_irrelevant',\n",
       "       'offer_cnt'],\n",
       "      dtype='object')"
      ]
     },
     "execution_count": 383,
     "metadata": {},
     "output_type": "execute_result"
    }
   ],
   "source": [
    "df.columns"
   ]
  },
  {
   "cell_type": "markdown",
   "metadata": {},
   "source": [
    "### Demographics "
   ]
  },
  {
   "cell_type": "markdown",
   "metadata": {},
   "source": [
    "#### Q: Gender"
   ]
  },
  {
   "cell_type": "code",
   "execution_count": 384,
   "metadata": {},
   "outputs": [
    {
     "data": {
      "text/plain": [
       "Text(0, 0.5, 'percentage')"
      ]
     },
     "execution_count": 384,
     "metadata": {},
     "output_type": "execute_result"
    },
    {
     "data": {
      "image/png": "[encoded data removed]",
      "text/plain": [
       "<Figure size 432x288 with 1 Axes>"
      ]
     },
     "metadata": {
      "needs_background": "light"
     },
     "output_type": "display_data"
    }
   ],
   "source": [
    "# percentage of male/female gender\n",
    "\n",
    "(df.groupby('gender')[['person']].nunique()/df.groupby('gender')[['person']].nunique().sum()).plot(kind='bar',legend=False, alpha=0.6, rot=0.6);\n",
    "plt.ylabel('percentage')"
   ]
  },
  {
   "cell_type": "markdown",
   "metadata": {},
   "source": [
    "#### Q: incomes of Male/Female customers "
   ]
  },
  {
   "cell_type": "code",
   "execution_count": 385,
   "metadata": {},
   "outputs": [],
   "source": [
    "A=df[df['gender'].isin(['F', 'M'])].groupby(['gender','income'])[['person']].nunique().reset_index(['income']).pivot_table(index='gender',columns='income', values='person')\n",
    "A=A[['<40k', '40-60k', '60-80k', '80-100k', '>100k']]\n"
   ]
  },
  {
   "cell_type": "code",
   "execution_count": 386,
   "metadata": {},
   "outputs": [
    {
     "data": {
      "text/plain": [
       "Text(0, 0.5, 'count')"
      ]
     },
     "execution_count": 386,
     "metadata": {},
     "output_type": "execute_result"
    },
    {
     "data": {
      "image/png": "[encoded data removed]",
      "text/plain": [
       "<Figure size 432x288 with 1 Axes>"
      ]
     },
     "metadata": {
      "needs_background": "light"
     },
     "output_type": "display_data"
    }
   ],
   "source": [
    "# Count of each income level within female and male\n",
    "\n",
    "A.plot(kind='bar', alpha=0.6, rot=0)\n",
    "plt.ylabel('count')"
   ]
  },
  {
   "cell_type": "code",
   "execution_count": 387,
   "metadata": {},
   "outputs": [
    {
     "data": {
      "text/plain": [
       "Text(0, 0.5, 'percentage')"
      ]
     },
     "execution_count": 387,
     "metadata": {},
     "output_type": "execute_result"
    },
    {
     "data": {
      "image/png": "[encoded data removed]",
      "text/plain": [
       "<Figure size 432x288 with 1 Axes>"
      ]
     },
     "metadata": {
      "needs_background": "light"
     },
     "output_type": "display_data"
    }
   ],
   "source": [
    "# Percentage of each income level within female and male\n",
    "\n",
    "A.div(A.sum(axis=0)).plot(kind='bar', alpha=0.6, rot=0)\n",
    "plt.ylabel('percentage')"
   ]
  },
  {
   "cell_type": "markdown",
   "metadata": {},
   "source": [
    "#### Q:  distribution of days being a member for male/female customer"
   ]
  },
  {
   "cell_type": "code",
   "execution_count": 388,
   "metadata": {},
   "outputs": [
    {
     "data": {
      "image/png": "[encoded data removed]",
      "text/plain": [
       "<Figure size 432x288 with 1 Axes>"
      ]
     },
     "metadata": {
      "needs_background": "light"
     },
     "output_type": "display_data"
    }
   ],
   "source": [
    "# distribution of days being a member for male/female customer\n",
    "temp=df[df['gender'].isin(['F', 'M'])].groupby(['gender','person'])[['membership_days']].mean().pivot_table(index='person',columns='gender', values='membership_days')\n",
    "\n",
    "temp.plot.hist(alpha=0.3);"
   ]
  },
  {
   "cell_type": "markdown",
   "metadata": {},
   "source": [
    "#### Q: How each gender response to offers\n",
    "**Answers**:\n",
    "* there are about the same amount of event turns into transactions in each gender group.\n",
    "* for all purchases event, the percentages of purchases driven by offer are about the same for all genders.\n",
    "* Different gender response the same to different types of offers each gender"
   ]
  },
  {
   "cell_type": "code",
   "execution_count": 389,
   "metadata": {},
   "outputs": [
    {
     "data": {
      "text/html": [
       "<div>\n",
       "<style scoped>\n",
       "    .dataframe tbody tr th:only-of-type {\n",
       "        vertical-align: middle;\n",
       "    }\n",
       "\n",
       "    .dataframe tbody tr th {\n",
       "        vertical-align: top;\n",
       "    }\n",
       "\n",
       "    .dataframe thead th {\n",
       "        text-align: right;\n",
       "    }\n",
       "</style>\n",
       "<table border=\"1\" class=\"dataframe\">\n",
       "  <thead>\n",
       "    <tr style=\"text-align: right;\">\n",
       "      <th></th>\n",
       "      <th>offer_driven</th>\n",
       "      <th>offer_irrelevant</th>\n",
       "      <th>event_count</th>\n",
       "      <th>n_purchase</th>\n",
       "      <th>perc_purchase_event</th>\n",
       "      <th>none_purchase</th>\n",
       "      <th>perc_nonepurchase_event</th>\n",
       "    </tr>\n",
       "    <tr>\n",
       "      <th>gender</th>\n",
       "      <th></th>\n",
       "      <th></th>\n",
       "      <th></th>\n",
       "      <th></th>\n",
       "      <th></th>\n",
       "      <th></th>\n",
       "      <th></th>\n",
       "    </tr>\n",
       "  </thead>\n",
       "  <tbody>\n",
       "    <tr>\n",
       "      <th>F</th>\n",
       "      <td>15278.0</td>\n",
       "      <td>39928.0</td>\n",
       "      <td>63106</td>\n",
       "      <td>55206.0</td>\n",
       "      <td>0.874814</td>\n",
       "      <td>7900.0</td>\n",
       "      <td>0.125186</td>\n",
       "    </tr>\n",
       "    <tr>\n",
       "      <th>M</th>\n",
       "      <td>20856.0</td>\n",
       "      <td>57671.0</td>\n",
       "      <td>91474</td>\n",
       "      <td>78527.0</td>\n",
       "      <td>0.858463</td>\n",
       "      <td>12947.0</td>\n",
       "      <td>0.141537</td>\n",
       "    </tr>\n",
       "    <tr>\n",
       "      <th>O</th>\n",
       "      <td>571.0</td>\n",
       "      <td>1362.0</td>\n",
       "      <td>2196</td>\n",
       "      <td>1933.0</td>\n",
       "      <td>0.880237</td>\n",
       "      <td>263.0</td>\n",
       "      <td>0.119763</td>\n",
       "    </tr>\n",
       "    <tr>\n",
       "      <th>unknown</th>\n",
       "      <td>4797.0</td>\n",
       "      <td>10430.0</td>\n",
       "      <td>19664</td>\n",
       "      <td>15227.0</td>\n",
       "      <td>0.774359</td>\n",
       "      <td>4437.0</td>\n",
       "      <td>0.225641</td>\n",
       "    </tr>\n",
       "  </tbody>\n",
       "</table>\n",
       "</div>"
      ],
      "text/plain": [
       "         offer_driven  offer_irrelevant  event_count  n_purchase  \\\n",
       "gender                                                             \n",
       "F             15278.0           39928.0        63106     55206.0   \n",
       "M             20856.0           57671.0        91474     78527.0   \n",
       "O               571.0            1362.0         2196      1933.0   \n",
       "unknown        4797.0           10430.0        19664     15227.0   \n",
       "\n",
       "         perc_purchase_event  none_purchase  perc_nonepurchase_event  \n",
       "gender                                                                \n",
       "F                   0.874814         7900.0                 0.125186  \n",
       "M                   0.858463        12947.0                 0.141537  \n",
       "O                   0.880237          263.0                 0.119763  \n",
       "unknown             0.774359         4437.0                 0.225641  "
      ]
     },
     "execution_count": 389,
     "metadata": {},
     "output_type": "execute_result"
    }
   ],
   "source": [
    "temp=df.groupby('gender')[['offer_driven', 'offer_irrelevant']].sum()\n",
    "temp['event_count']=df.groupby('gender')[['offer_driven']].count()\n",
    "temp['n_purchase']=temp['offer_driven']+temp['offer_irrelevant']\n",
    "temp['perc_purchase_event']=temp['n_purchase']/temp['event_count']\n",
    "temp['none_purchase']=temp['event_count']-temp['n_purchase']\n",
    "temp['perc_nonepurchase_event']=temp['none_purchase']/temp['event_count']\n",
    "temp"
   ]
  },
  {
   "cell_type": "code",
   "execution_count": 390,
   "metadata": {},
   "outputs": [
    {
     "data": {
      "image/png": "[encoded data removed]",
      "text/plain": [
       "<Figure size 432x288 with 1 Axes>"
      ]
     },
     "metadata": {
      "needs_background": "light"
     },
     "output_type": "display_data"
    }
   ],
   "source": [
    "# within all purchases, the percentages of offer-driven purchases and offer-irrelevant purchases are about the same for all genders.\n",
    "temp[['offer_driven','offer_irrelevant']].div(temp[['offer_driven','offer_irrelevant']].sum(axis=1), axis=0).sort_values('offer_driven', ascending=False).plot(kind='bar', alpha=0.8, rot=0);\n",
    "# plt.title('percentage of each purchase type');\n",
    "plt.ylabel('percentage');\n"
   ]
  },
  {
   "cell_type": "markdown",
   "metadata": {},
   "source": [
    "For all offer-driven purchases, what's the percentage of differrent types of offers?"
   ]
  },
  {
   "cell_type": "code",
   "execution_count": 391,
   "metadata": {},
   "outputs": [
    {
     "data": {
      "image/png": "[encoded data removed]",
      "text/plain": [
       "<Figure size 432x288 with 1 Axes>"
      ]
     },
     "metadata": {
      "needs_background": "light"
     },
     "output_type": "display_data"
    }
   ],
   "source": [
    "temp=df[df['offer_driven']==1].groupby(['gender', 'offer_type'])[['offer_type']].count().rename(columns={\"offer_type\":'count'}).reset_index()\n",
    "temp=temp.pivot_table(index='gender', columns='offer_type', values='count')\n",
    "temp.div(temp.sum(axis=1), axis=0).sort_values('bogo', ascending=False).plot(kind='bar', alpha=0.8, rot=0);\n",
    "plt.ylabel('percentage');"
   ]
  },
  {
   "cell_type": "markdown",
   "metadata": {},
   "source": [
    "For all offer-driven purchases, what's the percentage of differrent offers?"
   ]
  },
  {
   "cell_type": "code",
   "execution_count": 436,
   "metadata": {},
   "outputs": [
    {
     "data": {
      "text/html": [
       "<div>\n",
       "<style scoped>\n",
       "    .dataframe tbody tr th:only-of-type {\n",
       "        vertical-align: middle;\n",
       "    }\n",
       "\n",
       "    .dataframe tbody tr th {\n",
       "        vertical-align: top;\n",
       "    }\n",
       "\n",
       "    .dataframe thead th {\n",
       "        text-align: right;\n",
       "    }\n",
       "</style>\n",
       "<table border=\"1\" class=\"dataframe\">\n",
       "  <thead>\n",
       "    <tr style=\"text-align: right;\">\n",
       "      <th>offer id</th>\n",
       "      <th>bogo_10.0_120.0</th>\n",
       "      <th>bogo_10.0_168.0</th>\n",
       "      <th>bogo_5.0_120.0</th>\n",
       "      <th>bogo_5.0_168.0</th>\n",
       "      <th>discount_10.0_168.0</th>\n",
       "      <th>discount_10.0_240.0</th>\n",
       "      <th>discount_20.0_240.0</th>\n",
       "      <th>discount_7.0_168.0</th>\n",
       "      <th>informational_0.0_72.0</th>\n",
       "      <th>informational_0.0_96.0</th>\n",
       "    </tr>\n",
       "    <tr>\n",
       "      <th>gender</th>\n",
       "      <th></th>\n",
       "      <th></th>\n",
       "      <th></th>\n",
       "      <th></th>\n",
       "      <th></th>\n",
       "      <th></th>\n",
       "      <th></th>\n",
       "      <th></th>\n",
       "      <th></th>\n",
       "      <th></th>\n",
       "    </tr>\n",
       "  </thead>\n",
       "  <tbody>\n",
       "    <tr>\n",
       "      <th>F</th>\n",
       "      <td>0.126980</td>\n",
       "      <td>0.122725</td>\n",
       "      <td>0.126260</td>\n",
       "      <td>0.076581</td>\n",
       "      <td>0.075533</td>\n",
       "      <td>0.147401</td>\n",
       "      <td>0.049156</td>\n",
       "      <td>0.140594</td>\n",
       "      <td>0.083061</td>\n",
       "      <td>0.051708</td>\n",
       "    </tr>\n",
       "    <tr>\n",
       "      <th>M</th>\n",
       "      <td>0.127637</td>\n",
       "      <td>0.132192</td>\n",
       "      <td>0.128836</td>\n",
       "      <td>0.068230</td>\n",
       "      <td>0.067175</td>\n",
       "      <td>0.150508</td>\n",
       "      <td>0.041858</td>\n",
       "      <td>0.142837</td>\n",
       "      <td>0.092300</td>\n",
       "      <td>0.048427</td>\n",
       "    </tr>\n",
       "    <tr>\n",
       "      <th>O</th>\n",
       "      <td>0.091068</td>\n",
       "      <td>0.124343</td>\n",
       "      <td>0.117338</td>\n",
       "      <td>0.106830</td>\n",
       "      <td>0.085814</td>\n",
       "      <td>0.127846</td>\n",
       "      <td>0.073555</td>\n",
       "      <td>0.127846</td>\n",
       "      <td>0.089317</td>\n",
       "      <td>0.056042</td>\n",
       "    </tr>\n",
       "    <tr>\n",
       "      <th>unknown</th>\n",
       "      <td>0.126120</td>\n",
       "      <td>0.109235</td>\n",
       "      <td>0.125704</td>\n",
       "      <td>0.084845</td>\n",
       "      <td>0.083385</td>\n",
       "      <td>0.137378</td>\n",
       "      <td>0.055868</td>\n",
       "      <td>0.137169</td>\n",
       "      <td>0.072962</td>\n",
       "      <td>0.067334</td>\n",
       "    </tr>\n",
       "  </tbody>\n",
       "</table>\n",
       "</div>"
      ],
      "text/plain": [
       "offer id  bogo_10.0_120.0  bogo_10.0_168.0  bogo_5.0_120.0  bogo_5.0_168.0  \\\n",
       "gender                                                                       \n",
       "F                0.126980         0.122725        0.126260        0.076581   \n",
       "M                0.127637         0.132192        0.128836        0.068230   \n",
       "O                0.091068         0.124343        0.117338        0.106830   \n",
       "unknown          0.126120         0.109235        0.125704        0.084845   \n",
       "\n",
       "offer id  discount_10.0_168.0  discount_10.0_240.0  discount_20.0_240.0  \\\n",
       "gender                                                                    \n",
       "F                    0.075533             0.147401             0.049156   \n",
       "M                    0.067175             0.150508             0.041858   \n",
       "O                    0.085814             0.127846             0.073555   \n",
       "unknown              0.083385             0.137378             0.055868   \n",
       "\n",
       "offer id  discount_7.0_168.0  informational_0.0_72.0  informational_0.0_96.0  \n",
       "gender                                                                        \n",
       "F                   0.140594                0.083061                0.051708  \n",
       "M                   0.142837                0.092300                0.048427  \n",
       "O                   0.127846                0.089317                0.056042  \n",
       "unknown             0.137169                0.072962                0.067334  "
      ]
     },
     "execution_count": 436,
     "metadata": {},
     "output_type": "execute_result"
    }
   ],
   "source": [
    "temp=df[df['offer_driven']==1].groupby(['gender', 'offer id'])[['offer id']].count().rename(columns={\"offer id\":'count'}).reset_index()\n",
    "temp=temp.pivot_table(index='gender', columns='offer id', values='count')\n",
    "temp=temp.div(temp.sum(axis=1), axis=0)\n",
    "temp"
   ]
  },
  {
   "cell_type": "code",
   "execution_count": 437,
   "metadata": {},
   "outputs": [
    {
     "data": {
      "text/plain": [
       "Text(0, 0.5, 'percentage')"
      ]
     },
     "execution_count": 437,
     "metadata": {},
     "output_type": "execute_result"
    },
    {
     "data": {
      "image/png": "[encoded data removed]",
      "text/plain": [
       "<Figure size 432x288 with 1 Axes>"
      ]
     },
     "metadata": {
      "needs_background": "light"
     },
     "output_type": "display_data"
    }
   ],
   "source": [
    "temp.plot(kind='bar', alpha=0.8, rot=0);\n",
    "plt.legend(bbox_to_anchor=(1.0, 1.03))\n",
    "plt.ylabel('percentage')"
   ]
  },
  {
   "cell_type": "code",
   "execution_count": 438,
   "metadata": {},
   "outputs": [
    {
     "data": {
      "text/plain": [
       "Index(['bogo_10.0_120.0', 'bogo_10.0_168.0', 'bogo_5.0_120.0',\n",
       "       'bogo_5.0_168.0', 'discount_10.0_168.0', 'discount_10.0_240.0',\n",
       "       'discount_20.0_240.0', 'discount_7.0_168.0', 'informational_0.0_72.0',\n",
       "       'informational_0.0_96.0'],\n",
       "      dtype='object', name='offer id')"
      ]
     },
     "execution_count": 438,
     "metadata": {},
     "output_type": "execute_result"
    }
   ],
   "source": [
    "temp.columns"
   ]
  },
  {
   "cell_type": "code",
   "execution_count": 431,
   "metadata": {},
   "outputs": [
    {
     "data": {
      "text/html": [
       "<div>\n",
       "<style scoped>\n",
       "    .dataframe tbody tr th:only-of-type {\n",
       "        vertical-align: middle;\n",
       "    }\n",
       "\n",
       "    .dataframe tbody tr th {\n",
       "        vertical-align: top;\n",
       "    }\n",
       "\n",
       "    .dataframe thead th {\n",
       "        text-align: right;\n",
       "    }\n",
       "</style>\n",
       "<table border=\"1\" class=\"dataframe\">\n",
       "  <thead>\n",
       "    <tr style=\"text-align: right;\">\n",
       "      <th>offer_type</th>\n",
       "      <th>bogo</th>\n",
       "      <th>discount</th>\n",
       "      <th>informational</th>\n",
       "    </tr>\n",
       "    <tr>\n",
       "      <th>gender</th>\n",
       "      <th></th>\n",
       "      <th></th>\n",
       "      <th></th>\n",
       "    </tr>\n",
       "  </thead>\n",
       "  <tbody>\n",
       "    <tr>\n",
       "      <th>F</th>\n",
       "      <td>0.590133</td>\n",
       "      <td>0.540877</td>\n",
       "      <td>0.371795</td>\n",
       "    </tr>\n",
       "    <tr>\n",
       "      <th>M</th>\n",
       "      <td>0.595339</td>\n",
       "      <td>0.521210</td>\n",
       "      <td>0.387868</td>\n",
       "    </tr>\n",
       "    <tr>\n",
       "      <th>O</th>\n",
       "      <td>0.650259</td>\n",
       "      <td>0.607692</td>\n",
       "      <td>0.425641</td>\n",
       "    </tr>\n",
       "    <tr>\n",
       "      <th>unknown</th>\n",
       "      <td>0.534884</td>\n",
       "      <td>0.507543</td>\n",
       "      <td>0.347804</td>\n",
       "    </tr>\n",
       "  </tbody>\n",
       "</table>\n",
       "</div>"
      ],
      "text/plain": [
       "offer_type      bogo  discount  informational\n",
       "gender                                       \n",
       "F           0.590133  0.540877       0.371795\n",
       "M           0.595339  0.521210       0.387868\n",
       "O           0.650259  0.607692       0.425641\n",
       "unknown     0.534884  0.507543       0.347804"
      ]
     },
     "execution_count": 431,
     "metadata": {},
     "output_type": "execute_result"
    }
   ],
   "source": [
    "temp=df[df['offer_type']!='NoOffer'].groupby(['gender', 'offer_type'])[['offer_driven']].sum()\n",
    "temp['count']=df[df['offer_type']!='NoOffer'].groupby(['gender', 'offer_type'])[['person']].count()\n",
    "temp=temp.reset_index()\n",
    "temp['response_rate']=temp['offer_driven'].div(temp['count'],axis=0)\n",
    "\n",
    "temp=temp[['gender', 'offer_type','response_rate']].pivot_table(index='gender', columns='offer_type', values='response_rate')\n",
    "temp\n",
    "    "
   ]
  },
  {
   "cell_type": "code",
   "execution_count": 434,
   "metadata": {},
   "outputs": [
    {
     "data": {
      "image/png": "[encoded data removed]",
      "text/plain": [
       "<Figure size 360x720 with 3 Axes>"
      ]
     },
     "metadata": {
      "needs_background": "light"
     },
     "output_type": "display_data"
    }
   ],
   "source": [
    "figure, axes = plt.subplots(3,1, figsize=(5,10))\n",
    "for i,j in enumerate(['bogo', 'discount', 'informational']):\n",
    "    ax=temp[[j]].sort_values(by=[j], ascending=False).plot(kind='bar', alpha=0.8, rot=0, ax=axes[i]);\n",
    "    ax.set_ylabel('percentage')\n",
    "#     ax.set_title(j)\n",
    "plt.show()\n"
   ]
  },
  {
   "cell_type": "markdown",
   "metadata": {},
   "source": [
    "#### Q: Income"
   ]
  },
  {
   "cell_type": "code",
   "execution_count": 396,
   "metadata": {},
   "outputs": [
    {
     "data": {
      "text/html": [
       "<div>\n",
       "<style scoped>\n",
       "    .dataframe tbody tr th:only-of-type {\n",
       "        vertical-align: middle;\n",
       "    }\n",
       "\n",
       "    .dataframe tbody tr th {\n",
       "        vertical-align: top;\n",
       "    }\n",
       "\n",
       "    .dataframe thead th {\n",
       "        text-align: right;\n",
       "    }\n",
       "</style>\n",
       "<table border=\"1\" class=\"dataframe\">\n",
       "  <thead>\n",
       "    <tr style=\"text-align: right;\">\n",
       "      <th></th>\n",
       "      <th>gender</th>\n",
       "      <th>age</th>\n",
       "      <th>id</th>\n",
       "      <th>income</th>\n",
       "      <th>membership_days</th>\n",
       "    </tr>\n",
       "  </thead>\n",
       "  <tbody>\n",
       "    <tr>\n",
       "      <th>0</th>\n",
       "      <td>unknown</td>\n",
       "      <td>unknown</td>\n",
       "      <td>68be06ca386d4c31939f3a4f0e3dd783</td>\n",
       "      <td>unknown</td>\n",
       "      <td>1174.0</td>\n",
       "    </tr>\n",
       "    <tr>\n",
       "      <th>1</th>\n",
       "      <td>F</td>\n",
       "      <td>40-60</td>\n",
       "      <td>0610b486422d4921ae7d2bf64640c50b</td>\n",
       "      <td>&gt;100k</td>\n",
       "      <td>1021.0</td>\n",
       "    </tr>\n",
       "    <tr>\n",
       "      <th>2</th>\n",
       "      <td>unknown</td>\n",
       "      <td>unknown</td>\n",
       "      <td>38fe809add3b4fcf9315a9694bb96ff5</td>\n",
       "      <td>unknown</td>\n",
       "      <td>659.0</td>\n",
       "    </tr>\n",
       "    <tr>\n",
       "      <th>3</th>\n",
       "      <td>F</td>\n",
       "      <td>60-80</td>\n",
       "      <td>78afa995795e4d85b5d9ceeca43f5fef</td>\n",
       "      <td>80-100k</td>\n",
       "      <td>1088.0</td>\n",
       "    </tr>\n",
       "    <tr>\n",
       "      <th>4</th>\n",
       "      <td>unknown</td>\n",
       "      <td>unknown</td>\n",
       "      <td>a03223e636434f42ac4c3df47e8bac43</td>\n",
       "      <td>unknown</td>\n",
       "      <td>1001.0</td>\n",
       "    </tr>\n",
       "    <tr>\n",
       "      <th>5</th>\n",
       "      <td>M</td>\n",
       "      <td>60-80</td>\n",
       "      <td>e2127556f4f64592b11af22de27a7932</td>\n",
       "      <td>60-80k</td>\n",
       "      <td>736.0</td>\n",
       "    </tr>\n",
       "    <tr>\n",
       "      <th>6</th>\n",
       "      <td>unknown</td>\n",
       "      <td>unknown</td>\n",
       "      <td>8ec6ce2a7e7949b1bf142def7d0e0586</td>\n",
       "      <td>unknown</td>\n",
       "      <td>949.0</td>\n",
       "    </tr>\n",
       "    <tr>\n",
       "      <th>7</th>\n",
       "      <td>unknown</td>\n",
       "      <td>unknown</td>\n",
       "      <td>68617ca6246f4fbc85e91a2a49552598</td>\n",
       "      <td>unknown</td>\n",
       "      <td>942.0</td>\n",
       "    </tr>\n",
       "    <tr>\n",
       "      <th>8</th>\n",
       "      <td>M</td>\n",
       "      <td>60-80</td>\n",
       "      <td>389bc3fa690240e798340f5a15918d5c</td>\n",
       "      <td>40-60k</td>\n",
       "      <td>812.0</td>\n",
       "    </tr>\n",
       "    <tr>\n",
       "      <th>9</th>\n",
       "      <td>unknown</td>\n",
       "      <td>unknown</td>\n",
       "      <td>8974fc5686fe429db53ddde067b88302</td>\n",
       "      <td>unknown</td>\n",
       "      <td>1256.0</td>\n",
       "    </tr>\n",
       "  </tbody>\n",
       "</table>\n",
       "</div>"
      ],
      "text/plain": [
       "    gender      age                                id   income  \\\n",
       "0  unknown  unknown  68be06ca386d4c31939f3a4f0e3dd783  unknown   \n",
       "1        F    40-60  0610b486422d4921ae7d2bf64640c50b    >100k   \n",
       "2  unknown  unknown  38fe809add3b4fcf9315a9694bb96ff5  unknown   \n",
       "3        F    60-80  78afa995795e4d85b5d9ceeca43f5fef  80-100k   \n",
       "4  unknown  unknown  a03223e636434f42ac4c3df47e8bac43  unknown   \n",
       "5        M    60-80  e2127556f4f64592b11af22de27a7932   60-80k   \n",
       "6  unknown  unknown  8ec6ce2a7e7949b1bf142def7d0e0586  unknown   \n",
       "7  unknown  unknown  68617ca6246f4fbc85e91a2a49552598  unknown   \n",
       "8        M    60-80  389bc3fa690240e798340f5a15918d5c   40-60k   \n",
       "9  unknown  unknown  8974fc5686fe429db53ddde067b88302  unknown   \n",
       "\n",
       "   membership_days  \n",
       "0           1174.0  \n",
       "1           1021.0  \n",
       "2            659.0  \n",
       "3           1088.0  \n",
       "4           1001.0  \n",
       "5            736.0  \n",
       "6            949.0  \n",
       "7            942.0  \n",
       "8            812.0  \n",
       "9           1256.0  "
      ]
     },
     "execution_count": 396,
     "metadata": {},
     "output_type": "execute_result"
    }
   ],
   "source": [
    "profile.head(10)"
   ]
  },
  {
   "cell_type": "code",
   "execution_count": 439,
   "metadata": {},
   "outputs": [
    {
     "data": {
      "text/plain": [
       "Text(0, 0.5, 'total transaction amount')"
      ]
     },
     "execution_count": 439,
     "metadata": {},
     "output_type": "execute_result"
    },
    {
     "data": {
      "image/png": "[encoded data removed]",
      "text/plain": [
       "<Figure size 432x288 with 1 Axes>"
      ]
     },
     "metadata": {
      "needs_background": "light"
     },
     "output_type": "display_data"
    }
   ],
   "source": [
    "df[(df['offer_driven']==1) | (df['offer_irrelevant']==1)].groupby(\"income\")['amount'].sum().sort_values().plot(kind='bar',alpha=0.8, rot=0)\n",
    "# plt.title('Total transaction amount for people with different level of income');\n",
    "plt.ylabel('total transaction amount')"
   ]
  },
  {
   "cell_type": "code",
   "execution_count": 441,
   "metadata": {},
   "outputs": [
    {
     "data": {
      "text/plain": [
       "Text(0, 0.5, 'average transaction amount')"
      ]
     },
     "execution_count": 441,
     "metadata": {},
     "output_type": "execute_result"
    },
    {
     "data": {
      "image/png": "[encoded data removed]",
      "text/plain": [
       "<Figure size 432x288 with 1 Axes>"
      ]
     },
     "metadata": {
      "needs_background": "light"
     },
     "output_type": "display_data"
    }
   ],
   "source": [
    "# average amount of purchases driven by offer for different income levels\n",
    "df[(df['offer_driven']==1) | (df['offer_irrelevant']==1)].groupby(\"income\")['amount'].mean().sort_values().plot(kind='bar', alpha=0.8,rot=0)\n",
    "# plt.title('Average transaction amount for people with different level of income');\n",
    "plt.ylabel('average transaction amount')"
   ]
  },
  {
   "cell_type": "markdown",
   "metadata": {},
   "source": [
    "#### Q: which income level is most reponsive to offers? And what type of offers?"
   ]
  },
  {
   "cell_type": "markdown",
   "metadata": {},
   "source": [
    "##### How many percentages of purchases are driven by offers， for each income range?"
   ]
  },
  {
   "cell_type": "code",
   "execution_count": 442,
   "metadata": {},
   "outputs": [
    {
     "data": {
      "text/html": [
       "<div>\n",
       "<style scoped>\n",
       "    .dataframe tbody tr th:only-of-type {\n",
       "        vertical-align: middle;\n",
       "    }\n",
       "\n",
       "    .dataframe tbody tr th {\n",
       "        vertical-align: top;\n",
       "    }\n",
       "\n",
       "    .dataframe thead th {\n",
       "        text-align: right;\n",
       "    }\n",
       "</style>\n",
       "<table border=\"1\" class=\"dataframe\">\n",
       "  <thead>\n",
       "    <tr style=\"text-align: right;\">\n",
       "      <th></th>\n",
       "      <th>offer_driven</th>\n",
       "      <th>offer_irrelevant</th>\n",
       "      <th>event_count</th>\n",
       "      <th>n_purchase</th>\n",
       "      <th>perc_purchase_event</th>\n",
       "      <th>none_purchase</th>\n",
       "      <th>perc_nonepurchase_event</th>\n",
       "    </tr>\n",
       "    <tr>\n",
       "      <th>income</th>\n",
       "      <th></th>\n",
       "      <th></th>\n",
       "      <th></th>\n",
       "      <th></th>\n",
       "      <th></th>\n",
       "      <th></th>\n",
       "      <th></th>\n",
       "    </tr>\n",
       "  </thead>\n",
       "  <tbody>\n",
       "    <tr>\n",
       "      <th>40-60k</th>\n",
       "      <td>11569.0</td>\n",
       "      <td>33669.0</td>\n",
       "      <td>51955</td>\n",
       "      <td>45238.0</td>\n",
       "      <td>0.870715</td>\n",
       "      <td>6717.0</td>\n",
       "      <td>0.129285</td>\n",
       "    </tr>\n",
       "    <tr>\n",
       "      <th>60-80k</th>\n",
       "      <td>11576.0</td>\n",
       "      <td>29607.0</td>\n",
       "      <td>47378</td>\n",
       "      <td>41183.0</td>\n",
       "      <td>0.869243</td>\n",
       "      <td>6195.0</td>\n",
       "      <td>0.130757</td>\n",
       "    </tr>\n",
       "    <tr>\n",
       "      <th>80-100k</th>\n",
       "      <td>6202.0</td>\n",
       "      <td>12677.0</td>\n",
       "      <td>22226</td>\n",
       "      <td>18879.0</td>\n",
       "      <td>0.849411</td>\n",
       "      <td>3347.0</td>\n",
       "      <td>0.150589</td>\n",
       "    </tr>\n",
       "    <tr>\n",
       "      <th>&lt;40k</th>\n",
       "      <td>5285.0</td>\n",
       "      <td>17651.0</td>\n",
       "      <td>26372</td>\n",
       "      <td>22936.0</td>\n",
       "      <td>0.869710</td>\n",
       "      <td>3436.0</td>\n",
       "      <td>0.130290</td>\n",
       "    </tr>\n",
       "    <tr>\n",
       "      <th>&gt;100k</th>\n",
       "      <td>2073.0</td>\n",
       "      <td>5357.0</td>\n",
       "      <td>8845</td>\n",
       "      <td>7430.0</td>\n",
       "      <td>0.840023</td>\n",
       "      <td>1415.0</td>\n",
       "      <td>0.159977</td>\n",
       "    </tr>\n",
       "    <tr>\n",
       "      <th>unknown</th>\n",
       "      <td>4797.0</td>\n",
       "      <td>10430.0</td>\n",
       "      <td>19664</td>\n",
       "      <td>15227.0</td>\n",
       "      <td>0.774359</td>\n",
       "      <td>4437.0</td>\n",
       "      <td>0.225641</td>\n",
       "    </tr>\n",
       "  </tbody>\n",
       "</table>\n",
       "</div>"
      ],
      "text/plain": [
       "         offer_driven  offer_irrelevant  event_count  n_purchase  \\\n",
       "income                                                             \n",
       "40-60k        11569.0           33669.0        51955     45238.0   \n",
       "60-80k        11576.0           29607.0        47378     41183.0   \n",
       "80-100k        6202.0           12677.0        22226     18879.0   \n",
       "<40k           5285.0           17651.0        26372     22936.0   \n",
       ">100k          2073.0            5357.0         8845      7430.0   \n",
       "unknown        4797.0           10430.0        19664     15227.0   \n",
       "\n",
       "         perc_purchase_event  none_purchase  perc_nonepurchase_event  \n",
       "income                                                                \n",
       "40-60k              0.870715         6717.0                 0.129285  \n",
       "60-80k              0.869243         6195.0                 0.130757  \n",
       "80-100k             0.849411         3347.0                 0.150589  \n",
       "<40k                0.869710         3436.0                 0.130290  \n",
       ">100k               0.840023         1415.0                 0.159977  \n",
       "unknown             0.774359         4437.0                 0.225641  "
      ]
     },
     "execution_count": 442,
     "metadata": {},
     "output_type": "execute_result"
    }
   ],
   "source": [
    "temp=df.groupby('income')[['offer_driven', 'offer_irrelevant']].sum()\n",
    "temp['event_count']=df.groupby('income')[['offer_driven']].count()\n",
    "temp['n_purchase']=temp['offer_driven']+temp['offer_irrelevant']\n",
    "temp['perc_purchase_event']=temp['n_purchase']/temp['event_count']\n",
    "temp['none_purchase']=temp['event_count']-temp['n_purchase']\n",
    "temp['perc_nonepurchase_event']=temp['none_purchase']/temp['event_count']\n",
    "temp"
   ]
  },
  {
   "cell_type": "code",
   "execution_count": 444,
   "metadata": {},
   "outputs": [
    {
     "data": {
      "text/plain": [
       "Text(0, 0.5, 'percentage')"
      ]
     },
     "execution_count": 444,
     "metadata": {},
     "output_type": "execute_result"
    },
    {
     "data": {
      "image/png": "[encoded data removed]",
      "text/plain": [
       "<Figure size 432x288 with 1 Axes>"
      ]
     },
     "metadata": {
      "needs_background": "light"
     },
     "output_type": "display_data"
    }
   ],
   "source": [
    "# within all purchases, the percentages of offer-driven purchases and offer-irrelevant purchases are about the same for all genders.\n",
    "temp[['offer_driven','offer_irrelevant']].div(temp[['offer_driven','offer_irrelevant']].sum(axis=1), axis=0).sort_values(by=['offer_driven'], ascending=False).plot(kind='bar', alpha=0.8, rot=0);\n",
    "\n",
    "# plt.title('percentage of each purchase type');\n",
    "plt.ylabel('percentage')"
   ]
  },
  {
   "cell_type": "markdown",
   "metadata": {},
   "source": [
    "##### How many percentages of offer sent leads to an effective purchases?"
   ]
  },
  {
   "cell_type": "code",
   "execution_count": 445,
   "metadata": {},
   "outputs": [
    {
     "data": {
      "text/html": [
       "<div>\n",
       "<style scoped>\n",
       "    .dataframe tbody tr th:only-of-type {\n",
       "        vertical-align: middle;\n",
       "    }\n",
       "\n",
       "    .dataframe tbody tr th {\n",
       "        vertical-align: top;\n",
       "    }\n",
       "\n",
       "    .dataframe thead th {\n",
       "        text-align: right;\n",
       "    }\n",
       "</style>\n",
       "<table border=\"1\" class=\"dataframe\">\n",
       "  <thead>\n",
       "    <tr style=\"text-align: right;\">\n",
       "      <th>offer_type</th>\n",
       "      <th>bogo</th>\n",
       "      <th>discount</th>\n",
       "      <th>informational</th>\n",
       "    </tr>\n",
       "    <tr>\n",
       "      <th>income</th>\n",
       "      <th></th>\n",
       "      <th></th>\n",
       "      <th></th>\n",
       "    </tr>\n",
       "  </thead>\n",
       "  <tbody>\n",
       "    <tr>\n",
       "      <th>40-60k</th>\n",
       "      <td>0.619170</td>\n",
       "      <td>0.528075</td>\n",
       "      <td>0.417527</td>\n",
       "    </tr>\n",
       "    <tr>\n",
       "      <th>60-80k</th>\n",
       "      <td>0.596051</td>\n",
       "      <td>0.551689</td>\n",
       "      <td>0.398969</td>\n",
       "    </tr>\n",
       "    <tr>\n",
       "      <th>80-100k</th>\n",
       "      <td>0.551087</td>\n",
       "      <td>0.560387</td>\n",
       "      <td>0.335658</td>\n",
       "    </tr>\n",
       "    <tr>\n",
       "      <th>&lt;40k</th>\n",
       "      <td>0.626562</td>\n",
       "      <td>0.487395</td>\n",
       "      <td>0.402342</td>\n",
       "    </tr>\n",
       "    <tr>\n",
       "      <th>&gt;100k</th>\n",
       "      <td>0.513151</td>\n",
       "      <td>0.461419</td>\n",
       "      <td>0.210349</td>\n",
       "    </tr>\n",
       "    <tr>\n",
       "      <th>unknown</th>\n",
       "      <td>0.534884</td>\n",
       "      <td>0.507543</td>\n",
       "      <td>0.347804</td>\n",
       "    </tr>\n",
       "  </tbody>\n",
       "</table>\n",
       "</div>"
      ],
      "text/plain": [
       "offer_type      bogo  discount  informational\n",
       "income                                       \n",
       "40-60k      0.619170  0.528075       0.417527\n",
       "60-80k      0.596051  0.551689       0.398969\n",
       "80-100k     0.551087  0.560387       0.335658\n",
       "<40k        0.626562  0.487395       0.402342\n",
       ">100k       0.513151  0.461419       0.210349\n",
       "unknown     0.534884  0.507543       0.347804"
      ]
     },
     "execution_count": 445,
     "metadata": {},
     "output_type": "execute_result"
    }
   ],
   "source": [
    "temp=df[df['offer_type']!='NoOffer'].groupby(['income', 'offer_type'])[['offer_driven']].sum()\n",
    "temp['count']=df[df['offer_type']!='NoOffer'].groupby(['income', 'offer_type'])[['person']].count()\n",
    "temp=temp.reset_index()\n",
    "temp['response_rate']=temp['offer_driven'].div(temp['count'],axis=0)\n",
    "\n",
    "temp=temp[['income', 'offer_type','response_rate']].pivot_table(index='income', columns='offer_type', values='response_rate')\n",
    "temp\n",
    "    "
   ]
  },
  {
   "cell_type": "code",
   "execution_count": 446,
   "metadata": {},
   "outputs": [
    {
     "data": {
      "image/png": "[encoded data removed]",
      "text/plain": [
       "<Figure size 360x720 with 3 Axes>"
      ]
     },
     "metadata": {
      "needs_background": "light"
     },
     "output_type": "display_data"
    }
   ],
   "source": [
    "figure, axes = plt.subplots(3,1, figsize=(5,10))\n",
    "for i,j in enumerate(['bogo', 'discount', 'informational']):\n",
    "    ax=temp[[j]].sort_values(by=[j], ascending=False).plot(kind='bar', alpha=0.8, rot=0, ax=axes[i]);\n",
    "#     ax.set_title(j)\n",
    "    ax.set_ylabel('percentage')\n",
    "plt.show()"
   ]
  },
  {
   "cell_type": "code",
   "execution_count": 448,
   "metadata": {},
   "outputs": [
    {
     "data": {
      "text/plain": [
       "Text(0, 0.5, 'percentage')"
      ]
     },
     "execution_count": 448,
     "metadata": {},
     "output_type": "execute_result"
    },
    {
     "data": {
      "image/png": "[encoded data removed]",
      "text/plain": [
       "<Figure size 432x288 with 1 Axes>"
      ]
     },
     "metadata": {
      "needs_background": "light"
     },
     "output_type": "display_data"
    }
   ],
   "source": [
    "temp=df[df['offer_driven']==1].groupby(['income', 'offer_type'])[['offer_type']].count().rename(columns={\"offer_type\":'count'}).reset_index()\n",
    "temp=temp.pivot_table(index='income', columns='offer_type', values='count')\n",
    "temp.div(temp.sum(axis=1), axis=0).sort_values('bogo', ascending=False).plot(kind='bar', alpha=0.8, rot=0);\n",
    "plt.legend(bbox_to_anchor=(1.0, 1.03))\n",
    "plt.ylabel('percentage')"
   ]
  },
  {
   "cell_type": "markdown",
   "metadata": {},
   "source": [
    "##### which offer id?"
   ]
  },
  {
   "cell_type": "code",
   "execution_count": 449,
   "metadata": {},
   "outputs": [
    {
     "data": {
      "text/html": [
       "<div>\n",
       "<style scoped>\n",
       "    .dataframe tbody tr th:only-of-type {\n",
       "        vertical-align: middle;\n",
       "    }\n",
       "\n",
       "    .dataframe tbody tr th {\n",
       "        vertical-align: top;\n",
       "    }\n",
       "\n",
       "    .dataframe thead th {\n",
       "        text-align: right;\n",
       "    }\n",
       "</style>\n",
       "<table border=\"1\" class=\"dataframe\">\n",
       "  <thead>\n",
       "    <tr style=\"text-align: right;\">\n",
       "      <th>offer id</th>\n",
       "      <th>bogo_10.0_120.0</th>\n",
       "      <th>bogo_10.0_168.0</th>\n",
       "      <th>bogo_5.0_120.0</th>\n",
       "      <th>bogo_5.0_168.0</th>\n",
       "      <th>discount_10.0_168.0</th>\n",
       "      <th>discount_10.0_240.0</th>\n",
       "      <th>discount_20.0_240.0</th>\n",
       "      <th>discount_7.0_168.0</th>\n",
       "      <th>informational_0.0_72.0</th>\n",
       "      <th>informational_0.0_96.0</th>\n",
       "    </tr>\n",
       "    <tr>\n",
       "      <th>income</th>\n",
       "      <th></th>\n",
       "      <th></th>\n",
       "      <th></th>\n",
       "      <th></th>\n",
       "      <th></th>\n",
       "      <th></th>\n",
       "      <th></th>\n",
       "      <th></th>\n",
       "      <th></th>\n",
       "      <th></th>\n",
       "    </tr>\n",
       "  </thead>\n",
       "  <tbody>\n",
       "    <tr>\n",
       "      <th>40-60k</th>\n",
       "      <td>0.700616</td>\n",
       "      <td>0.731753</td>\n",
       "      <td>0.690608</td>\n",
       "      <td>0.350778</td>\n",
       "      <td>0.355805</td>\n",
       "      <td>0.785414</td>\n",
       "      <td>0.215464</td>\n",
       "      <td>0.747715</td>\n",
       "      <td>0.569806</td>\n",
       "      <td>0.260721</td>\n",
       "    </tr>\n",
       "    <tr>\n",
       "      <th>60-80k</th>\n",
       "      <td>0.666513</td>\n",
       "      <td>0.645622</td>\n",
       "      <td>0.657399</td>\n",
       "      <td>0.414419</td>\n",
       "      <td>0.416859</td>\n",
       "      <td>0.770397</td>\n",
       "      <td>0.276995</td>\n",
       "      <td>0.728435</td>\n",
       "      <td>0.494433</td>\n",
       "      <td>0.309013</td>\n",
       "    </tr>\n",
       "    <tr>\n",
       "      <th>80-100k</th>\n",
       "      <td>0.612597</td>\n",
       "      <td>0.523882</td>\n",
       "      <td>0.618852</td>\n",
       "      <td>0.454694</td>\n",
       "      <td>0.465823</td>\n",
       "      <td>0.730544</td>\n",
       "      <td>0.346091</td>\n",
       "      <td>0.698553</td>\n",
       "      <td>0.332765</td>\n",
       "      <td>0.338681</td>\n",
       "    </tr>\n",
       "    <tr>\n",
       "      <th>&lt;40k</th>\n",
       "      <td>0.730256</td>\n",
       "      <td>0.795000</td>\n",
       "      <td>0.715988</td>\n",
       "      <td>0.299363</td>\n",
       "      <td>0.260914</td>\n",
       "      <td>0.790099</td>\n",
       "      <td>0.126357</td>\n",
       "      <td>0.760116</td>\n",
       "      <td>0.605405</td>\n",
       "      <td>0.205451</td>\n",
       "    </tr>\n",
       "    <tr>\n",
       "      <th>&gt;100k</th>\n",
       "      <td>0.616000</td>\n",
       "      <td>0.507338</td>\n",
       "      <td>0.655462</td>\n",
       "      <td>0.273663</td>\n",
       "      <td>0.256410</td>\n",
       "      <td>0.776210</td>\n",
       "      <td>0.140127</td>\n",
       "      <td>0.678337</td>\n",
       "      <td>0.249453</td>\n",
       "      <td>0.168981</td>\n",
       "    </tr>\n",
       "    <tr>\n",
       "      <th>unknown</th>\n",
       "      <td>0.604396</td>\n",
       "      <td>0.536885</td>\n",
       "      <td>0.594675</td>\n",
       "      <td>0.403770</td>\n",
       "      <td>0.398010</td>\n",
       "      <td>0.685744</td>\n",
       "      <td>0.284199</td>\n",
       "      <td>0.656687</td>\n",
       "      <td>0.358974</td>\n",
       "      <td>0.336458</td>\n",
       "    </tr>\n",
       "  </tbody>\n",
       "</table>\n",
       "</div>"
      ],
      "text/plain": [
       "offer id  bogo_10.0_120.0  bogo_10.0_168.0  bogo_5.0_120.0  bogo_5.0_168.0  \\\n",
       "income                                                                       \n",
       "40-60k           0.700616         0.731753        0.690608        0.350778   \n",
       "60-80k           0.666513         0.645622        0.657399        0.414419   \n",
       "80-100k          0.612597         0.523882        0.618852        0.454694   \n",
       "<40k             0.730256         0.795000        0.715988        0.299363   \n",
       ">100k            0.616000         0.507338        0.655462        0.273663   \n",
       "unknown          0.604396         0.536885        0.594675        0.403770   \n",
       "\n",
       "offer id  discount_10.0_168.0  discount_10.0_240.0  discount_20.0_240.0  \\\n",
       "income                                                                    \n",
       "40-60k               0.355805             0.785414             0.215464   \n",
       "60-80k               0.416859             0.770397             0.276995   \n",
       "80-100k              0.465823             0.730544             0.346091   \n",
       "<40k                 0.260914             0.790099             0.126357   \n",
       ">100k                0.256410             0.776210             0.140127   \n",
       "unknown              0.398010             0.685744             0.284199   \n",
       "\n",
       "offer id  discount_7.0_168.0  informational_0.0_72.0  informational_0.0_96.0  \n",
       "income                                                                        \n",
       "40-60k              0.747715                0.569806                0.260721  \n",
       "60-80k              0.728435                0.494433                0.309013  \n",
       "80-100k             0.698553                0.332765                0.338681  \n",
       "<40k                0.760116                0.605405                0.205451  \n",
       ">100k               0.678337                0.249453                0.168981  \n",
       "unknown             0.656687                0.358974                0.336458  "
      ]
     },
     "execution_count": 449,
     "metadata": {},
     "output_type": "execute_result"
    }
   ],
   "source": [
    "temp=df[df['offer_type']!='NoOffer'].groupby(['income', 'offer id'])[['offer_driven']].sum()\n",
    "temp['count']=df[df['offer_type']!='NoOffer'].groupby(['income', 'offer id'])[['person']].count()\n",
    "temp=temp.reset_index()\n",
    "temp['response_rate']=temp['offer_driven'].div(temp['count'],axis=0)\n",
    "\n",
    "temp=temp[['income', 'offer id','response_rate']].pivot_table(index='income', columns='offer id', values='response_rate')\n",
    "temp\n",
    "    "
   ]
  },
  {
   "cell_type": "code",
   "execution_count": 405,
   "metadata": {},
   "outputs": [
    {
     "data": {
      "image/png": "[encoded data removed]",
      "text/plain": [
       "<Figure size 360x3600 with 10 Axes>"
      ]
     },
     "metadata": {
      "needs_background": "light"
     },
     "output_type": "display_data"
    }
   ],
   "source": [
    "figure, axes = plt.subplots(temp.shape[1],1, figsize=(5,50))\n",
    "for i,j in enumerate(temp.columns.to_list()):\n",
    "    ax=temp[[j]].sort_values(by=[j], ascending=False).plot(kind='bar', alpha=0.8, rot=0, ax=axes[i], legend=False);\n",
    "    ax.set_title(j)\n",
    "plt.show()"
   ]
  },
  {
   "cell_type": "code",
   "execution_count": 450,
   "metadata": {},
   "outputs": [
    {
     "data": {
      "text/plain": [
       "Text(0, 0.5, 'percentage')"
      ]
     },
     "execution_count": 450,
     "metadata": {},
     "output_type": "execute_result"
    },
    {
     "data": {
      "image/png": "[encoded data removed]",
      "text/plain": [
       "<Figure size 432x288 with 1 Axes>"
      ]
     },
     "metadata": {
      "needs_background": "light"
     },
     "output_type": "display_data"
    }
   ],
   "source": [
    "temp=df[df['offer_driven']==1].groupby(['income', 'offer id'])[['offer id']].count().rename(columns={\"offer id\":'count'}).reset_index()\n",
    "temp=temp.pivot_table(index='income', columns='offer id', values='count')\n",
    "temp=temp.div(temp.sum(axis=1), axis=0)\n",
    "temp.plot(kind='bar', alpha=0.8, rot=0);\n",
    "plt.legend(bbox_to_anchor=(1.0, 1.03))\n",
    "plt.ylabel('percentage')"
   ]
  },
  {
   "cell_type": "markdown",
   "metadata": {},
   "source": [
    "#### Q: membership_days"
   ]
  },
  {
   "cell_type": "code",
   "execution_count": 407,
   "metadata": {},
   "outputs": [
    {
     "data": {
      "image/png": "[encoded data removed]",
      "text/plain": [
       "<Figure size 432x288 with 1 Axes>"
      ]
     },
     "metadata": {
      "needs_background": "light"
     },
     "output_type": "display_data"
    }
   ],
   "source": [
    "df[(df['offer_driven']==1)].groupby('offer_type')['membership_days'].plot(kind='hist', alpha=0.3, legend=True);"
   ]
  },
  {
   "cell_type": "markdown",
   "metadata": {},
   "source": [
    "#### Q： Age"
   ]
  },
  {
   "cell_type": "code",
   "execution_count": 408,
   "metadata": {},
   "outputs": [
    {
     "data": {
      "text/html": [
       "<div>\n",
       "<style scoped>\n",
       "    .dataframe tbody tr th:only-of-type {\n",
       "        vertical-align: middle;\n",
       "    }\n",
       "\n",
       "    .dataframe tbody tr th {\n",
       "        vertical-align: top;\n",
       "    }\n",
       "\n",
       "    .dataframe thead th {\n",
       "        text-align: right;\n",
       "    }\n",
       "</style>\n",
       "<table border=\"1\" class=\"dataframe\">\n",
       "  <thead>\n",
       "    <tr style=\"text-align: right;\">\n",
       "      <th></th>\n",
       "      <th>offer_driven</th>\n",
       "      <th>offer_irrelevant</th>\n",
       "      <th>event_count</th>\n",
       "      <th>n_purchase</th>\n",
       "      <th>perc_purchase_event</th>\n",
       "      <th>none_purchase</th>\n",
       "      <th>perc_nonepurchase_event</th>\n",
       "    </tr>\n",
       "    <tr>\n",
       "      <th>age</th>\n",
       "      <th></th>\n",
       "      <th></th>\n",
       "      <th></th>\n",
       "      <th></th>\n",
       "      <th></th>\n",
       "      <th></th>\n",
       "      <th></th>\n",
       "    </tr>\n",
       "  </thead>\n",
       "  <tbody>\n",
       "    <tr>\n",
       "      <th>20-40</th>\n",
       "      <td>7614.0</td>\n",
       "      <td>24357.0</td>\n",
       "      <td>36279</td>\n",
       "      <td>31971.0</td>\n",
       "      <td>0.881254</td>\n",
       "      <td>4308.0</td>\n",
       "      <td>0.118746</td>\n",
       "    </tr>\n",
       "    <tr>\n",
       "      <th>40-60</th>\n",
       "      <td>14771.0</td>\n",
       "      <td>37513.0</td>\n",
       "      <td>60800</td>\n",
       "      <td>52284.0</td>\n",
       "      <td>0.859934</td>\n",
       "      <td>8516.0</td>\n",
       "      <td>0.140066</td>\n",
       "    </tr>\n",
       "    <tr>\n",
       "      <th>60-80</th>\n",
       "      <td>11054.0</td>\n",
       "      <td>28110.0</td>\n",
       "      <td>45552</td>\n",
       "      <td>39164.0</td>\n",
       "      <td>0.859765</td>\n",
       "      <td>6388.0</td>\n",
       "      <td>0.140235</td>\n",
       "    </tr>\n",
       "    <tr>\n",
       "      <th>&lt;20</th>\n",
       "      <td>853.0</td>\n",
       "      <td>2781.0</td>\n",
       "      <td>4148</td>\n",
       "      <td>3634.0</td>\n",
       "      <td>0.876085</td>\n",
       "      <td>514.0</td>\n",
       "      <td>0.123915</td>\n",
       "    </tr>\n",
       "    <tr>\n",
       "      <th>&gt;80</th>\n",
       "      <td>2413.0</td>\n",
       "      <td>6200.0</td>\n",
       "      <td>9997</td>\n",
       "      <td>8613.0</td>\n",
       "      <td>0.861558</td>\n",
       "      <td>1384.0</td>\n",
       "      <td>0.138442</td>\n",
       "    </tr>\n",
       "    <tr>\n",
       "      <th>unknown</th>\n",
       "      <td>4797.0</td>\n",
       "      <td>10430.0</td>\n",
       "      <td>19664</td>\n",
       "      <td>15227.0</td>\n",
       "      <td>0.774359</td>\n",
       "      <td>4437.0</td>\n",
       "      <td>0.225641</td>\n",
       "    </tr>\n",
       "  </tbody>\n",
       "</table>\n",
       "</div>"
      ],
      "text/plain": [
       "         offer_driven  offer_irrelevant  event_count  n_purchase  \\\n",
       "age                                                                \n",
       "20-40          7614.0           24357.0        36279     31971.0   \n",
       "40-60         14771.0           37513.0        60800     52284.0   \n",
       "60-80         11054.0           28110.0        45552     39164.0   \n",
       "<20             853.0            2781.0         4148      3634.0   \n",
       ">80            2413.0            6200.0         9997      8613.0   \n",
       "unknown        4797.0           10430.0        19664     15227.0   \n",
       "\n",
       "         perc_purchase_event  none_purchase  perc_nonepurchase_event  \n",
       "age                                                                   \n",
       "20-40               0.881254         4308.0                 0.118746  \n",
       "40-60               0.859934         8516.0                 0.140066  \n",
       "60-80               0.859765         6388.0                 0.140235  \n",
       "<20                 0.876085          514.0                 0.123915  \n",
       ">80                 0.861558         1384.0                 0.138442  \n",
       "unknown             0.774359         4437.0                 0.225641  "
      ]
     },
     "execution_count": 408,
     "metadata": {},
     "output_type": "execute_result"
    }
   ],
   "source": [
    "temp=df.groupby('age')[['offer_driven', 'offer_irrelevant']].sum()\n",
    "temp['event_count']=df.groupby('age')[['offer_driven']].count()\n",
    "temp['n_purchase']=temp['offer_driven']+temp['offer_irrelevant']\n",
    "temp['perc_purchase_event']=temp['n_purchase']/temp['event_count']\n",
    "temp['none_purchase']=temp['event_count']-temp['n_purchase']\n",
    "temp['perc_nonepurchase_event']=temp['none_purchase']/temp['event_count']\n",
    "temp"
   ]
  },
  {
   "cell_type": "code",
   "execution_count": 409,
   "metadata": {},
   "outputs": [
    {
     "data": {
      "image/png": "[encoded data removed]",
      "text/plain": [
       "<Figure size 432x288 with 1 Axes>"
      ]
     },
     "metadata": {
      "needs_background": "light"
     },
     "output_type": "display_data"
    }
   ],
   "source": [
    "# within all purchases, the percentages of offer-driven purchases and offer-irrelevant purchases are about the same for all genders.\n",
    "temp[['offer_driven','offer_irrelevant']].div(temp[['offer_driven','offer_irrelevant']].sum(axis=1), axis=0).sort_values(by=['offer_driven'], ascending=False).sort_values('offer_driven', ascending=False).plot(kind='bar', alpha=0.8, rot=0);\n",
    "\n",
    "plt.title('percentage of each purchase type');"
   ]
  },
  {
   "cell_type": "code",
   "execution_count": 410,
   "metadata": {},
   "outputs": [
    {
     "data": {
      "text/html": [
       "<div>\n",
       "<style scoped>\n",
       "    .dataframe tbody tr th:only-of-type {\n",
       "        vertical-align: middle;\n",
       "    }\n",
       "\n",
       "    .dataframe tbody tr th {\n",
       "        vertical-align: top;\n",
       "    }\n",
       "\n",
       "    .dataframe thead th {\n",
       "        text-align: right;\n",
       "    }\n",
       "</style>\n",
       "<table border=\"1\" class=\"dataframe\">\n",
       "  <thead>\n",
       "    <tr style=\"text-align: right;\">\n",
       "      <th>offer_type</th>\n",
       "      <th>bogo</th>\n",
       "      <th>discount</th>\n",
       "      <th>informational</th>\n",
       "    </tr>\n",
       "    <tr>\n",
       "      <th>age</th>\n",
       "      <th></th>\n",
       "      <th></th>\n",
       "      <th></th>\n",
       "    </tr>\n",
       "  </thead>\n",
       "  <tbody>\n",
       "    <tr>\n",
       "      <th>20-40</th>\n",
       "      <td>0.633435</td>\n",
       "      <td>0.519407</td>\n",
       "      <td>0.412886</td>\n",
       "    </tr>\n",
       "    <tr>\n",
       "      <th>40-60</th>\n",
       "      <td>0.587320</td>\n",
       "      <td>0.535609</td>\n",
       "      <td>0.382892</td>\n",
       "    </tr>\n",
       "    <tr>\n",
       "      <th>60-80</th>\n",
       "      <td>0.575930</td>\n",
       "      <td>0.533879</td>\n",
       "      <td>0.359821</td>\n",
       "    </tr>\n",
       "    <tr>\n",
       "      <th>&lt;20</th>\n",
       "      <td>0.636095</td>\n",
       "      <td>0.488095</td>\n",
       "      <td>0.441558</td>\n",
       "    </tr>\n",
       "    <tr>\n",
       "      <th>&gt;80</th>\n",
       "      <td>0.584492</td>\n",
       "      <td>0.532644</td>\n",
       "      <td>0.362380</td>\n",
       "    </tr>\n",
       "    <tr>\n",
       "      <th>unknown</th>\n",
       "      <td>0.534884</td>\n",
       "      <td>0.507543</td>\n",
       "      <td>0.347804</td>\n",
       "    </tr>\n",
       "  </tbody>\n",
       "</table>\n",
       "</div>"
      ],
      "text/plain": [
       "offer_type      bogo  discount  informational\n",
       "age                                          \n",
       "20-40       0.633435  0.519407       0.412886\n",
       "40-60       0.587320  0.535609       0.382892\n",
       "60-80       0.575930  0.533879       0.359821\n",
       "<20         0.636095  0.488095       0.441558\n",
       ">80         0.584492  0.532644       0.362380\n",
       "unknown     0.534884  0.507543       0.347804"
      ]
     },
     "execution_count": 410,
     "metadata": {},
     "output_type": "execute_result"
    }
   ],
   "source": [
    "temp=df[df['offer_type']!='NoOffer'].groupby(['age', 'offer_type'])[['offer_driven']].sum()\n",
    "temp['count']=df[df['offer_type']!='NoOffer'].groupby(['age', 'offer_type'])[['person']].count()\n",
    "temp=temp.reset_index()\n",
    "temp['response_rate']=temp['offer_driven'].div(temp['count'],axis=0)\n",
    "\n",
    "temp=temp[['age', 'offer_type','response_rate']].pivot_table(index='age', columns='offer_type', values='response_rate')\n",
    "temp\n",
    "    "
   ]
  },
  {
   "cell_type": "code",
   "execution_count": 411,
   "metadata": {},
   "outputs": [
    {
     "data": {
      "image/png": "[encoded data removed]",
      "text/plain": [
       "<Figure size 360x720 with 3 Axes>"
      ]
     },
     "metadata": {
      "needs_background": "light"
     },
     "output_type": "display_data"
    }
   ],
   "source": [
    "figure, axes = plt.subplots(3,1, figsize=(5,10))\n",
    "for i,j in enumerate(['bogo', 'discount', 'informational']):\n",
    "    ax=temp[[j]].sort_values(by=[j], ascending=False).plot(kind='bar', alpha=0.8, rot=0, ax=axes[i]);\n",
    "#     ax.set_title(j)\n",
    "plt.show()"
   ]
  },
  {
   "cell_type": "markdown",
   "metadata": {},
   "source": [
    "### Offer Type"
   ]
  },
  {
   "cell_type": "markdown",
   "metadata": {},
   "source": [
    "#### Q: number of each offer / offer type sent?"
   ]
  },
  {
   "cell_type": "code",
   "execution_count": 412,
   "metadata": {},
   "outputs": [
    {
     "data": {
      "image/png": "[encoded data removed]",
      "text/plain": [
       "<Figure size 432x288 with 1 Axes>"
      ]
     },
     "metadata": {
      "needs_background": "light"
     },
     "output_type": "display_data"
    }
   ],
   "source": [
    "# total transaction amount each offer\n",
    "df[df['offer id']!='unknown'].groupby(\"offer_type\")['amount'].count().sort_values().plot(kind='bar', alpha=0.8, rot=0);\n",
    "plt.title('Number of offers sent');"
   ]
  },
  {
   "cell_type": "code",
   "execution_count": 413,
   "metadata": {},
   "outputs": [
    {
     "data": {
      "image/png": "[encoded data removed]",
      "text/plain": [
       "<Figure size 432x288 with 1 Axes>"
      ]
     },
     "metadata": {
      "needs_background": "light"
     },
     "output_type": "display_data"
    }
   ],
   "source": [
    "# total transaction amount each offer\n",
    "df[df['offer id']!='unknown'].groupby(\"offer id\")['amount'].count().sort_values().plot(kind='barh', alpha=0.8, rot=0);\n",
    "plt.title('Number of offers sent');"
   ]
  },
  {
   "cell_type": "markdown",
   "metadata": {},
   "source": [
    "#### Q: Percentage of each offer (offer_type) sent that transit to succussful purchases?"
   ]
  },
  {
   "cell_type": "code",
   "execution_count": 414,
   "metadata": {},
   "outputs": [
    {
     "data": {
      "image/png": "[encoded data removed]",
      "text/plain": [
       "<Figure size 432x288 with 1 Axes>"
      ]
     },
     "metadata": {
      "needs_background": "light"
     },
     "output_type": "display_data"
    }
   ],
   "source": [
    "temp=df[df['offer_type']!='NoOffer'].groupby('offer_type')[['amount']].count().rename(columns={'amount':'event_cnt'})\n",
    "temp['purchase_cnt']=df[(df['offer_driven']==1)].groupby('offer_type')[['event']].count()\n",
    "temp['response_rate']=temp['purchase_cnt']/temp['event_cnt']\n",
    "temp['response_rate'].plot(kind='bar', alpha=0.8, rot=0);\n",
    "plt.title('percentage of offer leads to purchases');"
   ]
  },
  {
   "cell_type": "code",
   "execution_count": 415,
   "metadata": {},
   "outputs": [
    {
     "data": {
      "image/png": "[encoded data removed]",
      "text/plain": [
       "<Figure size 432x288 with 1 Axes>"
      ]
     },
     "metadata": {
      "needs_background": "light"
     },
     "output_type": "display_data"
    }
   ],
   "source": [
    "temp=df[df['offer id']!='unknown'].groupby('offer id')[['amount']].count().rename(columns={'amount':'event_cnt'})\n",
    "temp['purchase_cnt']=df[(df['offer_driven']==1)].groupby('offer id')[['amount']].count()\n",
    "temp['response_rate']=temp['purchase_cnt']/temp['event_cnt']\n",
    "temp['response_rate'].sort_values().plot(kind='barh', alpha=0.8);\n",
    "plt.title('percentage of offer leads to purchases');"
   ]
  },
  {
   "cell_type": "markdown",
   "metadata": {},
   "source": [
    "#### Q: does percentage of successful transition has anything to do with number of  channels the promotion was sent?"
   ]
  },
  {
   "cell_type": "code",
   "execution_count": 416,
   "metadata": {},
   "outputs": [
    {
     "data": {
      "image/png": "[encoded data removed]",
      "text/plain": [
       "<Figure size 432x288 with 1 Axes>"
      ]
     },
     "metadata": {
      "needs_background": "light"
     },
     "output_type": "display_data"
    }
   ],
   "source": [
    "temp=df[df['offer id']!='unknown'].groupby('channels')[['amount']].count().rename(columns={'amount':'event_cnt'})\n",
    "temp['purchase_cnt']=df[(df['offer_driven']==1)].groupby('channels')[['amount']].count()\n",
    "temp['response_rate']=temp['purchase_cnt']/temp['event_cnt']\n",
    "temp['response_rate'].sort_values().plot(kind='bar', alpha=0.8, rot=0);\n",
    "plt.title('percentage of offer leads to purchases');"
   ]
  },
  {
   "cell_type": "markdown",
   "metadata": {},
   "source": [
    "#### Q: does percentage of successful transition has anything to do with number of channels the promotion was sent?"
   ]
  },
  {
   "cell_type": "code",
   "execution_count": 417,
   "metadata": {},
   "outputs": [
    {
     "data": {
      "image/png": "[encoded data removed]",
      "text/plain": [
       "<Figure size 432x288 with 1 Axes>"
      ]
     },
     "metadata": {
      "needs_background": "light"
     },
     "output_type": "display_data"
    }
   ],
   "source": [
    "temp=df[df['offer id']!='unknown'].groupby('difficulty')[['amount']].count().rename(columns={'amount':'event_cnt'})\n",
    "temp['purchase_cnt']=df[(df['offer_driven']==1)].groupby('difficulty')[['amount']].count()\n",
    "temp['response_rate']=temp['purchase_cnt']/temp['event_cnt']\n",
    "temp['response_rate'].plot(kind='bar', alpha=0.8, rot=0);\n",
    "plt.title('percentage of offer leads to purchases');"
   ]
  },
  {
   "cell_type": "code",
   "execution_count": 418,
   "metadata": {},
   "outputs": [
    {
     "data": {
      "image/png": "[encoded data removed]",
      "text/plain": [
       "<Figure size 432x288 with 1 Axes>"
      ]
     },
     "metadata": {
      "needs_background": "light"
     },
     "output_type": "display_data"
    }
   ],
   "source": [
    "temp=df[df['offer id']!='unknown'].groupby('reward')[['amount']].count().rename(columns={'amount':'event_cnt'})\n",
    "temp['purchase_cnt']=df[(df['offer_driven']==1)].groupby('reward')[['amount']].count()\n",
    "temp['response_rate']=temp['purchase_cnt']/temp['event_cnt']\n",
    "temp['response_rate'].plot(kind='bar', alpha=0.8, rot=0);\n",
    "plt.title('percentage of offer leads to purchases');"
   ]
  },
  {
   "cell_type": "markdown",
   "metadata": {},
   "source": [
    "#### Q: Total sales amount associated with each offer"
   ]
  },
  {
   "cell_type": "code",
   "execution_count": 419,
   "metadata": {},
   "outputs": [
    {
     "data": {
      "image/png": "[encoded data removed]",
      "text/plain": [
       "<Figure size 432x288 with 1 Axes>"
      ]
     },
     "metadata": {
      "needs_background": "light"
     },
     "output_type": "display_data"
    }
   ],
   "source": [
    "# total transaction amount each offer\n",
    "df[df['offer id']!='unknown'].groupby(\"offer id\")['amount'].sum().sort_values().plot(kind='barh');\n",
    "plt.title('total sales amount for each offer');"
   ]
  },
  {
   "cell_type": "markdown",
   "metadata": {},
   "source": [
    "#### Q: average transaction amount each offer"
   ]
  },
  {
   "cell_type": "code",
   "execution_count": 420,
   "metadata": {},
   "outputs": [
    {
     "data": {
      "image/png": "[encoded data removed]",
      "text/plain": [
       "<Figure size 432x288 with 1 Axes>"
      ]
     },
     "metadata": {
      "needs_background": "light"
     },
     "output_type": "display_data"
    }
   ],
   "source": [
    "df[df['offer id']!='unknown'].groupby(\"offer id\")['amount'].mean().sort_values().plot(kind='barh')\n",
    "plt.title('average sales amount for each offer');"
   ]
  },
  {
   "cell_type": "code",
   "execution_count": 421,
   "metadata": {},
   "outputs": [
    {
     "data": {
      "text/plain": [
       "<matplotlib.axes._subplots.AxesSubplot at 0x172d8efd0>"
      ]
     },
     "execution_count": 421,
     "metadata": {},
     "output_type": "execute_result"
    },
    {
     "data": {
      "image/png": "[encoded data removed]",
      "text/plain": [
       "<Figure size 432x288 with 1 Axes>"
      ]
     },
     "metadata": {
      "needs_background": "light"
     },
     "output_type": "display_data"
    }
   ],
   "source": [
    "# total transaction amount each offer type\n",
    "\n",
    "df[df['offer id']!='unknown'].groupby(\"offer_type\")['amount'].sum().plot(kind='bar', alpha=0.8, rot=0)"
   ]
  },
  {
   "cell_type": "code",
   "execution_count": 422,
   "metadata": {},
   "outputs": [
    {
     "data": {
      "text/plain": [
       "<matplotlib.axes._subplots.AxesSubplot at 0x1381cf5d0>"
      ]
     },
     "execution_count": 422,
     "metadata": {},
     "output_type": "execute_result"
    },
    {
     "data": {
      "image/png": "[encoded data removed]",
      "text/plain": [
       "<Figure size 432x288 with 1 Axes>"
      ]
     },
     "metadata": {
      "needs_background": "light"
     },
     "output_type": "display_data"
    }
   ],
   "source": [
    "# average purchase amount each offer type\n",
    "df[df['offer id']!='unknown'].groupby(\"offer_type\")['amount'].mean().plot(kind='bar', alpha=0.8, rot=0)\n"
   ]
  },
  {
   "cell_type": "code",
   "execution_count": 423,
   "metadata": {},
   "outputs": [
    {
     "data": {
      "text/plain": [
       "income\n",
       "40-60k      8.528121\n",
       "60-80k     13.350249\n",
       "80-100k    22.644176\n",
       "<40k        5.762563\n",
       ">100k      24.292414\n",
       "unknown     2.610200\n",
       "Name: amount, dtype: float64"
      ]
     },
     "execution_count": 423,
     "metadata": {},
     "output_type": "execute_result"
    }
   ],
   "source": [
    "df[df['offer_irrelevant']==1].groupby(\"income\")['amount'].mean()"
   ]
  },
  {
   "cell_type": "markdown",
   "metadata": {},
   "source": [
    "# Output to a new Dataset"
   ]
  },
  {
   "cell_type": "code",
   "execution_count": 424,
   "metadata": {},
   "outputs": [],
   "source": [
    "df.to_json(\"data/Cleaned_Dataset.json\", orient='records') "
   ]
  },
  {
   "cell_type": "code",
   "execution_count": null,
   "metadata": {},
   "outputs": [],
   "source": []
  }
 ],
 "metadata": {
  "kernelspec": {
   "display_name": "Python 3",
   "language": "python",
   "name": "python3"
  },
  "language_info": {
   "codemirror_mode": {
    "name": "ipython",
    "version": 3
   },
   "file_extension": ".py",
   "mimetype": "text/x-python",
   "name": "python",
   "nbconvert_exporter": "python",
   "pygments_lexer": "ipython3",
   "version": "3.7.4"
  }
 },
 "nbformat": 4,
 "nbformat_minor": 2
}
