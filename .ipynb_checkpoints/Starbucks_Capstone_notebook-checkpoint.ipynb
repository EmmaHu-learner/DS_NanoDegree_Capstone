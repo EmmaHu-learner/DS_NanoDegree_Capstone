{
 "cells": [
  {
   "cell_type": "markdown",
   "metadata": {},
   "source": [
    "# Starbucks Capstone Challenge\n",
    "\n",
    "### Introduction\n",
    "\n",
    "This data set contains simulated data that mimics customer behavior on the Starbucks rewards mobile app. Once every few days, Starbucks sends out an offer to users of the mobile app. An offer can be merely an advertisement for a drink or an actual offer such as a discount or BOGO (buy one get one free). Some users might not receive any offer during certain weeks. \n",
    "\n",
    "Not all users receive the same offer, and that is the challenge to solve with this data set.\n",
    "\n",
    "Your task is to combine transaction, demographic and offer data to determine which demographic groups respond best to which offer type. This data set is a simplified version of the real Starbucks app because the underlying simulator only has one product whereas Starbucks actually sells dozens of products.\n",
    "\n",
    "Every offer has a validity period before the offer expires. As an example, a BOGO offer might be valid for only 5 days. You'll see in the data set that informational offers have a validity period even though these ads are merely providing information about a product; for example, if an informational offer has 7 days of validity, you can assume the customer is feeling the influence of the offer for 7 days after receiving the advertisement.\n",
    "\n",
    "You'll be given transactional data showing user purchases made on the app including the timestamp of purchase and the amount of money spent on a purchase. This transactional data also has a record for each offer that a user receives as well as a record for when a user actually views the offer. There are also records for when a user completes an offer. \n",
    "\n",
    "Keep in mind as well that someone using the app might make a purchase through the app without having received an offer or seen an offer.\n",
    "\n",
    "### Example\n",
    "\n",
    "To give an example, a user could receive a discount offer buy 10 dollars get 2 off on Monday. The offer is valid for 10 days from receipt. If the customer accumulates at least 10 dollars in purchases during the validity period, the customer completes the offer.\n",
    "\n",
    "However, there are a few things to watch out for in this data set. Customers do not opt into the offers that they receive; in other words, a user can receive an offer, never actually view the offer, and still complete the offer. For example, a user might receive the \"buy 10 dollars get 2 dollars off offer\", but the user never opens the offer during the 10 day validity period. The customer spends 15 dollars during those ten days. There will be an offer completion record in the data set; however, the customer was not influenced by the offer because the customer never viewed the offer.\n",
    "\n",
    "### Cleaning\n",
    "\n",
    "This makes data cleaning especially important and tricky.\n",
    "\n",
    "You'll also want to take into account that some demographic groups will make purchases even if they don't receive an offer. From a business perspective, if a customer is going to make a 10 dollar purchase without an offer anyway, you wouldn't want to send a buy 10 dollars get 2 dollars off offer. You'll want to try to assess what a certain demographic group will buy when not receiving any offers.\n",
    "\n",
    "### Final Advice\n",
    "\n",
    "Because this is a capstone project, you are free to analyze the data any way you see fit. For example, you could build a machine learning model that predicts how much someone will spend based on demographics and offer type. Or you could build a model that predicts whether or not someone will respond to an offer. Or, you don't need to build a machine learning model at all. You could develop a set of heuristics that determine what offer you should send to each customer (i.e., 75 percent of women customers who were 35 years old responded to offer A vs 40 percent from the same demographic to offer B, so send offer A)."
   ]
  },
  {
   "cell_type": "markdown",
   "metadata": {},
   "source": [
    "# Data Sets\n",
    "\n",
    "The data is contained in three files:\n",
    "\n",
    "* portfolio.json - containing offer ids and meta data about each offer (duration, type, etc.)\n",
    "* profile.json - demographic data for each customer\n",
    "* transcript.json - records for transactions, offers received, offers viewed, and offers completed\n",
    "\n",
    "Here is the schema and explanation of each variable in the files:\n",
    "\n",
    "**portfolio.json**\n",
    "* id (string) - offer id\n",
    "* offer_type (string) - type of offer ie BOGO, discount, informational\n",
    "* difficulty (int) - minimum required spend to complete an offer\n",
    "* reward (int) - reward given for completing an offer\n",
    "* duration (int) - time for offer to be open, in days\n",
    "* channels (list of strings)\n",
    "\n",
    "**profile.json**\n",
    "* age (int) - age of the customer \n",
    "* became_member_on (int) - date when customer created an app account\n",
    "* gender (str) - gender of the customer (note some entries contain 'O' for other rather than M or F)\n",
    "* id (str) - customer id\n",
    "* income (float) - customer's income\n",
    "\n",
    "**transcript.json**\n",
    "* event (str) - record description (ie transaction, offer received, offer viewed, etc.)\n",
    "* person (str) - customer id\n",
    "* time (int) - time in hours since start of test. The data begins at time t=0\n",
    "* value - (dict of strings) - either an offer id or transaction amount depending on the record"
   ]
  },
  {
   "cell_type": "code",
   "execution_count": 1,
   "metadata": {},
   "outputs": [],
   "source": [
    "import pandas as pd\n",
    "import numpy as np\n",
    "import matplotlib.pyplot as plt\n",
    "\n",
    "import math\n",
    "import json\n",
    "\n",
    "%matplotlib inline\n",
    "\n",
    "# read in the json files\n",
    "portfolio = pd.read_json('data/portfolio.json', orient='records', lines=True)\n",
    "profile = pd.read_json('data/profile.json', orient='records', lines=True)\n",
    "transcript = pd.read_json('data/transcript.json', orient='records', lines=True)"
   ]
  },
  {
   "cell_type": "markdown",
   "metadata": {},
   "source": [
    "# Data Preprocessing"
   ]
  },
  {
   "cell_type": "markdown",
   "metadata": {},
   "source": [
    "## Helper Function"
   ]
  },
  {
   "cell_type": "code",
   "execution_count": 2,
   "metadata": {},
   "outputs": [],
   "source": [
    "def category_plot(df, col, title, fsize=(15,5)):\n",
    "    plt.figure(figsize=fsize)\n",
    "    df[col].value_counts(sort=True).plot(kind='bar')\n",
    "    plt.title(title)\n",
    "    plt.xticks(rotation=0)\n",
    "    plt.show()\n",
    "\n",
    "def hist_plot(df, col, title, figs=(15,5), nbin=10):\n",
    "    plt.figure(figsize=figs)\n",
    "    df[col].hist(bins=nbin)\n",
    "    plt.xlabel(col)\n",
    "    plt.ylabel('counts')\n",
    "    plt.title(title)\n",
    "    plt.show()\n",
    "    \n",
    "def into_bins(df, col, bins, labels, nan_label='unknown' ):\n",
    "    \"\"\"\n",
    "    Takes in a column name, bin cut points and labels, replaces the original column with a\n",
    "    binned version, and replaces nulls (with 'unknown' if unspecified).\n",
    "    \"\"\"\n",
    "    df[col] = pd.cut(df[col], bins=bins, labels=labels, include_lowest=True)\n",
    "    \n",
    "    df[col] = df[col].cat.add_categories(nan_label)\n",
    "    df[col].fillna(nan_label, inplace =True) \n",
    "\n",
    "    df[col] = df[col].astype('str')\n",
    "    \n",
    "\n",
    "def pri_missing_perc(df,col):\n",
    "    print(\" {} ({}%) missing values in {} \".format(df[col].isnull().sum(),round(df[col].isnull().sum()/df.shape[0],4), col))\n",
    "\n",
    "\n",
    "# keep features to be dropped at the end\n",
    "to_be_dropped=[]"
   ]
  },
  {
   "cell_type": "markdown",
   "metadata": {},
   "source": [
    "## portfolio"
   ]
  },
  {
   "cell_type": "code",
   "execution_count": 3,
   "metadata": {},
   "outputs": [
    {
     "data": {
      "text/html": [
       "<div>\n",
       "<style scoped>\n",
       "    .dataframe tbody tr th:only-of-type {\n",
       "        vertical-align: middle;\n",
       "    }\n",
       "\n",
       "    .dataframe tbody tr th {\n",
       "        vertical-align: top;\n",
       "    }\n",
       "\n",
       "    .dataframe thead th {\n",
       "        text-align: right;\n",
       "    }\n",
       "</style>\n",
       "<table border=\"1\" class=\"dataframe\">\n",
       "  <thead>\n",
       "    <tr style=\"text-align: right;\">\n",
       "      <th></th>\n",
       "      <th>reward</th>\n",
       "      <th>channels</th>\n",
       "      <th>difficulty</th>\n",
       "      <th>duration</th>\n",
       "      <th>offer_type</th>\n",
       "      <th>id</th>\n",
       "    </tr>\n",
       "  </thead>\n",
       "  <tbody>\n",
       "    <tr>\n",
       "      <th>0</th>\n",
       "      <td>10</td>\n",
       "      <td>[email, mobile, social]</td>\n",
       "      <td>10</td>\n",
       "      <td>7</td>\n",
       "      <td>bogo</td>\n",
       "      <td>ae264e3637204a6fb9bb56bc8210ddfd</td>\n",
       "    </tr>\n",
       "    <tr>\n",
       "      <th>1</th>\n",
       "      <td>10</td>\n",
       "      <td>[web, email, mobile, social]</td>\n",
       "      <td>10</td>\n",
       "      <td>5</td>\n",
       "      <td>bogo</td>\n",
       "      <td>4d5c57ea9a6940dd891ad53e9dbe8da0</td>\n",
       "    </tr>\n",
       "    <tr>\n",
       "      <th>2</th>\n",
       "      <td>0</td>\n",
       "      <td>[web, email, mobile]</td>\n",
       "      <td>0</td>\n",
       "      <td>4</td>\n",
       "      <td>informational</td>\n",
       "      <td>3f207df678b143eea3cee63160fa8bed</td>\n",
       "    </tr>\n",
       "    <tr>\n",
       "      <th>3</th>\n",
       "      <td>5</td>\n",
       "      <td>[web, email, mobile]</td>\n",
       "      <td>5</td>\n",
       "      <td>7</td>\n",
       "      <td>bogo</td>\n",
       "      <td>9b98b8c7a33c4b65b9aebfe6a799e6d9</td>\n",
       "    </tr>\n",
       "    <tr>\n",
       "      <th>4</th>\n",
       "      <td>5</td>\n",
       "      <td>[web, email]</td>\n",
       "      <td>20</td>\n",
       "      <td>10</td>\n",
       "      <td>discount</td>\n",
       "      <td>0b1e1539f2cc45b7b9fa7c272da2e1d7</td>\n",
       "    </tr>\n",
       "  </tbody>\n",
       "</table>\n",
       "</div>"
      ],
      "text/plain": [
       "   reward                      channels  difficulty  duration     offer_type  \\\n",
       "0      10       [email, mobile, social]          10         7           bogo   \n",
       "1      10  [web, email, mobile, social]          10         5           bogo   \n",
       "2       0          [web, email, mobile]           0         4  informational   \n",
       "3       5          [web, email, mobile]           5         7           bogo   \n",
       "4       5                  [web, email]          20        10       discount   \n",
       "\n",
       "                                 id  \n",
       "0  ae264e3637204a6fb9bb56bc8210ddfd  \n",
       "1  4d5c57ea9a6940dd891ad53e9dbe8da0  \n",
       "2  3f207df678b143eea3cee63160fa8bed  \n",
       "3  9b98b8c7a33c4b65b9aebfe6a799e6d9  \n",
       "4  0b1e1539f2cc45b7b9fa7c272da2e1d7  "
      ]
     },
     "execution_count": 3,
     "metadata": {},
     "output_type": "execute_result"
    }
   ],
   "source": [
    "portfolio.head()"
   ]
  },
  {
   "cell_type": "code",
   "execution_count": 4,
   "metadata": {},
   "outputs": [
    {
     "name": "stdout",
     "output_type": "stream",
     "text": [
      " 0 (0.0%) missing values in offer_type \n"
     ]
    },
    {
     "data": {
      "image/png": "[encoded data removed]",
      "text/plain": [
       "<Figure size 432x216 with 1 Axes>"
      ]
     },
     "metadata": {
      "needs_background": "light"
     },
     "output_type": "display_data"
    }
   ],
   "source": [
    "pri_missing_perc(portfolio, 'offer_type')\n",
    "category_plot(portfolio, 'offer_type', 'offer type', (6,3))"
   ]
  },
  {
   "cell_type": "code",
   "execution_count": 5,
   "metadata": {},
   "outputs": [
    {
     "name": "stdout",
     "output_type": "stream",
     "text": [
      " 0 (0.0%) missing values in difficulty \n"
     ]
    },
    {
     "data": {
      "image/png": "[encoded data removed]",
      "text/plain": [
       "<Figure size 432x216 with 1 Axes>"
      ]
     },
     "metadata": {
      "needs_background": "light"
     },
     "output_type": "display_data"
    }
   ],
   "source": [
    "# overall difficulties\n",
    "pri_missing_perc(portfolio, 'difficulty')\n",
    "category_plot(portfolio, 'difficulty', 'offer difficulty', (6,3))"
   ]
  },
  {
   "cell_type": "code",
   "execution_count": 6,
   "metadata": {},
   "outputs": [
    {
     "data": {
      "image/png": "[encoded data removed]",
      "text/plain": [
       "<Figure size 432x288 with 1 Axes>"
      ]
     },
     "metadata": {
      "needs_background": "light"
     },
     "output_type": "display_data"
    }
   ],
   "source": [
    "# difficulties for each type of offer\n",
    "\n",
    "# df['difficulty'].hist(by=df['offer_type'])\n",
    "\n",
    "grouped = portfolio.groupby('offer_type')\n",
    "plt.figure()\n",
    "for group in grouped:\n",
    "    plt.hist(group[1]['difficulty'],histtype='bar', bins=range(0,21,1), rwidth=1, label=group[0],  alpha=0.6, stacked=True)\n",
    "plt.legend()\n",
    "plt.title('Offer Difficulty for Different Offer Types')\n",
    "plt.xlabel('Offer Difficulty')\n",
    "plt.title('Count')\n",
    "plt.show()\n"
   ]
  },
  {
   "cell_type": "code",
   "execution_count": 7,
   "metadata": {},
   "outputs": [
    {
     "name": "stdout",
     "output_type": "stream",
     "text": [
      " 0 (0.0%) missing values in duration \n"
     ]
    },
    {
     "data": {
      "image/png": "[encoded data removed]",
      "text/plain": [
       "<Figure size 432x216 with 1 Axes>"
      ]
     },
     "metadata": {
      "needs_background": "light"
     },
     "output_type": "display_data"
    }
   ],
   "source": [
    "pri_missing_perc(portfolio, 'duration')\n",
    "\n",
    "# transfer duration of days into hours such that it can be compared to transaction time\n",
    "portfolio['duration']=portfolio['duration']*24\n",
    "\n",
    "category_plot(portfolio, 'duration', 'offer duration', (6,3))"
   ]
  },
  {
   "cell_type": "code",
   "execution_count": 8,
   "metadata": {},
   "outputs": [
    {
     "data": {
      "image/png": "[encoded data removed]",
      "text/plain": [
       "<Figure size 432x288 with 1 Axes>"
      ]
     },
     "metadata": {
      "needs_background": "light"
     },
     "output_type": "display_data"
    }
   ],
   "source": [
    "grouped = portfolio.groupby('offer_type')\n",
    "\n",
    "plt.figure()\n",
    "for group in grouped:\n",
    "    plt.hist(group[1]['duration'],histtype='bar', bins=range(portfolio['duration'].min(),portfolio['duration'].max()+20,20), rwidth=0.5, label=group[0],  alpha=0.6, stacked=True)\n",
    "plt.legend()\n",
    "plt.title('Offer Duration for Different Offer Types')\n",
    "plt.xlabel('Offer Duration')\n",
    "plt.title('Count')\n",
    "plt.show()"
   ]
  },
  {
   "cell_type": "code",
   "execution_count": 9,
   "metadata": {},
   "outputs": [
    {
     "name": "stdout",
     "output_type": "stream",
     "text": [
      " 0 (0.0%) missing values in channels \n",
      "types of offer channels: {'mobile', 'email', 'social', 'web'}\n"
     ]
    }
   ],
   "source": [
    "pri_missing_perc(portfolio, 'channels')\n",
    "channel_types=set([x for i in list(portfolio['channels']) for x in i ])\n",
    "print('types of offer channels:', channel_types)"
   ]
  },
  {
   "cell_type": "code",
   "execution_count": 10,
   "metadata": {},
   "outputs": [
    {
     "data": {
      "text/html": [
       "<div>\n",
       "<style scoped>\n",
       "    .dataframe tbody tr th:only-of-type {\n",
       "        vertical-align: middle;\n",
       "    }\n",
       "\n",
       "    .dataframe tbody tr th {\n",
       "        vertical-align: top;\n",
       "    }\n",
       "\n",
       "    .dataframe thead th {\n",
       "        text-align: right;\n",
       "    }\n",
       "</style>\n",
       "<table border=\"1\" class=\"dataframe\">\n",
       "  <thead>\n",
       "    <tr style=\"text-align: right;\">\n",
       "      <th></th>\n",
       "      <th>reward</th>\n",
       "      <th>difficulty</th>\n",
       "      <th>duration</th>\n",
       "      <th>offer_type</th>\n",
       "      <th>id</th>\n",
       "      <th>mobile</th>\n",
       "      <th>email</th>\n",
       "      <th>social</th>\n",
       "      <th>web</th>\n",
       "    </tr>\n",
       "  </thead>\n",
       "  <tbody>\n",
       "    <tr>\n",
       "      <th>0</th>\n",
       "      <td>10</td>\n",
       "      <td>10</td>\n",
       "      <td>168</td>\n",
       "      <td>bogo</td>\n",
       "      <td>ae264e3637204a6fb9bb56bc8210ddfd</td>\n",
       "      <td>1</td>\n",
       "      <td>1</td>\n",
       "      <td>1</td>\n",
       "      <td>0</td>\n",
       "    </tr>\n",
       "    <tr>\n",
       "      <th>1</th>\n",
       "      <td>10</td>\n",
       "      <td>10</td>\n",
       "      <td>120</td>\n",
       "      <td>bogo</td>\n",
       "      <td>4d5c57ea9a6940dd891ad53e9dbe8da0</td>\n",
       "      <td>1</td>\n",
       "      <td>1</td>\n",
       "      <td>1</td>\n",
       "      <td>1</td>\n",
       "    </tr>\n",
       "    <tr>\n",
       "      <th>2</th>\n",
       "      <td>0</td>\n",
       "      <td>0</td>\n",
       "      <td>96</td>\n",
       "      <td>informational</td>\n",
       "      <td>3f207df678b143eea3cee63160fa8bed</td>\n",
       "      <td>1</td>\n",
       "      <td>1</td>\n",
       "      <td>0</td>\n",
       "      <td>1</td>\n",
       "    </tr>\n",
       "    <tr>\n",
       "      <th>3</th>\n",
       "      <td>5</td>\n",
       "      <td>5</td>\n",
       "      <td>168</td>\n",
       "      <td>bogo</td>\n",
       "      <td>9b98b8c7a33c4b65b9aebfe6a799e6d9</td>\n",
       "      <td>1</td>\n",
       "      <td>1</td>\n",
       "      <td>0</td>\n",
       "      <td>1</td>\n",
       "    </tr>\n",
       "    <tr>\n",
       "      <th>4</th>\n",
       "      <td>5</td>\n",
       "      <td>20</td>\n",
       "      <td>240</td>\n",
       "      <td>discount</td>\n",
       "      <td>0b1e1539f2cc45b7b9fa7c272da2e1d7</td>\n",
       "      <td>0</td>\n",
       "      <td>1</td>\n",
       "      <td>0</td>\n",
       "      <td>1</td>\n",
       "    </tr>\n",
       "    <tr>\n",
       "      <th>5</th>\n",
       "      <td>3</td>\n",
       "      <td>7</td>\n",
       "      <td>168</td>\n",
       "      <td>discount</td>\n",
       "      <td>2298d6c36e964ae4a3e7e9706d1fb8c2</td>\n",
       "      <td>1</td>\n",
       "      <td>1</td>\n",
       "      <td>1</td>\n",
       "      <td>1</td>\n",
       "    </tr>\n",
       "    <tr>\n",
       "      <th>6</th>\n",
       "      <td>2</td>\n",
       "      <td>10</td>\n",
       "      <td>240</td>\n",
       "      <td>discount</td>\n",
       "      <td>fafdcd668e3743c1bb461111dcafc2a4</td>\n",
       "      <td>1</td>\n",
       "      <td>1</td>\n",
       "      <td>1</td>\n",
       "      <td>1</td>\n",
       "    </tr>\n",
       "    <tr>\n",
       "      <th>7</th>\n",
       "      <td>0</td>\n",
       "      <td>0</td>\n",
       "      <td>72</td>\n",
       "      <td>informational</td>\n",
       "      <td>5a8bc65990b245e5a138643cd4eb9837</td>\n",
       "      <td>1</td>\n",
       "      <td>1</td>\n",
       "      <td>1</td>\n",
       "      <td>0</td>\n",
       "    </tr>\n",
       "    <tr>\n",
       "      <th>8</th>\n",
       "      <td>5</td>\n",
       "      <td>5</td>\n",
       "      <td>120</td>\n",
       "      <td>bogo</td>\n",
       "      <td>f19421c1d4aa40978ebb69ca19b0e20d</td>\n",
       "      <td>1</td>\n",
       "      <td>1</td>\n",
       "      <td>1</td>\n",
       "      <td>1</td>\n",
       "    </tr>\n",
       "    <tr>\n",
       "      <th>9</th>\n",
       "      <td>2</td>\n",
       "      <td>10</td>\n",
       "      <td>168</td>\n",
       "      <td>discount</td>\n",
       "      <td>2906b810c7d4411798c6938adc9daaa5</td>\n",
       "      <td>1</td>\n",
       "      <td>1</td>\n",
       "      <td>0</td>\n",
       "      <td>1</td>\n",
       "    </tr>\n",
       "  </tbody>\n",
       "</table>\n",
       "</div>"
      ],
      "text/plain": [
       "   reward  difficulty  duration     offer_type  \\\n",
       "0      10          10       168           bogo   \n",
       "1      10          10       120           bogo   \n",
       "2       0           0        96  informational   \n",
       "3       5           5       168           bogo   \n",
       "4       5          20       240       discount   \n",
       "5       3           7       168       discount   \n",
       "6       2          10       240       discount   \n",
       "7       0           0        72  informational   \n",
       "8       5           5       120           bogo   \n",
       "9       2          10       168       discount   \n",
       "\n",
       "                                 id  mobile  email  social  web  \n",
       "0  ae264e3637204a6fb9bb56bc8210ddfd       1      1       1    0  \n",
       "1  4d5c57ea9a6940dd891ad53e9dbe8da0       1      1       1    1  \n",
       "2  3f207df678b143eea3cee63160fa8bed       1      1       0    1  \n",
       "3  9b98b8c7a33c4b65b9aebfe6a799e6d9       1      1       0    1  \n",
       "4  0b1e1539f2cc45b7b9fa7c272da2e1d7       0      1       0    1  \n",
       "5  2298d6c36e964ae4a3e7e9706d1fb8c2       1      1       1    1  \n",
       "6  fafdcd668e3743c1bb461111dcafc2a4       1      1       1    1  \n",
       "7  5a8bc65990b245e5a138643cd4eb9837       1      1       1    0  \n",
       "8  f19421c1d4aa40978ebb69ca19b0e20d       1      1       1    1  \n",
       "9  2906b810c7d4411798c6938adc9daaa5       1      1       0    1  "
      ]
     },
     "execution_count": 10,
     "metadata": {},
     "output_type": "execute_result"
    }
   ],
   "source": [
    "for x in channel_types:\n",
    "    portfolio[x]=0\n",
    "    portfolio.loc[pd.DataFrame(portfolio['channels'].tolist()).isin([x]).any(1),x]=1\n",
    "portfolio.drop('channels', axis=1, inplace=True)\n",
    "portfolio"
   ]
  },
  {
   "cell_type": "code",
   "execution_count": 11,
   "metadata": {},
   "outputs": [
    {
     "data": {
      "text/html": [
       "<div>\n",
       "<style scoped>\n",
       "    .dataframe tbody tr th:only-of-type {\n",
       "        vertical-align: middle;\n",
       "    }\n",
       "\n",
       "    .dataframe tbody tr th {\n",
       "        vertical-align: top;\n",
       "    }\n",
       "\n",
       "    .dataframe thead th {\n",
       "        text-align: right;\n",
       "    }\n",
       "</style>\n",
       "<table border=\"1\" class=\"dataframe\">\n",
       "  <thead>\n",
       "    <tr style=\"text-align: right;\">\n",
       "      <th></th>\n",
       "      <th>email</th>\n",
       "      <th>social</th>\n",
       "      <th>web</th>\n",
       "      <th>mobile</th>\n",
       "    </tr>\n",
       "    <tr>\n",
       "      <th>offer_type</th>\n",
       "      <th></th>\n",
       "      <th></th>\n",
       "      <th></th>\n",
       "      <th></th>\n",
       "    </tr>\n",
       "  </thead>\n",
       "  <tbody>\n",
       "    <tr>\n",
       "      <th>bogo</th>\n",
       "      <td>4</td>\n",
       "      <td>3</td>\n",
       "      <td>3</td>\n",
       "      <td>4</td>\n",
       "    </tr>\n",
       "    <tr>\n",
       "      <th>discount</th>\n",
       "      <td>4</td>\n",
       "      <td>2</td>\n",
       "      <td>4</td>\n",
       "      <td>3</td>\n",
       "    </tr>\n",
       "    <tr>\n",
       "      <th>informational</th>\n",
       "      <td>2</td>\n",
       "      <td>1</td>\n",
       "      <td>1</td>\n",
       "      <td>2</td>\n",
       "    </tr>\n",
       "  </tbody>\n",
       "</table>\n",
       "</div>"
      ],
      "text/plain": [
       "               email  social  web  mobile\n",
       "offer_type                               \n",
       "bogo               4       3    3       4\n",
       "discount           4       2    4       3\n",
       "informational      2       1    1       2"
      ]
     },
     "execution_count": 11,
     "metadata": {},
     "output_type": "execute_result"
    }
   ],
   "source": [
    "portfolio.groupby('offer_type')[['email', 'social', 'web', 'mobile']].sum()"
   ]
  },
  {
   "cell_type": "markdown",
   "metadata": {},
   "source": [
    "each offer type comes with four ways of promotion. Since we are not interested in finding out the most effective promting methods in this study, we will only count the total number of methods each offer was sent and they will be stored in \"channels\" in stead. "
   ]
  },
  {
   "cell_type": "code",
   "execution_count": 12,
   "metadata": {},
   "outputs": [],
   "source": [
    "portfolio.loc[:,'channels']=portfolio['email']+portfolio['social']+portfolio['web']+portfolio['mobile']\n"
   ]
  },
  {
   "cell_type": "markdown",
   "metadata": {},
   "source": [
    "from observation, it can be seen that for BOGO offer, reward==diffuculty. For informational offer, reward==difficulty==0. For discount offer, rewards is nearly proportional to difficulty. It makes sense to engineer a new feature based on them as the ratio between reward_diff_ratio. This new feature could be taken as the reward you get per difficulty level. "
   ]
  },
  {
   "cell_type": "code",
   "execution_count": 13,
   "metadata": {},
   "outputs": [],
   "source": [
    "# portfolio.loc[:,'reward_diff_ratio']=0\n",
    "# portfolio.loc[portfolio['difficulty']!=0,'reward_diff_ratio']=portfolio[portfolio['difficulty']!=0]['reward']/portfolio[portfolio['difficulty']!=0]['difficulty']\n",
    "# portfolio\n",
    "\n"
   ]
  },
  {
   "cell_type": "markdown",
   "metadata": {},
   "source": [
    "## profile"
   ]
  },
  {
   "cell_type": "code",
   "execution_count": 14,
   "metadata": {},
   "outputs": [
    {
     "name": "stdout",
     "output_type": "stream",
     "text": [
      "(17000, 5)\n"
     ]
    },
    {
     "data": {
      "text/html": [
       "<div>\n",
       "<style scoped>\n",
       "    .dataframe tbody tr th:only-of-type {\n",
       "        vertical-align: middle;\n",
       "    }\n",
       "\n",
       "    .dataframe tbody tr th {\n",
       "        vertical-align: top;\n",
       "    }\n",
       "\n",
       "    .dataframe thead th {\n",
       "        text-align: right;\n",
       "    }\n",
       "</style>\n",
       "<table border=\"1\" class=\"dataframe\">\n",
       "  <thead>\n",
       "    <tr style=\"text-align: right;\">\n",
       "      <th></th>\n",
       "      <th>gender</th>\n",
       "      <th>age</th>\n",
       "      <th>id</th>\n",
       "      <th>became_member_on</th>\n",
       "      <th>income</th>\n",
       "    </tr>\n",
       "  </thead>\n",
       "  <tbody>\n",
       "    <tr>\n",
       "      <th>0</th>\n",
       "      <td>None</td>\n",
       "      <td>118</td>\n",
       "      <td>68be06ca386d4c31939f3a4f0e3dd783</td>\n",
       "      <td>20170212</td>\n",
       "      <td>NaN</td>\n",
       "    </tr>\n",
       "    <tr>\n",
       "      <th>1</th>\n",
       "      <td>F</td>\n",
       "      <td>55</td>\n",
       "      <td>0610b486422d4921ae7d2bf64640c50b</td>\n",
       "      <td>20170715</td>\n",
       "      <td>112000.0</td>\n",
       "    </tr>\n",
       "    <tr>\n",
       "      <th>2</th>\n",
       "      <td>None</td>\n",
       "      <td>118</td>\n",
       "      <td>38fe809add3b4fcf9315a9694bb96ff5</td>\n",
       "      <td>20180712</td>\n",
       "      <td>NaN</td>\n",
       "    </tr>\n",
       "    <tr>\n",
       "      <th>3</th>\n",
       "      <td>F</td>\n",
       "      <td>75</td>\n",
       "      <td>78afa995795e4d85b5d9ceeca43f5fef</td>\n",
       "      <td>20170509</td>\n",
       "      <td>100000.0</td>\n",
       "    </tr>\n",
       "    <tr>\n",
       "      <th>4</th>\n",
       "      <td>None</td>\n",
       "      <td>118</td>\n",
       "      <td>a03223e636434f42ac4c3df47e8bac43</td>\n",
       "      <td>20170804</td>\n",
       "      <td>NaN</td>\n",
       "    </tr>\n",
       "  </tbody>\n",
       "</table>\n",
       "</div>"
      ],
      "text/plain": [
       "  gender  age                                id  became_member_on    income\n",
       "0   None  118  68be06ca386d4c31939f3a4f0e3dd783          20170212       NaN\n",
       "1      F   55  0610b486422d4921ae7d2bf64640c50b          20170715  112000.0\n",
       "2   None  118  38fe809add3b4fcf9315a9694bb96ff5          20180712       NaN\n",
       "3      F   75  78afa995795e4d85b5d9ceeca43f5fef          20170509  100000.0\n",
       "4   None  118  a03223e636434f42ac4c3df47e8bac43          20170804       NaN"
      ]
     },
     "execution_count": 14,
     "metadata": {},
     "output_type": "execute_result"
    }
   ],
   "source": [
    "print(profile.shape)\n",
    "profile.head()"
   ]
  },
  {
   "cell_type": "code",
   "execution_count": 15,
   "metadata": {},
   "outputs": [
    {
     "data": {
      "text/plain": [
       "False"
      ]
     },
     "execution_count": 15,
     "metadata": {},
     "output_type": "execute_result"
    }
   ],
   "source": [
    "# check duplicates\n",
    "profile.duplicated().any()"
   ]
  },
  {
   "cell_type": "code",
   "execution_count": 16,
   "metadata": {},
   "outputs": [
    {
     "name": "stdout",
     "output_type": "stream",
     "text": [
      " 2175 (0.1279%) missing values in gender \n"
     ]
    },
    {
     "data": {
      "image/png": "[encoded data removed]",
      "text/plain": [
       "<Figure size 432x216 with 1 Axes>"
      ]
     },
     "metadata": {
      "needs_background": "light"
     },
     "output_type": "display_data"
    }
   ],
   "source": [
    "pri_missing_perc(profile, 'gender')\n",
    "profile['gender'].fillna('unknown', inplace =True) \n",
    "\n",
    "category_plot(profile, 'gender', 'gender', (6,3))"
   ]
  },
  {
   "cell_type": "code",
   "execution_count": 17,
   "metadata": {},
   "outputs": [
    {
     "name": "stdout",
     "output_type": "stream",
     "text": [
      " 2175 (0.1279%) missing values in income \n"
     ]
    },
    {
     "data": {
      "image/png": "[encoded data removed]",
      "text/plain": [
       "<Figure size 720x288 with 1 Axes>"
      ]
     },
     "metadata": {
      "needs_background": "light"
     },
     "output_type": "display_data"
    }
   ],
   "source": [
    "pri_missing_perc(profile, 'income')\n",
    "hist_plot(profile, 'income', 'income', figs=(10,4), nbin=15)"
   ]
  },
  {
   "cell_type": "code",
   "execution_count": 18,
   "metadata": {},
   "outputs": [
    {
     "data": {
      "image/png": "[encoded data removed]",
      "text/plain": [
       "<Figure size 1080x360 with 1 Axes>"
      ]
     },
     "metadata": {
      "needs_background": "light"
     },
     "output_type": "display_data"
    }
   ],
   "source": [
    "# fill NULL\n",
    "\n",
    "# # get median and mean\n",
    "# print(\"Mean days as host:\", round(profile['income'].mean(),2))\n",
    "# print(\"Median days as host:\", round(profile['income'].median(),2))\n",
    "\n",
    "# profile['income'].fillna(profile['income'].median(), inplace=True)\n",
    "# hist_plot(profile, 'income', 'income', figs=(10,4), nbin=10)\n",
    "\n",
    "into_bins(profile,'income',bins=[0, 40000, 60000, 80000, 100000, 150000],\n",
    "          labels=['<40k', '40-60k' ,'60-80k', '80-100k','>100k'])\n",
    "category_plot(profile,'income', 'Member Income')"
   ]
  },
  {
   "cell_type": "code",
   "execution_count": 19,
   "metadata": {},
   "outputs": [
    {
     "name": "stdout",
     "output_type": "stream",
     "text": [
      " 0 (0.0%) missing values in age \n"
     ]
    },
    {
     "data": {
      "image/png": "[encoded data removed]",
      "text/plain": [
       "<Figure size 1080x360 with 1 Axes>"
      ]
     },
     "metadata": {
      "needs_background": "light"
     },
     "output_type": "display_data"
    },
    {
     "name": "stdout",
     "output_type": "stream",
     "text": [
      "Max age: 118\n",
      "Percentage of Age 118: 12.7941%\n"
     ]
    }
   ],
   "source": [
    "pri_missing_perc(profile, 'age')\n",
    "hist_plot(profile, 'age', 'age', figs=(15,5), nbin=20)\n",
    "\n",
    "# get the value of outier\n",
    "print(\"Max age:\", profile['age'].max())\n",
    "print('Percentage of Age 118: {}%'.format(round(profile[profile['age']==profile['age'].max()].shape[0]/profile.shape[0]*100, 4)))"
   ]
  },
  {
   "cell_type": "code",
   "execution_count": 20,
   "metadata": {},
   "outputs": [
    {
     "data": {
      "image/png": "[encoded data removed]",
      "text/plain": [
       "<Figure size 1080x360 with 1 Axes>"
      ]
     },
     "metadata": {
      "needs_background": "light"
     },
     "output_type": "display_data"
    }
   ],
   "source": [
    "into_bins(profile,'age',bins=[0, 20, 40, 60, 80, 100, 120],\n",
    "          labels=['<20', '20-40', '40-60' ,'60-80', '80-100','>100'])\n",
    "category_plot(profile,'age', 'Customer Age')"
   ]
  },
  {
   "cell_type": "code",
   "execution_count": 21,
   "metadata": {},
   "outputs": [
    {
     "name": "stdout",
     "output_type": "stream",
     "text": [
      " 0 (0.0%) missing values in became_member_on \n"
     ]
    },
    {
     "data": {
      "image/png": "[encoded data removed]",
      "text/plain": [
       "<Figure size 1080x360 with 1 Axes>"
      ]
     },
     "metadata": {
      "needs_background": "light"
     },
     "output_type": "display_data"
    }
   ],
   "source": [
    "pri_missing_perc(profile, 'became_member_on')\n",
    "\n",
    "profile['became_member_on']=pd.to_datetime(profile['became_member_on'].astype('str'))\n",
    "profile['membership_days']=(pd.to_datetime('20200501')-profile['became_member_on']).astype('timedelta64[D]')\n",
    "profile.drop('became_member_on', axis=1, inplace=True)\n",
    "\n",
    "hist_plot(profile, 'membership_days', 'membership_days', figs=(15,5), nbin=20)"
   ]
  },
  {
   "cell_type": "code",
   "execution_count": 22,
   "metadata": {},
   "outputs": [
    {
     "data": {
      "text/plain": [
       "False"
      ]
     },
     "execution_count": 22,
     "metadata": {},
     "output_type": "execute_result"
    }
   ],
   "source": [
    "profile.duplicated().any()"
   ]
  },
  {
   "cell_type": "code",
   "execution_count": 23,
   "metadata": {},
   "outputs": [
    {
     "data": {
      "text/html": [
       "<div>\n",
       "<style scoped>\n",
       "    .dataframe tbody tr th:only-of-type {\n",
       "        vertical-align: middle;\n",
       "    }\n",
       "\n",
       "    .dataframe tbody tr th {\n",
       "        vertical-align: top;\n",
       "    }\n",
       "\n",
       "    .dataframe thead th {\n",
       "        text-align: right;\n",
       "    }\n",
       "</style>\n",
       "<table border=\"1\" class=\"dataframe\">\n",
       "  <thead>\n",
       "    <tr style=\"text-align: right;\">\n",
       "      <th></th>\n",
       "      <th>gender</th>\n",
       "      <th>age</th>\n",
       "      <th>id</th>\n",
       "      <th>income</th>\n",
       "      <th>membership_days</th>\n",
       "    </tr>\n",
       "  </thead>\n",
       "  <tbody>\n",
       "    <tr>\n",
       "      <th>0</th>\n",
       "      <td>unknown</td>\n",
       "      <td>&gt;100</td>\n",
       "      <td>68be06ca386d4c31939f3a4f0e3dd783</td>\n",
       "      <td>unknown</td>\n",
       "      <td>1174.0</td>\n",
       "    </tr>\n",
       "    <tr>\n",
       "      <th>1</th>\n",
       "      <td>F</td>\n",
       "      <td>40-60</td>\n",
       "      <td>0610b486422d4921ae7d2bf64640c50b</td>\n",
       "      <td>&gt;100k</td>\n",
       "      <td>1021.0</td>\n",
       "    </tr>\n",
       "    <tr>\n",
       "      <th>2</th>\n",
       "      <td>unknown</td>\n",
       "      <td>&gt;100</td>\n",
       "      <td>38fe809add3b4fcf9315a9694bb96ff5</td>\n",
       "      <td>unknown</td>\n",
       "      <td>659.0</td>\n",
       "    </tr>\n",
       "    <tr>\n",
       "      <th>3</th>\n",
       "      <td>F</td>\n",
       "      <td>60-80</td>\n",
       "      <td>78afa995795e4d85b5d9ceeca43f5fef</td>\n",
       "      <td>80-100k</td>\n",
       "      <td>1088.0</td>\n",
       "    </tr>\n",
       "    <tr>\n",
       "      <th>4</th>\n",
       "      <td>unknown</td>\n",
       "      <td>&gt;100</td>\n",
       "      <td>a03223e636434f42ac4c3df47e8bac43</td>\n",
       "      <td>unknown</td>\n",
       "      <td>1001.0</td>\n",
       "    </tr>\n",
       "    <tr>\n",
       "      <th>5</th>\n",
       "      <td>M</td>\n",
       "      <td>60-80</td>\n",
       "      <td>e2127556f4f64592b11af22de27a7932</td>\n",
       "      <td>60-80k</td>\n",
       "      <td>736.0</td>\n",
       "    </tr>\n",
       "    <tr>\n",
       "      <th>6</th>\n",
       "      <td>unknown</td>\n",
       "      <td>&gt;100</td>\n",
       "      <td>8ec6ce2a7e7949b1bf142def7d0e0586</td>\n",
       "      <td>unknown</td>\n",
       "      <td>949.0</td>\n",
       "    </tr>\n",
       "    <tr>\n",
       "      <th>7</th>\n",
       "      <td>unknown</td>\n",
       "      <td>&gt;100</td>\n",
       "      <td>68617ca6246f4fbc85e91a2a49552598</td>\n",
       "      <td>unknown</td>\n",
       "      <td>942.0</td>\n",
       "    </tr>\n",
       "    <tr>\n",
       "      <th>8</th>\n",
       "      <td>M</td>\n",
       "      <td>60-80</td>\n",
       "      <td>389bc3fa690240e798340f5a15918d5c</td>\n",
       "      <td>40-60k</td>\n",
       "      <td>812.0</td>\n",
       "    </tr>\n",
       "    <tr>\n",
       "      <th>9</th>\n",
       "      <td>unknown</td>\n",
       "      <td>&gt;100</td>\n",
       "      <td>8974fc5686fe429db53ddde067b88302</td>\n",
       "      <td>unknown</td>\n",
       "      <td>1256.0</td>\n",
       "    </tr>\n",
       "  </tbody>\n",
       "</table>\n",
       "</div>"
      ],
      "text/plain": [
       "    gender    age                                id   income  membership_days\n",
       "0  unknown   >100  68be06ca386d4c31939f3a4f0e3dd783  unknown           1174.0\n",
       "1        F  40-60  0610b486422d4921ae7d2bf64640c50b    >100k           1021.0\n",
       "2  unknown   >100  38fe809add3b4fcf9315a9694bb96ff5  unknown            659.0\n",
       "3        F  60-80  78afa995795e4d85b5d9ceeca43f5fef  80-100k           1088.0\n",
       "4  unknown   >100  a03223e636434f42ac4c3df47e8bac43  unknown           1001.0\n",
       "5        M  60-80  e2127556f4f64592b11af22de27a7932   60-80k            736.0\n",
       "6  unknown   >100  8ec6ce2a7e7949b1bf142def7d0e0586  unknown            949.0\n",
       "7  unknown   >100  68617ca6246f4fbc85e91a2a49552598  unknown            942.0\n",
       "8        M  60-80  389bc3fa690240e798340f5a15918d5c   40-60k            812.0\n",
       "9  unknown   >100  8974fc5686fe429db53ddde067b88302  unknown           1256.0"
      ]
     },
     "execution_count": 23,
     "metadata": {},
     "output_type": "execute_result"
    }
   ],
   "source": [
    "# after preprocessing\n",
    "profile.head(10)"
   ]
  },
  {
   "cell_type": "markdown",
   "metadata": {},
   "source": [
    "## transcript"
   ]
  },
  {
   "cell_type": "code",
   "execution_count": 24,
   "metadata": {},
   "outputs": [
    {
     "data": {
      "text/html": [
       "<div>\n",
       "<style scoped>\n",
       "    .dataframe tbody tr th:only-of-type {\n",
       "        vertical-align: middle;\n",
       "    }\n",
       "\n",
       "    .dataframe tbody tr th {\n",
       "        vertical-align: top;\n",
       "    }\n",
       "\n",
       "    .dataframe thead th {\n",
       "        text-align: right;\n",
       "    }\n",
       "</style>\n",
       "<table border=\"1\" class=\"dataframe\">\n",
       "  <thead>\n",
       "    <tr style=\"text-align: right;\">\n",
       "      <th></th>\n",
       "      <th>person</th>\n",
       "      <th>event</th>\n",
       "      <th>value</th>\n",
       "      <th>time</th>\n",
       "    </tr>\n",
       "  </thead>\n",
       "  <tbody>\n",
       "    <tr>\n",
       "      <th>0</th>\n",
       "      <td>78afa995795e4d85b5d9ceeca43f5fef</td>\n",
       "      <td>offer received</td>\n",
       "      <td>{'offer id': '9b98b8c7a33c4b65b9aebfe6a799e6d9'}</td>\n",
       "      <td>0</td>\n",
       "    </tr>\n",
       "    <tr>\n",
       "      <th>1</th>\n",
       "      <td>a03223e636434f42ac4c3df47e8bac43</td>\n",
       "      <td>offer received</td>\n",
       "      <td>{'offer id': '0b1e1539f2cc45b7b9fa7c272da2e1d7'}</td>\n",
       "      <td>0</td>\n",
       "    </tr>\n",
       "    <tr>\n",
       "      <th>2</th>\n",
       "      <td>e2127556f4f64592b11af22de27a7932</td>\n",
       "      <td>offer received</td>\n",
       "      <td>{'offer id': '2906b810c7d4411798c6938adc9daaa5'}</td>\n",
       "      <td>0</td>\n",
       "    </tr>\n",
       "    <tr>\n",
       "      <th>3</th>\n",
       "      <td>8ec6ce2a7e7949b1bf142def7d0e0586</td>\n",
       "      <td>offer received</td>\n",
       "      <td>{'offer id': 'fafdcd668e3743c1bb461111dcafc2a4'}</td>\n",
       "      <td>0</td>\n",
       "    </tr>\n",
       "    <tr>\n",
       "      <th>4</th>\n",
       "      <td>68617ca6246f4fbc85e91a2a49552598</td>\n",
       "      <td>offer received</td>\n",
       "      <td>{'offer id': '4d5c57ea9a6940dd891ad53e9dbe8da0'}</td>\n",
       "      <td>0</td>\n",
       "    </tr>\n",
       "  </tbody>\n",
       "</table>\n",
       "</div>"
      ],
      "text/plain": [
       "                             person           event  \\\n",
       "0  78afa995795e4d85b5d9ceeca43f5fef  offer received   \n",
       "1  a03223e636434f42ac4c3df47e8bac43  offer received   \n",
       "2  e2127556f4f64592b11af22de27a7932  offer received   \n",
       "3  8ec6ce2a7e7949b1bf142def7d0e0586  offer received   \n",
       "4  68617ca6246f4fbc85e91a2a49552598  offer received   \n",
       "\n",
       "                                              value  time  \n",
       "0  {'offer id': '9b98b8c7a33c4b65b9aebfe6a799e6d9'}     0  \n",
       "1  {'offer id': '0b1e1539f2cc45b7b9fa7c272da2e1d7'}     0  \n",
       "2  {'offer id': '2906b810c7d4411798c6938adc9daaa5'}     0  \n",
       "3  {'offer id': 'fafdcd668e3743c1bb461111dcafc2a4'}     0  \n",
       "4  {'offer id': '4d5c57ea9a6940dd891ad53e9dbe8da0'}     0  "
      ]
     },
     "execution_count": 24,
     "metadata": {},
     "output_type": "execute_result"
    }
   ],
   "source": [
    "transcript.head()"
   ]
  },
  {
   "cell_type": "code",
   "execution_count": 25,
   "metadata": {},
   "outputs": [
    {
     "data": {
      "image/png": "[encoded data removed]",
      "text/plain": [
       "<Figure size 432x216 with 1 Axes>"
      ]
     },
     "metadata": {
      "needs_background": "light"
     },
     "output_type": "display_data"
    }
   ],
   "source": [
    "category_plot(transcript, 'event', 'event', (6,3))"
   ]
  },
  {
   "cell_type": "code",
   "execution_count": 26,
   "metadata": {},
   "outputs": [
    {
     "data": {
      "text/plain": [
       "{'amount', 'offer id', 'offer_id', 'reward'}"
      ]
     },
     "execution_count": 26,
     "metadata": {},
     "output_type": "execute_result"
    }
   ],
   "source": [
    "key=set([i for item in list(transcript['value']) for i in item.keys()])\n",
    "key"
   ]
  },
  {
   "cell_type": "code",
   "execution_count": 27,
   "metadata": {},
   "outputs": [],
   "source": [
    "# split the value column into three columns: amount, offer id and 'reward'\n",
    "\n",
    "transcript=pd.concat([transcript.drop(['value'], axis=1), transcript['value'].apply(pd.Series)], axis=1)\n",
    "transcript.loc[transcript['offer_id'].isna()==False, 'offer id']=transcript[transcript['offer_id'].isna()==False]['offer_id']\n",
    "transcript.drop(['offer_id'], axis=1, inplace=True)\n"
   ]
  },
  {
   "cell_type": "code",
   "execution_count": 28,
   "metadata": {},
   "outputs": [],
   "source": [
    "# reward will not be considered as transaction amount, it will be deleted later\n",
    "transcript.rename(columns={'reward':'store_credit'}, inplace=True)\n",
    "\n",
    "transcript[['offer id']]=transcript[['offer id']].fillna('unknown')\n",
    "transcript[['amount']]=transcript[['amount']].fillna(0)\n",
    "transcript[['store_credit']]=transcript[['store_credit']].fillna(0)\n",
    "\n"
   ]
  },
  {
   "cell_type": "code",
   "execution_count": 29,
   "metadata": {},
   "outputs": [
    {
     "name": "stdout",
     "output_type": "stream",
     "text": [
      "Number of records 306534\n"
     ]
    },
    {
     "data": {
      "text/plain": [
       "True"
      ]
     },
     "execution_count": 29,
     "metadata": {},
     "output_type": "execute_result"
    }
   ],
   "source": [
    "print('Number of records', transcript.shape[0])\n",
    "transcript.duplicated().any()"
   ]
  },
  {
   "cell_type": "code",
   "execution_count": 30,
   "metadata": {},
   "outputs": [
    {
     "name": "stdout",
     "output_type": "stream",
     "text": [
      "Number of records after dropping duplicates 306137\n"
     ]
    }
   ],
   "source": [
    "transcript.drop_duplicates(inplace=True)\n",
    "print('Number of records after dropping duplicates', transcript.shape[0])"
   ]
  },
  {
   "cell_type": "markdown",
   "metadata": {},
   "source": [
    "### check total transaction amount"
   ]
  },
  {
   "cell_type": "code",
   "execution_count": 31,
   "metadata": {},
   "outputs": [
    {
     "data": {
      "text/plain": [
       "offer id\n",
       "0b1e1539f2cc45b7b9fa7c272da2e1d7          0.00\n",
       "2298d6c36e964ae4a3e7e9706d1fb8c2          0.00\n",
       "2906b810c7d4411798c6938adc9daaa5          0.00\n",
       "3f207df678b143eea3cee63160fa8bed          0.00\n",
       "4d5c57ea9a6940dd891ad53e9dbe8da0          0.00\n",
       "5a8bc65990b245e5a138643cd4eb9837          0.00\n",
       "9b98b8c7a33c4b65b9aebfe6a799e6d9          0.00\n",
       "ae264e3637204a6fb9bb56bc8210ddfd          0.00\n",
       "f19421c1d4aa40978ebb69ca19b0e20d          0.00\n",
       "fafdcd668e3743c1bb461111dcafc2a4          0.00\n",
       "unknown                             1775451.97\n",
       "Name: amount, dtype: float64"
      ]
     },
     "execution_count": 31,
     "metadata": {},
     "output_type": "execute_result"
    }
   ],
   "source": [
    "transcript.groupby(['offer id'])['amount'].sum()"
   ]
  },
  {
   "cell_type": "markdown",
   "metadata": {},
   "source": [
    "# Dataset Preparation and Analysis"
   ]
  },
  {
   "cell_type": "markdown",
   "metadata": {},
   "source": [
    "<img src=\"flowchart.png\" alt=\"Drawing\" style=\"width: 450px;\"/>"
   ]
  },
  {
   "cell_type": "markdown",
   "metadata": {},
   "source": [
    "## Find Effective Offers --> Offer-Driven Purchases\n",
    "\n",
    "**Category**\n",
    "* BOGO/Discount offer: \"offer completed\" event\n",
    "* informational: \"transaction\"before offer expires"
   ]
  },
  {
   "cell_type": "markdown",
   "metadata": {},
   "source": [
    "#### 1. For those whose \"offer viewed\" happen before \"transaction\", fill the transaction with \"offer id\" from \"offer viewed\" as they may be influenced by offer. Will determine if they are actually influenced by the offer later. \n",
    "\n",
    "Steps:\n",
    "* sorting the transcript dataset by time and then event and group them by person. This will ensure that each event for each person occurs in the right sequence. \n",
    "* Then we can check if a \"transaction\" follows a \"offer viewed\" event. If so, then we assume that the transaction was potentially influenced by this offer, so we assign the \"offer id\" from \"offer view\" event to \"transaction\" event.  "
   ]
  },
  {
   "cell_type": "code",
   "execution_count": 32,
   "metadata": {},
   "outputs": [
    {
     "data": {
      "text/html": [
       "<div>\n",
       "<style scoped>\n",
       "    .dataframe tbody tr th:only-of-type {\n",
       "        vertical-align: middle;\n",
       "    }\n",
       "\n",
       "    .dataframe tbody tr th {\n",
       "        vertical-align: top;\n",
       "    }\n",
       "\n",
       "    .dataframe thead th {\n",
       "        text-align: right;\n",
       "    }\n",
       "</style>\n",
       "<table border=\"1\" class=\"dataframe\">\n",
       "  <thead>\n",
       "    <tr style=\"text-align: right;\">\n",
       "      <th></th>\n",
       "      <th>person</th>\n",
       "      <th>event</th>\n",
       "      <th>time</th>\n",
       "      <th>offer id</th>\n",
       "      <th>amount</th>\n",
       "      <th>store_credit</th>\n",
       "      <th>pre_event</th>\n",
       "      <th>pre_offer</th>\n",
       "    </tr>\n",
       "  </thead>\n",
       "  <tbody>\n",
       "    <tr>\n",
       "      <th>0</th>\n",
       "      <td>78afa995795e4d85b5d9ceeca43f5fef</td>\n",
       "      <td>offer received</td>\n",
       "      <td>0</td>\n",
       "      <td>9b98b8c7a33c4b65b9aebfe6a799e6d9</td>\n",
       "      <td>0.0</td>\n",
       "      <td>0.0</td>\n",
       "      <td>NaN</td>\n",
       "      <td>NaN</td>\n",
       "    </tr>\n",
       "    <tr>\n",
       "      <th>1</th>\n",
       "      <td>a03223e636434f42ac4c3df47e8bac43</td>\n",
       "      <td>offer received</td>\n",
       "      <td>0</td>\n",
       "      <td>0b1e1539f2cc45b7b9fa7c272da2e1d7</td>\n",
       "      <td>0.0</td>\n",
       "      <td>0.0</td>\n",
       "      <td>NaN</td>\n",
       "      <td>NaN</td>\n",
       "    </tr>\n",
       "    <tr>\n",
       "      <th>2</th>\n",
       "      <td>e2127556f4f64592b11af22de27a7932</td>\n",
       "      <td>offer received</td>\n",
       "      <td>0</td>\n",
       "      <td>2906b810c7d4411798c6938adc9daaa5</td>\n",
       "      <td>0.0</td>\n",
       "      <td>0.0</td>\n",
       "      <td>NaN</td>\n",
       "      <td>NaN</td>\n",
       "    </tr>\n",
       "    <tr>\n",
       "      <th>3</th>\n",
       "      <td>8ec6ce2a7e7949b1bf142def7d0e0586</td>\n",
       "      <td>offer received</td>\n",
       "      <td>0</td>\n",
       "      <td>fafdcd668e3743c1bb461111dcafc2a4</td>\n",
       "      <td>0.0</td>\n",
       "      <td>0.0</td>\n",
       "      <td>NaN</td>\n",
       "      <td>NaN</td>\n",
       "    </tr>\n",
       "    <tr>\n",
       "      <th>4</th>\n",
       "      <td>68617ca6246f4fbc85e91a2a49552598</td>\n",
       "      <td>offer received</td>\n",
       "      <td>0</td>\n",
       "      <td>4d5c57ea9a6940dd891ad53e9dbe8da0</td>\n",
       "      <td>0.0</td>\n",
       "      <td>0.0</td>\n",
       "      <td>NaN</td>\n",
       "      <td>NaN</td>\n",
       "    </tr>\n",
       "  </tbody>\n",
       "</table>\n",
       "</div>"
      ],
      "text/plain": [
       "                             person           event  time  \\\n",
       "0  78afa995795e4d85b5d9ceeca43f5fef  offer received     0   \n",
       "1  a03223e636434f42ac4c3df47e8bac43  offer received     0   \n",
       "2  e2127556f4f64592b11af22de27a7932  offer received     0   \n",
       "3  8ec6ce2a7e7949b1bf142def7d0e0586  offer received     0   \n",
       "4  68617ca6246f4fbc85e91a2a49552598  offer received     0   \n",
       "\n",
       "                           offer id  amount  store_credit pre_event pre_offer  \n",
       "0  9b98b8c7a33c4b65b9aebfe6a799e6d9     0.0           0.0       NaN       NaN  \n",
       "1  0b1e1539f2cc45b7b9fa7c272da2e1d7     0.0           0.0       NaN       NaN  \n",
       "2  2906b810c7d4411798c6938adc9daaa5     0.0           0.0       NaN       NaN  \n",
       "3  fafdcd668e3743c1bb461111dcafc2a4     0.0           0.0       NaN       NaN  \n",
       "4  4d5c57ea9a6940dd891ad53e9dbe8da0     0.0           0.0       NaN       NaN  "
      ]
     },
     "execution_count": 32,
     "metadata": {},
     "output_type": "execute_result"
    }
   ],
   "source": [
    "transcript['event'] = pd.Categorical(transcript['event'], ['offer received', 'offer viewed', 'transaction', 'offer completed'])\n",
    "\n",
    "transcript['pre_event']=transcript.sort_values(['time','event']).groupby(['person'])['event'].shift(1)\n",
    "transcript['pre_offer']=transcript.sort_values(['time','event']).groupby(['person'])['offer id'].shift(1)\n",
    "transcript.loc[((transcript['event']=='transaction') & (transcript['pre_event']=='offer viewed')), 'offer id']=transcript[((transcript['event']=='transaction') & (transcript['pre_event']=='offer viewed'))]['pre_offer']\n",
    "\n",
    "transcript.head()\n"
   ]
  },
  {
   "cell_type": "markdown",
   "metadata": {},
   "source": [
    "#### 2.  Combining all three datasets\n",
    "steps:\n",
    "1. merge \"profile\" with \"transcript\" based on customer id\n",
    "2. left merge the combined dataset with \"portfolio\" based on \"offer id\"."
   ]
  },
  {
   "cell_type": "code",
   "execution_count": 33,
   "metadata": {},
   "outputs": [
    {
     "data": {
      "text/html": [
       "<div>\n",
       "<style scoped>\n",
       "    .dataframe tbody tr th:only-of-type {\n",
       "        vertical-align: middle;\n",
       "    }\n",
       "\n",
       "    .dataframe tbody tr th {\n",
       "        vertical-align: top;\n",
       "    }\n",
       "\n",
       "    .dataframe thead th {\n",
       "        text-align: right;\n",
       "    }\n",
       "</style>\n",
       "<table border=\"1\" class=\"dataframe\">\n",
       "  <thead>\n",
       "    <tr style=\"text-align: right;\">\n",
       "      <th></th>\n",
       "      <th>gender</th>\n",
       "      <th>age</th>\n",
       "      <th>income</th>\n",
       "      <th>membership_days</th>\n",
       "      <th>person</th>\n",
       "      <th>event</th>\n",
       "      <th>time</th>\n",
       "      <th>offer id</th>\n",
       "      <th>amount</th>\n",
       "      <th>store_credit</th>\n",
       "      <th>...</th>\n",
       "      <th>pre_offer</th>\n",
       "      <th>reward</th>\n",
       "      <th>difficulty</th>\n",
       "      <th>duration</th>\n",
       "      <th>offer_type</th>\n",
       "      <th>mobile</th>\n",
       "      <th>email</th>\n",
       "      <th>social</th>\n",
       "      <th>web</th>\n",
       "      <th>channels</th>\n",
       "    </tr>\n",
       "  </thead>\n",
       "  <tbody>\n",
       "    <tr>\n",
       "      <th>0</th>\n",
       "      <td>unknown</td>\n",
       "      <td>&gt;100</td>\n",
       "      <td>unknown</td>\n",
       "      <td>1174.0</td>\n",
       "      <td>68be06ca386d4c31939f3a4f0e3dd783</td>\n",
       "      <td>offer received</td>\n",
       "      <td>168</td>\n",
       "      <td>2906b810c7d4411798c6938adc9daaa5</td>\n",
       "      <td>0.00</td>\n",
       "      <td>0.0</td>\n",
       "      <td>...</td>\n",
       "      <td>NaN</td>\n",
       "      <td>2.0</td>\n",
       "      <td>10.0</td>\n",
       "      <td>168.0</td>\n",
       "      <td>discount</td>\n",
       "      <td>1.0</td>\n",
       "      <td>1.0</td>\n",
       "      <td>0.0</td>\n",
       "      <td>1.0</td>\n",
       "      <td>3.0</td>\n",
       "    </tr>\n",
       "    <tr>\n",
       "      <th>1</th>\n",
       "      <td>unknown</td>\n",
       "      <td>&gt;100</td>\n",
       "      <td>unknown</td>\n",
       "      <td>1174.0</td>\n",
       "      <td>68be06ca386d4c31939f3a4f0e3dd783</td>\n",
       "      <td>offer viewed</td>\n",
       "      <td>216</td>\n",
       "      <td>2906b810c7d4411798c6938adc9daaa5</td>\n",
       "      <td>0.00</td>\n",
       "      <td>0.0</td>\n",
       "      <td>...</td>\n",
       "      <td>2906b810c7d4411798c6938adc9daaa5</td>\n",
       "      <td>2.0</td>\n",
       "      <td>10.0</td>\n",
       "      <td>168.0</td>\n",
       "      <td>discount</td>\n",
       "      <td>1.0</td>\n",
       "      <td>1.0</td>\n",
       "      <td>0.0</td>\n",
       "      <td>1.0</td>\n",
       "      <td>3.0</td>\n",
       "    </tr>\n",
       "    <tr>\n",
       "      <th>2</th>\n",
       "      <td>unknown</td>\n",
       "      <td>&gt;100</td>\n",
       "      <td>unknown</td>\n",
       "      <td>1174.0</td>\n",
       "      <td>68be06ca386d4c31939f3a4f0e3dd783</td>\n",
       "      <td>offer received</td>\n",
       "      <td>336</td>\n",
       "      <td>0b1e1539f2cc45b7b9fa7c272da2e1d7</td>\n",
       "      <td>0.00</td>\n",
       "      <td>0.0</td>\n",
       "      <td>...</td>\n",
       "      <td>2906b810c7d4411798c6938adc9daaa5</td>\n",
       "      <td>5.0</td>\n",
       "      <td>20.0</td>\n",
       "      <td>240.0</td>\n",
       "      <td>discount</td>\n",
       "      <td>0.0</td>\n",
       "      <td>1.0</td>\n",
       "      <td>0.0</td>\n",
       "      <td>1.0</td>\n",
       "      <td>2.0</td>\n",
       "    </tr>\n",
       "    <tr>\n",
       "      <th>3</th>\n",
       "      <td>unknown</td>\n",
       "      <td>&gt;100</td>\n",
       "      <td>unknown</td>\n",
       "      <td>1174.0</td>\n",
       "      <td>68be06ca386d4c31939f3a4f0e3dd783</td>\n",
       "      <td>offer viewed</td>\n",
       "      <td>348</td>\n",
       "      <td>0b1e1539f2cc45b7b9fa7c272da2e1d7</td>\n",
       "      <td>0.00</td>\n",
       "      <td>0.0</td>\n",
       "      <td>...</td>\n",
       "      <td>0b1e1539f2cc45b7b9fa7c272da2e1d7</td>\n",
       "      <td>5.0</td>\n",
       "      <td>20.0</td>\n",
       "      <td>240.0</td>\n",
       "      <td>discount</td>\n",
       "      <td>0.0</td>\n",
       "      <td>1.0</td>\n",
       "      <td>0.0</td>\n",
       "      <td>1.0</td>\n",
       "      <td>2.0</td>\n",
       "    </tr>\n",
       "    <tr>\n",
       "      <th>4</th>\n",
       "      <td>unknown</td>\n",
       "      <td>&gt;100</td>\n",
       "      <td>unknown</td>\n",
       "      <td>1174.0</td>\n",
       "      <td>68be06ca386d4c31939f3a4f0e3dd783</td>\n",
       "      <td>transaction</td>\n",
       "      <td>360</td>\n",
       "      <td>0b1e1539f2cc45b7b9fa7c272da2e1d7</td>\n",
       "      <td>0.35</td>\n",
       "      <td>0.0</td>\n",
       "      <td>...</td>\n",
       "      <td>0b1e1539f2cc45b7b9fa7c272da2e1d7</td>\n",
       "      <td>5.0</td>\n",
       "      <td>20.0</td>\n",
       "      <td>240.0</td>\n",
       "      <td>discount</td>\n",
       "      <td>0.0</td>\n",
       "      <td>1.0</td>\n",
       "      <td>0.0</td>\n",
       "      <td>1.0</td>\n",
       "      <td>2.0</td>\n",
       "    </tr>\n",
       "  </tbody>\n",
       "</table>\n",
       "<p>5 rows × 21 columns</p>\n",
       "</div>"
      ],
      "text/plain": [
       "    gender   age   income  membership_days                            person  \\\n",
       "0  unknown  >100  unknown           1174.0  68be06ca386d4c31939f3a4f0e3dd783   \n",
       "1  unknown  >100  unknown           1174.0  68be06ca386d4c31939f3a4f0e3dd783   \n",
       "2  unknown  >100  unknown           1174.0  68be06ca386d4c31939f3a4f0e3dd783   \n",
       "3  unknown  >100  unknown           1174.0  68be06ca386d4c31939f3a4f0e3dd783   \n",
       "4  unknown  >100  unknown           1174.0  68be06ca386d4c31939f3a4f0e3dd783   \n",
       "\n",
       "            event  time                          offer id  amount  \\\n",
       "0  offer received   168  2906b810c7d4411798c6938adc9daaa5    0.00   \n",
       "1    offer viewed   216  2906b810c7d4411798c6938adc9daaa5    0.00   \n",
       "2  offer received   336  0b1e1539f2cc45b7b9fa7c272da2e1d7    0.00   \n",
       "3    offer viewed   348  0b1e1539f2cc45b7b9fa7c272da2e1d7    0.00   \n",
       "4     transaction   360  0b1e1539f2cc45b7b9fa7c272da2e1d7    0.35   \n",
       "\n",
       "   store_credit  ...                         pre_offer reward  difficulty  \\\n",
       "0           0.0  ...                               NaN    2.0        10.0   \n",
       "1           0.0  ...  2906b810c7d4411798c6938adc9daaa5    2.0        10.0   \n",
       "2           0.0  ...  2906b810c7d4411798c6938adc9daaa5    5.0        20.0   \n",
       "3           0.0  ...  0b1e1539f2cc45b7b9fa7c272da2e1d7    5.0        20.0   \n",
       "4           0.0  ...  0b1e1539f2cc45b7b9fa7c272da2e1d7    5.0        20.0   \n",
       "\n",
       "   duration  offer_type mobile  email  social  web  channels  \n",
       "0     168.0    discount    1.0    1.0     0.0  1.0       3.0  \n",
       "1     168.0    discount    1.0    1.0     0.0  1.0       3.0  \n",
       "2     240.0    discount    0.0    1.0     0.0  1.0       2.0  \n",
       "3     240.0    discount    0.0    1.0     0.0  1.0       2.0  \n",
       "4     240.0    discount    0.0    1.0     0.0  1.0       2.0  \n",
       "\n",
       "[5 rows x 21 columns]"
      ]
     },
     "execution_count": 33,
     "metadata": {},
     "output_type": "execute_result"
    }
   ],
   "source": [
    "# merge profile and transcripts based on customer id\n",
    "df=profile.merge(transcript, left_on='id', right_on='person').drop('id', axis=1)\n",
    "\n",
    "# merge with offer portfolio based on offer id\n",
    "df=df.merge(portfolio, left_on='offer id', right_on='id', how='left').drop('id', axis=1)\n",
    "\n",
    "df.head()"
   ]
  },
  {
   "cell_type": "markdown",
   "metadata": {},
   "source": [
    "#### 3. Check if offer is still valid at transaction\n",
    "\n",
    "* get the difference between \"transaction\" and \"offer received\" as a new column named \"time_since_receive\". \n",
    "* since all BOGO/discount offers are marked with \"offer completed\", so it's not necessary to check if transaction activity with this type of offers is within the valid period of the offer. Only informational type of offer is checked here."
   ]
  },
  {
   "cell_type": "code",
   "execution_count": 34,
   "metadata": {},
   "outputs": [],
   "source": [
    "# get difference in time\n",
    "\n",
    "df['time_since_receive']=df[((df['event']=='offer received') | (df['event']=='transaction'))].groupby(['person','offer id'])['time'].diff()\n",
    "\n"
   ]
  },
  {
   "cell_type": "markdown",
   "metadata": {},
   "source": [
    "**CAUTION**: df[df['time_since_receive']<df['duration']] may false positives rows for the following cases: \n",
    "* offer received - offer received\n",
    "* transaction - transaction\n",
    "* offer received - transaction\n",
    "\n",
    "so \"time_since_receive\" < \"duration\" need to used along with other conditions, i.e.:\n",
    "1. \"time_since_receive\" < \"duration\"\n",
    "2. event == 'transaction'\n",
    "3. \"transaction\" has a valid \"offer id\" (since this indicates this transaction is followed by \"offer view\" )"
   ]
  },
  {
   "cell_type": "markdown",
   "metadata": {},
   "source": [
    "#### 4. considred to be an effective offer if the following criterias are met:\n",
    "1. BOGO/Discount offer --> event is \"offer completed\"\n",
    "2. Informational Offer \n",
    "    1. \"time_since_receive\" < \"duration\"  (time_since_receive is nan for other types of offers)\n",
    "    2. event is \"transaction\" \n",
    "    3. \"transaction\" event has an \"offer id\", indicating it follows an \"offer viewed\" event"
   ]
  },
  {
   "cell_type": "code",
   "execution_count": 35,
   "metadata": {},
   "outputs": [],
   "source": [
    "# consider offer to be effective if time_since_receive<duration\n",
    "\n",
    "# initialize all to 0\n",
    "df['offer_driven']=0\n",
    "\n",
    "# offers with \"offer completed\" happening after \"offer viewed\" \n",
    "df['event'] = pd.Categorical(df['event'], ['offer received', 'offer viewed', 'transaction', 'offer completed'])\n",
    "df['pre_event']=df[((df['event']=='offer viewed') |(df['event']=='offer completed'))].sort_values(['time','event']).groupby(['person', 'offer id'])['event'].shift(1)\n",
    "df['pre_offer']=df[((df['event']=='offer viewed') |(df['event']=='offer completed'))].sort_values(['time','event']).groupby(['person', 'offer id'])['offer id'].shift(1)\n",
    "\n",
    "df.loc[((df['event']=='offer completed') & (df['pre_event']=='offer viewed')), 'offer_driven']=1\n",
    "\n",
    "\n",
    "# offer viewed\" before \"transaction\" AND \"time_since_receive\"<\"duration\"\n",
    "df.loc[(df['offer id']!='unknown') & (df['event']=='transaction') & (df['time_since_receive']<=df['duration']),'offer_driven']=1\n"
   ]
  },
  {
   "cell_type": "markdown",
   "metadata": {},
   "source": [
    "## Inactive Customers _ Customers Never Made Any Purchases"
   ]
  },
  {
   "cell_type": "code",
   "execution_count": 36,
   "metadata": {},
   "outputs": [
    {
     "name": "stdout",
     "output_type": "stream",
     "text": [
      "There are 422 customers that never made a purchase\n"
     ]
    }
   ],
   "source": [
    "# find all customers with purchase history\n",
    "cust_with_purchase=set(df[df['event'].isin(['offer completed', 'transaction'])].groupby('person')['event'].count().index.to_list())\n",
    "cust_no_purchase=set(df[~df['person'].isin(cust_with_purchase)]['person'].to_list())\n",
    "print(\"There are {} customers that never made a purchase\".format(len(cust_no_purchase)))\n",
    "\n",
    "# a new column \"active_customer\": 0: inactive; 1: active\n",
    "df['active_customer']=1\n",
    "df.loc[df['person'].isin(cust_no_purchase), 'active_customer']=0\n"
   ]
  },
  {
   "cell_type": "markdown",
   "metadata": {},
   "source": [
    "## Offer-Irrelevant Purchases\n",
    "1. standalone \"transaction\", those not following \"offer viewed\"\n",
    "    * \"offer id\" is unknown\n",
    "2. \"transaction\" followed \"offer viewed\", but\n",
    "    1. BOGO/Discount offers with \"transaction\" only, not followed by \"offer completed\".\n",
    "    2. Informational offers but transaction happens when offer expired.\n",
    "   "
   ]
  },
  {
   "cell_type": "code",
   "execution_count": 37,
   "metadata": {},
   "outputs": [],
   "source": [
    "# initialize all to 0\n",
    "df['offer_irrelevant']=0\n",
    "\n",
    "# transaction not following \"offer viewed\" -- standalone transactions\n",
    "df.loc[((df['event']=='transaction') & (df['offer id']=='unknown')), 'offer_irrelevant']=1\n",
    "\n",
    "# transaction follows 'offer viewed', but time_since_receive>duration (informational offer)\n",
    "df.loc[(df['offer id']!='unknown') & (df['event']=='transaction') & ((df['time_since_receive']>df['duration'])),'offer_irrelevant']=1\n",
    "\n"
   ]
  },
  {
   "cell_type": "code",
   "execution_count": 38,
   "metadata": {},
   "outputs": [],
   "source": [
    "# transaction follows 'offer viewed', but not followed by \"offer completed\" (BOGO/Discount offers)\n",
    "\n",
    "df['event'] = pd.Categorical(df['event'], ['offer received', 'offer viewed', 'transaction', 'offer completed'])\n",
    "\n",
    "df['post_event']=df.sort_values(['time','event']).groupby(['person', 'offer id'])['event'].shift(-1)\n",
    "df['post_offer']=df.sort_values(['time','event']).groupby(['person', 'offer id'])['offer id'].shift(-1)\n",
    "\n",
    "\n",
    "df.loc[((df['event']=='transaction') & (df['offer id']!='unknown') & (df['time_since_receive'].isnull()) & ((df['post_event']!='offer completed') | (df['post_offer']!=df['offer id']))), 'offer_irrelevant']=1\n"
   ]
  },
  {
   "cell_type": "code",
   "execution_count": 39,
   "metadata": {},
   "outputs": [],
   "source": [
    "# offer completed not following offer viewed\n",
    "\n",
    "# BOGO/Discount offers with \"offer completed\" happening after \"offer viewed\" \n",
    "df['event'] = pd.Categorical(df['event'], ['offer received', 'offer viewed', 'transaction', 'offer completed'])\n",
    "df['pre_event']=df[((df['event']=='offer viewed') |(df['event']=='offer completed'))].sort_values(['time','event']).groupby(['person', 'offer id'])['event'].shift(1)\n",
    "df['pre_offer']=df[((df['event']=='offer viewed') |(df['event']=='offer completed'))].sort_values(['time','event']).groupby(['person', 'offer id'])['offer id'].shift(1)\n",
    "\n",
    "df.loc[((df['event']=='offer completed') & ((df['pre_event']!='offer viewed') | (df['pre_event'].isnull()))), 'offer_irrelevant']=1\n"
   ]
  },
  {
   "cell_type": "code",
   "execution_count": 40,
   "metadata": {},
   "outputs": [
    {
     "name": "stdout",
     "output_type": "stream",
     "text": [
      "total purchase amount with offers 584549.0\n",
      "total purchase amount without offers 1190903.0\n",
      "total purchase amount 1775452.0\n",
      "--------------------------------------------\n"
     ]
    }
   ],
   "source": [
    "# Check: total purchase amount\n",
    "print(\"total purchase amount with offers\", round(df[df['offer id']!='unknown'].groupby('offer id')['amount'].sum().sum()))\n",
    "print(\"total purchase amount without offers\", round(df[df['offer id']=='unknown'].groupby('offer id')['amount'].sum().sum()))\n",
    "print(\"total purchase amount\", round(df.groupby('offer id')['amount'].sum().sum()))\n",
    "\n",
    "print(\"--------------------------------------------\")\n"
   ]
  },
  {
   "cell_type": "markdown",
   "metadata": {},
   "source": [
    "#### delete transactions before \"offer completed\" and copy transaction amount to \"offer complete\" event"
   ]
  },
  {
   "cell_type": "code",
   "execution_count": 41,
   "metadata": {},
   "outputs": [],
   "source": [
    "# copy transaction amount to \"offer complete\" event\n",
    "df['pre_amount']=df[(df['event']=='transaction') | (df['event']=='offer completed')].sort_values(['time','event']).groupby(['person', 'offer id'])['amount'].shift(1)\n",
    "df['pre_offer']=df[(df['event']=='transaction') | (df['event']=='offer completed')].sort_values(['time','event']).groupby(['person', 'offer id'])['offer id'].shift(1)\n",
    "df['pre_event']=df[(df['event']=='transaction') | (df['event']=='offer completed')].sort_values(['time','event']).groupby(['person', 'offer id'])['event'].shift(1)\n",
    "\n",
    "df.loc[(df['event']=='offer completed') & (df['pre_event']=='transaction') & (df['pre_offer']==df['offer id']), 'amount']=df[(df['event']=='offer completed') & (df['pre_event']=='transaction') & (df['pre_offer']==df['offer id'])]['pre_amount'] \n",
    "\n",
    "\n",
    "# delete transactions before \"offer completed\"\n",
    "df['post_event']=df[(df['event']=='transaction') | (df['event']=='offer completed')].sort_values(['time','event']).groupby(['person', 'offer id'])['event'].shift(-1)\n",
    "df['post_offer']=df[(df['event']=='transaction') | (df['event']=='offer completed')].sort_values(['time','event']).groupby(['person', 'offer id'])['offer id'].shift(-1)\n",
    "\n",
    "df=df.drop(df[(df['offer id']!='unknown') & (df['event']=='transaction') & (df['post_event']=='offer completed') & (df['post_offer']==df['offer id'])].index)\n"
   ]
  },
  {
   "cell_type": "markdown",
   "metadata": {},
   "source": [
    "#### sanity check"
   ]
  },
  {
   "cell_type": "markdown",
   "metadata": {},
   "source": [
    "all \"transaction\" event remaining shall be labeled either as \"offer_irrelevant\" or \"offer_driven\""
   ]
  },
  {
   "cell_type": "code",
   "execution_count": 42,
   "metadata": {},
   "outputs": [
    {
     "data": {
      "text/plain": [
       "0"
      ]
     },
     "execution_count": 42,
     "metadata": {},
     "output_type": "execute_result"
    }
   ],
   "source": [
    "df[(df['event']=='transaction') & (df['offer_irrelevant']==0) & (df['offer_driven']==0)].shape[0]"
   ]
  },
  {
   "cell_type": "markdown",
   "metadata": {},
   "source": [
    "all \"offer completed\" event shall be labeled \"offer_irrelevant\"==0 and \"offer_driven\"==1"
   ]
  },
  {
   "cell_type": "code",
   "execution_count": 43,
   "metadata": {},
   "outputs": [
    {
     "data": {
      "text/plain": [
       "array([1, 0])"
      ]
     },
     "execution_count": 43,
     "metadata": {},
     "output_type": "execute_result"
    }
   ],
   "source": [
    "df[(df['event']=='offer completed')]['offer_driven'].unique()"
   ]
  },
  {
   "cell_type": "code",
   "execution_count": 44,
   "metadata": {},
   "outputs": [
    {
     "data": {
      "text/plain": [
       "array([0, 1])"
      ]
     },
     "execution_count": 44,
     "metadata": {},
     "output_type": "execute_result"
    }
   ],
   "source": [
    "df[(df['event']=='offer completed')]['offer_irrelevant'].unique()"
   ]
  },
  {
   "cell_type": "markdown",
   "metadata": {},
   "source": [
    "all other events should be 0 for both offer_irrelevant and 'offer_driven'"
   ]
  },
  {
   "cell_type": "code",
   "execution_count": 45,
   "metadata": {},
   "outputs": [
    {
     "data": {
      "text/plain": [
       "array([0])"
      ]
     },
     "execution_count": 45,
     "metadata": {},
     "output_type": "execute_result"
    }
   ],
   "source": [
    "df[(df['event']!='offer completed')& (df['event']!='transaction')]['offer_irrelevant'].unique()"
   ]
  },
  {
   "cell_type": "code",
   "execution_count": 46,
   "metadata": {},
   "outputs": [
    {
     "data": {
      "text/plain": [
       "array([0])"
      ]
     },
     "execution_count": 46,
     "metadata": {},
     "output_type": "execute_result"
    }
   ],
   "source": [
    "df[(df['event']!='offer completed')& (df['event']!='transaction')]['offer_driven'].unique()"
   ]
  },
  {
   "cell_type": "code",
   "execution_count": 47,
   "metadata": {},
   "outputs": [
    {
     "name": "stdout",
     "output_type": "stream",
     "text": [
      "total purchase amount with offers 584549.0\n",
      "total purchase amount without offers 1190903.0\n",
      "total purchase amount 1775452.0\n",
      "--------------------------------------------\n",
      "number of purchases with offer 53457\n",
      "number of purchases without offer 97039\n",
      "total number of purchases 150496\n"
     ]
    }
   ],
   "source": [
    "# total purchase amount\n",
    "print(\"total purchase amount with offers\", round(df[df['offer id']!='unknown'].groupby('offer id')['amount'].sum().sum()))\n",
    "print(\"total purchase amount without offers\", round(df[df['offer id']=='unknown'].groupby('offer id')['amount'].sum().sum()))\n",
    "print(\"total purchase amount\", round(df.groupby('offer id')['amount'].sum().sum()))\n",
    "\n",
    "print(\"--------------------------------------------\")\n",
    "\n",
    "# number of purchases with offer \n",
    "print(\"number of purchases with offer\", df[((df['event']=='transaction') & (df['offer id']!='unknown')) | (df['event']=='offer completed') ].shape[0] )\n",
    "print(\"number of purchases without offer\", df[(df['event']=='transaction') & (df['offer id']=='unknown')].shape[0])\n",
    "print(\"total number of purchases\", df[(df['event']=='transaction') | (df['event']=='offer completed')].shape[0])\n"
   ]
  },
  {
   "cell_type": "code",
   "execution_count": 48,
   "metadata": {},
   "outputs": [
    {
     "name": "stdout",
     "output_type": "stream",
     "text": [
      "total number of purchases 150496\n"
     ]
    }
   ],
   "source": [
    "# all purchases should be marked as either offer_driven or offer_irrelevant.\n",
    "print(\"total number of purchases\", df[(df['offer_driven']==1) | (df['offer_irrelevant']==1)].shape[0])"
   ]
  },
  {
   "cell_type": "markdown",
   "metadata": {},
   "source": [
    "## More Dataset Exploration and Cleaning"
   ]
  },
  {
   "cell_type": "markdown",
   "metadata": {},
   "source": [
    "### Transaction Cleaning"
   ]
  },
  {
   "cell_type": "markdown",
   "metadata": {},
   "source": [
    "**Goal**： keep 1 transaction history for each offer/order. \n",
    "\n",
    "**Summary** of the three features added before:\n",
    "* offer_driven: all \"offer_complete\" event and qualified \"transaction\" event == 1\n",
    "* active_customer: \n",
    "    * active customer == 1\n",
    "    * inactive customer == 0 -- without any transaction/complete\n",
    "* offer_irrelevant: all other \"transaction\" event not qualified as \"offer_driven\" == 1 \n",
    "\n",
    "\n",
    "**Steps**:\n",
    "* **A** Each customer may received multiple offers. No matter they used it or not, it is a history of offer sent. So all \"offer received\" event should be kept. We add a new feature **keep** to flag all rows to be kept.\n",
    "* **B** There may be standalone transactions without any offers. All of them don't have an \"offer id\". They will need to be kept.\n",
    "* **C** For \"transaction\" (Informational offers), we would like to copy those labels from \"transaction\"events to their corresponding \"offer received\" events. \n",
    "* **D** For \"offer completed\" (BOGO/Discount offers), we would like to copy those labels from \"offer completed\"events to their corresponding \"offer received\" events. \n"
   ]
  },
  {
   "cell_type": "code",
   "execution_count": 49,
   "metadata": {},
   "outputs": [],
   "source": [
    "df['keep']=0"
   ]
  },
  {
   "cell_type": "markdown",
   "metadata": {},
   "source": [
    "**A**: \"offer received\" event for inactive customers"
   ]
  },
  {
   "cell_type": "code",
   "execution_count": 50,
   "metadata": {},
   "outputs": [],
   "source": [
    "# df.loc[(df['event']=='offer received') & (df['active_customer']==0), 'keep']=1\n",
    "df.loc[(df['event']=='offer received') , 'keep']=1"
   ]
  },
  {
   "cell_type": "markdown",
   "metadata": {},
   "source": [
    "**B**: standalone purchases"
   ]
  },
  {
   "cell_type": "code",
   "execution_count": 51,
   "metadata": {},
   "outputs": [],
   "source": [
    "# standalone transactions\n",
    "df.loc[((df['event'] == 'transaction') & (df['offer id'] == 'unknown')), 'keep']=1"
   ]
  },
  {
   "cell_type": "markdown",
   "metadata": {},
   "source": [
    "**C** & **D**\n",
    "* shift(-1) to check if there is a \"transaction\" or \"order completed\" event follows an \"offer received\". "
   ]
  },
  {
   "cell_type": "code",
   "execution_count": 52,
   "metadata": {},
   "outputs": [],
   "source": [
    "df['post_event']=df[((df['event']=='offer received') | (df['event']=='transaction') |(df['event']=='offer completed'))].sort_values(['time', 'event']).groupby(['person', 'offer id'])['event'].shift(-1)\n",
    "df['post_id']=df[((df['event']=='offer received') | (df['event']=='transaction') |(df['event']=='offer completed'))].sort_values(['time', 'event']).groupby(['person', 'offer id'])['offer id'].shift(-1)\n",
    "\n",
    "df['post_driven']=df[((df['event']=='offer received') | (df['event']=='transaction')  |(df['event']=='offer completed'))].sort_values(['time', 'event']).groupby(['person', 'offer id'])['offer_driven'].shift(-1)\n",
    "df['post_irrelevant']=df[((df['event']=='offer received') | (df['event']=='transaction') |(df['event']=='offer completed'))].sort_values(['time', 'event']).groupby(['person', 'offer id'])['offer_irrelevant'].shift(-1)\n",
    "\n",
    "df['post_amount']=df[((df['event']=='offer received') | (df['event']=='transaction')  |(df['event']=='offer completed'))].sort_values(['time', 'event']).groupby(['person', 'offer id'])['amount'].shift(-1)\n"
   ]
  },
  {
   "cell_type": "markdown",
   "metadata": {},
   "source": [
    "**C**: active customer, \"offer received\", has transactions\n",
    "* \"offer received\" is followed by a \"transaction\" or \"order completed\" event with the same \"offer id\""
   ]
  },
  {
   "cell_type": "code",
   "execution_count": 53,
   "metadata": {},
   "outputs": [],
   "source": [
    "\n",
    "# flag offer related purchases on \"offer receive event\" and copy the transaction amount to 'offer received event'\n",
    "# df.loc[(df['event']=='offer received') & ((df['post_event']=='offer completed') | (df['post_event']=='transaction')) & (df['offer id'] == df['post_id']), ['offer_irrelevant','offer_driven', 'amount']]=df[(df['event']=='offer received') & ((df['post_event']=='offer completed') | (df['post_event']=='transaction')) & (df['offer id'] == df['post_id'])][['post_irrelevant', 'post_driven', 'post_amount']]\n",
    "\n",
    "# offer received --> offer completed (including offer received --> transaction --> offer completed)\n",
    "# offer received --> transaction\n",
    "\n",
    "# mark those records as records to \"keep\"\n",
    "df.loc[(df['event']=='offer received') & ((df['post_event']=='offer completed') | (df['post_event']=='transaction')) & (df['offer id'] == df['post_id']), 'keep']=1\n",
    "\n",
    "\n",
    "df.loc[(df['event']=='offer received') & ((df['post_event']=='offer completed') | (df['post_event']=='transaction')) & (df['offer id'] == df['post_id']), 'offer_irrelevant']=df[(df['event']=='offer received') & ((df['post_event']=='offer completed') | (df['post_event']=='transaction')) & (df['offer id'] == df['post_id'])]['post_irrelevant']\n",
    "df.loc[(df['event']=='offer received') & ((df['post_event']=='offer completed') | (df['post_event']=='transaction')) & (df['offer id'] == df['post_id']), 'offer_driven']=df[(df['event']=='offer received') & ((df['post_event']=='offer completed') | (df['post_event']=='transaction')) & (df['offer id'] == df['post_id'])]['post_driven']\n",
    "df.loc[(df['event']=='offer received') & ((df['post_event']=='offer completed') | (df['post_event']=='transaction')) & (df['offer id'] == df['post_id']), 'amount']=df[(df['event']=='offer received') & ((df['post_event']=='offer completed') | (df['post_event']=='transaction')) & (df['offer id'] == df['post_id'])]['post_amount']\n"
   ]
  },
  {
   "cell_type": "markdown",
   "metadata": {},
   "source": [
    "#### Other Cases\n",
    "transactions that not happening with right order, but already marked with \"offer_driven\" or \"offer_irrelevant\""
   ]
  },
  {
   "cell_type": "code",
   "execution_count": 54,
   "metadata": {},
   "outputs": [],
   "source": [
    "# offer received --> offer completed  --> transaction\n",
    "df['pre_event']=df[((df['event']=='offer received') | (df['event']=='transaction') |(df['event']=='offer completed'))].sort_values(['time', 'event']).groupby(['person', 'offer id'])['event'].shift(1)\n",
    "df['pre_id']=df[((df['event']=='offer received') | (df['event']=='transaction') |(df['event']=='offer completed'))].sort_values(['time', 'event']).groupby(['person', 'offer id'])['offer id'].shift(1)\n",
    "\n",
    "df.loc[(df['event']==\"transaction\") & (df['pre_event']==\"offer completed\") & (df['keep']==0) & ((df['offer_driven']==1)|(df['offer_irrelevant']==1)), 'keep']=1\n"
   ]
  },
  {
   "cell_type": "markdown",
   "metadata": {},
   "source": [
    "offer completed happens between two offer received events: offer recieved --> offer received --> offer completed --> offer completed"
   ]
  },
  {
   "cell_type": "code",
   "execution_count": 55,
   "metadata": {},
   "outputs": [],
   "source": [
    "df['pre_event']=df[((df['event']=='offer received') |(df['event']=='offer completed'))].sort_values(['time', 'event']).groupby(['person', 'offer id'])['event'].shift(1)\n",
    "df['pre_id']=df[((df['event']=='offer received') |(df['event']=='offer completed'))].sort_values(['time', 'event']).groupby(['person', 'offer id'])['offer id'].shift(1)\n",
    "\n",
    "df.loc[(df['event']==\"offer completed\") & (df['pre_event']==\"offer completed\") & (df['offer id']==df['pre_id']), 'keep']=1\n"
   ]
  },
  {
   "cell_type": "markdown",
   "metadata": {},
   "source": [
    "### Dataset Clean"
   ]
  },
  {
   "cell_type": "code",
   "execution_count": 56,
   "metadata": {},
   "outputs": [
    {
     "name": "stdout",
     "output_type": "stream",
     "text": [
      "284498 records before cleaning. 176043 records after cleaning\n"
     ]
    }
   ],
   "source": [
    "n_pre_record=df.shape[0]\n",
    "df=df[(df['keep']==1)]\n",
    "print(\"{} records before cleaning. {} records after cleaning\".format(n_pre_record,df.shape[0]))"
   ]
  },
  {
   "cell_type": "markdown",
   "metadata": {},
   "source": [
    "### Sanity Checks"
   ]
  },
  {
   "cell_type": "code",
   "execution_count": 57,
   "metadata": {},
   "outputs": [
    {
     "data": {
      "text/plain": [
       "<matplotlib.axes._subplots.AxesSubplot at 0x13f5fbc10>"
      ]
     },
     "execution_count": 57,
     "metadata": {},
     "output_type": "execute_result"
    },
    {
     "data": {
      "image/png": "[encoded data removed]",
      "text/plain": [
       "<Figure size 432x288 with 1 Axes>"
      ]
     },
     "metadata": {
      "needs_background": "light"
     },
     "output_type": "display_data"
    }
   ],
   "source": [
    "df[df['event']=='offer received'].groupby('person')['event'].count().hist(bins=range(1,8), rwidth=0.5, align='left')\n"
   ]
  },
  {
   "cell_type": "code",
   "execution_count": 58,
   "metadata": {},
   "outputs": [
    {
     "data": {
      "text/html": [
       "<div>\n",
       "<style scoped>\n",
       "    .dataframe tbody tr th:only-of-type {\n",
       "        vertical-align: middle;\n",
       "    }\n",
       "\n",
       "    .dataframe tbody tr th {\n",
       "        vertical-align: top;\n",
       "    }\n",
       "\n",
       "    .dataframe thead th {\n",
       "        text-align: right;\n",
       "    }\n",
       "</style>\n",
       "<table border=\"1\" class=\"dataframe\">\n",
       "  <thead>\n",
       "    <tr style=\"text-align: right;\">\n",
       "      <th></th>\n",
       "      <th>gender</th>\n",
       "      <th>age</th>\n",
       "      <th>income</th>\n",
       "      <th>membership_days</th>\n",
       "      <th>person</th>\n",
       "      <th>event</th>\n",
       "      <th>time</th>\n",
       "      <th>offer id</th>\n",
       "      <th>amount</th>\n",
       "      <th>store_credit</th>\n",
       "      <th>...</th>\n",
       "      <th>offer_irrelevant</th>\n",
       "      <th>post_event</th>\n",
       "      <th>post_offer</th>\n",
       "      <th>pre_amount</th>\n",
       "      <th>keep</th>\n",
       "      <th>post_id</th>\n",
       "      <th>post_driven</th>\n",
       "      <th>post_irrelevant</th>\n",
       "      <th>post_amount</th>\n",
       "      <th>pre_id</th>\n",
       "    </tr>\n",
       "  </thead>\n",
       "  <tbody>\n",
       "  </tbody>\n",
       "</table>\n",
       "<p>0 rows × 34 columns</p>\n",
       "</div>"
      ],
      "text/plain": [
       "Empty DataFrame\n",
       "Columns: [gender, age, income, membership_days, person, event, time, offer id, amount, store_credit, pre_event, pre_offer, reward, difficulty, duration, offer_type, mobile, email, social, web, channels, time_since_receive, offer_driven, active_customer, offer_irrelevant, post_event, post_offer, pre_amount, keep, post_id, post_driven, post_irrelevant, post_amount, pre_id]\n",
       "Index: []\n",
       "\n",
       "[0 rows x 34 columns]"
      ]
     },
     "execution_count": 58,
     "metadata": {},
     "output_type": "execute_result"
    }
   ],
   "source": [
    "df[(df['event']=='transaction') & ((df['offer_driven']==0) & (df['offer_irrelevant']==0))]"
   ]
  },
  {
   "cell_type": "code",
   "execution_count": 59,
   "metadata": {},
   "outputs": [
    {
     "data": {
      "text/plain": [
       "97039"
      ]
     },
     "execution_count": 59,
     "metadata": {},
     "output_type": "execute_result"
    }
   ],
   "source": [
    "# number of standalone transactions\n",
    "# df[(df['event']=='transaction')].shape[0]\n",
    "\n",
    "# equals\n",
    "df[(df['offer id']=='unknown')].shape[0]"
   ]
  },
  {
   "cell_type": "code",
   "execution_count": 60,
   "metadata": {},
   "outputs": [
    {
     "data": {
      "text/plain": [
       "50730"
      ]
     },
     "execution_count": 60,
     "metadata": {},
     "output_type": "execute_result"
    }
   ],
   "source": [
    "df[((df['event']=='offer received') & ((df['offer_driven']==1) | (df['offer_irrelevant']==1)))].shape[0]\n"
   ]
  },
  {
   "cell_type": "code",
   "execution_count": 61,
   "metadata": {},
   "outputs": [
    {
     "data": {
      "text/plain": [
       "array([0., 1.])"
      ]
     },
     "execution_count": 61,
     "metadata": {},
     "output_type": "execute_result"
    }
   ],
   "source": [
    "df[(df['offer id']!='unknown')]['offer_driven'].unique()"
   ]
  },
  {
   "cell_type": "code",
   "execution_count": 62,
   "metadata": {},
   "outputs": [
    {
     "name": "stdout",
     "output_type": "stream",
     "text": [
      "total purchase amount with offers 584549.0\n",
      "total purchase amount without offers 1190903.0\n",
      "total purchase amount 1775452.0\n",
      "--------------------------------------------\n",
      "number of purchases with offer 53457\n",
      "number of purchases without offer 97039\n",
      "total number of purchases 150496\n"
     ]
    }
   ],
   "source": [
    "# total purchase amount\n",
    "print(\"total purchase amount with offers\", round(df[df['offer id']!='unknown'].groupby('offer id')['amount'].sum().sum()))\n",
    "print(\"total purchase amount without offers\", round(df[df['offer id']=='unknown'].groupby('offer id')['amount'].sum().sum()))\n",
    "print(\"total purchase amount\", round(df.groupby('offer id')['amount'].sum().sum()))\n",
    "\n",
    "print(\"--------------------------------------------\")\n",
    "\n",
    "# number of purchases with offer \n",
    "print(\"number of purchases with offer\", df[ (df['offer id']!='unknown') & ((df['offer_driven']==1) | (df['offer_irrelevant']==1))].shape[0] )\n",
    "print(\"number of purchases without offer\", df[(df['offer id']=='unknown')].shape[0])\n",
    "print(\"total number of purchases\", df[(df['event']=='transaction') | (df['event']=='offer completed')| ((df['event']=='offer received') & ((df['offer_driven']==1) | (df['offer_irrelevant']==1)))].shape[0])\n"
   ]
  },
  {
   "cell_type": "markdown",
   "metadata": {},
   "source": [
    "## Remove Irrelevant Features"
   ]
  },
  {
   "cell_type": "code",
   "execution_count": 75,
   "metadata": {},
   "outputs": [],
   "source": [
    "df_backup=df.copy()\n",
    "\n",
    "# df=df_backup.copy()"
   ]
  },
  {
   "cell_type": "code",
   "execution_count": 77,
   "metadata": {},
   "outputs": [],
   "source": [
    "# Drop unnecessary columns\n",
    "to_be_dropped=[\n",
    "    'pre_event', 'pre_offer', 'post_event', 'post_offer', 'post_driven','post_irrelevant', 'post_id',  \n",
    "    'time_since_receive', 'time','store_credit',\n",
    "    'mobile', 'web', 'email','social','time_since_receive','post_event',\n",
    "    'post_offer', 'pre_amount', 'keep', 'post_id',\n",
    "    'post_driven', 'post_irrelevant', 'post_amount', 'pre_id'\n",
    "]\n",
    "df=df.drop(to_be_dropped, axis=1)"
   ]
  },
  {
   "cell_type": "code",
   "execution_count": 78,
   "metadata": {},
   "outputs": [
    {
     "data": {
      "text/plain": [
       "gender              False\n",
       "age                 False\n",
       "income              False\n",
       "membership_days     False\n",
       "person              False\n",
       "event               False\n",
       "offer id            False\n",
       "amount              False\n",
       "reward               True\n",
       "difficulty           True\n",
       "duration             True\n",
       "offer_type           True\n",
       "channels             True\n",
       "offer_driven        False\n",
       "active_customer     False\n",
       "offer_irrelevant    False\n",
       "dtype: bool"
      ]
     },
     "execution_count": 78,
     "metadata": {},
     "output_type": "execute_result"
    }
   ],
   "source": [
    "df.isnull().any()"
   ]
  },
  {
   "cell_type": "code",
   "execution_count": 80,
   "metadata": {},
   "outputs": [],
   "source": [
    "df[['channels', 'difficulty', 'duration', 'reward']].fillna(0, inplace=True)\n",
    "df['offer_type'].fillna(\"NoOffer\", inplace=True)"
   ]
  },
  {
   "cell_type": "markdown",
   "metadata": {},
   "source": [
    "## Data Exploration"
   ]
  },
  {
   "cell_type": "code",
   "execution_count": 81,
   "metadata": {},
   "outputs": [
    {
     "data": {
      "text/html": [
       "<div>\n",
       "<style scoped>\n",
       "    .dataframe tbody tr th:only-of-type {\n",
       "        vertical-align: middle;\n",
       "    }\n",
       "\n",
       "    .dataframe tbody tr th {\n",
       "        vertical-align: top;\n",
       "    }\n",
       "\n",
       "    .dataframe thead th {\n",
       "        text-align: right;\n",
       "    }\n",
       "</style>\n",
       "<table border=\"1\" class=\"dataframe\">\n",
       "  <thead>\n",
       "    <tr style=\"text-align: right;\">\n",
       "      <th></th>\n",
       "      <th>gender</th>\n",
       "      <th>age</th>\n",
       "      <th>income</th>\n",
       "      <th>membership_days</th>\n",
       "      <th>person</th>\n",
       "      <th>event</th>\n",
       "      <th>offer id</th>\n",
       "      <th>amount</th>\n",
       "      <th>reward</th>\n",
       "      <th>difficulty</th>\n",
       "      <th>duration</th>\n",
       "      <th>offer_type</th>\n",
       "      <th>channels</th>\n",
       "      <th>offer_driven</th>\n",
       "      <th>active_customer</th>\n",
       "      <th>offer_irrelevant</th>\n",
       "    </tr>\n",
       "  </thead>\n",
       "  <tbody>\n",
       "    <tr>\n",
       "      <th>0</th>\n",
       "      <td>unknown</td>\n",
       "      <td>&gt;100</td>\n",
       "      <td>unknown</td>\n",
       "      <td>1174.0</td>\n",
       "      <td>68be06ca386d4c31939f3a4f0e3dd783</td>\n",
       "      <td>offer received</td>\n",
       "      <td>2906b810c7d4411798c6938adc9daaa5</td>\n",
       "      <td>0.00</td>\n",
       "      <td>2.0</td>\n",
       "      <td>10.0</td>\n",
       "      <td>168.0</td>\n",
       "      <td>discount</td>\n",
       "      <td>3.0</td>\n",
       "      <td>0.0</td>\n",
       "      <td>1</td>\n",
       "      <td>0.0</td>\n",
       "    </tr>\n",
       "    <tr>\n",
       "      <th>2</th>\n",
       "      <td>unknown</td>\n",
       "      <td>&gt;100</td>\n",
       "      <td>unknown</td>\n",
       "      <td>1174.0</td>\n",
       "      <td>68be06ca386d4c31939f3a4f0e3dd783</td>\n",
       "      <td>offer received</td>\n",
       "      <td>0b1e1539f2cc45b7b9fa7c272da2e1d7</td>\n",
       "      <td>0.35</td>\n",
       "      <td>5.0</td>\n",
       "      <td>20.0</td>\n",
       "      <td>240.0</td>\n",
       "      <td>discount</td>\n",
       "      <td>2.0</td>\n",
       "      <td>1.0</td>\n",
       "      <td>1</td>\n",
       "      <td>0.0</td>\n",
       "    </tr>\n",
       "    <tr>\n",
       "      <th>5</th>\n",
       "      <td>unknown</td>\n",
       "      <td>&gt;100</td>\n",
       "      <td>unknown</td>\n",
       "      <td>1174.0</td>\n",
       "      <td>68be06ca386d4c31939f3a4f0e3dd783</td>\n",
       "      <td>offer received</td>\n",
       "      <td>fafdcd668e3743c1bb461111dcafc2a4</td>\n",
       "      <td>0.74</td>\n",
       "      <td>2.0</td>\n",
       "      <td>10.0</td>\n",
       "      <td>240.0</td>\n",
       "      <td>discount</td>\n",
       "      <td>4.0</td>\n",
       "      <td>1.0</td>\n",
       "      <td>1</td>\n",
       "      <td>0.0</td>\n",
       "    </tr>\n",
       "    <tr>\n",
       "      <th>8</th>\n",
       "      <td>unknown</td>\n",
       "      <td>&gt;100</td>\n",
       "      <td>unknown</td>\n",
       "      <td>1174.0</td>\n",
       "      <td>68be06ca386d4c31939f3a4f0e3dd783</td>\n",
       "      <td>transaction</td>\n",
       "      <td>unknown</td>\n",
       "      <td>1.89</td>\n",
       "      <td>NaN</td>\n",
       "      <td>NaN</td>\n",
       "      <td>NaN</td>\n",
       "      <td>NoOffer</td>\n",
       "      <td>NaN</td>\n",
       "      <td>0.0</td>\n",
       "      <td>1</td>\n",
       "      <td>1.0</td>\n",
       "    </tr>\n",
       "    <tr>\n",
       "      <th>9</th>\n",
       "      <td>unknown</td>\n",
       "      <td>&gt;100</td>\n",
       "      <td>unknown</td>\n",
       "      <td>1174.0</td>\n",
       "      <td>68be06ca386d4c31939f3a4f0e3dd783</td>\n",
       "      <td>offer received</td>\n",
       "      <td>2298d6c36e964ae4a3e7e9706d1fb8c2</td>\n",
       "      <td>5.04</td>\n",
       "      <td>3.0</td>\n",
       "      <td>7.0</td>\n",
       "      <td>168.0</td>\n",
       "      <td>discount</td>\n",
       "      <td>4.0</td>\n",
       "      <td>1.0</td>\n",
       "      <td>1</td>\n",
       "      <td>0.0</td>\n",
       "    </tr>\n",
       "  </tbody>\n",
       "</table>\n",
       "</div>"
      ],
      "text/plain": [
       "    gender   age   income  membership_days                            person  \\\n",
       "0  unknown  >100  unknown           1174.0  68be06ca386d4c31939f3a4f0e3dd783   \n",
       "2  unknown  >100  unknown           1174.0  68be06ca386d4c31939f3a4f0e3dd783   \n",
       "5  unknown  >100  unknown           1174.0  68be06ca386d4c31939f3a4f0e3dd783   \n",
       "8  unknown  >100  unknown           1174.0  68be06ca386d4c31939f3a4f0e3dd783   \n",
       "9  unknown  >100  unknown           1174.0  68be06ca386d4c31939f3a4f0e3dd783   \n",
       "\n",
       "            event                          offer id  amount  reward  \\\n",
       "0  offer received  2906b810c7d4411798c6938adc9daaa5    0.00     2.0   \n",
       "2  offer received  0b1e1539f2cc45b7b9fa7c272da2e1d7    0.35     5.0   \n",
       "5  offer received  fafdcd668e3743c1bb461111dcafc2a4    0.74     2.0   \n",
       "8     transaction                           unknown    1.89     NaN   \n",
       "9  offer received  2298d6c36e964ae4a3e7e9706d1fb8c2    5.04     3.0   \n",
       "\n",
       "   difficulty  duration offer_type  channels  offer_driven  active_customer  \\\n",
       "0        10.0     168.0   discount       3.0           0.0                1   \n",
       "2        20.0     240.0   discount       2.0           1.0                1   \n",
       "5        10.0     240.0   discount       4.0           1.0                1   \n",
       "8         NaN       NaN    NoOffer       NaN           0.0                1   \n",
       "9         7.0     168.0   discount       4.0           1.0                1   \n",
       "\n",
       "   offer_irrelevant  \n",
       "0               0.0  \n",
       "2               0.0  \n",
       "5               0.0  \n",
       "8               1.0  \n",
       "9               0.0  "
      ]
     },
     "execution_count": 81,
     "metadata": {},
     "output_type": "execute_result"
    }
   ],
   "source": [
    "df.head()"
   ]
  },
  {
   "cell_type": "markdown",
   "metadata": {},
   "source": [
    "#### Q: How many does offers each person receive?"
   ]
  },
  {
   "cell_type": "code",
   "execution_count": 82,
   "metadata": {},
   "outputs": [
    {
     "name": "stdout",
     "output_type": "stream",
     "text": [
      "Person that never receive any offers: ['12ede229379747bd8d74ccdc20097ca3' '3a4874d8f0ef42b9a1b72294902afea9'\n",
      " 'ae8111e7e8cd4b60a8d35c42c1110555' 'c6e579c6821c41d1a7a6a9cf936e91bb'\n",
      " 'da7a7c0dcfcb41a8acc7864a53cf60fb' 'eb540099db834cf59001f83a4561aef3']\n"
     ]
    }
   ],
   "source": [
    "offer_count=df[df['offer id']!='unknown'].groupby('person')[['person']].count().rename(columns={'person':'offer_cnt'}).reset_index()\n",
    "\n",
    "# check the customers that never received any offers\n",
    "a=df['person'].unique()\n",
    "b=offer_count['person'].unique()\n",
    "print('Person that never receive any offers:', np.setdiff1d(a,b))\n",
    "\n",
    "# add the number of offer received to the dataset as a new feature\n",
    "df=df.merge(offer_count, right_on='person', left_on='person', how='left')\n",
    "df['offer_cnt'].fillna(0, inplace=True)"
   ]
  },
  {
   "cell_type": "code",
   "execution_count": 83,
   "metadata": {},
   "outputs": [
    {
     "data": {
      "image/png": "[encoded data removed]",
      "text/plain": [
       "<Figure size 432x288 with 1 Axes>"
      ]
     },
     "metadata": {
      "needs_background": "light"
     },
     "output_type": "display_data"
    }
   ],
   "source": [
    "df.groupby('person')['offer_cnt'].mean().plot(kind='hist', alpha=0.6)\n",
    "plt.xticks(np.arange(df.groupby('person')['offer_cnt'].mean().max()+1))\n",
    "plt.xlim([0,10]);\n",
    "plt.ylim([0,6000]);"
   ]
  },
  {
   "cell_type": "code",
   "execution_count": 84,
   "metadata": {},
   "outputs": [
    {
     "data": {
      "text/plain": [
       "Text(0.5, 1.0, 'average transaction amount V.S. number of offer received')"
      ]
     },
     "execution_count": 84,
     "metadata": {},
     "output_type": "execute_result"
    },
    {
     "data": {
      "image/png": "[encoded data removed]",
      "text/plain": [
       "<Figure size 432x288 with 1 Axes>"
      ]
     },
     "metadata": {
      "needs_background": "light"
     },
     "output_type": "display_data"
    }
   ],
   "source": [
    "df.groupby(\"offer_cnt\")['amount'].mean().plot(kind='bar', alpha=0.6, rot=0)\n",
    "plt.title('average transaction amount V.S. number of offer received')"
   ]
  },
  {
   "cell_type": "code",
   "execution_count": 85,
   "metadata": {},
   "outputs": [
    {
     "data": {
      "text/plain": [
       "Index(['gender', 'age', 'income', 'membership_days', 'person', 'event',\n",
       "       'offer id', 'amount', 'reward', 'difficulty', 'duration', 'offer_type',\n",
       "       'channels', 'offer_driven', 'active_customer', 'offer_irrelevant',\n",
       "       'offer_cnt'],\n",
       "      dtype='object')"
      ]
     },
     "execution_count": 85,
     "metadata": {},
     "output_type": "execute_result"
    }
   ],
   "source": [
    "df.columns"
   ]
  },
  {
   "cell_type": "markdown",
   "metadata": {},
   "source": [
    "### Demographics "
   ]
  },
  {
   "attachments": {},
   "cell_type": "markdown",
   "metadata": {},
   "source": [
    "#### Q: Gender"
   ]
  },
  {
   "cell_type": "code",
   "execution_count": 86,
   "metadata": {},
   "outputs": [
    {
     "data": {
      "image/png": "[encoded data removed]",
      "text/plain": [
       "<Figure size 432x288 with 1 Axes>"
      ]
     },
     "metadata": {
      "needs_background": "light"
     },
     "output_type": "display_data"
    }
   ],
   "source": [
    "# percentage of male/female gender\n",
    "\n",
    "(df.groupby('gender')[['person']].nunique()/df.groupby('gender')[['person']].nunique().sum()).plot(kind='bar',legend=False, alpha=0.6, rot=0.6);\n"
   ]
  },
  {
   "cell_type": "markdown",
   "metadata": {},
   "source": [
    "#### Q: incomes of Male/Female customers "
   ]
  },
  {
   "cell_type": "code",
   "execution_count": 87,
   "metadata": {},
   "outputs": [],
   "source": [
    "A=df[df['gender'].isin(['F', 'M'])].groupby(['gender','income'])[['person']].nunique().reset_index(['income']).pivot_table(index='gender',columns='income', values='person')\n",
    "A=A[['<40k', '40-60k', '60-80k', '80-100k', '>100k']]\n"
   ]
  },
  {
   "cell_type": "code",
   "execution_count": 88,
   "metadata": {},
   "outputs": [
    {
     "data": {
      "text/plain": [
       "<matplotlib.axes._subplots.AxesSubplot at 0x13dadead0>"
      ]
     },
     "execution_count": 88,
     "metadata": {},
     "output_type": "execute_result"
    },
    {
     "data": {
      "image/png": "[encoded data removed]",
      "text/plain": [
       "<Figure size 432x288 with 1 Axes>"
      ]
     },
     "metadata": {
      "needs_background": "light"
     },
     "output_type": "display_data"
    }
   ],
   "source": [
    "# Count of each income level within female and male\n",
    "\n",
    "A.plot(kind='bar', alpha=0.6, rot=0)"
   ]
  },
  {
   "cell_type": "code",
   "execution_count": 89,
   "metadata": {},
   "outputs": [
    {
     "data": {
      "text/plain": [
       "<matplotlib.axes._subplots.AxesSubplot at 0x13de30c10>"
      ]
     },
     "execution_count": 89,
     "metadata": {},
     "output_type": "execute_result"
    },
    {
     "data": {
      "image/png": "[encoded data removed]",
      "text/plain": [
       "<Figure size 432x288 with 1 Axes>"
      ]
     },
     "metadata": {
      "needs_background": "light"
     },
     "output_type": "display_data"
    }
   ],
   "source": [
    "# Percentage of each income level within female and male\n",
    "\n",
    "A.div(A.sum(axis=0)).plot(kind='bar', alpha=0.6, rot=0)"
   ]
  },
  {
   "cell_type": "markdown",
   "metadata": {},
   "source": [
    "#### Q:  distribution of days being a member for male/female customer"
   ]
  },
  {
   "cell_type": "code",
   "execution_count": 90,
   "metadata": {},
   "outputs": [
    {
     "data": {
      "image/png": "[encoded data removed]",
      "text/plain": [
       "<Figure size 432x288 with 1 Axes>"
      ]
     },
     "metadata": {
      "needs_background": "light"
     },
     "output_type": "display_data"
    }
   ],
   "source": [
    "# distribution of days being a member for male/female customer\n",
    "temp=df[df['gender'].isin(['F', 'M'])].groupby(['gender','person'])[['membership_days']].mean().pivot_table(index='person',columns='gender', values='membership_days')\n",
    "\n",
    "temp.plot.hist(alpha=0.3);"
   ]
  },
  {
   "cell_type": "markdown",
   "metadata": {},
   "source": [
    "#### Q: How each gender response to offers\n",
    "**Answers**:\n",
    "* there are about the same amount of event turns into transactions in each gender group.\n",
    "* for all purchases event, the percentages of purchases driven by offer are about the same for all genders.\n",
    "* Different gender response the same to different types of offers each gender"
   ]
  },
  {
   "cell_type": "code",
   "execution_count": 91,
   "metadata": {},
   "outputs": [
    {
     "data": {
      "text/html": [
       "<div>\n",
       "<style scoped>\n",
       "    .dataframe tbody tr th:only-of-type {\n",
       "        vertical-align: middle;\n",
       "    }\n",
       "\n",
       "    .dataframe tbody tr th {\n",
       "        vertical-align: top;\n",
       "    }\n",
       "\n",
       "    .dataframe thead th {\n",
       "        text-align: right;\n",
       "    }\n",
       "</style>\n",
       "<table border=\"1\" class=\"dataframe\">\n",
       "  <thead>\n",
       "    <tr style=\"text-align: right;\">\n",
       "      <th></th>\n",
       "      <th>offer_driven</th>\n",
       "      <th>offer_irrelevant</th>\n",
       "      <th>event_count</th>\n",
       "      <th>n_purchase</th>\n",
       "      <th>perc_purchase_event</th>\n",
       "      <th>none_purchase</th>\n",
       "      <th>perc_nonepurchase_event</th>\n",
       "    </tr>\n",
       "    <tr>\n",
       "      <th>gender</th>\n",
       "      <th></th>\n",
       "      <th></th>\n",
       "      <th></th>\n",
       "      <th></th>\n",
       "      <th></th>\n",
       "      <th></th>\n",
       "      <th></th>\n",
       "    </tr>\n",
       "  </thead>\n",
       "  <tbody>\n",
       "    <tr>\n",
       "      <th>F</th>\n",
       "      <td>15278.0</td>\n",
       "      <td>39767.0</td>\n",
       "      <td>62945</td>\n",
       "      <td>55045.0</td>\n",
       "      <td>0.874494</td>\n",
       "      <td>7900.0</td>\n",
       "      <td>0.125506</td>\n",
       "    </tr>\n",
       "    <tr>\n",
       "      <th>M</th>\n",
       "      <td>20856.0</td>\n",
       "      <td>57464.0</td>\n",
       "      <td>91267</td>\n",
       "      <td>78320.0</td>\n",
       "      <td>0.858141</td>\n",
       "      <td>12947.0</td>\n",
       "      <td>0.141859</td>\n",
       "    </tr>\n",
       "    <tr>\n",
       "      <th>O</th>\n",
       "      <td>571.0</td>\n",
       "      <td>1356.0</td>\n",
       "      <td>2190</td>\n",
       "      <td>1927.0</td>\n",
       "      <td>0.879909</td>\n",
       "      <td>263.0</td>\n",
       "      <td>0.120091</td>\n",
       "    </tr>\n",
       "    <tr>\n",
       "      <th>unknown</th>\n",
       "      <td>4797.0</td>\n",
       "      <td>10407.0</td>\n",
       "      <td>19641</td>\n",
       "      <td>15204.0</td>\n",
       "      <td>0.774095</td>\n",
       "      <td>4437.0</td>\n",
       "      <td>0.225905</td>\n",
       "    </tr>\n",
       "  </tbody>\n",
       "</table>\n",
       "</div>"
      ],
      "text/plain": [
       "         offer_driven  offer_irrelevant  event_count  n_purchase  \\\n",
       "gender                                                             \n",
       "F             15278.0           39767.0        62945     55045.0   \n",
       "M             20856.0           57464.0        91267     78320.0   \n",
       "O               571.0            1356.0         2190      1927.0   \n",
       "unknown        4797.0           10407.0        19641     15204.0   \n",
       "\n",
       "         perc_purchase_event  none_purchase  perc_nonepurchase_event  \n",
       "gender                                                                \n",
       "F                   0.874494         7900.0                 0.125506  \n",
       "M                   0.858141        12947.0                 0.141859  \n",
       "O                   0.879909          263.0                 0.120091  \n",
       "unknown             0.774095         4437.0                 0.225905  "
      ]
     },
     "execution_count": 91,
     "metadata": {},
     "output_type": "execute_result"
    }
   ],
   "source": [
    "temp=df.groupby('gender')[['offer_driven', 'offer_irrelevant']].sum()\n",
    "temp['event_count']=df.groupby('gender')[['offer_driven']].count()\n",
    "temp['n_purchase']=temp['offer_driven']+temp['offer_irrelevant']\n",
    "temp['perc_purchase_event']=temp['n_purchase']/temp['event_count']\n",
    "temp['none_purchase']=temp['event_count']-temp['n_purchase']\n",
    "temp['perc_nonepurchase_event']=temp['none_purchase']/temp['event_count']\n",
    "temp"
   ]
  },
  {
   "cell_type": "code",
   "execution_count": 92,
   "metadata": {},
   "outputs": [
    {
     "data": {
      "image/png": "[encoded data removed]",
      "text/plain": [
       "<Figure size 432x288 with 1 Axes>"
      ]
     },
     "metadata": {
      "needs_background": "light"
     },
     "output_type": "display_data"
    }
   ],
   "source": [
    "# within all purchases, the percentages of offer-driven purchases and offer-irrelevant purchases are about the same for all genders.\n",
    "temp[['offer_driven','offer_irrelevant']].div(temp[['offer_driven','offer_irrelevant']].sum(axis=1), axis=0).plot(kind='bar', alpha=0.8);\n",
    "plt.title('percentage of each purchase type');\n"
   ]
  },
  {
   "cell_type": "markdown",
   "metadata": {},
   "source": [
    "For all offer-driven purchases, what's the percentage of differrent types of offers?"
   ]
  },
  {
   "cell_type": "code",
   "execution_count": 93,
   "metadata": {},
   "outputs": [
    {
     "data": {
      "image/png": "[encoded data removed]",
      "text/plain": [
       "<Figure size 432x288 with 1 Axes>"
      ]
     },
     "metadata": {
      "needs_background": "light"
     },
     "output_type": "display_data"
    }
   ],
   "source": [
    "temp=df[df['offer_driven']==1].groupby(['gender', 'offer_type'])[['offer_type']].count().rename(columns={\"offer_type\":'count'}).reset_index()\n",
    "temp=temp.pivot_table(index='gender', columns='offer_type', values='count')\n",
    "temp.div(temp.sum(axis=1), axis=0).plot(kind='bar', alpha=0.8);\n"
   ]
  },
  {
   "cell_type": "markdown",
   "metadata": {},
   "source": [
    "#### Q: Income"
   ]
  },
  {
   "cell_type": "code",
   "execution_count": 94,
   "metadata": {},
   "outputs": [
    {
     "data": {
      "text/html": [
       "<div>\n",
       "<style scoped>\n",
       "    .dataframe tbody tr th:only-of-type {\n",
       "        vertical-align: middle;\n",
       "    }\n",
       "\n",
       "    .dataframe tbody tr th {\n",
       "        vertical-align: top;\n",
       "    }\n",
       "\n",
       "    .dataframe thead th {\n",
       "        text-align: right;\n",
       "    }\n",
       "</style>\n",
       "<table border=\"1\" class=\"dataframe\">\n",
       "  <thead>\n",
       "    <tr style=\"text-align: right;\">\n",
       "      <th></th>\n",
       "      <th>gender</th>\n",
       "      <th>age</th>\n",
       "      <th>id</th>\n",
       "      <th>income</th>\n",
       "      <th>membership_days</th>\n",
       "    </tr>\n",
       "  </thead>\n",
       "  <tbody>\n",
       "    <tr>\n",
       "      <th>0</th>\n",
       "      <td>unknown</td>\n",
       "      <td>&gt;100</td>\n",
       "      <td>68be06ca386d4c31939f3a4f0e3dd783</td>\n",
       "      <td>unknown</td>\n",
       "      <td>1174.0</td>\n",
       "    </tr>\n",
       "    <tr>\n",
       "      <th>1</th>\n",
       "      <td>F</td>\n",
       "      <td>40-60</td>\n",
       "      <td>0610b486422d4921ae7d2bf64640c50b</td>\n",
       "      <td>&gt;100k</td>\n",
       "      <td>1021.0</td>\n",
       "    </tr>\n",
       "    <tr>\n",
       "      <th>2</th>\n",
       "      <td>unknown</td>\n",
       "      <td>&gt;100</td>\n",
       "      <td>38fe809add3b4fcf9315a9694bb96ff5</td>\n",
       "      <td>unknown</td>\n",
       "      <td>659.0</td>\n",
       "    </tr>\n",
       "    <tr>\n",
       "      <th>3</th>\n",
       "      <td>F</td>\n",
       "      <td>60-80</td>\n",
       "      <td>78afa995795e4d85b5d9ceeca43f5fef</td>\n",
       "      <td>80-100k</td>\n",
       "      <td>1088.0</td>\n",
       "    </tr>\n",
       "    <tr>\n",
       "      <th>4</th>\n",
       "      <td>unknown</td>\n",
       "      <td>&gt;100</td>\n",
       "      <td>a03223e636434f42ac4c3df47e8bac43</td>\n",
       "      <td>unknown</td>\n",
       "      <td>1001.0</td>\n",
       "    </tr>\n",
       "    <tr>\n",
       "      <th>5</th>\n",
       "      <td>M</td>\n",
       "      <td>60-80</td>\n",
       "      <td>e2127556f4f64592b11af22de27a7932</td>\n",
       "      <td>60-80k</td>\n",
       "      <td>736.0</td>\n",
       "    </tr>\n",
       "    <tr>\n",
       "      <th>6</th>\n",
       "      <td>unknown</td>\n",
       "      <td>&gt;100</td>\n",
       "      <td>8ec6ce2a7e7949b1bf142def7d0e0586</td>\n",
       "      <td>unknown</td>\n",
       "      <td>949.0</td>\n",
       "    </tr>\n",
       "    <tr>\n",
       "      <th>7</th>\n",
       "      <td>unknown</td>\n",
       "      <td>&gt;100</td>\n",
       "      <td>68617ca6246f4fbc85e91a2a49552598</td>\n",
       "      <td>unknown</td>\n",
       "      <td>942.0</td>\n",
       "    </tr>\n",
       "    <tr>\n",
       "      <th>8</th>\n",
       "      <td>M</td>\n",
       "      <td>60-80</td>\n",
       "      <td>389bc3fa690240e798340f5a15918d5c</td>\n",
       "      <td>40-60k</td>\n",
       "      <td>812.0</td>\n",
       "    </tr>\n",
       "    <tr>\n",
       "      <th>9</th>\n",
       "      <td>unknown</td>\n",
       "      <td>&gt;100</td>\n",
       "      <td>8974fc5686fe429db53ddde067b88302</td>\n",
       "      <td>unknown</td>\n",
       "      <td>1256.0</td>\n",
       "    </tr>\n",
       "  </tbody>\n",
       "</table>\n",
       "</div>"
      ],
      "text/plain": [
       "    gender    age                                id   income  membership_days\n",
       "0  unknown   >100  68be06ca386d4c31939f3a4f0e3dd783  unknown           1174.0\n",
       "1        F  40-60  0610b486422d4921ae7d2bf64640c50b    >100k           1021.0\n",
       "2  unknown   >100  38fe809add3b4fcf9315a9694bb96ff5  unknown            659.0\n",
       "3        F  60-80  78afa995795e4d85b5d9ceeca43f5fef  80-100k           1088.0\n",
       "4  unknown   >100  a03223e636434f42ac4c3df47e8bac43  unknown           1001.0\n",
       "5        M  60-80  e2127556f4f64592b11af22de27a7932   60-80k            736.0\n",
       "6  unknown   >100  8ec6ce2a7e7949b1bf142def7d0e0586  unknown            949.0\n",
       "7  unknown   >100  68617ca6246f4fbc85e91a2a49552598  unknown            942.0\n",
       "8        M  60-80  389bc3fa690240e798340f5a15918d5c   40-60k            812.0\n",
       "9  unknown   >100  8974fc5686fe429db53ddde067b88302  unknown           1256.0"
      ]
     },
     "execution_count": 94,
     "metadata": {},
     "output_type": "execute_result"
    }
   ],
   "source": [
    "profile.head(10)"
   ]
  },
  {
   "cell_type": "code",
   "execution_count": 95,
   "metadata": {},
   "outputs": [
    {
     "data": {
      "image/png": "[encoded data removed]",
      "text/plain": [
       "<Figure size 432x288 with 1 Axes>"
      ]
     },
     "metadata": {
      "needs_background": "light"
     },
     "output_type": "display_data"
    }
   ],
   "source": [
    "df[(df['offer_driven']==1) | (df['offer_irrelevant']==1)].groupby(\"income\")['amount'].sum().sort_values().plot(kind='bar', rot=0)\n",
    "plt.title('Total transaction amount for people with different level of income');\n"
   ]
  },
  {
   "cell_type": "code",
   "execution_count": 96,
   "metadata": {},
   "outputs": [
    {
     "data": {
      "image/png": "[encoded data removed]",
      "text/plain": [
       "<Figure size 432x288 with 1 Axes>"
      ]
     },
     "metadata": {
      "needs_background": "light"
     },
     "output_type": "display_data"
    }
   ],
   "source": [
    "# average amount of purchases driven by offer for different income levels\n",
    "df[(df['offer_driven']==1) | (df['offer_irrelevant']==1)].groupby(\"income\")['amount'].mean().sort_values().plot(kind='bar', rot=0)\n",
    "plt.title('Average transaction amount for people with different level of income');\n"
   ]
  },
  {
   "cell_type": "markdown",
   "metadata": {},
   "source": [
    "#### Q: which income level is most reponsive to offers? And what type of offers?"
   ]
  },
  {
   "cell_type": "markdown",
   "metadata": {},
   "source": [
    "##### How many percentages of purchases are driven by offers， for each income range?"
   ]
  },
  {
   "cell_type": "code",
   "execution_count": 97,
   "metadata": {},
   "outputs": [
    {
     "data": {
      "text/html": [
       "<div>\n",
       "<style scoped>\n",
       "    .dataframe tbody tr th:only-of-type {\n",
       "        vertical-align: middle;\n",
       "    }\n",
       "\n",
       "    .dataframe tbody tr th {\n",
       "        vertical-align: top;\n",
       "    }\n",
       "\n",
       "    .dataframe thead th {\n",
       "        text-align: right;\n",
       "    }\n",
       "</style>\n",
       "<table border=\"1\" class=\"dataframe\">\n",
       "  <thead>\n",
       "    <tr style=\"text-align: right;\">\n",
       "      <th></th>\n",
       "      <th>offer_driven</th>\n",
       "      <th>offer_irrelevant</th>\n",
       "      <th>event_count</th>\n",
       "      <th>n_purchase</th>\n",
       "      <th>perc_purchase_event</th>\n",
       "      <th>none_purchase</th>\n",
       "      <th>perc_nonepurchase_event</th>\n",
       "    </tr>\n",
       "    <tr>\n",
       "      <th>income</th>\n",
       "      <th></th>\n",
       "      <th></th>\n",
       "      <th></th>\n",
       "      <th></th>\n",
       "      <th></th>\n",
       "      <th></th>\n",
       "      <th></th>\n",
       "    </tr>\n",
       "  </thead>\n",
       "  <tbody>\n",
       "    <tr>\n",
       "      <th>40-60k</th>\n",
       "      <td>11569.0</td>\n",
       "      <td>33570.0</td>\n",
       "      <td>51856</td>\n",
       "      <td>45139.0</td>\n",
       "      <td>0.870468</td>\n",
       "      <td>6717.0</td>\n",
       "      <td>0.129532</td>\n",
       "    </tr>\n",
       "    <tr>\n",
       "      <th>60-80k</th>\n",
       "      <td>11576.0</td>\n",
       "      <td>29495.0</td>\n",
       "      <td>47266</td>\n",
       "      <td>41071.0</td>\n",
       "      <td>0.868933</td>\n",
       "      <td>6195.0</td>\n",
       "      <td>0.131067</td>\n",
       "    </tr>\n",
       "    <tr>\n",
       "      <th>80-100k</th>\n",
       "      <td>6202.0</td>\n",
       "      <td>12592.0</td>\n",
       "      <td>22141</td>\n",
       "      <td>18794.0</td>\n",
       "      <td>0.848832</td>\n",
       "      <td>3347.0</td>\n",
       "      <td>0.151168</td>\n",
       "    </tr>\n",
       "    <tr>\n",
       "      <th>&lt;40k</th>\n",
       "      <td>5285.0</td>\n",
       "      <td>17612.0</td>\n",
       "      <td>26333</td>\n",
       "      <td>22897.0</td>\n",
       "      <td>0.869517</td>\n",
       "      <td>3436.0</td>\n",
       "      <td>0.130483</td>\n",
       "    </tr>\n",
       "    <tr>\n",
       "      <th>&gt;100k</th>\n",
       "      <td>2073.0</td>\n",
       "      <td>5318.0</td>\n",
       "      <td>8806</td>\n",
       "      <td>7391.0</td>\n",
       "      <td>0.839314</td>\n",
       "      <td>1415.0</td>\n",
       "      <td>0.160686</td>\n",
       "    </tr>\n",
       "    <tr>\n",
       "      <th>unknown</th>\n",
       "      <td>4797.0</td>\n",
       "      <td>10407.0</td>\n",
       "      <td>19641</td>\n",
       "      <td>15204.0</td>\n",
       "      <td>0.774095</td>\n",
       "      <td>4437.0</td>\n",
       "      <td>0.225905</td>\n",
       "    </tr>\n",
       "  </tbody>\n",
       "</table>\n",
       "</div>"
      ],
      "text/plain": [
       "         offer_driven  offer_irrelevant  event_count  n_purchase  \\\n",
       "income                                                             \n",
       "40-60k        11569.0           33570.0        51856     45139.0   \n",
       "60-80k        11576.0           29495.0        47266     41071.0   \n",
       "80-100k        6202.0           12592.0        22141     18794.0   \n",
       "<40k           5285.0           17612.0        26333     22897.0   \n",
       ">100k          2073.0            5318.0         8806      7391.0   \n",
       "unknown        4797.0           10407.0        19641     15204.0   \n",
       "\n",
       "         perc_purchase_event  none_purchase  perc_nonepurchase_event  \n",
       "income                                                                \n",
       "40-60k              0.870468         6717.0                 0.129532  \n",
       "60-80k              0.868933         6195.0                 0.131067  \n",
       "80-100k             0.848832         3347.0                 0.151168  \n",
       "<40k                0.869517         3436.0                 0.130483  \n",
       ">100k               0.839314         1415.0                 0.160686  \n",
       "unknown             0.774095         4437.0                 0.225905  "
      ]
     },
     "execution_count": 97,
     "metadata": {},
     "output_type": "execute_result"
    }
   ],
   "source": [
    "temp=df.groupby('income')[['offer_driven', 'offer_irrelevant']].sum()\n",
    "temp['event_count']=df.groupby('income')[['offer_driven']].count()\n",
    "temp['n_purchase']=temp['offer_driven']+temp['offer_irrelevant']\n",
    "temp['perc_purchase_event']=temp['n_purchase']/temp['event_count']\n",
    "temp['none_purchase']=temp['event_count']-temp['n_purchase']\n",
    "temp['perc_nonepurchase_event']=temp['none_purchase']/temp['event_count']\n",
    "temp"
   ]
  },
  {
   "cell_type": "code",
   "execution_count": 98,
   "metadata": {},
   "outputs": [
    {
     "data": {
      "image/png": "[encoded data removed]",
      "text/plain": [
       "<Figure size 432x288 with 1 Axes>"
      ]
     },
     "metadata": {
      "needs_background": "light"
     },
     "output_type": "display_data"
    }
   ],
   "source": [
    "# within all purchases, the percentages of offer-driven purchases and offer-irrelevant purchases are about the same for all genders.\n",
    "temp[['offer_driven','offer_irrelevant']].div(temp[['offer_driven','offer_irrelevant']].sum(axis=1), axis=0).sort_values(by=['offer_driven'], ascending=False).plot(kind='bar', alpha=0.8);\n",
    "\n",
    "plt.title('percentage of each purchase type');"
   ]
  },
  {
   "cell_type": "markdown",
   "metadata": {},
   "source": [
    "##### How many percentages of offer sent leads to an effective purchases?"
   ]
  },
  {
   "cell_type": "code",
   "execution_count": 99,
   "metadata": {},
   "outputs": [
    {
     "data": {
      "text/html": [
       "<div>\n",
       "<style scoped>\n",
       "    .dataframe tbody tr th:only-of-type {\n",
       "        vertical-align: middle;\n",
       "    }\n",
       "\n",
       "    .dataframe tbody tr th {\n",
       "        vertical-align: top;\n",
       "    }\n",
       "\n",
       "    .dataframe thead th {\n",
       "        text-align: right;\n",
       "    }\n",
       "</style>\n",
       "<table border=\"1\" class=\"dataframe\">\n",
       "  <thead>\n",
       "    <tr style=\"text-align: right;\">\n",
       "      <th>offer_type</th>\n",
       "      <th>bogo</th>\n",
       "      <th>discount</th>\n",
       "      <th>informational</th>\n",
       "    </tr>\n",
       "    <tr>\n",
       "      <th>income</th>\n",
       "      <th></th>\n",
       "      <th></th>\n",
       "      <th></th>\n",
       "    </tr>\n",
       "  </thead>\n",
       "  <tbody>\n",
       "    <tr>\n",
       "      <th>40-60k</th>\n",
       "      <td>0.622225</td>\n",
       "      <td>0.531605</td>\n",
       "      <td>0.417527</td>\n",
       "    </tr>\n",
       "    <tr>\n",
       "      <th>60-80k</th>\n",
       "      <td>0.599253</td>\n",
       "      <td>0.555889</td>\n",
       "      <td>0.398969</td>\n",
       "    </tr>\n",
       "    <tr>\n",
       "      <th>80-100k</th>\n",
       "      <td>0.554579</td>\n",
       "      <td>0.566694</td>\n",
       "      <td>0.335658</td>\n",
       "    </tr>\n",
       "    <tr>\n",
       "      <th>&lt;40k</th>\n",
       "      <td>0.629493</td>\n",
       "      <td>0.489816</td>\n",
       "      <td>0.402342</td>\n",
       "    </tr>\n",
       "    <tr>\n",
       "      <th>&gt;100k</th>\n",
       "      <td>0.518499</td>\n",
       "      <td>0.466004</td>\n",
       "      <td>0.210349</td>\n",
       "    </tr>\n",
       "    <tr>\n",
       "      <th>unknown</th>\n",
       "      <td>0.536225</td>\n",
       "      <td>0.509236</td>\n",
       "      <td>0.347804</td>\n",
       "    </tr>\n",
       "  </tbody>\n",
       "</table>\n",
       "</div>"
      ],
      "text/plain": [
       "offer_type      bogo  discount  informational\n",
       "income                                       \n",
       "40-60k      0.622225  0.531605       0.417527\n",
       "60-80k      0.599253  0.555889       0.398969\n",
       "80-100k     0.554579  0.566694       0.335658\n",
       "<40k        0.629493  0.489816       0.402342\n",
       ">100k       0.518499  0.466004       0.210349\n",
       "unknown     0.536225  0.509236       0.347804"
      ]
     },
     "execution_count": 99,
     "metadata": {},
     "output_type": "execute_result"
    }
   ],
   "source": [
    "temp=df[df['offer_type']!='NoOffer'].groupby(['income', 'offer_type'])[['offer_driven']].sum()\n",
    "temp['count']=df[df['offer_type']!='NoOffer'].groupby(['income', 'offer_type'])[['person']].count()\n",
    "temp=temp.reset_index()\n",
    "temp['response_rate']=temp['offer_driven'].div(temp['count'],axis=0)\n",
    "\n",
    "temp=temp[['income', 'offer_type','response_rate']].pivot_table(index='income', columns='offer_type', values='response_rate')\n",
    "temp\n",
    "    "
   ]
  },
  {
   "cell_type": "code",
   "execution_count": 100,
   "metadata": {},
   "outputs": [
    {
     "data": {
      "image/png": "[encoded data removed]",
      "text/plain": [
       "<Figure size 360x720 with 3 Axes>"
      ]
     },
     "metadata": {
      "needs_background": "light"
     },
     "output_type": "display_data"
    }
   ],
   "source": [
    "figure, axes = plt.subplots(3,1, figsize=(5,10))\n",
    "for i,j in enumerate(['bogo', 'discount', 'informational']):\n",
    "    temp[[j]].sort_values(by=[j], ascending=False).plot(kind='bar', alpha=0.8, rot=0, ax=axes[i]);\n",
    "plt.show()"
   ]
  },
  {
   "cell_type": "code",
   "execution_count": 101,
   "metadata": {},
   "outputs": [
    {
     "data": {
      "image/png": "[encoded data removed]",
      "text/plain": [
       "<Figure size 432x288 with 1 Axes>"
      ]
     },
     "metadata": {
      "needs_background": "light"
     },
     "output_type": "display_data"
    }
   ],
   "source": [
    "temp=df[df['offer_driven']==1].groupby(['income', 'offer_type'])[['offer_type']].count().rename(columns={\"offer_type\":'count'}).reset_index()\n",
    "temp=temp.pivot_table(index='income', columns='offer_type', values='count')\n",
    "temp.div(temp.sum(axis=1), axis=0).plot(kind='bar', alpha=0.8);\n"
   ]
  },
  {
   "cell_type": "markdown",
   "metadata": {},
   "source": [
    "#### Q: membership_days"
   ]
  },
  {
   "cell_type": "code",
   "execution_count": 102,
   "metadata": {},
   "outputs": [
    {
     "data": {
      "image/png": "[encoded data removed]",
      "text/plain": [
       "<Figure size 432x288 with 1 Axes>"
      ]
     },
     "metadata": {
      "needs_background": "light"
     },
     "output_type": "display_data"
    }
   ],
   "source": [
    "df[(df['offer_driven']==1)].groupby('offer_type')['membership_days'].plot(kind='hist', alpha=0.3, legend=True);"
   ]
  },
  {
   "cell_type": "markdown",
   "metadata": {},
   "source": [
    "#### Q： Age"
   ]
  },
  {
   "cell_type": "code",
   "execution_count": 103,
   "metadata": {},
   "outputs": [
    {
     "data": {
      "text/html": [
       "<div>\n",
       "<style scoped>\n",
       "    .dataframe tbody tr th:only-of-type {\n",
       "        vertical-align: middle;\n",
       "    }\n",
       "\n",
       "    .dataframe tbody tr th {\n",
       "        vertical-align: top;\n",
       "    }\n",
       "\n",
       "    .dataframe thead th {\n",
       "        text-align: right;\n",
       "    }\n",
       "</style>\n",
       "<table border=\"1\" class=\"dataframe\">\n",
       "  <thead>\n",
       "    <tr style=\"text-align: right;\">\n",
       "      <th></th>\n",
       "      <th>offer_driven</th>\n",
       "      <th>offer_irrelevant</th>\n",
       "      <th>event_count</th>\n",
       "      <th>n_purchase</th>\n",
       "      <th>perc_purchase_event</th>\n",
       "      <th>none_purchase</th>\n",
       "      <th>perc_nonepurchase_event</th>\n",
       "    </tr>\n",
       "    <tr>\n",
       "      <th>age</th>\n",
       "      <th></th>\n",
       "      <th></th>\n",
       "      <th></th>\n",
       "      <th></th>\n",
       "      <th></th>\n",
       "      <th></th>\n",
       "      <th></th>\n",
       "    </tr>\n",
       "  </thead>\n",
       "  <tbody>\n",
       "    <tr>\n",
       "      <th>20-40</th>\n",
       "      <td>7614.0</td>\n",
       "      <td>24289.0</td>\n",
       "      <td>36211</td>\n",
       "      <td>31903.0</td>\n",
       "      <td>0.881031</td>\n",
       "      <td>4308.0</td>\n",
       "      <td>0.118969</td>\n",
       "    </tr>\n",
       "    <tr>\n",
       "      <th>40-60</th>\n",
       "      <td>14771.0</td>\n",
       "      <td>37358.0</td>\n",
       "      <td>60645</td>\n",
       "      <td>52129.0</td>\n",
       "      <td>0.859576</td>\n",
       "      <td>8516.0</td>\n",
       "      <td>0.140424</td>\n",
       "    </tr>\n",
       "    <tr>\n",
       "      <th>60-80</th>\n",
       "      <td>11054.0</td>\n",
       "      <td>27996.0</td>\n",
       "      <td>45438</td>\n",
       "      <td>39050.0</td>\n",
       "      <td>0.859413</td>\n",
       "      <td>6388.0</td>\n",
       "      <td>0.140587</td>\n",
       "    </tr>\n",
       "    <tr>\n",
       "      <th>80-100</th>\n",
       "      <td>2400.0</td>\n",
       "      <td>6133.0</td>\n",
       "      <td>9911</td>\n",
       "      <td>8533.0</td>\n",
       "      <td>0.860963</td>\n",
       "      <td>1378.0</td>\n",
       "      <td>0.139037</td>\n",
       "    </tr>\n",
       "    <tr>\n",
       "      <th>&lt;20</th>\n",
       "      <td>853.0</td>\n",
       "      <td>2774.0</td>\n",
       "      <td>4141</td>\n",
       "      <td>3627.0</td>\n",
       "      <td>0.875875</td>\n",
       "      <td>514.0</td>\n",
       "      <td>0.124125</td>\n",
       "    </tr>\n",
       "    <tr>\n",
       "      <th>&gt;100</th>\n",
       "      <td>4810.0</td>\n",
       "      <td>10444.0</td>\n",
       "      <td>19697</td>\n",
       "      <td>15254.0</td>\n",
       "      <td>0.774433</td>\n",
       "      <td>4443.0</td>\n",
       "      <td>0.225567</td>\n",
       "    </tr>\n",
       "  </tbody>\n",
       "</table>\n",
       "</div>"
      ],
      "text/plain": [
       "        offer_driven  offer_irrelevant  event_count  n_purchase  \\\n",
       "age                                                               \n",
       "20-40         7614.0           24289.0        36211     31903.0   \n",
       "40-60        14771.0           37358.0        60645     52129.0   \n",
       "60-80        11054.0           27996.0        45438     39050.0   \n",
       "80-100        2400.0            6133.0         9911      8533.0   \n",
       "<20            853.0            2774.0         4141      3627.0   \n",
       ">100          4810.0           10444.0        19697     15254.0   \n",
       "\n",
       "        perc_purchase_event  none_purchase  perc_nonepurchase_event  \n",
       "age                                                                  \n",
       "20-40              0.881031         4308.0                 0.118969  \n",
       "40-60              0.859576         8516.0                 0.140424  \n",
       "60-80              0.859413         6388.0                 0.140587  \n",
       "80-100             0.860963         1378.0                 0.139037  \n",
       "<20                0.875875          514.0                 0.124125  \n",
       ">100               0.774433         4443.0                 0.225567  "
      ]
     },
     "execution_count": 103,
     "metadata": {},
     "output_type": "execute_result"
    }
   ],
   "source": [
    "temp=df.groupby('age')[['offer_driven', 'offer_irrelevant']].sum()\n",
    "temp['event_count']=df.groupby('age')[['offer_driven']].count()\n",
    "temp['n_purchase']=temp['offer_driven']+temp['offer_irrelevant']\n",
    "temp['perc_purchase_event']=temp['n_purchase']/temp['event_count']\n",
    "temp['none_purchase']=temp['event_count']-temp['n_purchase']\n",
    "temp['perc_nonepurchase_event']=temp['none_purchase']/temp['event_count']\n",
    "temp"
   ]
  },
  {
   "cell_type": "code",
   "execution_count": 104,
   "metadata": {},
   "outputs": [
    {
     "data": {
      "image/png": "[encoded data removed]",
      "text/plain": [
       "<Figure size 432x288 with 1 Axes>"
      ]
     },
     "metadata": {
      "needs_background": "light"
     },
     "output_type": "display_data"
    }
   ],
   "source": [
    "# within all purchases, the percentages of offer-driven purchases and offer-irrelevant purchases are about the same for all genders.\n",
    "temp[['offer_driven','offer_irrelevant']].div(temp[['offer_driven','offer_irrelevant']].sum(axis=1), axis=0).sort_values(by=['offer_driven'], ascending=False).plot(kind='bar', alpha=0.8);\n",
    "\n",
    "plt.title('percentage of each purchase type');"
   ]
  },
  {
   "cell_type": "code",
   "execution_count": 105,
   "metadata": {},
   "outputs": [
    {
     "data": {
      "text/html": [
       "<div>\n",
       "<style scoped>\n",
       "    .dataframe tbody tr th:only-of-type {\n",
       "        vertical-align: middle;\n",
       "    }\n",
       "\n",
       "    .dataframe tbody tr th {\n",
       "        vertical-align: top;\n",
       "    }\n",
       "\n",
       "    .dataframe thead th {\n",
       "        text-align: right;\n",
       "    }\n",
       "</style>\n",
       "<table border=\"1\" class=\"dataframe\">\n",
       "  <thead>\n",
       "    <tr style=\"text-align: right;\">\n",
       "      <th>offer_type</th>\n",
       "      <th>bogo</th>\n",
       "      <th>discount</th>\n",
       "      <th>informational</th>\n",
       "    </tr>\n",
       "    <tr>\n",
       "      <th>age</th>\n",
       "      <th></th>\n",
       "      <th></th>\n",
       "      <th></th>\n",
       "    </tr>\n",
       "  </thead>\n",
       "  <tbody>\n",
       "    <tr>\n",
       "      <th>20-40</th>\n",
       "      <td>0.636643</td>\n",
       "      <td>0.523015</td>\n",
       "      <td>0.412886</td>\n",
       "    </tr>\n",
       "    <tr>\n",
       "      <th>40-60</th>\n",
       "      <td>0.590539</td>\n",
       "      <td>0.540075</td>\n",
       "      <td>0.382892</td>\n",
       "    </tr>\n",
       "    <tr>\n",
       "      <th>60-80</th>\n",
       "      <td>0.579420</td>\n",
       "      <td>0.537721</td>\n",
       "      <td>0.359821</td>\n",
       "    </tr>\n",
       "    <tr>\n",
       "      <th>80-100</th>\n",
       "      <td>0.588140</td>\n",
       "      <td>0.537355</td>\n",
       "      <td>0.361884</td>\n",
       "    </tr>\n",
       "    <tr>\n",
       "      <th>&lt;20</th>\n",
       "      <td>0.638930</td>\n",
       "      <td>0.491438</td>\n",
       "      <td>0.441558</td>\n",
       "    </tr>\n",
       "    <tr>\n",
       "      <th>&gt;100</th>\n",
       "      <td>0.536457</td>\n",
       "      <td>0.509458</td>\n",
       "      <td>0.348095</td>\n",
       "    </tr>\n",
       "  </tbody>\n",
       "</table>\n",
       "</div>"
      ],
      "text/plain": [
       "offer_type      bogo  discount  informational\n",
       "age                                          \n",
       "20-40       0.636643  0.523015       0.412886\n",
       "40-60       0.590539  0.540075       0.382892\n",
       "60-80       0.579420  0.537721       0.359821\n",
       "80-100      0.588140  0.537355       0.361884\n",
       "<20         0.638930  0.491438       0.441558\n",
       ">100        0.536457  0.509458       0.348095"
      ]
     },
     "execution_count": 105,
     "metadata": {},
     "output_type": "execute_result"
    }
   ],
   "source": [
    "temp=df[df['offer_type']!='NoOffer'].groupby(['age', 'offer_type'])[['offer_driven']].sum()\n",
    "temp['count']=df[df['offer_type']!='NoOffer'].groupby(['age', 'offer_type'])[['person']].count()\n",
    "temp=temp.reset_index()\n",
    "temp['response_rate']=temp['offer_driven'].div(temp['count'],axis=0)\n",
    "\n",
    "temp=temp[['age', 'offer_type','response_rate']].pivot_table(index='age', columns='offer_type', values='response_rate')\n",
    "temp\n",
    "    "
   ]
  },
  {
   "cell_type": "code",
   "execution_count": 106,
   "metadata": {},
   "outputs": [
    {
     "data": {
      "image/png": "[encoded data removed]",
      "text/plain": [
       "<Figure size 360x720 with 3 Axes>"
      ]
     },
     "metadata": {
      "needs_background": "light"
     },
     "output_type": "display_data"
    }
   ],
   "source": [
    "figure, axes = plt.subplots(3,1, figsize=(5,10))\n",
    "for i,j in enumerate(['bogo', 'discount', 'informational']):\n",
    "    temp[[j]].sort_values(by=[j], ascending=False).plot(kind='bar', alpha=0.8, rot=0, ax=axes[i]);\n",
    "plt.show()"
   ]
  },
  {
   "cell_type": "markdown",
   "metadata": {},
   "source": [
    "### Offer Type"
   ]
  },
  {
   "cell_type": "markdown",
   "metadata": {},
   "source": [
    "#### Q: number of each offer / offer type sent?"
   ]
  },
  {
   "cell_type": "code",
   "execution_count": 107,
   "metadata": {},
   "outputs": [
    {
     "data": {
      "image/png": "[encoded data removed]",
      "text/plain": [
       "<Figure size 432x288 with 1 Axes>"
      ]
     },
     "metadata": {
      "needs_background": "light"
     },
     "output_type": "display_data"
    }
   ],
   "source": [
    "# total transaction amount each offer\n",
    "df[df['offer id']!='unknown'].groupby(\"offer_type\")['amount'].count().sort_values().plot(kind='bar', alpha=0.8, rot=0);\n",
    "plt.title('Number of offers sent');"
   ]
  },
  {
   "cell_type": "code",
   "execution_count": 108,
   "metadata": {},
   "outputs": [
    {
     "data": {
      "image/png": "[encoded data removed]",
      "text/plain": [
       "<Figure size 432x288 with 1 Axes>"
      ]
     },
     "metadata": {
      "needs_background": "light"
     },
     "output_type": "display_data"
    }
   ],
   "source": [
    "# total transaction amount each offer\n",
    "df[df['offer id']!='unknown'].groupby(\"offer id\")['amount'].count().sort_values().plot(kind='bar', alpha=0.8, rot=0);\n",
    "plt.title('Number of offers sent');"
   ]
  },
  {
   "cell_type": "markdown",
   "metadata": {},
   "source": [
    "#### Q: Percentage of each offer (offer_type) sent that transit to succussful purchases?"
   ]
  },
  {
   "cell_type": "code",
   "execution_count": 109,
   "metadata": {},
   "outputs": [
    {
     "data": {
      "image/png": "[encoded data removed]",
      "text/plain": [
       "<Figure size 432x288 with 1 Axes>"
      ]
     },
     "metadata": {
      "needs_background": "light"
     },
     "output_type": "display_data"
    }
   ],
   "source": [
    "temp=df[df['offer_type']!='NoOffer'].groupby('offer_type')[['amount']].count().rename(columns={'amount':'event_cnt'})\n",
    "temp['purchase_cnt']=df[(df['offer_driven']==1)].groupby('offer_type')[['event']].count()\n",
    "temp['response_rate']=temp['purchase_cnt']/temp['event_cnt']\n",
    "temp['response_rate'].plot(kind='bar', alpha=0.8, rot=0);\n",
    "plt.title('percentage of offer leads to purchases');"
   ]
  },
  {
   "cell_type": "code",
   "execution_count": 110,
   "metadata": {},
   "outputs": [
    {
     "data": {
      "image/png": "[encoded data removed]",
      "text/plain": [
       "<Figure size 432x288 with 1 Axes>"
      ]
     },
     "metadata": {
      "needs_background": "light"
     },
     "output_type": "display_data"
    }
   ],
   "source": [
    "temp=df[df['offer id']!='unknown'].groupby('offer id')[['amount']].count().rename(columns={'amount':'event_cnt'})\n",
    "temp['purchase_cnt']=df[(df['offer_driven']==1)].groupby('offer id')[['amount']].count()\n",
    "temp['response_rate']=temp['purchase_cnt']/temp['event_cnt']\n",
    "temp['response_rate'].sort_values().plot(kind='barh', alpha=0.8);\n",
    "plt.title('percentage of offer leads to purchases');"
   ]
  },
  {
   "cell_type": "markdown",
   "metadata": {},
   "source": [
    "#### Q: does percentage of successful transition has anything to do with number of  channels the promotion was sent?"
   ]
  },
  {
   "cell_type": "code",
   "execution_count": 111,
   "metadata": {},
   "outputs": [
    {
     "data": {
      "image/png": "[encoded data removed]",
      "text/plain": [
       "<Figure size 432x288 with 1 Axes>"
      ]
     },
     "metadata": {
      "needs_background": "light"
     },
     "output_type": "display_data"
    }
   ],
   "source": [
    "temp=df[df['offer id']!='unknown'].groupby('channels')[['amount']].count().rename(columns={'amount':'event_cnt'})\n",
    "temp['purchase_cnt']=df[(df['offer_driven']==1)].groupby('channels')[['amount']].count()\n",
    "temp['response_rate']=temp['purchase_cnt']/temp['event_cnt']\n",
    "temp['response_rate'].sort_values().plot(kind='bar', alpha=0.8, rot=0);\n",
    "plt.title('percentage of offer leads to purchases');"
   ]
  },
  {
   "cell_type": "markdown",
   "metadata": {},
   "source": [
    "#### Q: does percentage of successful transition has anything to do with number of channels the promotion was sent?"
   ]
  },
  {
   "cell_type": "code",
   "execution_count": 112,
   "metadata": {},
   "outputs": [
    {
     "data": {
      "image/png": "[encoded data removed]",
      "text/plain": [
       "<Figure size 432x288 with 1 Axes>"
      ]
     },
     "metadata": {
      "needs_background": "light"
     },
     "output_type": "display_data"
    }
   ],
   "source": [
    "temp=df[df['offer id']!='unknown'].groupby('difficulty')[['amount']].count().rename(columns={'amount':'event_cnt'})\n",
    "temp['purchase_cnt']=df[(df['offer_driven']==1)].groupby('difficulty')[['amount']].count()\n",
    "temp['response_rate']=temp['purchase_cnt']/temp['event_cnt']\n",
    "temp['response_rate'].plot(kind='bar', alpha=0.8, rot=0);\n",
    "plt.title('percentage of offer leads to purchases');"
   ]
  },
  {
   "cell_type": "code",
   "execution_count": 113,
   "metadata": {},
   "outputs": [
    {
     "data": {
      "image/png": "[encoded data removed]",
      "text/plain": [
       "<Figure size 432x288 with 1 Axes>"
      ]
     },
     "metadata": {
      "needs_background": "light"
     },
     "output_type": "display_data"
    }
   ],
   "source": [
    "temp=df[df['offer id']!='unknown'].groupby('reward')[['amount']].count().rename(columns={'amount':'event_cnt'})\n",
    "temp['purchase_cnt']=df[(df['offer_driven']==1)].groupby('reward')[['amount']].count()\n",
    "temp['response_rate']=temp['purchase_cnt']/temp['event_cnt']\n",
    "temp['response_rate'].plot(kind='bar', alpha=0.8, rot=0);\n",
    "plt.title('percentage of offer leads to purchases');"
   ]
  },
  {
   "cell_type": "markdown",
   "metadata": {},
   "source": [
    "#### Q: Total sales amount associated with each offer"
   ]
  },
  {
   "cell_type": "code",
   "execution_count": 114,
   "metadata": {},
   "outputs": [
    {
     "data": {
      "image/png": "[encoded data removed]",
      "text/plain": [
       "<Figure size 432x288 with 1 Axes>"
      ]
     },
     "metadata": {
      "needs_background": "light"
     },
     "output_type": "display_data"
    }
   ],
   "source": [
    "# total transaction amount each offer\n",
    "df[df['offer id']!='unknown'].groupby(\"offer id\")['amount'].sum().sort_values().plot(kind='barh');\n",
    "plt.title('total sales amount for each offer');"
   ]
  },
  {
   "cell_type": "markdown",
   "metadata": {},
   "source": [
    "#### Q: average transaction amount each offer"
   ]
  },
  {
   "cell_type": "code",
   "execution_count": 115,
   "metadata": {},
   "outputs": [
    {
     "data": {
      "image/png": "[encoded data removed]",
      "text/plain": [
       "<Figure size 432x288 with 1 Axes>"
      ]
     },
     "metadata": {
      "needs_background": "light"
     },
     "output_type": "display_data"
    }
   ],
   "source": [
    "df[df['offer id']!='unknown'].groupby(\"offer id\")['amount'].mean().sort_values().plot(kind='barh')\n",
    "plt.title('average sales amount for each offer');"
   ]
  },
  {
   "cell_type": "code",
   "execution_count": 121,
   "metadata": {},
   "outputs": [
    {
     "data": {
      "text/plain": [
       "<matplotlib.axes._subplots.AxesSubplot at 0x13d284fd0>"
      ]
     },
     "execution_count": 121,
     "metadata": {},
     "output_type": "execute_result"
    },
    {
     "data": {
      "image/png": "[encoded data removed]",
      "text/plain": [
       "<Figure size 432x288 with 1 Axes>"
      ]
     },
     "metadata": {
      "needs_background": "light"
     },
     "output_type": "display_data"
    }
   ],
   "source": [
    "# total transaction amount each offer type\n",
    "\n",
    "df[df['offer id']!='unknown'].groupby(\"offer_type\")['amount'].sum().plot(kind='bar', alpha=0.8, rot=0)"
   ]
  },
  {
   "cell_type": "code",
   "execution_count": 120,
   "metadata": {},
   "outputs": [
    {
     "data": {
      "text/plain": [
       "<matplotlib.axes._subplots.AxesSubplot at 0x13d296d50>"
      ]
     },
     "execution_count": 120,
     "metadata": {},
     "output_type": "execute_result"
    },
    {
     "data": {
      "image/png": "[encoded data removed]",
      "text/plain": [
       "<Figure size 432x288 with 1 Axes>"
      ]
     },
     "metadata": {
      "needs_background": "light"
     },
     "output_type": "display_data"
    }
   ],
   "source": [
    "# average purchase amount each offer type\n",
    "df[df['offer id']!='unknown'].groupby(\"offer_type\")['amount'].mean().plot(kind='bar', alpha=0.8, rot=0)\n"
   ]
  },
  {
   "cell_type": "code",
   "execution_count": 118,
   "metadata": {},
   "outputs": [
    {
     "data": {
      "text/plain": [
       "income\n",
       "40-60k      8.553271\n",
       "60-80k     13.400944\n",
       "80-100k    22.797031\n",
       "<40k        5.775324\n",
       ">100k      24.470564\n",
       "unknown     2.615969\n",
       "Name: amount, dtype: float64"
      ]
     },
     "execution_count": 118,
     "metadata": {},
     "output_type": "execute_result"
    }
   ],
   "source": [
    "df[df['offer_irrelevant']==1].groupby(\"income\")['amount'].mean()"
   ]
  },
  {
   "cell_type": "markdown",
   "metadata": {},
   "source": [
    "# Output to a new Dataset"
   ]
  },
  {
   "cell_type": "code",
   "execution_count": 119,
   "metadata": {},
   "outputs": [],
   "source": [
    "df.to_json(\"data/Cleaned_Dataset.json\", orient='records') "
   ]
  },
  {
   "cell_type": "code",
   "execution_count": null,
   "metadata": {},
   "outputs": [],
   "source": []
  }
 ],
 "metadata": {
  "kernelspec": {
   "display_name": "Python 3",
   "language": "python",
   "name": "python3"
  },
  "language_info": {
   "codemirror_mode": {
    "name": "ipython",
    "version": 3
   },
   "file_extension": ".py",
   "mimetype": "text/x-python",
   "name": "python",
   "nbconvert_exporter": "python",
   "pygments_lexer": "ipython3",
   "version": "3.7.4"
  }
 },
 "nbformat": 4,
 "nbformat_minor": 2
}
