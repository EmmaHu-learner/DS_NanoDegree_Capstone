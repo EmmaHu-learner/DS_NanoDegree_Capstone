{
 "cells": [
  {
   "cell_type": "markdown",
   "metadata": {},
   "source": [
    "# Starbucks Capstone Challenge\n",
    "\n",
    "### Introduction\n",
    "\n",
    "This data set contains simulated data that mimics customer behavior on the Starbucks rewards mobile app. Once every few days, Starbucks sends out an offer to users of the mobile app. An offer can be merely an advertisement for a drink or an actual offer such as a discount or BOGO (buy one get one free). Some users might not receive any offer during certain weeks. \n",
    "\n",
    "Not all users receive the same offer, and that is the challenge to solve with this data set.\n",
    "\n",
    "Your task is to combine transaction, demographic and offer data to determine which demographic groups respond best to which offer type. This data set is a simplified version of the real Starbucks app because the underlying simulator only has one product whereas Starbucks actually sells dozens of products.\n",
    "\n",
    "Every offer has a validity period before the offer expires. As an example, a BOGO offer might be valid for only 5 days. You'll see in the data set that informational offers have a validity period even though these ads are merely providing information about a product; for example, if an informational offer has 7 days of validity, you can assume the customer is feeling the influence of the offer for 7 days after receiving the advertisement.\n",
    "\n",
    "You'll be given transactional data showing user purchases made on the app including the timestamp of purchase and the amount of money spent on a purchase. This transactional data also has a record for each offer that a user receives as well as a record for when a user actually views the offer. There are also records for when a user completes an offer. \n",
    "\n",
    "Keep in mind as well that someone using the app might make a purchase through the app without having received an offer or seen an offer.\n",
    "\n",
    "### Example\n",
    "\n",
    "To give an example, a user could receive a discount offer buy 10 dollars get 2 off on Monday. The offer is valid for 10 days from receipt. If the customer accumulates at least 10 dollars in purchases during the validity period, the customer completes the offer.\n",
    "\n",
    "However, there are a few things to watch out for in this data set. Customers do not opt into the offers that they receive; in other words, a user can receive an offer, never actually view the offer, and still complete the offer. For example, a user might receive the \"buy 10 dollars get 2 dollars off offer\", but the user never opens the offer during the 10 day validity period. The customer spends 15 dollars during those ten days. There will be an offer completion record in the data set; however, the customer was not influenced by the offer because the customer never viewed the offer.\n",
    "\n",
    "### Cleaning\n",
    "\n",
    "This makes data cleaning especially important and tricky.\n",
    "\n",
    "You'll also want to take into account that some demographic groups will make purchases even if they don't receive an offer. From a business perspective, if a customer is going to make a 10 dollar purchase without an offer anyway, you wouldn't want to send a buy 10 dollars get 2 dollars off offer. You'll want to try to assess what a certain demographic group will buy when not receiving any offers.\n",
    "\n",
    "### Final Advice\n",
    "\n",
    "Because this is a capstone project, you are free to analyze the data any way you see fit. For example, you could build a machine learning model that predicts how much someone will spend based on demographics and offer type. Or you could build a model that predicts whether or not someone will respond to an offer. Or, you don't need to build a machine learning model at all. You could develop a set of heuristics that determine what offer you should send to each customer (i.e., 75 percent of women customers who were 35 years old responded to offer A vs 40 percent from the same demographic to offer B, so send offer A)."
   ]
  },
  {
   "cell_type": "markdown",
   "metadata": {},
   "source": [
    "# Data Sets\n",
    "\n",
    "The data is contained in three files:\n",
    "\n",
    "* portfolio.json - containing offer ids and meta data about each offer (duration, type, etc.)\n",
    "* profile.json - demographic data for each customer\n",
    "* transcript.json - records for transactions, offers received, offers viewed, and offers completed\n",
    "\n",
    "Here is the schema and explanation of each variable in the files:\n",
    "\n",
    "**portfolio.json**\n",
    "* id (string) - offer id\n",
    "* offer_type (string) - type of offer ie BOGO, discount, informational\n",
    "* difficulty (int) - minimum required spend to complete an offer\n",
    "* reward (int) - reward given for completing an offer\n",
    "* duration (int) - time for offer to be open, in days\n",
    "* channels (list of strings)\n",
    "\n",
    "**profile.json**\n",
    "* age (int) - age of the customer \n",
    "* became_member_on (int) - date when customer created an app account\n",
    "* gender (str) - gender of the customer (note some entries contain 'O' for other rather than M or F)\n",
    "* id (str) - customer id\n",
    "* income (float) - customer's income\n",
    "\n",
    "**transcript.json**\n",
    "* event (str) - record description (ie transaction, offer received, offer viewed, etc.)\n",
    "* person (str) - customer id\n",
    "* time (int) - time in hours since start of test. The data begins at time t=0\n",
    "* value - (dict of strings) - either an offer id or transaction amount depending on the record"
   ]
  },
  {
   "cell_type": "code",
   "execution_count": 1769,
   "metadata": {},
   "outputs": [],
   "source": [
    "import pandas as pd\n",
    "import numpy as np\n",
    "import matplotlib.pyplot as plt\n",
    "\n",
    "import math\n",
    "import json\n",
    "\n",
    "%matplotlib inline\n",
    "\n",
    "# read in the json files\n",
    "portfolio = pd.read_json('data/portfolio.json', orient='records', lines=True)\n",
    "profile = pd.read_json('data/profile.json', orient='records', lines=True)\n",
    "transcript = pd.read_json('data/transcript.json', orient='records', lines=True)"
   ]
  },
  {
   "cell_type": "markdown",
   "metadata": {},
   "source": [
    "# Data Preprocessing"
   ]
  },
  {
   "cell_type": "markdown",
   "metadata": {},
   "source": [
    "## Helper Function"
   ]
  },
  {
   "cell_type": "code",
   "execution_count": 1770,
   "metadata": {},
   "outputs": [],
   "source": [
    "def category_plot(df, col, title, fsize=(15,5)):\n",
    "    plt.figure(figsize=fsize)\n",
    "    df[col].value_counts(sort=True).plot(kind='bar')\n",
    "    plt.title(title)\n",
    "    plt.xticks(rotation=0)\n",
    "    plt.show()\n",
    "\n",
    "def hist_plot(df, col, title, figs=(15,5), nbin=10):\n",
    "    plt.figure(figsize=figs)\n",
    "    df[col].hist(bins=nbin)\n",
    "    plt.xlabel(col)\n",
    "    plt.ylabel('counts')\n",
    "    plt.title(title)\n",
    "    plt.show()\n",
    "    \n",
    "def into_bins(df, col, bins, labels, nan_label='unknown' ):\n",
    "    \"\"\"\n",
    "    Takes in a column name, bin cut points and labels, replaces the original column with a\n",
    "    binned version, and replaces nulls (with 'unknown' if unspecified).\n",
    "    \"\"\"\n",
    "    df[col] = pd.cut(df[col], bins=bins, labels=labels, include_lowest=True)\n",
    "    \n",
    "    df[col] = df[col].cat.add_categories(nan_label)\n",
    "    df[col].fillna(nan_label, inplace =True) \n",
    "\n",
    "    df[col] = df[col].astype('str')\n",
    "    \n",
    "\n",
    "def pri_missing_perc(df,col):\n",
    "    print(\" {} ({}%) missing values in {} \".format(df[col].isnull().sum(),round(df[col].isnull().sum()/df.shape[0]*100,4), col))\n",
    "\n",
    "\n",
    "# keep features to be dropped at the end\n",
    "to_be_dropped=[]"
   ]
  },
  {
   "cell_type": "markdown",
   "metadata": {},
   "source": [
    "## portfolio"
   ]
  },
  {
   "cell_type": "code",
   "execution_count": 1771,
   "metadata": {},
   "outputs": [
    {
     "data": {
      "text/html": [
       "<div>\n",
       "<style scoped>\n",
       "    .dataframe tbody tr th:only-of-type {\n",
       "        vertical-align: middle;\n",
       "    }\n",
       "\n",
       "    .dataframe tbody tr th {\n",
       "        vertical-align: top;\n",
       "    }\n",
       "\n",
       "    .dataframe thead th {\n",
       "        text-align: right;\n",
       "    }\n",
       "</style>\n",
       "<table border=\"1\" class=\"dataframe\">\n",
       "  <thead>\n",
       "    <tr style=\"text-align: right;\">\n",
       "      <th></th>\n",
       "      <th>reward</th>\n",
       "      <th>channels</th>\n",
       "      <th>difficulty</th>\n",
       "      <th>duration</th>\n",
       "      <th>offer_type</th>\n",
       "      <th>id</th>\n",
       "    </tr>\n",
       "  </thead>\n",
       "  <tbody>\n",
       "    <tr>\n",
       "      <th>0</th>\n",
       "      <td>10</td>\n",
       "      <td>[email, mobile, social]</td>\n",
       "      <td>10</td>\n",
       "      <td>7</td>\n",
       "      <td>bogo</td>\n",
       "      <td>ae264e3637204a6fb9bb56bc8210ddfd</td>\n",
       "    </tr>\n",
       "    <tr>\n",
       "      <th>1</th>\n",
       "      <td>10</td>\n",
       "      <td>[web, email, mobile, social]</td>\n",
       "      <td>10</td>\n",
       "      <td>5</td>\n",
       "      <td>bogo</td>\n",
       "      <td>4d5c57ea9a6940dd891ad53e9dbe8da0</td>\n",
       "    </tr>\n",
       "    <tr>\n",
       "      <th>2</th>\n",
       "      <td>0</td>\n",
       "      <td>[web, email, mobile]</td>\n",
       "      <td>0</td>\n",
       "      <td>4</td>\n",
       "      <td>informational</td>\n",
       "      <td>3f207df678b143eea3cee63160fa8bed</td>\n",
       "    </tr>\n",
       "    <tr>\n",
       "      <th>3</th>\n",
       "      <td>5</td>\n",
       "      <td>[web, email, mobile]</td>\n",
       "      <td>5</td>\n",
       "      <td>7</td>\n",
       "      <td>bogo</td>\n",
       "      <td>9b98b8c7a33c4b65b9aebfe6a799e6d9</td>\n",
       "    </tr>\n",
       "    <tr>\n",
       "      <th>4</th>\n",
       "      <td>5</td>\n",
       "      <td>[web, email]</td>\n",
       "      <td>20</td>\n",
       "      <td>10</td>\n",
       "      <td>discount</td>\n",
       "      <td>0b1e1539f2cc45b7b9fa7c272da2e1d7</td>\n",
       "    </tr>\n",
       "  </tbody>\n",
       "</table>\n",
       "</div>"
      ],
      "text/plain": [
       "   reward                      channels  difficulty  duration     offer_type  \\\n",
       "0      10       [email, mobile, social]          10         7           bogo   \n",
       "1      10  [web, email, mobile, social]          10         5           bogo   \n",
       "2       0          [web, email, mobile]           0         4  informational   \n",
       "3       5          [web, email, mobile]           5         7           bogo   \n",
       "4       5                  [web, email]          20        10       discount   \n",
       "\n",
       "                                 id  \n",
       "0  ae264e3637204a6fb9bb56bc8210ddfd  \n",
       "1  4d5c57ea9a6940dd891ad53e9dbe8da0  \n",
       "2  3f207df678b143eea3cee63160fa8bed  \n",
       "3  9b98b8c7a33c4b65b9aebfe6a799e6d9  \n",
       "4  0b1e1539f2cc45b7b9fa7c272da2e1d7  "
      ]
     },
     "execution_count": 1771,
     "metadata": {},
     "output_type": "execute_result"
    }
   ],
   "source": [
    "portfolio.head()"
   ]
  },
  {
   "cell_type": "code",
   "execution_count": 1772,
   "metadata": {},
   "outputs": [
    {
     "name": "stdout",
     "output_type": "stream",
     "text": [
      " 0 (0.0%) missing values in offer_type \n"
     ]
    },
    {
     "data": {
      "image/png": "[encoded data removed]",
      "text/plain": [
       "<Figure size 432x216 with 1 Axes>"
      ]
     },
     "metadata": {
      "needs_background": "light"
     },
     "output_type": "display_data"
    }
   ],
   "source": [
    "pri_missing_perc(portfolio, 'offer_type')\n",
    "category_plot(portfolio, 'offer_type', 'offer type', (6,3))"
   ]
  },
  {
   "cell_type": "code",
   "execution_count": 1773,
   "metadata": {},
   "outputs": [
    {
     "name": "stdout",
     "output_type": "stream",
     "text": [
      " 0 (0.0%) missing values in difficulty \n"
     ]
    },
    {
     "data": {
      "image/png": "[encoded data removed]",
      "text/plain": [
       "<Figure size 432x216 with 1 Axes>"
      ]
     },
     "metadata": {
      "needs_background": "light"
     },
     "output_type": "display_data"
    }
   ],
   "source": [
    "# overall difficulties\n",
    "pri_missing_perc(portfolio, 'difficulty')\n",
    "category_plot(portfolio, 'difficulty', 'offer difficulty', (6,3))"
   ]
  },
  {
   "cell_type": "code",
   "execution_count": 1774,
   "metadata": {},
   "outputs": [
    {
     "data": {
      "image/png": "[encoded data removed]",
      "text/plain": [
       "<Figure size 432x288 with 1 Axes>"
      ]
     },
     "metadata": {
      "needs_background": "light"
     },
     "output_type": "display_data"
    }
   ],
   "source": [
    "# difficulties for each type of offer\n",
    "\n",
    "# df['difficulty'].hist(by=df['offer_type'])\n",
    "\n",
    "grouped = portfolio.groupby('offer_type')\n",
    "plt.figure()\n",
    "for group in grouped:\n",
    "    plt.hist(group[1]['difficulty'],histtype='bar', bins=range(0,21,1), rwidth=1, label=group[0],  alpha=0.6, stacked=True)\n",
    "plt.legend()\n",
    "plt.title('Offer Difficulty for Different Offer Types')\n",
    "plt.xlabel('Offer Difficulty')\n",
    "plt.title('Count')\n",
    "plt.show()\n"
   ]
  },
  {
   "cell_type": "code",
   "execution_count": 1775,
   "metadata": {},
   "outputs": [
    {
     "name": "stdout",
     "output_type": "stream",
     "text": [
      " 0 (0.0%) missing values in duration \n"
     ]
    },
    {
     "data": {
      "image/png": "[encoded data removed]",
      "text/plain": [
       "<Figure size 432x216 with 1 Axes>"
      ]
     },
     "metadata": {
      "needs_background": "light"
     },
     "output_type": "display_data"
    }
   ],
   "source": [
    "pri_missing_perc(portfolio, 'duration')\n",
    "\n",
    "# transfer duration of days into hours such that it can be compared to transaction time\n",
    "portfolio['duration']=portfolio['duration']*24\n",
    "\n",
    "category_plot(portfolio, 'duration', 'offer duration', (6,3))"
   ]
  },
  {
   "cell_type": "code",
   "execution_count": 1776,
   "metadata": {},
   "outputs": [
    {
     "data": {
      "image/png": "[encoded data removed]",
      "text/plain": [
       "<Figure size 432x288 with 1 Axes>"
      ]
     },
     "metadata": {
      "needs_background": "light"
     },
     "output_type": "display_data"
    }
   ],
   "source": [
    "grouped = portfolio.groupby('offer_type')\n",
    "\n",
    "plt.figure()\n",
    "for group in grouped:\n",
    "    plt.hist(group[1]['duration'],histtype='bar', bins=range(portfolio['duration'].min(),portfolio['duration'].max()+20,20), rwidth=0.5, label=group[0],  alpha=0.6, stacked=True)\n",
    "plt.legend()\n",
    "plt.title('Offer Duration for Different Offer Types')\n",
    "plt.xlabel('Offer Duration')\n",
    "plt.title('Count')\n",
    "plt.show()"
   ]
  },
  {
   "cell_type": "code",
   "execution_count": 1777,
   "metadata": {},
   "outputs": [
    {
     "name": "stdout",
     "output_type": "stream",
     "text": [
      " 0 (0.0%) missing values in channels \n",
      "types of offer channels: {'mobile', 'web', 'email', 'social'}\n"
     ]
    }
   ],
   "source": [
    "pri_missing_perc(portfolio, 'channels')\n",
    "channel_types=set([x for i in list(portfolio['channels']) for x in i ])\n",
    "print('types of offer channels:', channel_types)"
   ]
  },
  {
   "cell_type": "code",
   "execution_count": 1778,
   "metadata": {},
   "outputs": [
    {
     "data": {
      "text/html": [
       "<div>\n",
       "<style scoped>\n",
       "    .dataframe tbody tr th:only-of-type {\n",
       "        vertical-align: middle;\n",
       "    }\n",
       "\n",
       "    .dataframe tbody tr th {\n",
       "        vertical-align: top;\n",
       "    }\n",
       "\n",
       "    .dataframe thead th {\n",
       "        text-align: right;\n",
       "    }\n",
       "</style>\n",
       "<table border=\"1\" class=\"dataframe\">\n",
       "  <thead>\n",
       "    <tr style=\"text-align: right;\">\n",
       "      <th></th>\n",
       "      <th>reward</th>\n",
       "      <th>difficulty</th>\n",
       "      <th>duration</th>\n",
       "      <th>offer_type</th>\n",
       "      <th>id</th>\n",
       "      <th>mobile</th>\n",
       "      <th>web</th>\n",
       "      <th>email</th>\n",
       "      <th>social</th>\n",
       "    </tr>\n",
       "  </thead>\n",
       "  <tbody>\n",
       "    <tr>\n",
       "      <th>0</th>\n",
       "      <td>10</td>\n",
       "      <td>10</td>\n",
       "      <td>168</td>\n",
       "      <td>bogo</td>\n",
       "      <td>ae264e3637204a6fb9bb56bc8210ddfd</td>\n",
       "      <td>1</td>\n",
       "      <td>0</td>\n",
       "      <td>1</td>\n",
       "      <td>1</td>\n",
       "    </tr>\n",
       "    <tr>\n",
       "      <th>1</th>\n",
       "      <td>10</td>\n",
       "      <td>10</td>\n",
       "      <td>120</td>\n",
       "      <td>bogo</td>\n",
       "      <td>4d5c57ea9a6940dd891ad53e9dbe8da0</td>\n",
       "      <td>1</td>\n",
       "      <td>1</td>\n",
       "      <td>1</td>\n",
       "      <td>1</td>\n",
       "    </tr>\n",
       "    <tr>\n",
       "      <th>2</th>\n",
       "      <td>0</td>\n",
       "      <td>0</td>\n",
       "      <td>96</td>\n",
       "      <td>informational</td>\n",
       "      <td>3f207df678b143eea3cee63160fa8bed</td>\n",
       "      <td>1</td>\n",
       "      <td>1</td>\n",
       "      <td>1</td>\n",
       "      <td>0</td>\n",
       "    </tr>\n",
       "    <tr>\n",
       "      <th>3</th>\n",
       "      <td>5</td>\n",
       "      <td>5</td>\n",
       "      <td>168</td>\n",
       "      <td>bogo</td>\n",
       "      <td>9b98b8c7a33c4b65b9aebfe6a799e6d9</td>\n",
       "      <td>1</td>\n",
       "      <td>1</td>\n",
       "      <td>1</td>\n",
       "      <td>0</td>\n",
       "    </tr>\n",
       "    <tr>\n",
       "      <th>4</th>\n",
       "      <td>5</td>\n",
       "      <td>20</td>\n",
       "      <td>240</td>\n",
       "      <td>discount</td>\n",
       "      <td>0b1e1539f2cc45b7b9fa7c272da2e1d7</td>\n",
       "      <td>0</td>\n",
       "      <td>1</td>\n",
       "      <td>1</td>\n",
       "      <td>0</td>\n",
       "    </tr>\n",
       "    <tr>\n",
       "      <th>5</th>\n",
       "      <td>3</td>\n",
       "      <td>7</td>\n",
       "      <td>168</td>\n",
       "      <td>discount</td>\n",
       "      <td>2298d6c36e964ae4a3e7e9706d1fb8c2</td>\n",
       "      <td>1</td>\n",
       "      <td>1</td>\n",
       "      <td>1</td>\n",
       "      <td>1</td>\n",
       "    </tr>\n",
       "    <tr>\n",
       "      <th>6</th>\n",
       "      <td>2</td>\n",
       "      <td>10</td>\n",
       "      <td>240</td>\n",
       "      <td>discount</td>\n",
       "      <td>fafdcd668e3743c1bb461111dcafc2a4</td>\n",
       "      <td>1</td>\n",
       "      <td>1</td>\n",
       "      <td>1</td>\n",
       "      <td>1</td>\n",
       "    </tr>\n",
       "    <tr>\n",
       "      <th>7</th>\n",
       "      <td>0</td>\n",
       "      <td>0</td>\n",
       "      <td>72</td>\n",
       "      <td>informational</td>\n",
       "      <td>5a8bc65990b245e5a138643cd4eb9837</td>\n",
       "      <td>1</td>\n",
       "      <td>0</td>\n",
       "      <td>1</td>\n",
       "      <td>1</td>\n",
       "    </tr>\n",
       "    <tr>\n",
       "      <th>8</th>\n",
       "      <td>5</td>\n",
       "      <td>5</td>\n",
       "      <td>120</td>\n",
       "      <td>bogo</td>\n",
       "      <td>f19421c1d4aa40978ebb69ca19b0e20d</td>\n",
       "      <td>1</td>\n",
       "      <td>1</td>\n",
       "      <td>1</td>\n",
       "      <td>1</td>\n",
       "    </tr>\n",
       "    <tr>\n",
       "      <th>9</th>\n",
       "      <td>2</td>\n",
       "      <td>10</td>\n",
       "      <td>168</td>\n",
       "      <td>discount</td>\n",
       "      <td>2906b810c7d4411798c6938adc9daaa5</td>\n",
       "      <td>1</td>\n",
       "      <td>1</td>\n",
       "      <td>1</td>\n",
       "      <td>0</td>\n",
       "    </tr>\n",
       "  </tbody>\n",
       "</table>\n",
       "</div>"
      ],
      "text/plain": [
       "   reward  difficulty  duration     offer_type  \\\n",
       "0      10          10       168           bogo   \n",
       "1      10          10       120           bogo   \n",
       "2       0           0        96  informational   \n",
       "3       5           5       168           bogo   \n",
       "4       5          20       240       discount   \n",
       "5       3           7       168       discount   \n",
       "6       2          10       240       discount   \n",
       "7       0           0        72  informational   \n",
       "8       5           5       120           bogo   \n",
       "9       2          10       168       discount   \n",
       "\n",
       "                                 id  mobile  web  email  social  \n",
       "0  ae264e3637204a6fb9bb56bc8210ddfd       1    0      1       1  \n",
       "1  4d5c57ea9a6940dd891ad53e9dbe8da0       1    1      1       1  \n",
       "2  3f207df678b143eea3cee63160fa8bed       1    1      1       0  \n",
       "3  9b98b8c7a33c4b65b9aebfe6a799e6d9       1    1      1       0  \n",
       "4  0b1e1539f2cc45b7b9fa7c272da2e1d7       0    1      1       0  \n",
       "5  2298d6c36e964ae4a3e7e9706d1fb8c2       1    1      1       1  \n",
       "6  fafdcd668e3743c1bb461111dcafc2a4       1    1      1       1  \n",
       "7  5a8bc65990b245e5a138643cd4eb9837       1    0      1       1  \n",
       "8  f19421c1d4aa40978ebb69ca19b0e20d       1    1      1       1  \n",
       "9  2906b810c7d4411798c6938adc9daaa5       1    1      1       0  "
      ]
     },
     "execution_count": 1778,
     "metadata": {},
     "output_type": "execute_result"
    }
   ],
   "source": [
    "for x in channel_types:\n",
    "    portfolio[x]=0\n",
    "    portfolio.loc[pd.DataFrame(portfolio['channels'].tolist()).isin([x]).any(1),x]=1\n",
    "portfolio.drop('channels', axis=1, inplace=True)\n",
    "portfolio"
   ]
  },
  {
   "cell_type": "code",
   "execution_count": 1779,
   "metadata": {},
   "outputs": [
    {
     "data": {
      "text/html": [
       "<div>\n",
       "<style scoped>\n",
       "    .dataframe tbody tr th:only-of-type {\n",
       "        vertical-align: middle;\n",
       "    }\n",
       "\n",
       "    .dataframe tbody tr th {\n",
       "        vertical-align: top;\n",
       "    }\n",
       "\n",
       "    .dataframe thead th {\n",
       "        text-align: right;\n",
       "    }\n",
       "</style>\n",
       "<table border=\"1\" class=\"dataframe\">\n",
       "  <thead>\n",
       "    <tr style=\"text-align: right;\">\n",
       "      <th></th>\n",
       "      <th>email</th>\n",
       "      <th>social</th>\n",
       "      <th>web</th>\n",
       "      <th>mobile</th>\n",
       "    </tr>\n",
       "    <tr>\n",
       "      <th>offer_type</th>\n",
       "      <th></th>\n",
       "      <th></th>\n",
       "      <th></th>\n",
       "      <th></th>\n",
       "    </tr>\n",
       "  </thead>\n",
       "  <tbody>\n",
       "    <tr>\n",
       "      <th>bogo</th>\n",
       "      <td>4</td>\n",
       "      <td>3</td>\n",
       "      <td>3</td>\n",
       "      <td>4</td>\n",
       "    </tr>\n",
       "    <tr>\n",
       "      <th>discount</th>\n",
       "      <td>4</td>\n",
       "      <td>2</td>\n",
       "      <td>4</td>\n",
       "      <td>3</td>\n",
       "    </tr>\n",
       "    <tr>\n",
       "      <th>informational</th>\n",
       "      <td>2</td>\n",
       "      <td>1</td>\n",
       "      <td>1</td>\n",
       "      <td>2</td>\n",
       "    </tr>\n",
       "  </tbody>\n",
       "</table>\n",
       "</div>"
      ],
      "text/plain": [
       "               email  social  web  mobile\n",
       "offer_type                               \n",
       "bogo               4       3    3       4\n",
       "discount           4       2    4       3\n",
       "informational      2       1    1       2"
      ]
     },
     "execution_count": 1779,
     "metadata": {},
     "output_type": "execute_result"
    }
   ],
   "source": [
    "portfolio.groupby('offer_type')[['email', 'social', 'web', 'mobile']].sum()"
   ]
  },
  {
   "cell_type": "markdown",
   "metadata": {},
   "source": [
    "each offer type comes with four ways of promotion. Since we are not interested in finding out the most effective promting methods in this study, we will only count the total number of methods each offer was sent and they will be stored in \"channels\" in stead. "
   ]
  },
  {
   "cell_type": "code",
   "execution_count": 1780,
   "metadata": {},
   "outputs": [],
   "source": [
    "portfolio.loc[:,'channels']=portfolio['email']+portfolio['social']+portfolio['web']+portfolio['mobile']\n",
    "\n",
    "to_be_dropped=['email','social','web']"
   ]
  },
  {
   "cell_type": "markdown",
   "metadata": {},
   "source": [
    "from observation, it can be seen that for BOGO offer, reward==diffuculty. For informational offer, reward==difficulty==0. For discount offer, rewards is nearly proportional to difficulty. It makes sense to engineer a new feature based on them as the ratio between reward_diff_ratio. This new feature could be taken as the reward you get per difficulty level. "
   ]
  },
  {
   "cell_type": "code",
   "execution_count": 1781,
   "metadata": {},
   "outputs": [],
   "source": [
    "portfolio.loc[:,'reward_diff_ratio']=0\n",
    "portfolio.loc[portfolio['difficulty']!=0,'reward_diff_ratio']=portfolio[portfolio['difficulty']!=0]['reward']/portfolio[portfolio['difficulty']!=0]['difficulty']\n",
    "portfolio\n",
    "\n",
    "# with new feature added, \"reward\" and \"difficulty\" can be dropped\n",
    "to_be_dropped=['reward','difficulty']\n"
   ]
  },
  {
   "cell_type": "markdown",
   "metadata": {},
   "source": [
    "## profile"
   ]
  },
  {
   "cell_type": "code",
   "execution_count": 1782,
   "metadata": {},
   "outputs": [
    {
     "name": "stdout",
     "output_type": "stream",
     "text": [
      "(17000, 5)\n"
     ]
    },
    {
     "data": {
      "text/html": [
       "<div>\n",
       "<style scoped>\n",
       "    .dataframe tbody tr th:only-of-type {\n",
       "        vertical-align: middle;\n",
       "    }\n",
       "\n",
       "    .dataframe tbody tr th {\n",
       "        vertical-align: top;\n",
       "    }\n",
       "\n",
       "    .dataframe thead th {\n",
       "        text-align: right;\n",
       "    }\n",
       "</style>\n",
       "<table border=\"1\" class=\"dataframe\">\n",
       "  <thead>\n",
       "    <tr style=\"text-align: right;\">\n",
       "      <th></th>\n",
       "      <th>gender</th>\n",
       "      <th>age</th>\n",
       "      <th>id</th>\n",
       "      <th>became_member_on</th>\n",
       "      <th>income</th>\n",
       "    </tr>\n",
       "  </thead>\n",
       "  <tbody>\n",
       "    <tr>\n",
       "      <th>0</th>\n",
       "      <td>None</td>\n",
       "      <td>118</td>\n",
       "      <td>68be06ca386d4c31939f3a4f0e3dd783</td>\n",
       "      <td>20170212</td>\n",
       "      <td>NaN</td>\n",
       "    </tr>\n",
       "    <tr>\n",
       "      <th>1</th>\n",
       "      <td>F</td>\n",
       "      <td>55</td>\n",
       "      <td>0610b486422d4921ae7d2bf64640c50b</td>\n",
       "      <td>20170715</td>\n",
       "      <td>112000.0</td>\n",
       "    </tr>\n",
       "    <tr>\n",
       "      <th>2</th>\n",
       "      <td>None</td>\n",
       "      <td>118</td>\n",
       "      <td>38fe809add3b4fcf9315a9694bb96ff5</td>\n",
       "      <td>20180712</td>\n",
       "      <td>NaN</td>\n",
       "    </tr>\n",
       "    <tr>\n",
       "      <th>3</th>\n",
       "      <td>F</td>\n",
       "      <td>75</td>\n",
       "      <td>78afa995795e4d85b5d9ceeca43f5fef</td>\n",
       "      <td>20170509</td>\n",
       "      <td>100000.0</td>\n",
       "    </tr>\n",
       "    <tr>\n",
       "      <th>4</th>\n",
       "      <td>None</td>\n",
       "      <td>118</td>\n",
       "      <td>a03223e636434f42ac4c3df47e8bac43</td>\n",
       "      <td>20170804</td>\n",
       "      <td>NaN</td>\n",
       "    </tr>\n",
       "  </tbody>\n",
       "</table>\n",
       "</div>"
      ],
      "text/plain": [
       "  gender  age                                id  became_member_on    income\n",
       "0   None  118  68be06ca386d4c31939f3a4f0e3dd783          20170212       NaN\n",
       "1      F   55  0610b486422d4921ae7d2bf64640c50b          20170715  112000.0\n",
       "2   None  118  38fe809add3b4fcf9315a9694bb96ff5          20180712       NaN\n",
       "3      F   75  78afa995795e4d85b5d9ceeca43f5fef          20170509  100000.0\n",
       "4   None  118  a03223e636434f42ac4c3df47e8bac43          20170804       NaN"
      ]
     },
     "execution_count": 1782,
     "metadata": {},
     "output_type": "execute_result"
    }
   ],
   "source": [
    "print(profile.shape)\n",
    "profile.head()"
   ]
  },
  {
   "cell_type": "code",
   "execution_count": 1783,
   "metadata": {},
   "outputs": [
    {
     "data": {
      "text/plain": [
       "False"
      ]
     },
     "execution_count": 1783,
     "metadata": {},
     "output_type": "execute_result"
    }
   ],
   "source": [
    "# check duplicates\n",
    "profile.duplicated().any()"
   ]
  },
  {
   "cell_type": "code",
   "execution_count": 1784,
   "metadata": {},
   "outputs": [
    {
     "name": "stdout",
     "output_type": "stream",
     "text": [
      " 2175 (12.7941%) missing values in gender \n"
     ]
    },
    {
     "data": {
      "image/png": "[encoded data removed]",
      "text/plain": [
       "<Figure size 432x216 with 1 Axes>"
      ]
     },
     "metadata": {
      "needs_background": "light"
     },
     "output_type": "display_data"
    }
   ],
   "source": [
    "pri_missing_perc(profile, 'gender')\n",
    "profile['gender'].fillna('unknown', inplace =True) \n",
    "\n",
    "category_plot(profile, 'gender', 'gender', (6,3))"
   ]
  },
  {
   "cell_type": "code",
   "execution_count": 1785,
   "metadata": {},
   "outputs": [
    {
     "name": "stdout",
     "output_type": "stream",
     "text": [
      " 2175 (12.7941%) missing values in income \n"
     ]
    },
    {
     "data": {
      "image/png": "[encoded data removed]",
      "text/plain": [
       "<Figure size 720x288 with 1 Axes>"
      ]
     },
     "metadata": {
      "needs_background": "light"
     },
     "output_type": "display_data"
    }
   ],
   "source": [
    "pri_missing_perc(profile, 'income')\n",
    "hist_plot(profile, 'income', 'income', figs=(10,4), nbin=15)"
   ]
  },
  {
   "cell_type": "code",
   "execution_count": 1786,
   "metadata": {},
   "outputs": [
    {
     "data": {
      "image/png": "[encoded data removed]",
      "text/plain": [
       "<Figure size 1080x360 with 1 Axes>"
      ]
     },
     "metadata": {
      "needs_background": "light"
     },
     "output_type": "display_data"
    }
   ],
   "source": [
    "# fill NULL\n",
    "\n",
    "# # get median and mean\n",
    "# print(\"Mean days as host:\", round(profile['income'].mean(),2))\n",
    "# print(\"Median days as host:\", round(profile['income'].median(),2))\n",
    "\n",
    "# profile['income'].fillna(profile['income'].median(), inplace=True)\n",
    "# hist_plot(profile, 'income', 'income', figs=(10,4), nbin=10)\n",
    "\n",
    "into_bins(profile,'income',bins=[0, 40000, 60000, 80000, 100000, 150000],\n",
    "          labels=['<40k', '40-60k' ,'60-80k', '80-100k','>100k'])\n",
    "category_plot(profile,'income', 'Member Income')"
   ]
  },
  {
   "cell_type": "code",
   "execution_count": 1787,
   "metadata": {},
   "outputs": [
    {
     "name": "stdout",
     "output_type": "stream",
     "text": [
      " 0 (0.0%) missing values in age \n"
     ]
    },
    {
     "data": {
      "image/png": "[encoded data removed]",
      "text/plain": [
       "<Figure size 1080x360 with 1 Axes>"
      ]
     },
     "metadata": {
      "needs_background": "light"
     },
     "output_type": "display_data"
    },
    {
     "name": "stdout",
     "output_type": "stream",
     "text": [
      "Max age: 118\n",
      "Percentage of Age 118: 12.7941%\n"
     ]
    }
   ],
   "source": [
    "pri_missing_perc(profile, 'age')\n",
    "hist_plot(profile, 'age', 'age', figs=(15,5), nbin=20)\n",
    "\n",
    "# get the value of outier\n",
    "print(\"Max age:\", profile['age'].max())\n",
    "print('Percentage of Age 118: {}%'.format(round(profile[profile['age']==profile['age'].max()].shape[0]/profile.shape[0]*100, 4)))"
   ]
  },
  {
   "cell_type": "code",
   "execution_count": 1788,
   "metadata": {},
   "outputs": [
    {
     "data": {
      "image/png": "[encoded data removed]",
      "text/plain": [
       "<Figure size 1080x360 with 1 Axes>"
      ]
     },
     "metadata": {
      "needs_background": "light"
     },
     "output_type": "display_data"
    }
   ],
   "source": [
    "into_bins(profile,'age',bins=[0, 20, 40, 60, 80, 100, 120],\n",
    "          labels=['<20', '20-40', '40-60' ,'60-80', '80-100','>100'])\n",
    "category_plot(profile,'age', 'Customer Age')"
   ]
  },
  {
   "cell_type": "code",
   "execution_count": 1789,
   "metadata": {},
   "outputs": [
    {
     "name": "stdout",
     "output_type": "stream",
     "text": [
      " 0 (0.0%) missing values in became_member_on \n"
     ]
    },
    {
     "data": {
      "image/png": "[encoded data removed]",
      "text/plain": [
       "<Figure size 1080x360 with 1 Axes>"
      ]
     },
     "metadata": {
      "needs_background": "light"
     },
     "output_type": "display_data"
    }
   ],
   "source": [
    "pri_missing_perc(profile, 'became_member_on')\n",
    "\n",
    "profile['became_member_on']=pd.to_datetime(profile['became_member_on'].astype('str'))\n",
    "profile['membership_days']=(pd.to_datetime('20200501')-profile['became_member_on']).astype('timedelta64[D]')\n",
    "profile.drop('became_member_on', axis=1, inplace=True)\n",
    "\n",
    "hist_plot(profile, 'membership_days', 'membership_days', figs=(15,5), nbin=20)"
   ]
  },
  {
   "cell_type": "code",
   "execution_count": 1790,
   "metadata": {},
   "outputs": [
    {
     "data": {
      "text/plain": [
       "False"
      ]
     },
     "execution_count": 1790,
     "metadata": {},
     "output_type": "execute_result"
    }
   ],
   "source": [
    "profile.duplicated().any()"
   ]
  },
  {
   "cell_type": "code",
   "execution_count": 1791,
   "metadata": {},
   "outputs": [
    {
     "data": {
      "text/html": [
       "<div>\n",
       "<style scoped>\n",
       "    .dataframe tbody tr th:only-of-type {\n",
       "        vertical-align: middle;\n",
       "    }\n",
       "\n",
       "    .dataframe tbody tr th {\n",
       "        vertical-align: top;\n",
       "    }\n",
       "\n",
       "    .dataframe thead th {\n",
       "        text-align: right;\n",
       "    }\n",
       "</style>\n",
       "<table border=\"1\" class=\"dataframe\">\n",
       "  <thead>\n",
       "    <tr style=\"text-align: right;\">\n",
       "      <th></th>\n",
       "      <th>gender</th>\n",
       "      <th>age</th>\n",
       "      <th>id</th>\n",
       "      <th>income</th>\n",
       "      <th>membership_days</th>\n",
       "    </tr>\n",
       "  </thead>\n",
       "  <tbody>\n",
       "    <tr>\n",
       "      <th>0</th>\n",
       "      <td>unknown</td>\n",
       "      <td>&gt;100</td>\n",
       "      <td>68be06ca386d4c31939f3a4f0e3dd783</td>\n",
       "      <td>unknown</td>\n",
       "      <td>1174.0</td>\n",
       "    </tr>\n",
       "    <tr>\n",
       "      <th>1</th>\n",
       "      <td>F</td>\n",
       "      <td>40-60</td>\n",
       "      <td>0610b486422d4921ae7d2bf64640c50b</td>\n",
       "      <td>&gt;100k</td>\n",
       "      <td>1021.0</td>\n",
       "    </tr>\n",
       "    <tr>\n",
       "      <th>2</th>\n",
       "      <td>unknown</td>\n",
       "      <td>&gt;100</td>\n",
       "      <td>38fe809add3b4fcf9315a9694bb96ff5</td>\n",
       "      <td>unknown</td>\n",
       "      <td>659.0</td>\n",
       "    </tr>\n",
       "    <tr>\n",
       "      <th>3</th>\n",
       "      <td>F</td>\n",
       "      <td>60-80</td>\n",
       "      <td>78afa995795e4d85b5d9ceeca43f5fef</td>\n",
       "      <td>80-100k</td>\n",
       "      <td>1088.0</td>\n",
       "    </tr>\n",
       "    <tr>\n",
       "      <th>4</th>\n",
       "      <td>unknown</td>\n",
       "      <td>&gt;100</td>\n",
       "      <td>a03223e636434f42ac4c3df47e8bac43</td>\n",
       "      <td>unknown</td>\n",
       "      <td>1001.0</td>\n",
       "    </tr>\n",
       "    <tr>\n",
       "      <th>5</th>\n",
       "      <td>M</td>\n",
       "      <td>60-80</td>\n",
       "      <td>e2127556f4f64592b11af22de27a7932</td>\n",
       "      <td>60-80k</td>\n",
       "      <td>736.0</td>\n",
       "    </tr>\n",
       "    <tr>\n",
       "      <th>6</th>\n",
       "      <td>unknown</td>\n",
       "      <td>&gt;100</td>\n",
       "      <td>8ec6ce2a7e7949b1bf142def7d0e0586</td>\n",
       "      <td>unknown</td>\n",
       "      <td>949.0</td>\n",
       "    </tr>\n",
       "    <tr>\n",
       "      <th>7</th>\n",
       "      <td>unknown</td>\n",
       "      <td>&gt;100</td>\n",
       "      <td>68617ca6246f4fbc85e91a2a49552598</td>\n",
       "      <td>unknown</td>\n",
       "      <td>942.0</td>\n",
       "    </tr>\n",
       "    <tr>\n",
       "      <th>8</th>\n",
       "      <td>M</td>\n",
       "      <td>60-80</td>\n",
       "      <td>389bc3fa690240e798340f5a15918d5c</td>\n",
       "      <td>40-60k</td>\n",
       "      <td>812.0</td>\n",
       "    </tr>\n",
       "    <tr>\n",
       "      <th>9</th>\n",
       "      <td>unknown</td>\n",
       "      <td>&gt;100</td>\n",
       "      <td>8974fc5686fe429db53ddde067b88302</td>\n",
       "      <td>unknown</td>\n",
       "      <td>1256.0</td>\n",
       "    </tr>\n",
       "  </tbody>\n",
       "</table>\n",
       "</div>"
      ],
      "text/plain": [
       "    gender    age                                id   income  membership_days\n",
       "0  unknown   >100  68be06ca386d4c31939f3a4f0e3dd783  unknown           1174.0\n",
       "1        F  40-60  0610b486422d4921ae7d2bf64640c50b    >100k           1021.0\n",
       "2  unknown   >100  38fe809add3b4fcf9315a9694bb96ff5  unknown            659.0\n",
       "3        F  60-80  78afa995795e4d85b5d9ceeca43f5fef  80-100k           1088.0\n",
       "4  unknown   >100  a03223e636434f42ac4c3df47e8bac43  unknown           1001.0\n",
       "5        M  60-80  e2127556f4f64592b11af22de27a7932   60-80k            736.0\n",
       "6  unknown   >100  8ec6ce2a7e7949b1bf142def7d0e0586  unknown            949.0\n",
       "7  unknown   >100  68617ca6246f4fbc85e91a2a49552598  unknown            942.0\n",
       "8        M  60-80  389bc3fa690240e798340f5a15918d5c   40-60k            812.0\n",
       "9  unknown   >100  8974fc5686fe429db53ddde067b88302  unknown           1256.0"
      ]
     },
     "execution_count": 1791,
     "metadata": {},
     "output_type": "execute_result"
    }
   ],
   "source": [
    "# after preprocessing\n",
    "profile.head(10)"
   ]
  },
  {
   "cell_type": "markdown",
   "metadata": {},
   "source": [
    "## transcript"
   ]
  },
  {
   "cell_type": "code",
   "execution_count": 1792,
   "metadata": {},
   "outputs": [
    {
     "data": {
      "text/html": [
       "<div>\n",
       "<style scoped>\n",
       "    .dataframe tbody tr th:only-of-type {\n",
       "        vertical-align: middle;\n",
       "    }\n",
       "\n",
       "    .dataframe tbody tr th {\n",
       "        vertical-align: top;\n",
       "    }\n",
       "\n",
       "    .dataframe thead th {\n",
       "        text-align: right;\n",
       "    }\n",
       "</style>\n",
       "<table border=\"1\" class=\"dataframe\">\n",
       "  <thead>\n",
       "    <tr style=\"text-align: right;\">\n",
       "      <th></th>\n",
       "      <th>person</th>\n",
       "      <th>event</th>\n",
       "      <th>value</th>\n",
       "      <th>time</th>\n",
       "    </tr>\n",
       "  </thead>\n",
       "  <tbody>\n",
       "    <tr>\n",
       "      <th>0</th>\n",
       "      <td>78afa995795e4d85b5d9ceeca43f5fef</td>\n",
       "      <td>offer received</td>\n",
       "      <td>{'offer id': '9b98b8c7a33c4b65b9aebfe6a799e6d9'}</td>\n",
       "      <td>0</td>\n",
       "    </tr>\n",
       "    <tr>\n",
       "      <th>1</th>\n",
       "      <td>a03223e636434f42ac4c3df47e8bac43</td>\n",
       "      <td>offer received</td>\n",
       "      <td>{'offer id': '0b1e1539f2cc45b7b9fa7c272da2e1d7'}</td>\n",
       "      <td>0</td>\n",
       "    </tr>\n",
       "    <tr>\n",
       "      <th>2</th>\n",
       "      <td>e2127556f4f64592b11af22de27a7932</td>\n",
       "      <td>offer received</td>\n",
       "      <td>{'offer id': '2906b810c7d4411798c6938adc9daaa5'}</td>\n",
       "      <td>0</td>\n",
       "    </tr>\n",
       "    <tr>\n",
       "      <th>3</th>\n",
       "      <td>8ec6ce2a7e7949b1bf142def7d0e0586</td>\n",
       "      <td>offer received</td>\n",
       "      <td>{'offer id': 'fafdcd668e3743c1bb461111dcafc2a4'}</td>\n",
       "      <td>0</td>\n",
       "    </tr>\n",
       "    <tr>\n",
       "      <th>4</th>\n",
       "      <td>68617ca6246f4fbc85e91a2a49552598</td>\n",
       "      <td>offer received</td>\n",
       "      <td>{'offer id': '4d5c57ea9a6940dd891ad53e9dbe8da0'}</td>\n",
       "      <td>0</td>\n",
       "    </tr>\n",
       "  </tbody>\n",
       "</table>\n",
       "</div>"
      ],
      "text/plain": [
       "                             person           event  \\\n",
       "0  78afa995795e4d85b5d9ceeca43f5fef  offer received   \n",
       "1  a03223e636434f42ac4c3df47e8bac43  offer received   \n",
       "2  e2127556f4f64592b11af22de27a7932  offer received   \n",
       "3  8ec6ce2a7e7949b1bf142def7d0e0586  offer received   \n",
       "4  68617ca6246f4fbc85e91a2a49552598  offer received   \n",
       "\n",
       "                                              value  time  \n",
       "0  {'offer id': '9b98b8c7a33c4b65b9aebfe6a799e6d9'}     0  \n",
       "1  {'offer id': '0b1e1539f2cc45b7b9fa7c272da2e1d7'}     0  \n",
       "2  {'offer id': '2906b810c7d4411798c6938adc9daaa5'}     0  \n",
       "3  {'offer id': 'fafdcd668e3743c1bb461111dcafc2a4'}     0  \n",
       "4  {'offer id': '4d5c57ea9a6940dd891ad53e9dbe8da0'}     0  "
      ]
     },
     "execution_count": 1792,
     "metadata": {},
     "output_type": "execute_result"
    }
   ],
   "source": [
    "transcript.head()"
   ]
  },
  {
   "cell_type": "code",
   "execution_count": 1793,
   "metadata": {},
   "outputs": [
    {
     "data": {
      "image/png": "[encoded data removed]",
      "text/plain": [
       "<Figure size 432x216 with 1 Axes>"
      ]
     },
     "metadata": {
      "needs_background": "light"
     },
     "output_type": "display_data"
    }
   ],
   "source": [
    "category_plot(transcript, 'event', 'event', (6,3))"
   ]
  },
  {
   "cell_type": "code",
   "execution_count": 1794,
   "metadata": {},
   "outputs": [
    {
     "data": {
      "text/plain": [
       "{'amount', 'offer id', 'offer_id', 'reward'}"
      ]
     },
     "execution_count": 1794,
     "metadata": {},
     "output_type": "execute_result"
    }
   ],
   "source": [
    "key=set([i for item in list(transcript['value']) for i in item.keys()])\n",
    "key"
   ]
  },
  {
   "cell_type": "code",
   "execution_count": 1795,
   "metadata": {},
   "outputs": [],
   "source": [
    "# split the value column into three columns: amount, offer id and 'reward'\n",
    "\n",
    "transcript=pd.concat([transcript.drop(['value'], axis=1), transcript['value'].apply(pd.Series)], axis=1)\n",
    "transcript.loc[transcript['offer_id'].isna()==False, 'offer id']=transcript[transcript['offer_id'].isna()==False]['offer_id']\n",
    "transcript.drop(['offer_id'], axis=1, inplace=True)\n"
   ]
  },
  {
   "cell_type": "code",
   "execution_count": 1796,
   "metadata": {},
   "outputs": [],
   "source": [
    "# reward will not be considered as transaction amount, it will be deleted later\n",
    "to_be_dropped.append('reward')\n",
    "\n",
    "transcript[['offer id']]=transcript[['offer id']].fillna('unknown')\n",
    "transcript[['amount']]=transcript[['amount']].fillna(0)\n"
   ]
  },
  {
   "cell_type": "code",
   "execution_count": 1797,
   "metadata": {},
   "outputs": [
    {
     "name": "stdout",
     "output_type": "stream",
     "text": [
      "Number of records 306534\n"
     ]
    },
    {
     "data": {
      "text/plain": [
       "True"
      ]
     },
     "execution_count": 1797,
     "metadata": {},
     "output_type": "execute_result"
    }
   ],
   "source": [
    "print('Number of records', transcript.shape[0])\n",
    "transcript.duplicated().any()"
   ]
  },
  {
   "cell_type": "code",
   "execution_count": 1798,
   "metadata": {},
   "outputs": [
    {
     "name": "stdout",
     "output_type": "stream",
     "text": [
      "Number of records after dropping duplicates 306137\n"
     ]
    }
   ],
   "source": [
    "transcript.drop_duplicates(inplace=True)\n",
    "print('Number of records after dropping duplicates', transcript.shape[0])"
   ]
  },
  {
   "cell_type": "markdown",
   "metadata": {},
   "source": [
    "### check total transaction amount"
   ]
  },
  {
   "cell_type": "code",
   "execution_count": 1799,
   "metadata": {},
   "outputs": [
    {
     "data": {
      "text/plain": [
       "offer id\n",
       "0b1e1539f2cc45b7b9fa7c272da2e1d7          0.00\n",
       "2298d6c36e964ae4a3e7e9706d1fb8c2          0.00\n",
       "2906b810c7d4411798c6938adc9daaa5          0.00\n",
       "3f207df678b143eea3cee63160fa8bed          0.00\n",
       "4d5c57ea9a6940dd891ad53e9dbe8da0          0.00\n",
       "5a8bc65990b245e5a138643cd4eb9837          0.00\n",
       "9b98b8c7a33c4b65b9aebfe6a799e6d9          0.00\n",
       "ae264e3637204a6fb9bb56bc8210ddfd          0.00\n",
       "f19421c1d4aa40978ebb69ca19b0e20d          0.00\n",
       "fafdcd668e3743c1bb461111dcafc2a4          0.00\n",
       "unknown                             1775451.97\n",
       "Name: amount, dtype: float64"
      ]
     },
     "execution_count": 1799,
     "metadata": {},
     "output_type": "execute_result"
    }
   ],
   "source": [
    "transcript.groupby(['offer id'])['amount'].sum()"
   ]
  },
  {
   "cell_type": "markdown",
   "metadata": {},
   "source": [
    "# Dataset Preparation and Analysis"
   ]
  },
  {
   "cell_type": "markdown",
   "metadata": {},
   "source": [
    "<img src=\"flowchart.png\" alt=\"Drawing\" style=\"width: 450px;\"/>"
   ]
  },
  {
   "cell_type": "code",
   "execution_count": 1800,
   "metadata": {},
   "outputs": [
    {
     "data": {
      "text/html": [
       "<div>\n",
       "<style scoped>\n",
       "    .dataframe tbody tr th:only-of-type {\n",
       "        vertical-align: middle;\n",
       "    }\n",
       "\n",
       "    .dataframe tbody tr th {\n",
       "        vertical-align: top;\n",
       "    }\n",
       "\n",
       "    .dataframe thead th {\n",
       "        text-align: right;\n",
       "    }\n",
       "</style>\n",
       "<table border=\"1\" class=\"dataframe\">\n",
       "  <thead>\n",
       "    <tr style=\"text-align: right;\">\n",
       "      <th></th>\n",
       "      <th></th>\n",
       "      <th>event</th>\n",
       "    </tr>\n",
       "    <tr>\n",
       "      <th>offer id</th>\n",
       "      <th>event</th>\n",
       "      <th></th>\n",
       "    </tr>\n",
       "  </thead>\n",
       "  <tbody>\n",
       "    <tr>\n",
       "      <th rowspan=\"3\" valign=\"top\">0b1e1539f2cc45b7b9fa7c272da2e1d7</th>\n",
       "      <th>offer completed</th>\n",
       "      <td>3340</td>\n",
       "    </tr>\n",
       "    <tr>\n",
       "      <th>offer received</th>\n",
       "      <td>7668</td>\n",
       "    </tr>\n",
       "    <tr>\n",
       "      <th>offer viewed</th>\n",
       "      <td>2663</td>\n",
       "    </tr>\n",
       "    <tr>\n",
       "      <th rowspan=\"3\" valign=\"top\">2298d6c36e964ae4a3e7e9706d1fb8c2</th>\n",
       "      <th>offer completed</th>\n",
       "      <td>5112</td>\n",
       "    </tr>\n",
       "    <tr>\n",
       "      <th>offer received</th>\n",
       "      <td>7646</td>\n",
       "    </tr>\n",
       "    <tr>\n",
       "      <th>offer viewed</th>\n",
       "      <td>7337</td>\n",
       "    </tr>\n",
       "    <tr>\n",
       "      <th rowspan=\"3\" valign=\"top\">2906b810c7d4411798c6938adc9daaa5</th>\n",
       "      <th>offer completed</th>\n",
       "      <td>3964</td>\n",
       "    </tr>\n",
       "    <tr>\n",
       "      <th>offer received</th>\n",
       "      <td>7632</td>\n",
       "    </tr>\n",
       "    <tr>\n",
       "      <th>offer viewed</th>\n",
       "      <td>4118</td>\n",
       "    </tr>\n",
       "    <tr>\n",
       "      <th rowspan=\"2\" valign=\"top\">3f207df678b143eea3cee63160fa8bed</th>\n",
       "      <th>offer received</th>\n",
       "      <td>7617</td>\n",
       "    </tr>\n",
       "    <tr>\n",
       "      <th>offer viewed</th>\n",
       "      <td>4144</td>\n",
       "    </tr>\n",
       "    <tr>\n",
       "      <th rowspan=\"3\" valign=\"top\">4d5c57ea9a6940dd891ad53e9dbe8da0</th>\n",
       "      <th>offer completed</th>\n",
       "      <td>3301</td>\n",
       "    </tr>\n",
       "    <tr>\n",
       "      <th>offer received</th>\n",
       "      <td>7593</td>\n",
       "    </tr>\n",
       "    <tr>\n",
       "      <th>offer viewed</th>\n",
       "      <td>7298</td>\n",
       "    </tr>\n",
       "    <tr>\n",
       "      <th rowspan=\"2\" valign=\"top\">5a8bc65990b245e5a138643cd4eb9837</th>\n",
       "      <th>offer received</th>\n",
       "      <td>7618</td>\n",
       "    </tr>\n",
       "    <tr>\n",
       "      <th>offer viewed</th>\n",
       "      <td>6687</td>\n",
       "    </tr>\n",
       "    <tr>\n",
       "      <th rowspan=\"3\" valign=\"top\">9b98b8c7a33c4b65b9aebfe6a799e6d9</th>\n",
       "      <th>offer completed</th>\n",
       "      <td>4303</td>\n",
       "    </tr>\n",
       "    <tr>\n",
       "      <th>offer received</th>\n",
       "      <td>7677</td>\n",
       "    </tr>\n",
       "    <tr>\n",
       "      <th>offer viewed</th>\n",
       "      <td>4171</td>\n",
       "    </tr>\n",
       "    <tr>\n",
       "      <th rowspan=\"3\" valign=\"top\">ae264e3637204a6fb9bb56bc8210ddfd</th>\n",
       "      <th>offer completed</th>\n",
       "      <td>3635</td>\n",
       "    </tr>\n",
       "    <tr>\n",
       "      <th>offer received</th>\n",
       "      <td>7658</td>\n",
       "    </tr>\n",
       "    <tr>\n",
       "      <th>offer viewed</th>\n",
       "      <td>6716</td>\n",
       "    </tr>\n",
       "    <tr>\n",
       "      <th rowspan=\"3\" valign=\"top\">f19421c1d4aa40978ebb69ca19b0e20d</th>\n",
       "      <th>offer completed</th>\n",
       "      <td>4262</td>\n",
       "    </tr>\n",
       "    <tr>\n",
       "      <th>offer received</th>\n",
       "      <td>7571</td>\n",
       "    </tr>\n",
       "    <tr>\n",
       "      <th>offer viewed</th>\n",
       "      <td>7264</td>\n",
       "    </tr>\n",
       "    <tr>\n",
       "      <th rowspan=\"3\" valign=\"top\">fafdcd668e3743c1bb461111dcafc2a4</th>\n",
       "      <th>offer completed</th>\n",
       "      <td>5265</td>\n",
       "    </tr>\n",
       "    <tr>\n",
       "      <th>offer received</th>\n",
       "      <td>7597</td>\n",
       "    </tr>\n",
       "    <tr>\n",
       "      <th>offer viewed</th>\n",
       "      <td>7327</td>\n",
       "    </tr>\n",
       "    <tr>\n",
       "      <th>unknown</th>\n",
       "      <th>transaction</th>\n",
       "      <td>138953</td>\n",
       "    </tr>\n",
       "  </tbody>\n",
       "</table>\n",
       "</div>"
      ],
      "text/plain": [
       "                                                   event\n",
       "offer id                         event                  \n",
       "0b1e1539f2cc45b7b9fa7c272da2e1d7 offer completed    3340\n",
       "                                 offer received     7668\n",
       "                                 offer viewed       2663\n",
       "2298d6c36e964ae4a3e7e9706d1fb8c2 offer completed    5112\n",
       "                                 offer received     7646\n",
       "                                 offer viewed       7337\n",
       "2906b810c7d4411798c6938adc9daaa5 offer completed    3964\n",
       "                                 offer received     7632\n",
       "                                 offer viewed       4118\n",
       "3f207df678b143eea3cee63160fa8bed offer received     7617\n",
       "                                 offer viewed       4144\n",
       "4d5c57ea9a6940dd891ad53e9dbe8da0 offer completed    3301\n",
       "                                 offer received     7593\n",
       "                                 offer viewed       7298\n",
       "5a8bc65990b245e5a138643cd4eb9837 offer received     7618\n",
       "                                 offer viewed       6687\n",
       "9b98b8c7a33c4b65b9aebfe6a799e6d9 offer completed    4303\n",
       "                                 offer received     7677\n",
       "                                 offer viewed       4171\n",
       "ae264e3637204a6fb9bb56bc8210ddfd offer completed    3635\n",
       "                                 offer received     7658\n",
       "                                 offer viewed       6716\n",
       "f19421c1d4aa40978ebb69ca19b0e20d offer completed    4262\n",
       "                                 offer received     7571\n",
       "                                 offer viewed       7264\n",
       "fafdcd668e3743c1bb461111dcafc2a4 offer completed    5265\n",
       "                                 offer received     7597\n",
       "                                 offer viewed       7327\n",
       "unknown                          transaction      138953"
      ]
     },
     "execution_count": 1800,
     "metadata": {},
     "output_type": "execute_result"
    }
   ],
   "source": [
    "# check\n",
    "transcript.groupby(['offer id', 'event'])[['event']].count()"
   ]
  },
  {
   "cell_type": "markdown",
   "metadata": {},
   "source": [
    "## Find Effective Offers --> Offer-Driven Purchases\n",
    "\n",
    "**Category**\n",
    "* BOGO/Discount offer: \"offer completed\" event\n",
    "* informational: \"transaction\"before offer expires"
   ]
  },
  {
   "cell_type": "markdown",
   "metadata": {},
   "source": [
    "#### 1. For those whose \"offer viewed\" happen before \"transaction\", fill the transaction with \"offer id\" from \"offer viewed\" as they may be influenced by offer. Will determine if they are actually influenced by the offer later. \n",
    "\n",
    "Steps:\n",
    "* sorting the transcript dataset by time and then event and group them by person. This will ensure that each event for each person occurs in the right sequence. \n",
    "* Then we can check if a \"transaction\" follows a \"offer viewed\" event. If so, then we assume that the transaction was potentially influenced by this offer, so we assign the \"offer id\" from \"offer view\" event to \"transaction\" event.  "
   ]
  },
  {
   "cell_type": "code",
   "execution_count": 1801,
   "metadata": {},
   "outputs": [
    {
     "data": {
      "text/html": [
       "<div>\n",
       "<style scoped>\n",
       "    .dataframe tbody tr th:only-of-type {\n",
       "        vertical-align: middle;\n",
       "    }\n",
       "\n",
       "    .dataframe tbody tr th {\n",
       "        vertical-align: top;\n",
       "    }\n",
       "\n",
       "    .dataframe thead th {\n",
       "        text-align: right;\n",
       "    }\n",
       "</style>\n",
       "<table border=\"1\" class=\"dataframe\">\n",
       "  <thead>\n",
       "    <tr style=\"text-align: right;\">\n",
       "      <th></th>\n",
       "      <th>person</th>\n",
       "      <th>event</th>\n",
       "      <th>time</th>\n",
       "      <th>offer id</th>\n",
       "      <th>amount</th>\n",
       "      <th>reward</th>\n",
       "      <th>pre_event</th>\n",
       "      <th>pre_offer</th>\n",
       "    </tr>\n",
       "  </thead>\n",
       "  <tbody>\n",
       "    <tr>\n",
       "      <th>0</th>\n",
       "      <td>78afa995795e4d85b5d9ceeca43f5fef</td>\n",
       "      <td>offer received</td>\n",
       "      <td>0</td>\n",
       "      <td>9b98b8c7a33c4b65b9aebfe6a799e6d9</td>\n",
       "      <td>0.0</td>\n",
       "      <td>NaN</td>\n",
       "      <td>NaN</td>\n",
       "      <td>NaN</td>\n",
       "    </tr>\n",
       "    <tr>\n",
       "      <th>1</th>\n",
       "      <td>a03223e636434f42ac4c3df47e8bac43</td>\n",
       "      <td>offer received</td>\n",
       "      <td>0</td>\n",
       "      <td>0b1e1539f2cc45b7b9fa7c272da2e1d7</td>\n",
       "      <td>0.0</td>\n",
       "      <td>NaN</td>\n",
       "      <td>NaN</td>\n",
       "      <td>NaN</td>\n",
       "    </tr>\n",
       "    <tr>\n",
       "      <th>2</th>\n",
       "      <td>e2127556f4f64592b11af22de27a7932</td>\n",
       "      <td>offer received</td>\n",
       "      <td>0</td>\n",
       "      <td>2906b810c7d4411798c6938adc9daaa5</td>\n",
       "      <td>0.0</td>\n",
       "      <td>NaN</td>\n",
       "      <td>NaN</td>\n",
       "      <td>NaN</td>\n",
       "    </tr>\n",
       "    <tr>\n",
       "      <th>3</th>\n",
       "      <td>8ec6ce2a7e7949b1bf142def7d0e0586</td>\n",
       "      <td>offer received</td>\n",
       "      <td>0</td>\n",
       "      <td>fafdcd668e3743c1bb461111dcafc2a4</td>\n",
       "      <td>0.0</td>\n",
       "      <td>NaN</td>\n",
       "      <td>NaN</td>\n",
       "      <td>NaN</td>\n",
       "    </tr>\n",
       "    <tr>\n",
       "      <th>4</th>\n",
       "      <td>68617ca6246f4fbc85e91a2a49552598</td>\n",
       "      <td>offer received</td>\n",
       "      <td>0</td>\n",
       "      <td>4d5c57ea9a6940dd891ad53e9dbe8da0</td>\n",
       "      <td>0.0</td>\n",
       "      <td>NaN</td>\n",
       "      <td>NaN</td>\n",
       "      <td>NaN</td>\n",
       "    </tr>\n",
       "  </tbody>\n",
       "</table>\n",
       "</div>"
      ],
      "text/plain": [
       "                             person           event  time  \\\n",
       "0  78afa995795e4d85b5d9ceeca43f5fef  offer received     0   \n",
       "1  a03223e636434f42ac4c3df47e8bac43  offer received     0   \n",
       "2  e2127556f4f64592b11af22de27a7932  offer received     0   \n",
       "3  8ec6ce2a7e7949b1bf142def7d0e0586  offer received     0   \n",
       "4  68617ca6246f4fbc85e91a2a49552598  offer received     0   \n",
       "\n",
       "                           offer id  amount  reward pre_event pre_offer  \n",
       "0  9b98b8c7a33c4b65b9aebfe6a799e6d9     0.0     NaN       NaN       NaN  \n",
       "1  0b1e1539f2cc45b7b9fa7c272da2e1d7     0.0     NaN       NaN       NaN  \n",
       "2  2906b810c7d4411798c6938adc9daaa5     0.0     NaN       NaN       NaN  \n",
       "3  fafdcd668e3743c1bb461111dcafc2a4     0.0     NaN       NaN       NaN  \n",
       "4  4d5c57ea9a6940dd891ad53e9dbe8da0     0.0     NaN       NaN       NaN  "
      ]
     },
     "execution_count": 1801,
     "metadata": {},
     "output_type": "execute_result"
    }
   ],
   "source": [
    "transcript['event'] = pd.Categorical(transcript['event'], ['offer received', 'offer viewed', 'transaction', 'offer completed'])\n",
    "\n",
    "transcript['pre_event']=transcript.sort_values(['time','event']).groupby(['person'])['event'].shift(1)\n",
    "transcript['pre_offer']=transcript.sort_values(['time','event']).groupby(['person'])['offer id'].shift(1)\n",
    "transcript.loc[((transcript['event']=='transaction') & (transcript['pre_event']=='offer viewed')), 'offer id']=transcript[((transcript['event']=='transaction') & (transcript['pre_event']=='offer viewed'))]['pre_offer']\n",
    "\n",
    "transcript.head()\n"
   ]
  },
  {
   "cell_type": "code",
   "execution_count": 1802,
   "metadata": {},
   "outputs": [
    {
     "data": {
      "text/plain": [
       "offer id                          event          \n",
       "0b1e1539f2cc45b7b9fa7c272da2e1d7  offer received      7668\n",
       "                                  offer viewed        2663\n",
       "                                  transaction         1738\n",
       "                                  offer completed     3340\n",
       "2298d6c36e964ae4a3e7e9706d1fb8c2  offer received      7646\n",
       "                                  offer viewed        7337\n",
       "                                  transaction         5612\n",
       "                                  offer completed     5112\n",
       "2906b810c7d4411798c6938adc9daaa5  offer received      7632\n",
       "                                  offer viewed        4118\n",
       "                                  transaction         2831\n",
       "                                  offer completed     3964\n",
       "3f207df678b143eea3cee63160fa8bed  offer received      7617\n",
       "                                  offer viewed        4144\n",
       "                                  transaction         2677\n",
       "                                  offer completed        0\n",
       "4d5c57ea9a6940dd891ad53e9dbe8da0  offer received      7593\n",
       "                                  offer viewed        7298\n",
       "                                  transaction         5434\n",
       "                                  offer completed     3301\n",
       "5a8bc65990b245e5a138643cd4eb9837  offer received      7618\n",
       "                                  offer viewed        6687\n",
       "                                  transaction         4522\n",
       "                                  offer completed        0\n",
       "9b98b8c7a33c4b65b9aebfe6a799e6d9  offer received      7677\n",
       "                                  offer viewed        4171\n",
       "                                  transaction         2917\n",
       "                                  offer completed     4303\n",
       "ae264e3637204a6fb9bb56bc8210ddfd  offer received      7658\n",
       "                                  offer viewed        6716\n",
       "                                  transaction         5069\n",
       "                                  offer completed     3635\n",
       "f19421c1d4aa40978ebb69ca19b0e20d  offer received      7571\n",
       "                                  offer viewed        7264\n",
       "                                  transaction         5407\n",
       "                                  offer completed     4262\n",
       "fafdcd668e3743c1bb461111dcafc2a4  offer received      7597\n",
       "                                  offer viewed        7327\n",
       "                                  transaction         5707\n",
       "                                  offer completed     5265\n",
       "unknown                           offer received         0\n",
       "                                  offer viewed           0\n",
       "                                  transaction        97039\n",
       "                                  offer completed        0\n",
       "Name: event, dtype: int64"
      ]
     },
     "execution_count": 1802,
     "metadata": {},
     "output_type": "execute_result"
    }
   ],
   "source": [
    "# check\n",
    "transcript.groupby(['offer id', 'event'])['event'].count()"
   ]
  },
  {
   "cell_type": "code",
   "execution_count": 1803,
   "metadata": {},
   "outputs": [
    {
     "data": {
      "text/plain": [
       "event    138953.0\n",
       "dtype: float64"
      ]
     },
     "execution_count": 1803,
     "metadata": {},
     "output_type": "execute_result"
    }
   ],
   "source": [
    "# check\n",
    "transcript[transcript['event']=='transaction'].groupby(['offer id', 'event'])[['event']].count().sum()"
   ]
  },
  {
   "cell_type": "markdown",
   "metadata": {},
   "source": [
    "#### 2.  Combining all three datasets\n",
    "steps:\n",
    "1. merge \"profile\" with \"transcript\" based on customer id\n",
    "2. left merge the combined dataset with \"portfolio\" based on \"offer id\"."
   ]
  },
  {
   "cell_type": "code",
   "execution_count": 1862,
   "metadata": {},
   "outputs": [
    {
     "data": {
      "text/html": [
       "<div>\n",
       "<style scoped>\n",
       "    .dataframe tbody tr th:only-of-type {\n",
       "        vertical-align: middle;\n",
       "    }\n",
       "\n",
       "    .dataframe tbody tr th {\n",
       "        vertical-align: top;\n",
       "    }\n",
       "\n",
       "    .dataframe thead th {\n",
       "        text-align: right;\n",
       "    }\n",
       "</style>\n",
       "<table border=\"1\" class=\"dataframe\">\n",
       "  <thead>\n",
       "    <tr style=\"text-align: right;\">\n",
       "      <th></th>\n",
       "      <th>gender</th>\n",
       "      <th>age</th>\n",
       "      <th>income</th>\n",
       "      <th>membership_days</th>\n",
       "      <th>person</th>\n",
       "      <th>event</th>\n",
       "      <th>time</th>\n",
       "      <th>offer id</th>\n",
       "      <th>amount</th>\n",
       "      <th>reward</th>\n",
       "      <th>pre_event</th>\n",
       "      <th>pre_offer</th>\n",
       "    </tr>\n",
       "  </thead>\n",
       "  <tbody>\n",
       "    <tr>\n",
       "      <th>0</th>\n",
       "      <td>unknown</td>\n",
       "      <td>&gt;100</td>\n",
       "      <td>unknown</td>\n",
       "      <td>1174.0</td>\n",
       "      <td>68be06ca386d4c31939f3a4f0e3dd783</td>\n",
       "      <td>offer received</td>\n",
       "      <td>168</td>\n",
       "      <td>2906b810c7d4411798c6938adc9daaa5</td>\n",
       "      <td>0.00</td>\n",
       "      <td>NaN</td>\n",
       "      <td>NaN</td>\n",
       "      <td>NaN</td>\n",
       "    </tr>\n",
       "    <tr>\n",
       "      <th>1</th>\n",
       "      <td>unknown</td>\n",
       "      <td>&gt;100</td>\n",
       "      <td>unknown</td>\n",
       "      <td>1174.0</td>\n",
       "      <td>68be06ca386d4c31939f3a4f0e3dd783</td>\n",
       "      <td>offer viewed</td>\n",
       "      <td>216</td>\n",
       "      <td>2906b810c7d4411798c6938adc9daaa5</td>\n",
       "      <td>0.00</td>\n",
       "      <td>NaN</td>\n",
       "      <td>offer received</td>\n",
       "      <td>2906b810c7d4411798c6938adc9daaa5</td>\n",
       "    </tr>\n",
       "    <tr>\n",
       "      <th>2</th>\n",
       "      <td>unknown</td>\n",
       "      <td>&gt;100</td>\n",
       "      <td>unknown</td>\n",
       "      <td>1174.0</td>\n",
       "      <td>68be06ca386d4c31939f3a4f0e3dd783</td>\n",
       "      <td>offer received</td>\n",
       "      <td>336</td>\n",
       "      <td>0b1e1539f2cc45b7b9fa7c272da2e1d7</td>\n",
       "      <td>0.00</td>\n",
       "      <td>NaN</td>\n",
       "      <td>offer viewed</td>\n",
       "      <td>2906b810c7d4411798c6938adc9daaa5</td>\n",
       "    </tr>\n",
       "    <tr>\n",
       "      <th>3</th>\n",
       "      <td>unknown</td>\n",
       "      <td>&gt;100</td>\n",
       "      <td>unknown</td>\n",
       "      <td>1174.0</td>\n",
       "      <td>68be06ca386d4c31939f3a4f0e3dd783</td>\n",
       "      <td>offer viewed</td>\n",
       "      <td>348</td>\n",
       "      <td>0b1e1539f2cc45b7b9fa7c272da2e1d7</td>\n",
       "      <td>0.00</td>\n",
       "      <td>NaN</td>\n",
       "      <td>offer received</td>\n",
       "      <td>0b1e1539f2cc45b7b9fa7c272da2e1d7</td>\n",
       "    </tr>\n",
       "    <tr>\n",
       "      <th>4</th>\n",
       "      <td>unknown</td>\n",
       "      <td>&gt;100</td>\n",
       "      <td>unknown</td>\n",
       "      <td>1174.0</td>\n",
       "      <td>68be06ca386d4c31939f3a4f0e3dd783</td>\n",
       "      <td>transaction</td>\n",
       "      <td>360</td>\n",
       "      <td>0b1e1539f2cc45b7b9fa7c272da2e1d7</td>\n",
       "      <td>0.35</td>\n",
       "      <td>NaN</td>\n",
       "      <td>offer viewed</td>\n",
       "      <td>0b1e1539f2cc45b7b9fa7c272da2e1d7</td>\n",
       "    </tr>\n",
       "  </tbody>\n",
       "</table>\n",
       "</div>"
      ],
      "text/plain": [
       "    gender   age   income  membership_days                            person  \\\n",
       "0  unknown  >100  unknown           1174.0  68be06ca386d4c31939f3a4f0e3dd783   \n",
       "1  unknown  >100  unknown           1174.0  68be06ca386d4c31939f3a4f0e3dd783   \n",
       "2  unknown  >100  unknown           1174.0  68be06ca386d4c31939f3a4f0e3dd783   \n",
       "3  unknown  >100  unknown           1174.0  68be06ca386d4c31939f3a4f0e3dd783   \n",
       "4  unknown  >100  unknown           1174.0  68be06ca386d4c31939f3a4f0e3dd783   \n",
       "\n",
       "            event  time                          offer id  amount  reward  \\\n",
       "0  offer received   168  2906b810c7d4411798c6938adc9daaa5    0.00     NaN   \n",
       "1    offer viewed   216  2906b810c7d4411798c6938adc9daaa5    0.00     NaN   \n",
       "2  offer received   336  0b1e1539f2cc45b7b9fa7c272da2e1d7    0.00     NaN   \n",
       "3    offer viewed   348  0b1e1539f2cc45b7b9fa7c272da2e1d7    0.00     NaN   \n",
       "4     transaction   360  0b1e1539f2cc45b7b9fa7c272da2e1d7    0.35     NaN   \n",
       "\n",
       "        pre_event                         pre_offer  \n",
       "0             NaN                               NaN  \n",
       "1  offer received  2906b810c7d4411798c6938adc9daaa5  \n",
       "2    offer viewed  2906b810c7d4411798c6938adc9daaa5  \n",
       "3  offer received  0b1e1539f2cc45b7b9fa7c272da2e1d7  \n",
       "4    offer viewed  0b1e1539f2cc45b7b9fa7c272da2e1d7  "
      ]
     },
     "execution_count": 1862,
     "metadata": {},
     "output_type": "execute_result"
    }
   ],
   "source": [
    "# merge profile and transcripts based on customer id\n",
    "df=profile.merge(transcript, left_on='id', right_on='person').drop('id', axis=1)\n",
    "df.head()"
   ]
  },
  {
   "cell_type": "code",
   "execution_count": 1863,
   "metadata": {},
   "outputs": [
    {
     "data": {
      "text/html": [
       "<div>\n",
       "<style scoped>\n",
       "    .dataframe tbody tr th:only-of-type {\n",
       "        vertical-align: middle;\n",
       "    }\n",
       "\n",
       "    .dataframe tbody tr th {\n",
       "        vertical-align: top;\n",
       "    }\n",
       "\n",
       "    .dataframe thead th {\n",
       "        text-align: right;\n",
       "    }\n",
       "</style>\n",
       "<table border=\"1\" class=\"dataframe\">\n",
       "  <thead>\n",
       "    <tr style=\"text-align: right;\">\n",
       "      <th></th>\n",
       "      <th>gender</th>\n",
       "      <th>age</th>\n",
       "      <th>income</th>\n",
       "      <th>membership_days</th>\n",
       "      <th>person</th>\n",
       "      <th>event</th>\n",
       "      <th>time</th>\n",
       "      <th>offer id</th>\n",
       "      <th>amount</th>\n",
       "      <th>reward_x</th>\n",
       "      <th>...</th>\n",
       "      <th>reward_y</th>\n",
       "      <th>difficulty</th>\n",
       "      <th>duration</th>\n",
       "      <th>offer_type</th>\n",
       "      <th>mobile</th>\n",
       "      <th>web</th>\n",
       "      <th>email</th>\n",
       "      <th>social</th>\n",
       "      <th>channels</th>\n",
       "      <th>reward_diff_ratio</th>\n",
       "    </tr>\n",
       "  </thead>\n",
       "  <tbody>\n",
       "    <tr>\n",
       "      <th>0</th>\n",
       "      <td>unknown</td>\n",
       "      <td>&gt;100</td>\n",
       "      <td>unknown</td>\n",
       "      <td>1174.0</td>\n",
       "      <td>68be06ca386d4c31939f3a4f0e3dd783</td>\n",
       "      <td>offer received</td>\n",
       "      <td>168</td>\n",
       "      <td>2906b810c7d4411798c6938adc9daaa5</td>\n",
       "      <td>0.00</td>\n",
       "      <td>NaN</td>\n",
       "      <td>...</td>\n",
       "      <td>2.0</td>\n",
       "      <td>10.0</td>\n",
       "      <td>168.0</td>\n",
       "      <td>discount</td>\n",
       "      <td>1.0</td>\n",
       "      <td>1.0</td>\n",
       "      <td>1.0</td>\n",
       "      <td>0.0</td>\n",
       "      <td>3.0</td>\n",
       "      <td>0.20</td>\n",
       "    </tr>\n",
       "    <tr>\n",
       "      <th>1</th>\n",
       "      <td>unknown</td>\n",
       "      <td>&gt;100</td>\n",
       "      <td>unknown</td>\n",
       "      <td>1174.0</td>\n",
       "      <td>68be06ca386d4c31939f3a4f0e3dd783</td>\n",
       "      <td>offer viewed</td>\n",
       "      <td>216</td>\n",
       "      <td>2906b810c7d4411798c6938adc9daaa5</td>\n",
       "      <td>0.00</td>\n",
       "      <td>NaN</td>\n",
       "      <td>...</td>\n",
       "      <td>2.0</td>\n",
       "      <td>10.0</td>\n",
       "      <td>168.0</td>\n",
       "      <td>discount</td>\n",
       "      <td>1.0</td>\n",
       "      <td>1.0</td>\n",
       "      <td>1.0</td>\n",
       "      <td>0.0</td>\n",
       "      <td>3.0</td>\n",
       "      <td>0.20</td>\n",
       "    </tr>\n",
       "    <tr>\n",
       "      <th>2</th>\n",
       "      <td>unknown</td>\n",
       "      <td>&gt;100</td>\n",
       "      <td>unknown</td>\n",
       "      <td>1174.0</td>\n",
       "      <td>68be06ca386d4c31939f3a4f0e3dd783</td>\n",
       "      <td>offer received</td>\n",
       "      <td>336</td>\n",
       "      <td>0b1e1539f2cc45b7b9fa7c272da2e1d7</td>\n",
       "      <td>0.00</td>\n",
       "      <td>NaN</td>\n",
       "      <td>...</td>\n",
       "      <td>5.0</td>\n",
       "      <td>20.0</td>\n",
       "      <td>240.0</td>\n",
       "      <td>discount</td>\n",
       "      <td>0.0</td>\n",
       "      <td>1.0</td>\n",
       "      <td>1.0</td>\n",
       "      <td>0.0</td>\n",
       "      <td>2.0</td>\n",
       "      <td>0.25</td>\n",
       "    </tr>\n",
       "    <tr>\n",
       "      <th>3</th>\n",
       "      <td>unknown</td>\n",
       "      <td>&gt;100</td>\n",
       "      <td>unknown</td>\n",
       "      <td>1174.0</td>\n",
       "      <td>68be06ca386d4c31939f3a4f0e3dd783</td>\n",
       "      <td>offer viewed</td>\n",
       "      <td>348</td>\n",
       "      <td>0b1e1539f2cc45b7b9fa7c272da2e1d7</td>\n",
       "      <td>0.00</td>\n",
       "      <td>NaN</td>\n",
       "      <td>...</td>\n",
       "      <td>5.0</td>\n",
       "      <td>20.0</td>\n",
       "      <td>240.0</td>\n",
       "      <td>discount</td>\n",
       "      <td>0.0</td>\n",
       "      <td>1.0</td>\n",
       "      <td>1.0</td>\n",
       "      <td>0.0</td>\n",
       "      <td>2.0</td>\n",
       "      <td>0.25</td>\n",
       "    </tr>\n",
       "    <tr>\n",
       "      <th>4</th>\n",
       "      <td>unknown</td>\n",
       "      <td>&gt;100</td>\n",
       "      <td>unknown</td>\n",
       "      <td>1174.0</td>\n",
       "      <td>68be06ca386d4c31939f3a4f0e3dd783</td>\n",
       "      <td>transaction</td>\n",
       "      <td>360</td>\n",
       "      <td>0b1e1539f2cc45b7b9fa7c272da2e1d7</td>\n",
       "      <td>0.35</td>\n",
       "      <td>NaN</td>\n",
       "      <td>...</td>\n",
       "      <td>5.0</td>\n",
       "      <td>20.0</td>\n",
       "      <td>240.0</td>\n",
       "      <td>discount</td>\n",
       "      <td>0.0</td>\n",
       "      <td>1.0</td>\n",
       "      <td>1.0</td>\n",
       "      <td>0.0</td>\n",
       "      <td>2.0</td>\n",
       "      <td>0.25</td>\n",
       "    </tr>\n",
       "  </tbody>\n",
       "</table>\n",
       "<p>5 rows × 22 columns</p>\n",
       "</div>"
      ],
      "text/plain": [
       "    gender   age   income  membership_days                            person  \\\n",
       "0  unknown  >100  unknown           1174.0  68be06ca386d4c31939f3a4f0e3dd783   \n",
       "1  unknown  >100  unknown           1174.0  68be06ca386d4c31939f3a4f0e3dd783   \n",
       "2  unknown  >100  unknown           1174.0  68be06ca386d4c31939f3a4f0e3dd783   \n",
       "3  unknown  >100  unknown           1174.0  68be06ca386d4c31939f3a4f0e3dd783   \n",
       "4  unknown  >100  unknown           1174.0  68be06ca386d4c31939f3a4f0e3dd783   \n",
       "\n",
       "            event  time                          offer id  amount  reward_x  \\\n",
       "0  offer received   168  2906b810c7d4411798c6938adc9daaa5    0.00       NaN   \n",
       "1    offer viewed   216  2906b810c7d4411798c6938adc9daaa5    0.00       NaN   \n",
       "2  offer received   336  0b1e1539f2cc45b7b9fa7c272da2e1d7    0.00       NaN   \n",
       "3    offer viewed   348  0b1e1539f2cc45b7b9fa7c272da2e1d7    0.00       NaN   \n",
       "4     transaction   360  0b1e1539f2cc45b7b9fa7c272da2e1d7    0.35       NaN   \n",
       "\n",
       "   ... reward_y difficulty  duration  offer_type  mobile  web  email  social  \\\n",
       "0  ...      2.0       10.0     168.0    discount     1.0  1.0    1.0     0.0   \n",
       "1  ...      2.0       10.0     168.0    discount     1.0  1.0    1.0     0.0   \n",
       "2  ...      5.0       20.0     240.0    discount     0.0  1.0    1.0     0.0   \n",
       "3  ...      5.0       20.0     240.0    discount     0.0  1.0    1.0     0.0   \n",
       "4  ...      5.0       20.0     240.0    discount     0.0  1.0    1.0     0.0   \n",
       "\n",
       "   channels  reward_diff_ratio  \n",
       "0       3.0               0.20  \n",
       "1       3.0               0.20  \n",
       "2       2.0               0.25  \n",
       "3       2.0               0.25  \n",
       "4       2.0               0.25  \n",
       "\n",
       "[5 rows x 22 columns]"
      ]
     },
     "execution_count": 1863,
     "metadata": {},
     "output_type": "execute_result"
    }
   ],
   "source": [
    "# merge with offer portfolio based on offer id\n",
    "df=df.merge(portfolio, left_on='offer id', right_on='id', how='left').drop('id', axis=1)\n",
    "df.head()"
   ]
  },
  {
   "cell_type": "markdown",
   "metadata": {},
   "source": [
    "#### 3. Check if offer is still valid at transaction\n",
    "\n",
    "* get the difference between \"transaction\" and \"offer received\" as a new column named \"time_since_receive\". \n",
    "* since all BOGO/discount offers are marked with \"offer completed\", so it's not necessary to check if transaction activity with this type of offers is within the valid period of the offer. Only informational type of offer is checked here."
   ]
  },
  {
   "cell_type": "code",
   "execution_count": 1864,
   "metadata": {},
   "outputs": [],
   "source": [
    "# get difference in time\n",
    "df['time_since_receive']=df[((df['event']=='offer received') | (df['event']=='transaction'))].groupby(['person','offer id'])['time'].diff()\n",
    "\n"
   ]
  },
  {
   "cell_type": "markdown",
   "metadata": {},
   "source": [
    "**CAUTION**: df[df['time_since_receive']<df['duration']] may false positives rows for the following cases: \n",
    "* offer received - offer received\n",
    "* transaction - transaction\n",
    "* offer received - transaction\n",
    "\n",
    "so \"time_since_receive\" < \"duration\" need to used along with other conditions, i.e.:\n",
    "1. \"time_since_receive\" < \"duration\"\n",
    "2. event == 'transaction'\n",
    "3. \"transaction\" has a valid \"offer id\" (since this indicates this transaction is followed by \"offer view\" )"
   ]
  },
  {
   "cell_type": "markdown",
   "metadata": {},
   "source": [
    "#### 4. considred to be an effective offer if the following criterias are met:\n",
    "1. BOGO/Discount offer --> event is \"offer completed\"\n",
    "2. Informational Offer \n",
    "    1. \"time_since_receive\" < \"duration\"  (time_since_receive is nan for other types of offers)\n",
    "    2. event is \"transaction\" \n",
    "    3. \"transaction\" event has an \"offer id\", indicating it follows an \"offer viewed\" event"
   ]
  },
  {
   "cell_type": "code",
   "execution_count": 1865,
   "metadata": {},
   "outputs": [],
   "source": [
    "# consider offer to be effective if time_since_receive<duration\n",
    "\n",
    "# initialize all to 0\n",
    "df['offer_driven']=0\n",
    "\n",
    "\n",
    "# BOGO/Discount offers with \"offer completed\" happening after \"offer viewed\" \n",
    "df['event'] = pd.Categorical(df['event'], ['offer received', 'offer viewed', 'transaction', 'offer completed'])\n",
    "df['pre_event']=df[((df['event']=='offer viewed') |(df['event']=='offer completed'))].sort_values(['time','event']).groupby(['person', 'offer id'])['event'].shift(1)\n",
    "df['pre_offer']=df[((df['event']=='offer viewed') |(df['event']=='offer completed'))].sort_values(['time','event']).groupby(['person', 'offer id'])['offer id'].shift(1)\n",
    "\n",
    "df.loc[((df['event']=='offer completed') & (df['pre_event']=='offer viewed')), 'offer_driven']=1\n",
    "\n",
    "\n",
    "# offer viewed\" before \"transaction\" AND \"time_since_receive\"<\"duration\"\n",
    "df.loc[(df['offer id']!='unknown') & (df['event']=='transaction') & (df['time_since_receive']<=df['duration']),'offer_driven']=1\n"
   ]
  },
  {
   "cell_type": "markdown",
   "metadata": {},
   "source": [
    "## Inactive Customers _ Customers Never Made Any Purchases"
   ]
  },
  {
   "cell_type": "code",
   "execution_count": 1866,
   "metadata": {},
   "outputs": [
    {
     "name": "stdout",
     "output_type": "stream",
     "text": [
      "There are 422 customers that never made a purchase\n"
     ]
    }
   ],
   "source": [
    "# find all customers with purchase history\n",
    "cust_with_purchase=set(df[df['event'].isin(['offer completed', 'transaction'])].groupby('person')['event'].count().index.to_list())\n",
    "cust_no_purchase=set(df[~df['person'].isin(cust_with_purchase)]['person'].to_list())\n",
    "print(\"There are {} customers that never made a purchase\".format(len(cust_no_purchase)))\n"
   ]
  },
  {
   "cell_type": "code",
   "execution_count": 1867,
   "metadata": {},
   "outputs": [
    {
     "data": {
      "text/plain": [
       "array(['68be06ca386d4c31939f3a4f0e3dd783',\n",
       "       '0610b486422d4921ae7d2bf64640c50b',\n",
       "       '38fe809add3b4fcf9315a9694bb96ff5', ...,\n",
       "       '01d26f638c274aa0b965d24cefe3183f',\n",
       "       '9dc1421481194dcd9400aec7c9ae6366',\n",
       "       'e4052622e5ba45a8b96b59aba68cf068'], dtype=object)"
      ]
     },
     "execution_count": 1867,
     "metadata": {},
     "output_type": "execute_result"
    }
   ],
   "source": [
    "len(set(df['person'].to_list()))\n",
    "df['person'].unique()"
   ]
  },
  {
   "cell_type": "code",
   "execution_count": 1868,
   "metadata": {},
   "outputs": [],
   "source": [
    "# a new column \"active_customer\": 0: inactive; 1: active\n",
    "df['active_customer']=1\n",
    "df.loc[df['person'].isin(cust_no_purchase), 'active_customer']=0"
   ]
  },
  {
   "cell_type": "markdown",
   "metadata": {},
   "source": [
    "## Offer-Irrelevant Purchases\n",
    "1. standalone \"transaction\", those not following \"offer viewed\"\n",
    "    * \"offer id\" is unknown\n",
    "2. \"transaction\" followed \"offer viewed\", but\n",
    "    1. BOGO/Discount offers with \"transaction\" only, not followed by \"offer completed\".\n",
    "    2. Informational offers but transaction happens when offer expired.\n",
    "   "
   ]
  },
  {
   "cell_type": "code",
   "execution_count": 1869,
   "metadata": {},
   "outputs": [],
   "source": [
    "# initialize all to 0\n",
    "df['offer_irrelevant']=0\n",
    "\n",
    "# transaction not following \"offer viewed\" -- standalone transactions\n",
    "df.loc[((df['event']=='transaction') & (df['offer id']=='unknown')), 'offer_irrelevant']=1\n",
    "\n",
    "# transaction follows 'offer viewed', but time_since_receive>duration (informational offer)\n",
    "df.loc[(df['offer id']!='unknown') & (df['event']=='transaction') & ((df['time_since_receive']>df['duration'])),'offer_irrelevant']=1\n",
    "\n"
   ]
  },
  {
   "cell_type": "code",
   "execution_count": 1870,
   "metadata": {},
   "outputs": [],
   "source": [
    "# transaction follows 'offer viewed', but not followed by \"offer completed\" (BOGO/Discount offers)\n",
    "\n",
    "df['event'] = pd.Categorical(df['event'], ['offer received', 'offer viewed', 'transaction', 'offer completed'])\n",
    "\n",
    "df['post_event']=df.sort_values(['time','event']).groupby(['person', 'offer id'])['event'].shift(-1)\n",
    "df['post_offer']=df.sort_values(['time','event']).groupby(['person', 'offer id'])['offer id'].shift(-1)\n",
    "\n",
    "\n",
    "df.loc[((df['event']=='transaction') & (df['offer id']!='unknown') & (df['time_since_receive'].isnull()) & ((df['post_event']!='offer completed') | (df['post_offer']!=df['offer id']))), 'offer_irrelevant']=1\n"
   ]
  },
  {
   "cell_type": "code",
   "execution_count": 1871,
   "metadata": {},
   "outputs": [],
   "source": [
    "# offer completed not following offer viewed\n",
    "\n",
    "# BOGO/Discount offers with \"offer completed\" happening after \"offer viewed\" \n",
    "df['event'] = pd.Categorical(df['event'], ['offer received', 'offer viewed', 'transaction', 'offer completed'])\n",
    "df['pre_event']=df[((df['event']=='offer viewed') |(df['event']=='offer completed'))].sort_values(['time','event']).groupby(['person', 'offer id'])['event'].shift(1)\n",
    "df['pre_offer']=df[((df['event']=='offer viewed') |(df['event']=='offer completed'))].sort_values(['time','event']).groupby(['person', 'offer id'])['offer id'].shift(1)\n",
    "\n",
    "df.loc[((df['event']=='offer completed') & ((df['pre_event']!='offer viewed') | (df['pre_event'].isnull()))), 'offer_irrelevant']=1\n"
   ]
  },
  {
   "cell_type": "code",
   "execution_count": 1872,
   "metadata": {},
   "outputs": [
    {
     "data": {
      "text/plain": [
       "offer id                          event          \n",
       "0b1e1539f2cc45b7b9fa7c272da2e1d7  offer received      7668\n",
       "                                  offer viewed        2663\n",
       "                                  transaction         1738\n",
       "                                  offer completed     3340\n",
       "2298d6c36e964ae4a3e7e9706d1fb8c2  offer received      7646\n",
       "                                  offer viewed        7337\n",
       "                                  transaction         5612\n",
       "                                  offer completed     5112\n",
       "2906b810c7d4411798c6938adc9daaa5  offer received      7632\n",
       "                                  offer viewed        4118\n",
       "                                  transaction         2831\n",
       "                                  offer completed     3964\n",
       "3f207df678b143eea3cee63160fa8bed  offer received      7617\n",
       "                                  offer viewed        4144\n",
       "                                  transaction         2677\n",
       "                                  offer completed        0\n",
       "4d5c57ea9a6940dd891ad53e9dbe8da0  offer received      7593\n",
       "                                  offer viewed        7298\n",
       "                                  transaction         5434\n",
       "                                  offer completed     3301\n",
       "5a8bc65990b245e5a138643cd4eb9837  offer received      7618\n",
       "                                  offer viewed        6687\n",
       "                                  transaction         4522\n",
       "                                  offer completed        0\n",
       "9b98b8c7a33c4b65b9aebfe6a799e6d9  offer received      7677\n",
       "                                  offer viewed        4171\n",
       "                                  transaction         2917\n",
       "                                  offer completed     4303\n",
       "ae264e3637204a6fb9bb56bc8210ddfd  offer received      7658\n",
       "                                  offer viewed        6716\n",
       "                                  transaction         5069\n",
       "                                  offer completed     3635\n",
       "f19421c1d4aa40978ebb69ca19b0e20d  offer received      7571\n",
       "                                  offer viewed        7264\n",
       "                                  transaction         5407\n",
       "                                  offer completed     4262\n",
       "fafdcd668e3743c1bb461111dcafc2a4  offer received      7597\n",
       "                                  offer viewed        7327\n",
       "                                  transaction         5707\n",
       "                                  offer completed     5265\n",
       "unknown                           offer received         0\n",
       "                                  offer viewed           0\n",
       "                                  transaction        97039\n",
       "                                  offer completed        0\n",
       "Name: event, dtype: int64"
      ]
     },
     "execution_count": 1872,
     "metadata": {},
     "output_type": "execute_result"
    }
   ],
   "source": [
    "\n",
    "df.groupby(['offer id', 'event'])['event'].count().head(50)\n"
   ]
  },
  {
   "cell_type": "code",
   "execution_count": 1873,
   "metadata": {},
   "outputs": [
    {
     "name": "stdout",
     "output_type": "stream",
     "text": [
      "total purchase amount with offers 584549.0\n",
      "total purchase amount without offers 1190903.0\n",
      "total purchase amount 1775452.0\n",
      "--------------------------------------------\n"
     ]
    }
   ],
   "source": [
    "# total purchase amount\n",
    "print(\"total purchase amount with offers\", round(df[df['offer id']!='unknown'].groupby('offer id')['amount'].sum().sum()))\n",
    "print(\"total purchase amount without offers\", round(df[df['offer id']=='unknown'].groupby('offer id')['amount'].sum().sum()))\n",
    "print(\"total purchase amount\", round(df.groupby('offer id')['amount'].sum().sum()))\n",
    "\n",
    "print(\"--------------------------------------------\")\n"
   ]
  },
  {
   "cell_type": "code",
   "execution_count": 1874,
   "metadata": {},
   "outputs": [
    {
     "data": {
      "text/plain": [
       "Series([], Name: event, dtype: int64)"
      ]
     },
     "execution_count": 1874,
     "metadata": {},
     "output_type": "execute_result"
    }
   ],
   "source": [
    "A=df[(df['event']=='transaction') & (df['offer_driven']==0) & (df['offer_irrelevant']==0)]\n",
    "A.groupby(['offer id', 'event'])['event'].count()"
   ]
  },
  {
   "cell_type": "code",
   "execution_count": 1875,
   "metadata": {},
   "outputs": [
    {
     "data": {
      "text/plain": [
       "Series([], Name: event, dtype: int64)"
      ]
     },
     "execution_count": 1875,
     "metadata": {},
     "output_type": "execute_result"
    }
   ],
   "source": [
    "B=df[(df['offer id']!='unknown') & (df['event']=='transaction') & (df['time_since_receive'].isnull()) & (df['post_event']=='offer completed') & (df['post_offer']==df['offer id'])]\n",
    "B.groupby(['offer id', 'event'])['event'].count()"
   ]
  },
  {
   "cell_type": "markdown",
   "metadata": {},
   "source": [
    "test"
   ]
  },
  {
   "cell_type": "code",
   "execution_count": 1876,
   "metadata": {},
   "outputs": [
    {
     "data": {
      "text/html": [
       "<div>\n",
       "<style scoped>\n",
       "    .dataframe tbody tr th:only-of-type {\n",
       "        vertical-align: middle;\n",
       "    }\n",
       "\n",
       "    .dataframe tbody tr th {\n",
       "        vertical-align: top;\n",
       "    }\n",
       "\n",
       "    .dataframe thead th {\n",
       "        text-align: right;\n",
       "    }\n",
       "</style>\n",
       "<table border=\"1\" class=\"dataframe\">\n",
       "  <thead>\n",
       "    <tr style=\"text-align: right;\">\n",
       "      <th></th>\n",
       "      <th>time</th>\n",
       "      <th>event</th>\n",
       "      <th>pre_event</th>\n",
       "      <th>offer id</th>\n",
       "      <th>post_offer</th>\n",
       "      <th>offer_driven</th>\n",
       "      <th>offer_irrelevant</th>\n",
       "      <th>amount</th>\n",
       "    </tr>\n",
       "  </thead>\n",
       "  <tbody>\n",
       "    <tr>\n",
       "      <th>137384</th>\n",
       "      <td>336</td>\n",
       "      <td>offer received</td>\n",
       "      <td>NaN</td>\n",
       "      <td>0b1e1539f2cc45b7b9fa7c272da2e1d7</td>\n",
       "      <td>0b1e1539f2cc45b7b9fa7c272da2e1d7</td>\n",
       "      <td>0</td>\n",
       "      <td>0</td>\n",
       "      <td>0.00</td>\n",
       "    </tr>\n",
       "    <tr>\n",
       "      <th>137385</th>\n",
       "      <td>354</td>\n",
       "      <td>offer viewed</td>\n",
       "      <td>NaN</td>\n",
       "      <td>0b1e1539f2cc45b7b9fa7c272da2e1d7</td>\n",
       "      <td>0b1e1539f2cc45b7b9fa7c272da2e1d7</td>\n",
       "      <td>0</td>\n",
       "      <td>0</td>\n",
       "      <td>0.00</td>\n",
       "    </tr>\n",
       "    <tr>\n",
       "      <th>137386</th>\n",
       "      <td>354</td>\n",
       "      <td>transaction</td>\n",
       "      <td>NaN</td>\n",
       "      <td>0b1e1539f2cc45b7b9fa7c272da2e1d7</td>\n",
       "      <td>0b1e1539f2cc45b7b9fa7c272da2e1d7</td>\n",
       "      <td>1</td>\n",
       "      <td>0</td>\n",
       "      <td>15.75</td>\n",
       "    </tr>\n",
       "    <tr>\n",
       "      <th>137387</th>\n",
       "      <td>408</td>\n",
       "      <td>offer received</td>\n",
       "      <td>NaN</td>\n",
       "      <td>0b1e1539f2cc45b7b9fa7c272da2e1d7</td>\n",
       "      <td>0b1e1539f2cc45b7b9fa7c272da2e1d7</td>\n",
       "      <td>0</td>\n",
       "      <td>0</td>\n",
       "      <td>0.00</td>\n",
       "    </tr>\n",
       "    <tr>\n",
       "      <th>137389</th>\n",
       "      <td>492</td>\n",
       "      <td>offer completed</td>\n",
       "      <td>offer viewed</td>\n",
       "      <td>0b1e1539f2cc45b7b9fa7c272da2e1d7</td>\n",
       "      <td>0b1e1539f2cc45b7b9fa7c272da2e1d7</td>\n",
       "      <td>1</td>\n",
       "      <td>0</td>\n",
       "      <td>0.00</td>\n",
       "    </tr>\n",
       "    <tr>\n",
       "      <th>137390</th>\n",
       "      <td>516</td>\n",
       "      <td>offer viewed</td>\n",
       "      <td>offer completed</td>\n",
       "      <td>0b1e1539f2cc45b7b9fa7c272da2e1d7</td>\n",
       "      <td>0b1e1539f2cc45b7b9fa7c272da2e1d7</td>\n",
       "      <td>0</td>\n",
       "      <td>0</td>\n",
       "      <td>0.00</td>\n",
       "    </tr>\n",
       "    <tr>\n",
       "      <th>137391</th>\n",
       "      <td>564</td>\n",
       "      <td>transaction</td>\n",
       "      <td>NaN</td>\n",
       "      <td>0b1e1539f2cc45b7b9fa7c272da2e1d7</td>\n",
       "      <td>0b1e1539f2cc45b7b9fa7c272da2e1d7</td>\n",
       "      <td>1</td>\n",
       "      <td>0</td>\n",
       "      <td>14.24</td>\n",
       "    </tr>\n",
       "    <tr>\n",
       "      <th>137392</th>\n",
       "      <td>564</td>\n",
       "      <td>offer completed</td>\n",
       "      <td>offer viewed</td>\n",
       "      <td>0b1e1539f2cc45b7b9fa7c272da2e1d7</td>\n",
       "      <td>NaN</td>\n",
       "      <td>1</td>\n",
       "      <td>0</td>\n",
       "      <td>0.00</td>\n",
       "    </tr>\n",
       "  </tbody>\n",
       "</table>\n",
       "</div>"
      ],
      "text/plain": [
       "        time            event        pre_event  \\\n",
       "137384   336   offer received              NaN   \n",
       "137385   354     offer viewed              NaN   \n",
       "137386   354      transaction              NaN   \n",
       "137387   408   offer received              NaN   \n",
       "137389   492  offer completed     offer viewed   \n",
       "137390   516     offer viewed  offer completed   \n",
       "137391   564      transaction              NaN   \n",
       "137392   564  offer completed     offer viewed   \n",
       "\n",
       "                                offer id                        post_offer  \\\n",
       "137384  0b1e1539f2cc45b7b9fa7c272da2e1d7  0b1e1539f2cc45b7b9fa7c272da2e1d7   \n",
       "137385  0b1e1539f2cc45b7b9fa7c272da2e1d7  0b1e1539f2cc45b7b9fa7c272da2e1d7   \n",
       "137386  0b1e1539f2cc45b7b9fa7c272da2e1d7  0b1e1539f2cc45b7b9fa7c272da2e1d7   \n",
       "137387  0b1e1539f2cc45b7b9fa7c272da2e1d7  0b1e1539f2cc45b7b9fa7c272da2e1d7   \n",
       "137389  0b1e1539f2cc45b7b9fa7c272da2e1d7  0b1e1539f2cc45b7b9fa7c272da2e1d7   \n",
       "137390  0b1e1539f2cc45b7b9fa7c272da2e1d7  0b1e1539f2cc45b7b9fa7c272da2e1d7   \n",
       "137391  0b1e1539f2cc45b7b9fa7c272da2e1d7  0b1e1539f2cc45b7b9fa7c272da2e1d7   \n",
       "137392  0b1e1539f2cc45b7b9fa7c272da2e1d7                               NaN   \n",
       "\n",
       "        offer_driven  offer_irrelevant  amount  \n",
       "137384             0                 0    0.00  \n",
       "137385             0                 0    0.00  \n",
       "137386             1                 0   15.75  \n",
       "137387             0                 0    0.00  \n",
       "137389             1                 0    0.00  \n",
       "137390             0                 0    0.00  \n",
       "137391             1                 0   14.24  \n",
       "137392             1                 0    0.00  "
      ]
     },
     "execution_count": 1876,
     "metadata": {},
     "output_type": "execute_result"
    }
   ],
   "source": [
    "df[(df['offer id']=='0b1e1539f2cc45b7b9fa7c272da2e1d7')& (df['person']=='072731be403a472883bed6c38a8e7aa8')][['time','event', 'pre_event', 'offer id', 'post_offer',  'offer_driven', 'offer_irrelevant','amount']]\n"
   ]
  },
  {
   "cell_type": "markdown",
   "metadata": {},
   "source": [
    "#### delete transactions before \"offer completed\" and copy transaction amount to \"offer complete\" event"
   ]
  },
  {
   "cell_type": "code",
   "execution_count": 1877,
   "metadata": {},
   "outputs": [],
   "source": [
    "# backup\n",
    "# # copy transaction amount to \"offer complete\" event\n",
    "# df['pre_amount']=df.sort_values(['time','event']).groupby(['person', 'offer id'])['amount'].shift(1)\n",
    "# df['pre_offer']=df.sort_values(['time','event']).groupby(['person', 'offer id'])['offer id'].shift(1)\n",
    "# df['pre_event']=df.sort_values(['time','event']).groupby(['person', 'offer id'])['event'].shift(1)\n",
    "\n",
    "# df.loc[(df['event']=='offer completed') & (df['pre_event']=='transaction') & (df['pre_offer']==df['offer id']), 'amount']=df[(df['event']=='offer completed') & (df['pre_event']=='transaction') & (df['pre_offer']==df['offer id'])]['pre_amount'] \n",
    "\n",
    "\n",
    "# # delete transactions before \"offer completed\"\n",
    "\n",
    "# df=df.drop(df[(df['offer id']!='unknown') & (df['event']=='transaction') & (df['post_event']=='offer completed') & (df['post_offer']==df['offer id'])].index)\n"
   ]
  },
  {
   "cell_type": "code",
   "execution_count": 1878,
   "metadata": {},
   "outputs": [],
   "source": [
    "# copy transaction amount to \"offer complete\" event\n",
    "df['pre_amount']=df[(df['event']=='transaction') | (df['event']=='offer completed')].sort_values(['time','event']).groupby(['person', 'offer id'])['amount'].shift(1)\n",
    "df['pre_offer']=df[(df['event']=='transaction') | (df['event']=='offer completed')].sort_values(['time','event']).groupby(['person', 'offer id'])['offer id'].shift(1)\n",
    "df['pre_event']=df[(df['event']=='transaction') | (df['event']=='offer completed')].sort_values(['time','event']).groupby(['person', 'offer id'])['event'].shift(1)\n",
    "\n",
    "df.loc[(df['event']=='offer completed') & (df['pre_event']=='transaction') & (df['pre_offer']==df['offer id']), 'amount']=df[(df['event']=='offer completed') & (df['pre_event']=='transaction') & (df['pre_offer']==df['offer id'])]['pre_amount'] \n",
    "\n",
    "\n",
    "# delete transactions before \"offer completed\"\n",
    "df['post_event']=df[(df['event']=='transaction') | (df['event']=='offer completed')].sort_values(['time','event']).groupby(['person', 'offer id'])['event'].shift(-1)\n",
    "df['post_offer']=df[(df['event']=='transaction') | (df['event']=='offer completed')].sort_values(['time','event']).groupby(['person', 'offer id'])['offer id'].shift(-1)\n",
    "\n",
    "df=df.drop(df[(df['offer id']!='unknown') & (df['event']=='transaction') & (df['post_event']=='offer completed') & (df['post_offer']==df['offer id'])].index)\n"
   ]
  },
  {
   "cell_type": "code",
   "execution_count": 1879,
   "metadata": {},
   "outputs": [
    {
     "data": {
      "text/html": [
       "<div>\n",
       "<style scoped>\n",
       "    .dataframe tbody tr th:only-of-type {\n",
       "        vertical-align: middle;\n",
       "    }\n",
       "\n",
       "    .dataframe tbody tr th {\n",
       "        vertical-align: top;\n",
       "    }\n",
       "\n",
       "    .dataframe thead th {\n",
       "        text-align: right;\n",
       "    }\n",
       "</style>\n",
       "<table border=\"1\" class=\"dataframe\">\n",
       "  <thead>\n",
       "    <tr style=\"text-align: right;\">\n",
       "      <th></th>\n",
       "      <th>time</th>\n",
       "      <th>event</th>\n",
       "      <th>pre_event</th>\n",
       "      <th>offer id</th>\n",
       "      <th>post_event</th>\n",
       "      <th>post_offer</th>\n",
       "      <th>offer_driven</th>\n",
       "      <th>offer_irrelevant</th>\n",
       "      <th>amount</th>\n",
       "    </tr>\n",
       "  </thead>\n",
       "  <tbody>\n",
       "    <tr>\n",
       "      <th>137384</th>\n",
       "      <td>336</td>\n",
       "      <td>offer received</td>\n",
       "      <td>NaN</td>\n",
       "      <td>0b1e1539f2cc45b7b9fa7c272da2e1d7</td>\n",
       "      <td>NaN</td>\n",
       "      <td>NaN</td>\n",
       "      <td>0</td>\n",
       "      <td>0</td>\n",
       "      <td>0.00</td>\n",
       "    </tr>\n",
       "    <tr>\n",
       "      <th>137385</th>\n",
       "      <td>354</td>\n",
       "      <td>offer viewed</td>\n",
       "      <td>NaN</td>\n",
       "      <td>0b1e1539f2cc45b7b9fa7c272da2e1d7</td>\n",
       "      <td>NaN</td>\n",
       "      <td>NaN</td>\n",
       "      <td>0</td>\n",
       "      <td>0</td>\n",
       "      <td>0.00</td>\n",
       "    </tr>\n",
       "    <tr>\n",
       "      <th>137387</th>\n",
       "      <td>408</td>\n",
       "      <td>offer received</td>\n",
       "      <td>NaN</td>\n",
       "      <td>0b1e1539f2cc45b7b9fa7c272da2e1d7</td>\n",
       "      <td>NaN</td>\n",
       "      <td>NaN</td>\n",
       "      <td>0</td>\n",
       "      <td>0</td>\n",
       "      <td>0.00</td>\n",
       "    </tr>\n",
       "    <tr>\n",
       "      <th>137389</th>\n",
       "      <td>492</td>\n",
       "      <td>offer completed</td>\n",
       "      <td>transaction</td>\n",
       "      <td>0b1e1539f2cc45b7b9fa7c272da2e1d7</td>\n",
       "      <td>transaction</td>\n",
       "      <td>0b1e1539f2cc45b7b9fa7c272da2e1d7</td>\n",
       "      <td>1</td>\n",
       "      <td>0</td>\n",
       "      <td>15.75</td>\n",
       "    </tr>\n",
       "    <tr>\n",
       "      <th>137390</th>\n",
       "      <td>516</td>\n",
       "      <td>offer viewed</td>\n",
       "      <td>NaN</td>\n",
       "      <td>0b1e1539f2cc45b7b9fa7c272da2e1d7</td>\n",
       "      <td>NaN</td>\n",
       "      <td>NaN</td>\n",
       "      <td>0</td>\n",
       "      <td>0</td>\n",
       "      <td>0.00</td>\n",
       "    </tr>\n",
       "    <tr>\n",
       "      <th>137392</th>\n",
       "      <td>564</td>\n",
       "      <td>offer completed</td>\n",
       "      <td>transaction</td>\n",
       "      <td>0b1e1539f2cc45b7b9fa7c272da2e1d7</td>\n",
       "      <td>NaN</td>\n",
       "      <td>NaN</td>\n",
       "      <td>1</td>\n",
       "      <td>0</td>\n",
       "      <td>14.24</td>\n",
       "    </tr>\n",
       "  </tbody>\n",
       "</table>\n",
       "</div>"
      ],
      "text/plain": [
       "        time            event    pre_event                          offer id  \\\n",
       "137384   336   offer received          NaN  0b1e1539f2cc45b7b9fa7c272da2e1d7   \n",
       "137385   354     offer viewed          NaN  0b1e1539f2cc45b7b9fa7c272da2e1d7   \n",
       "137387   408   offer received          NaN  0b1e1539f2cc45b7b9fa7c272da2e1d7   \n",
       "137389   492  offer completed  transaction  0b1e1539f2cc45b7b9fa7c272da2e1d7   \n",
       "137390   516     offer viewed          NaN  0b1e1539f2cc45b7b9fa7c272da2e1d7   \n",
       "137392   564  offer completed  transaction  0b1e1539f2cc45b7b9fa7c272da2e1d7   \n",
       "\n",
       "         post_event                        post_offer  offer_driven  \\\n",
       "137384          NaN                               NaN             0   \n",
       "137385          NaN                               NaN             0   \n",
       "137387          NaN                               NaN             0   \n",
       "137389  transaction  0b1e1539f2cc45b7b9fa7c272da2e1d7             1   \n",
       "137390          NaN                               NaN             0   \n",
       "137392          NaN                               NaN             1   \n",
       "\n",
       "        offer_irrelevant  amount  \n",
       "137384                 0    0.00  \n",
       "137385                 0    0.00  \n",
       "137387                 0    0.00  \n",
       "137389                 0   15.75  \n",
       "137390                 0    0.00  \n",
       "137392                 0   14.24  "
      ]
     },
     "execution_count": 1879,
     "metadata": {},
     "output_type": "execute_result"
    }
   ],
   "source": [
    "df[(df['offer id']=='0b1e1539f2cc45b7b9fa7c272da2e1d7')& (df['person']=='072731be403a472883bed6c38a8e7aa8')][['time','event', 'pre_event', 'offer id', 'post_event', 'post_offer',  'offer_driven', 'offer_irrelevant','amount']]\n"
   ]
  },
  {
   "cell_type": "code",
   "execution_count": 1880,
   "metadata": {},
   "outputs": [
    {
     "data": {
      "text/plain": [
       "Series([], Name: event, dtype: int64)"
      ]
     },
     "execution_count": 1880,
     "metadata": {},
     "output_type": "execute_result"
    }
   ],
   "source": [
    "C=df[(df['event']=='transaction') & (df['offer_driven']==0) & (df['offer_irrelevant']==0)]\n",
    "C.groupby(['offer id', 'event'])['event'].count()"
   ]
  },
  {
   "cell_type": "code",
   "execution_count": 1881,
   "metadata": {},
   "outputs": [
    {
     "data": {
      "text/plain": [
       "Series([], Name: event, dtype: int64)"
      ]
     },
     "execution_count": 1881,
     "metadata": {},
     "output_type": "execute_result"
    }
   ],
   "source": [
    "D=df[(df['offer id']!='unknown') & (df['event']=='transaction') & (df['time_since_receive'].isnull()) & (df['post_event']=='offer completed') & (df['post_offer']==df['offer id'])]\n",
    "D.groupby(['offer id', 'event'])['event'].count()"
   ]
  },
  {
   "cell_type": "code",
   "execution_count": 1882,
   "metadata": {},
   "outputs": [
    {
     "data": {
      "text/html": [
       "<div>\n",
       "<style scoped>\n",
       "    .dataframe tbody tr th:only-of-type {\n",
       "        vertical-align: middle;\n",
       "    }\n",
       "\n",
       "    .dataframe tbody tr th {\n",
       "        vertical-align: top;\n",
       "    }\n",
       "\n",
       "    .dataframe thead th {\n",
       "        text-align: right;\n",
       "    }\n",
       "</style>\n",
       "<table border=\"1\" class=\"dataframe\">\n",
       "  <thead>\n",
       "    <tr style=\"text-align: right;\">\n",
       "      <th></th>\n",
       "      <th></th>\n",
       "      <th>event</th>\n",
       "    </tr>\n",
       "    <tr>\n",
       "      <th>offer id</th>\n",
       "      <th>event</th>\n",
       "      <th></th>\n",
       "    </tr>\n",
       "  </thead>\n",
       "  <tbody>\n",
       "    <tr>\n",
       "      <th rowspan=\"4\" valign=\"top\">0b1e1539f2cc45b7b9fa7c272da2e1d7</th>\n",
       "      <th>offer received</th>\n",
       "      <td>7668.0</td>\n",
       "    </tr>\n",
       "    <tr>\n",
       "      <th>offer viewed</th>\n",
       "      <td>2663.0</td>\n",
       "    </tr>\n",
       "    <tr>\n",
       "      <th>transaction</th>\n",
       "      <td>615.0</td>\n",
       "    </tr>\n",
       "    <tr>\n",
       "      <th>offer completed</th>\n",
       "      <td>3340.0</td>\n",
       "    </tr>\n",
       "    <tr>\n",
       "      <th rowspan=\"4\" valign=\"top\">2298d6c36e964ae4a3e7e9706d1fb8c2</th>\n",
       "      <th>offer received</th>\n",
       "      <td>7646.0</td>\n",
       "    </tr>\n",
       "    <tr>\n",
       "      <th>offer viewed</th>\n",
       "      <td>7337.0</td>\n",
       "    </tr>\n",
       "    <tr>\n",
       "      <th>transaction</th>\n",
       "      <td>1544.0</td>\n",
       "    </tr>\n",
       "    <tr>\n",
       "      <th>offer completed</th>\n",
       "      <td>5112.0</td>\n",
       "    </tr>\n",
       "    <tr>\n",
       "      <th rowspan=\"4\" valign=\"top\">2906b810c7d4411798c6938adc9daaa5</th>\n",
       "      <th>offer received</th>\n",
       "      <td>7632.0</td>\n",
       "    </tr>\n",
       "    <tr>\n",
       "      <th>offer viewed</th>\n",
       "      <td>4118.0</td>\n",
       "    </tr>\n",
       "    <tr>\n",
       "      <th>transaction</th>\n",
       "      <td>892.0</td>\n",
       "    </tr>\n",
       "    <tr>\n",
       "      <th>offer completed</th>\n",
       "      <td>3964.0</td>\n",
       "    </tr>\n",
       "    <tr>\n",
       "      <th rowspan=\"4\" valign=\"top\">3f207df678b143eea3cee63160fa8bed</th>\n",
       "      <th>offer received</th>\n",
       "      <td>7617.0</td>\n",
       "    </tr>\n",
       "    <tr>\n",
       "      <th>offer viewed</th>\n",
       "      <td>4144.0</td>\n",
       "    </tr>\n",
       "    <tr>\n",
       "      <th>transaction</th>\n",
       "      <td>2677.0</td>\n",
       "    </tr>\n",
       "    <tr>\n",
       "      <th>offer completed</th>\n",
       "      <td>NaN</td>\n",
       "    </tr>\n",
       "    <tr>\n",
       "      <th rowspan=\"4\" valign=\"top\">4d5c57ea9a6940dd891ad53e9dbe8da0</th>\n",
       "      <th>offer received</th>\n",
       "      <td>7593.0</td>\n",
       "    </tr>\n",
       "    <tr>\n",
       "      <th>offer viewed</th>\n",
       "      <td>7298.0</td>\n",
       "    </tr>\n",
       "    <tr>\n",
       "      <th>transaction</th>\n",
       "      <td>2820.0</td>\n",
       "    </tr>\n",
       "    <tr>\n",
       "      <th>offer completed</th>\n",
       "      <td>3301.0</td>\n",
       "    </tr>\n",
       "    <tr>\n",
       "      <th rowspan=\"4\" valign=\"top\">5a8bc65990b245e5a138643cd4eb9837</th>\n",
       "      <th>offer received</th>\n",
       "      <td>7618.0</td>\n",
       "    </tr>\n",
       "    <tr>\n",
       "      <th>offer viewed</th>\n",
       "      <td>6687.0</td>\n",
       "    </tr>\n",
       "    <tr>\n",
       "      <th>transaction</th>\n",
       "      <td>4522.0</td>\n",
       "    </tr>\n",
       "    <tr>\n",
       "      <th>offer completed</th>\n",
       "      <td>NaN</td>\n",
       "    </tr>\n",
       "    <tr>\n",
       "      <th rowspan=\"4\" valign=\"top\">9b98b8c7a33c4b65b9aebfe6a799e6d9</th>\n",
       "      <th>offer received</th>\n",
       "      <td>7677.0</td>\n",
       "    </tr>\n",
       "    <tr>\n",
       "      <th>offer viewed</th>\n",
       "      <td>4171.0</td>\n",
       "    </tr>\n",
       "    <tr>\n",
       "      <th>transaction</th>\n",
       "      <td>959.0</td>\n",
       "    </tr>\n",
       "    <tr>\n",
       "      <th>offer completed</th>\n",
       "      <td>4303.0</td>\n",
       "    </tr>\n",
       "    <tr>\n",
       "      <th rowspan=\"4\" valign=\"top\">ae264e3637204a6fb9bb56bc8210ddfd</th>\n",
       "      <th>offer received</th>\n",
       "      <td>7658.0</td>\n",
       "    </tr>\n",
       "    <tr>\n",
       "      <th>offer viewed</th>\n",
       "      <td>6716.0</td>\n",
       "    </tr>\n",
       "    <tr>\n",
       "      <th>transaction</th>\n",
       "      <td>2682.0</td>\n",
       "    </tr>\n",
       "    <tr>\n",
       "      <th>offer completed</th>\n",
       "      <td>3635.0</td>\n",
       "    </tr>\n",
       "    <tr>\n",
       "      <th rowspan=\"4\" valign=\"top\">f19421c1d4aa40978ebb69ca19b0e20d</th>\n",
       "      <th>offer received</th>\n",
       "      <td>7571.0</td>\n",
       "    </tr>\n",
       "    <tr>\n",
       "      <th>offer viewed</th>\n",
       "      <td>7264.0</td>\n",
       "    </tr>\n",
       "    <tr>\n",
       "      <th>transaction</th>\n",
       "      <td>2056.0</td>\n",
       "    </tr>\n",
       "    <tr>\n",
       "      <th>offer completed</th>\n",
       "      <td>4262.0</td>\n",
       "    </tr>\n",
       "    <tr>\n",
       "      <th rowspan=\"4\" valign=\"top\">fafdcd668e3743c1bb461111dcafc2a4</th>\n",
       "      <th>offer received</th>\n",
       "      <td>7597.0</td>\n",
       "    </tr>\n",
       "    <tr>\n",
       "      <th>offer viewed</th>\n",
       "      <td>7327.0</td>\n",
       "    </tr>\n",
       "    <tr>\n",
       "      <th>transaction</th>\n",
       "      <td>1508.0</td>\n",
       "    </tr>\n",
       "    <tr>\n",
       "      <th>offer completed</th>\n",
       "      <td>5265.0</td>\n",
       "    </tr>\n",
       "    <tr>\n",
       "      <th rowspan=\"4\" valign=\"top\">unknown</th>\n",
       "      <th>offer received</th>\n",
       "      <td>NaN</td>\n",
       "    </tr>\n",
       "    <tr>\n",
       "      <th>offer viewed</th>\n",
       "      <td>NaN</td>\n",
       "    </tr>\n",
       "    <tr>\n",
       "      <th>transaction</th>\n",
       "      <td>97039.0</td>\n",
       "    </tr>\n",
       "    <tr>\n",
       "      <th>offer completed</th>\n",
       "      <td>NaN</td>\n",
       "    </tr>\n",
       "  </tbody>\n",
       "</table>\n",
       "</div>"
      ],
      "text/plain": [
       "                                                    event\n",
       "offer id                         event                   \n",
       "0b1e1539f2cc45b7b9fa7c272da2e1d7 offer received    7668.0\n",
       "                                 offer viewed      2663.0\n",
       "                                 transaction        615.0\n",
       "                                 offer completed   3340.0\n",
       "2298d6c36e964ae4a3e7e9706d1fb8c2 offer received    7646.0\n",
       "                                 offer viewed      7337.0\n",
       "                                 transaction       1544.0\n",
       "                                 offer completed   5112.0\n",
       "2906b810c7d4411798c6938adc9daaa5 offer received    7632.0\n",
       "                                 offer viewed      4118.0\n",
       "                                 transaction        892.0\n",
       "                                 offer completed   3964.0\n",
       "3f207df678b143eea3cee63160fa8bed offer received    7617.0\n",
       "                                 offer viewed      4144.0\n",
       "                                 transaction       2677.0\n",
       "                                 offer completed      NaN\n",
       "4d5c57ea9a6940dd891ad53e9dbe8da0 offer received    7593.0\n",
       "                                 offer viewed      7298.0\n",
       "                                 transaction       2820.0\n",
       "                                 offer completed   3301.0\n",
       "5a8bc65990b245e5a138643cd4eb9837 offer received    7618.0\n",
       "                                 offer viewed      6687.0\n",
       "                                 transaction       4522.0\n",
       "                                 offer completed      NaN\n",
       "9b98b8c7a33c4b65b9aebfe6a799e6d9 offer received    7677.0\n",
       "                                 offer viewed      4171.0\n",
       "                                 transaction        959.0\n",
       "                                 offer completed   4303.0\n",
       "ae264e3637204a6fb9bb56bc8210ddfd offer received    7658.0\n",
       "                                 offer viewed      6716.0\n",
       "                                 transaction       2682.0\n",
       "                                 offer completed   3635.0\n",
       "f19421c1d4aa40978ebb69ca19b0e20d offer received    7571.0\n",
       "                                 offer viewed      7264.0\n",
       "                                 transaction       2056.0\n",
       "                                 offer completed   4262.0\n",
       "fafdcd668e3743c1bb461111dcafc2a4 offer received    7597.0\n",
       "                                 offer viewed      7327.0\n",
       "                                 transaction       1508.0\n",
       "                                 offer completed   5265.0\n",
       "unknown                          offer received       NaN\n",
       "                                 offer viewed         NaN\n",
       "                                 transaction      97039.0\n",
       "                                 offer completed      NaN"
      ]
     },
     "execution_count": 1882,
     "metadata": {},
     "output_type": "execute_result"
    }
   ],
   "source": [
    "df.groupby(['offer id', 'event'])[['event']].count().head(50)"
   ]
  },
  {
   "cell_type": "code",
   "execution_count": 1883,
   "metadata": {},
   "outputs": [
    {
     "data": {
      "text/html": [
       "<div>\n",
       "<style scoped>\n",
       "    .dataframe tbody tr th:only-of-type {\n",
       "        vertical-align: middle;\n",
       "    }\n",
       "\n",
       "    .dataframe tbody tr th {\n",
       "        vertical-align: top;\n",
       "    }\n",
       "\n",
       "    .dataframe thead th {\n",
       "        text-align: right;\n",
       "    }\n",
       "</style>\n",
       "<table border=\"1\" class=\"dataframe\">\n",
       "  <thead>\n",
       "    <tr style=\"text-align: right;\">\n",
       "      <th></th>\n",
       "      <th></th>\n",
       "      <th>amount</th>\n",
       "    </tr>\n",
       "    <tr>\n",
       "      <th>offer id</th>\n",
       "      <th>event</th>\n",
       "      <th></th>\n",
       "    </tr>\n",
       "  </thead>\n",
       "  <tbody>\n",
       "    <tr>\n",
       "      <th rowspan=\"4\" valign=\"top\">0b1e1539f2cc45b7b9fa7c272da2e1d7</th>\n",
       "      <th>offer received</th>\n",
       "      <td>0.00</td>\n",
       "    </tr>\n",
       "    <tr>\n",
       "      <th>offer viewed</th>\n",
       "      <td>0.00</td>\n",
       "    </tr>\n",
       "    <tr>\n",
       "      <th>transaction</th>\n",
       "      <td>5359.54</td>\n",
       "    </tr>\n",
       "    <tr>\n",
       "      <th>offer completed</th>\n",
       "      <td>23391.71</td>\n",
       "    </tr>\n",
       "    <tr>\n",
       "      <th rowspan=\"4\" valign=\"top\">2298d6c36e964ae4a3e7e9706d1fb8c2</th>\n",
       "      <th>offer received</th>\n",
       "      <td>0.00</td>\n",
       "    </tr>\n",
       "    <tr>\n",
       "      <th>offer viewed</th>\n",
       "      <td>0.00</td>\n",
       "    </tr>\n",
       "    <tr>\n",
       "      <th>transaction</th>\n",
       "      <td>9848.95</td>\n",
       "    </tr>\n",
       "    <tr>\n",
       "      <th>offer completed</th>\n",
       "      <td>63587.95</td>\n",
       "    </tr>\n",
       "    <tr>\n",
       "      <th rowspan=\"4\" valign=\"top\">2906b810c7d4411798c6938adc9daaa5</th>\n",
       "      <th>offer received</th>\n",
       "      <td>0.00</td>\n",
       "    </tr>\n",
       "    <tr>\n",
       "      <th>offer viewed</th>\n",
       "      <td>0.00</td>\n",
       "    </tr>\n",
       "    <tr>\n",
       "      <th>transaction</th>\n",
       "      <td>8008.39</td>\n",
       "    </tr>\n",
       "    <tr>\n",
       "      <th>offer completed</th>\n",
       "      <td>36480.98</td>\n",
       "    </tr>\n",
       "    <tr>\n",
       "      <th rowspan=\"4\" valign=\"top\">3f207df678b143eea3cee63160fa8bed</th>\n",
       "      <th>offer received</th>\n",
       "      <td>0.00</td>\n",
       "    </tr>\n",
       "    <tr>\n",
       "      <th>offer viewed</th>\n",
       "      <td>0.00</td>\n",
       "    </tr>\n",
       "    <tr>\n",
       "      <th>transaction</th>\n",
       "      <td>41570.44</td>\n",
       "    </tr>\n",
       "    <tr>\n",
       "      <th>offer completed</th>\n",
       "      <td>NaN</td>\n",
       "    </tr>\n",
       "    <tr>\n",
       "      <th rowspan=\"4\" valign=\"top\">4d5c57ea9a6940dd891ad53e9dbe8da0</th>\n",
       "      <th>offer received</th>\n",
       "      <td>0.00</td>\n",
       "    </tr>\n",
       "    <tr>\n",
       "      <th>offer viewed</th>\n",
       "      <td>0.00</td>\n",
       "    </tr>\n",
       "    <tr>\n",
       "      <th>transaction</th>\n",
       "      <td>16967.47</td>\n",
       "    </tr>\n",
       "    <tr>\n",
       "      <th>offer completed</th>\n",
       "      <td>57119.28</td>\n",
       "    </tr>\n",
       "    <tr>\n",
       "      <th rowspan=\"4\" valign=\"top\">5a8bc65990b245e5a138643cd4eb9837</th>\n",
       "      <th>offer received</th>\n",
       "      <td>0.00</td>\n",
       "    </tr>\n",
       "    <tr>\n",
       "      <th>offer viewed</th>\n",
       "      <td>0.00</td>\n",
       "    </tr>\n",
       "    <tr>\n",
       "      <th>transaction</th>\n",
       "      <td>56366.03</td>\n",
       "    </tr>\n",
       "    <tr>\n",
       "      <th>offer completed</th>\n",
       "      <td>NaN</td>\n",
       "    </tr>\n",
       "    <tr>\n",
       "      <th rowspan=\"4\" valign=\"top\">9b98b8c7a33c4b65b9aebfe6a799e6d9</th>\n",
       "      <th>offer received</th>\n",
       "      <td>0.00</td>\n",
       "    </tr>\n",
       "    <tr>\n",
       "      <th>offer viewed</th>\n",
       "      <td>0.00</td>\n",
       "    </tr>\n",
       "    <tr>\n",
       "      <th>transaction</th>\n",
       "      <td>8030.28</td>\n",
       "    </tr>\n",
       "    <tr>\n",
       "      <th>offer completed</th>\n",
       "      <td>32478.11</td>\n",
       "    </tr>\n",
       "    <tr>\n",
       "      <th rowspan=\"4\" valign=\"top\">ae264e3637204a6fb9bb56bc8210ddfd</th>\n",
       "      <th>offer received</th>\n",
       "      <td>0.00</td>\n",
       "    </tr>\n",
       "    <tr>\n",
       "      <th>offer viewed</th>\n",
       "      <td>0.00</td>\n",
       "    </tr>\n",
       "    <tr>\n",
       "      <th>transaction</th>\n",
       "      <td>16707.88</td>\n",
       "    </tr>\n",
       "    <tr>\n",
       "      <th>offer completed</th>\n",
       "      <td>51138.91</td>\n",
       "    </tr>\n",
       "    <tr>\n",
       "      <th rowspan=\"4\" valign=\"top\">f19421c1d4aa40978ebb69ca19b0e20d</th>\n",
       "      <th>offer received</th>\n",
       "      <td>0.00</td>\n",
       "    </tr>\n",
       "    <tr>\n",
       "      <th>offer viewed</th>\n",
       "      <td>0.00</td>\n",
       "    </tr>\n",
       "    <tr>\n",
       "      <th>transaction</th>\n",
       "      <td>13530.60</td>\n",
       "    </tr>\n",
       "    <tr>\n",
       "      <th>offer completed</th>\n",
       "      <td>63149.45</td>\n",
       "    </tr>\n",
       "    <tr>\n",
       "      <th rowspan=\"4\" valign=\"top\">fafdcd668e3743c1bb461111dcafc2a4</th>\n",
       "      <th>offer received</th>\n",
       "      <td>0.00</td>\n",
       "    </tr>\n",
       "    <tr>\n",
       "      <th>offer viewed</th>\n",
       "      <td>0.00</td>\n",
       "    </tr>\n",
       "    <tr>\n",
       "      <th>transaction</th>\n",
       "      <td>12921.57</td>\n",
       "    </tr>\n",
       "    <tr>\n",
       "      <th>offer completed</th>\n",
       "      <td>67891.69</td>\n",
       "    </tr>\n",
       "    <tr>\n",
       "      <th rowspan=\"4\" valign=\"top\">unknown</th>\n",
       "      <th>offer received</th>\n",
       "      <td>NaN</td>\n",
       "    </tr>\n",
       "    <tr>\n",
       "      <th>offer viewed</th>\n",
       "      <td>NaN</td>\n",
       "    </tr>\n",
       "    <tr>\n",
       "      <th>transaction</th>\n",
       "      <td>1190902.74</td>\n",
       "    </tr>\n",
       "    <tr>\n",
       "      <th>offer completed</th>\n",
       "      <td>NaN</td>\n",
       "    </tr>\n",
       "  </tbody>\n",
       "</table>\n",
       "</div>"
      ],
      "text/plain": [
       "                                                      amount\n",
       "offer id                         event                      \n",
       "0b1e1539f2cc45b7b9fa7c272da2e1d7 offer received         0.00\n",
       "                                 offer viewed           0.00\n",
       "                                 transaction         5359.54\n",
       "                                 offer completed    23391.71\n",
       "2298d6c36e964ae4a3e7e9706d1fb8c2 offer received         0.00\n",
       "                                 offer viewed           0.00\n",
       "                                 transaction         9848.95\n",
       "                                 offer completed    63587.95\n",
       "2906b810c7d4411798c6938adc9daaa5 offer received         0.00\n",
       "                                 offer viewed           0.00\n",
       "                                 transaction         8008.39\n",
       "                                 offer completed    36480.98\n",
       "3f207df678b143eea3cee63160fa8bed offer received         0.00\n",
       "                                 offer viewed           0.00\n",
       "                                 transaction        41570.44\n",
       "                                 offer completed         NaN\n",
       "4d5c57ea9a6940dd891ad53e9dbe8da0 offer received         0.00\n",
       "                                 offer viewed           0.00\n",
       "                                 transaction        16967.47\n",
       "                                 offer completed    57119.28\n",
       "5a8bc65990b245e5a138643cd4eb9837 offer received         0.00\n",
       "                                 offer viewed           0.00\n",
       "                                 transaction        56366.03\n",
       "                                 offer completed         NaN\n",
       "9b98b8c7a33c4b65b9aebfe6a799e6d9 offer received         0.00\n",
       "                                 offer viewed           0.00\n",
       "                                 transaction         8030.28\n",
       "                                 offer completed    32478.11\n",
       "ae264e3637204a6fb9bb56bc8210ddfd offer received         0.00\n",
       "                                 offer viewed           0.00\n",
       "                                 transaction        16707.88\n",
       "                                 offer completed    51138.91\n",
       "f19421c1d4aa40978ebb69ca19b0e20d offer received         0.00\n",
       "                                 offer viewed           0.00\n",
       "                                 transaction        13530.60\n",
       "                                 offer completed    63149.45\n",
       "fafdcd668e3743c1bb461111dcafc2a4 offer received         0.00\n",
       "                                 offer viewed           0.00\n",
       "                                 transaction        12921.57\n",
       "                                 offer completed    67891.69\n",
       "unknown                          offer received          NaN\n",
       "                                 offer viewed            NaN\n",
       "                                 transaction      1190902.74\n",
       "                                 offer completed         NaN"
      ]
     },
     "execution_count": 1883,
     "metadata": {},
     "output_type": "execute_result"
    }
   ],
   "source": [
    "df.groupby(['offer id', 'event'])[['amount']].sum().head(50)"
   ]
  },
  {
   "cell_type": "code",
   "execution_count": 1884,
   "metadata": {},
   "outputs": [
    {
     "data": {
      "text/plain": [
       "amount    1775451.97\n",
       "dtype: float64"
      ]
     },
     "execution_count": 1884,
     "metadata": {},
     "output_type": "execute_result"
    }
   ],
   "source": [
    "df.groupby(['offer id', 'event'])[['amount']].sum().sum()"
   ]
  },
  {
   "cell_type": "code",
   "execution_count": 1885,
   "metadata": {},
   "outputs": [
    {
     "data": {
      "text/html": [
       "<div>\n",
       "<style scoped>\n",
       "    .dataframe tbody tr th:only-of-type {\n",
       "        vertical-align: middle;\n",
       "    }\n",
       "\n",
       "    .dataframe tbody tr th {\n",
       "        vertical-align: top;\n",
       "    }\n",
       "\n",
       "    .dataframe thead th {\n",
       "        text-align: right;\n",
       "    }\n",
       "</style>\n",
       "<table border=\"1\" class=\"dataframe\">\n",
       "  <thead>\n",
       "    <tr style=\"text-align: right;\">\n",
       "      <th></th>\n",
       "      <th>amount</th>\n",
       "    </tr>\n",
       "    <tr>\n",
       "      <th>offer id</th>\n",
       "      <th></th>\n",
       "    </tr>\n",
       "  </thead>\n",
       "  <tbody>\n",
       "    <tr>\n",
       "      <th>0b1e1539f2cc45b7b9fa7c272da2e1d7</th>\n",
       "      <td>28751.25</td>\n",
       "    </tr>\n",
       "    <tr>\n",
       "      <th>2298d6c36e964ae4a3e7e9706d1fb8c2</th>\n",
       "      <td>73436.90</td>\n",
       "    </tr>\n",
       "    <tr>\n",
       "      <th>2906b810c7d4411798c6938adc9daaa5</th>\n",
       "      <td>44489.37</td>\n",
       "    </tr>\n",
       "    <tr>\n",
       "      <th>3f207df678b143eea3cee63160fa8bed</th>\n",
       "      <td>41570.44</td>\n",
       "    </tr>\n",
       "    <tr>\n",
       "      <th>4d5c57ea9a6940dd891ad53e9dbe8da0</th>\n",
       "      <td>74086.75</td>\n",
       "    </tr>\n",
       "    <tr>\n",
       "      <th>5a8bc65990b245e5a138643cd4eb9837</th>\n",
       "      <td>56366.03</td>\n",
       "    </tr>\n",
       "    <tr>\n",
       "      <th>9b98b8c7a33c4b65b9aebfe6a799e6d9</th>\n",
       "      <td>40508.39</td>\n",
       "    </tr>\n",
       "    <tr>\n",
       "      <th>ae264e3637204a6fb9bb56bc8210ddfd</th>\n",
       "      <td>67846.79</td>\n",
       "    </tr>\n",
       "    <tr>\n",
       "      <th>f19421c1d4aa40978ebb69ca19b0e20d</th>\n",
       "      <td>76680.05</td>\n",
       "    </tr>\n",
       "    <tr>\n",
       "      <th>fafdcd668e3743c1bb461111dcafc2a4</th>\n",
       "      <td>80813.26</td>\n",
       "    </tr>\n",
       "    <tr>\n",
       "      <th>unknown</th>\n",
       "      <td>1190902.74</td>\n",
       "    </tr>\n",
       "  </tbody>\n",
       "</table>\n",
       "</div>"
      ],
      "text/plain": [
       "                                      amount\n",
       "offer id                                    \n",
       "0b1e1539f2cc45b7b9fa7c272da2e1d7    28751.25\n",
       "2298d6c36e964ae4a3e7e9706d1fb8c2    73436.90\n",
       "2906b810c7d4411798c6938adc9daaa5    44489.37\n",
       "3f207df678b143eea3cee63160fa8bed    41570.44\n",
       "4d5c57ea9a6940dd891ad53e9dbe8da0    74086.75\n",
       "5a8bc65990b245e5a138643cd4eb9837    56366.03\n",
       "9b98b8c7a33c4b65b9aebfe6a799e6d9    40508.39\n",
       "ae264e3637204a6fb9bb56bc8210ddfd    67846.79\n",
       "f19421c1d4aa40978ebb69ca19b0e20d    76680.05\n",
       "fafdcd668e3743c1bb461111dcafc2a4    80813.26\n",
       "unknown                           1190902.74"
      ]
     },
     "execution_count": 1885,
     "metadata": {},
     "output_type": "execute_result"
    }
   ],
   "source": [
    "df.groupby(['offer id'])[['amount']].sum().head(50)"
   ]
  },
  {
   "cell_type": "markdown",
   "metadata": {},
   "source": [
    "#### sanity check"
   ]
  },
  {
   "cell_type": "markdown",
   "metadata": {},
   "source": [
    "all \"transaction\" event remaining shall be labeled either as \"offer_irrelevant\" or \"offer_driven\""
   ]
  },
  {
   "cell_type": "code",
   "execution_count": 1886,
   "metadata": {},
   "outputs": [
    {
     "data": {
      "text/plain": [
       "0"
      ]
     },
     "execution_count": 1886,
     "metadata": {},
     "output_type": "execute_result"
    }
   ],
   "source": [
    "df[(df['event']=='transaction') & (df['offer_irrelevant']==0) & (df['offer_driven']==0)].shape[0]"
   ]
  },
  {
   "cell_type": "markdown",
   "metadata": {},
   "source": [
    "all \"offer completed\" event shall be labeled \"offer_irrelevant\"==0 and \"offer_driven\"==1"
   ]
  },
  {
   "cell_type": "code",
   "execution_count": 1887,
   "metadata": {},
   "outputs": [
    {
     "data": {
      "text/plain": [
       "array([1, 0])"
      ]
     },
     "execution_count": 1887,
     "metadata": {},
     "output_type": "execute_result"
    }
   ],
   "source": [
    "df[(df['event']=='offer completed')]['offer_driven'].unique()"
   ]
  },
  {
   "cell_type": "code",
   "execution_count": 1888,
   "metadata": {},
   "outputs": [
    {
     "data": {
      "text/plain": [
       "array([0, 1])"
      ]
     },
     "execution_count": 1888,
     "metadata": {},
     "output_type": "execute_result"
    }
   ],
   "source": [
    "df[(df['event']=='offer completed')]['offer_irrelevant'].unique()"
   ]
  },
  {
   "cell_type": "markdown",
   "metadata": {},
   "source": [
    "all other events should be 0 for both offer_irrelevant and 'offer_driven'"
   ]
  },
  {
   "cell_type": "code",
   "execution_count": 1889,
   "metadata": {},
   "outputs": [
    {
     "data": {
      "text/plain": [
       "array([0])"
      ]
     },
     "execution_count": 1889,
     "metadata": {},
     "output_type": "execute_result"
    }
   ],
   "source": [
    "df[(df['event']!='offer completed')& (df['event']!='transaction')]['offer_irrelevant'].unique()"
   ]
  },
  {
   "cell_type": "code",
   "execution_count": 1890,
   "metadata": {},
   "outputs": [
    {
     "data": {
      "text/plain": [
       "array([0])"
      ]
     },
     "execution_count": 1890,
     "metadata": {},
     "output_type": "execute_result"
    }
   ],
   "source": [
    "df[(df['event']!='offer completed')& (df['event']!='transaction')]['offer_driven'].unique()"
   ]
  },
  {
   "cell_type": "code",
   "execution_count": 1891,
   "metadata": {},
   "outputs": [
    {
     "name": "stdout",
     "output_type": "stream",
     "text": [
      "total purchase amount with offers 584549.0\n",
      "total purchase amount without offers 1190903.0\n",
      "total purchase amount 1775452.0\n",
      "--------------------------------------------\n",
      "number of purchases with offer 53457\n",
      "number of purchases without offer 97039\n",
      "total number of purchases 150496\n"
     ]
    }
   ],
   "source": [
    "# total purchase amount\n",
    "print(\"total purchase amount with offers\", round(df[df['offer id']!='unknown'].groupby('offer id')['amount'].sum().sum()))\n",
    "print(\"total purchase amount without offers\", round(df[df['offer id']=='unknown'].groupby('offer id')['amount'].sum().sum()))\n",
    "print(\"total purchase amount\", round(df.groupby('offer id')['amount'].sum().sum()))\n",
    "\n",
    "print(\"--------------------------------------------\")\n",
    "\n",
    "# number of purchases with offer \n",
    "print(\"number of purchases with offer\", df[((df['event']=='transaction') & (df['offer id']!='unknown')) | (df['event']=='offer completed') ].shape[0] )\n",
    "print(\"number of purchases without offer\", df[(df['event']=='transaction') & (df['offer id']=='unknown')].shape[0])\n",
    "print(\"total number of purchases\", df[(df['event']=='transaction') | (df['event']=='offer completed')].shape[0])\n"
   ]
  },
  {
   "cell_type": "code",
   "execution_count": 1892,
   "metadata": {},
   "outputs": [
    {
     "name": "stdout",
     "output_type": "stream",
     "text": [
      "total number of purchases 150496\n"
     ]
    }
   ],
   "source": [
    "# all purchases should be marked as either offer_driven or offer_irrelevant.\n",
    "print(\"total number of purchases\", df[(df['offer_driven']==1) | (df['offer_irrelevant']==1)].shape[0])"
   ]
  },
  {
   "cell_type": "code",
   "execution_count": 1893,
   "metadata": {},
   "outputs": [
    {
     "data": {
      "text/html": [
       "<div>\n",
       "<style scoped>\n",
       "    .dataframe tbody tr th:only-of-type {\n",
       "        vertical-align: middle;\n",
       "    }\n",
       "\n",
       "    .dataframe tbody tr th {\n",
       "        vertical-align: top;\n",
       "    }\n",
       "\n",
       "    .dataframe thead th {\n",
       "        text-align: right;\n",
       "    }\n",
       "</style>\n",
       "<table border=\"1\" class=\"dataframe\">\n",
       "  <thead>\n",
       "    <tr style=\"text-align: right;\">\n",
       "      <th></th>\n",
       "      <th></th>\n",
       "      <th>amount</th>\n",
       "    </tr>\n",
       "    <tr>\n",
       "      <th>offer id</th>\n",
       "      <th>event</th>\n",
       "      <th></th>\n",
       "    </tr>\n",
       "  </thead>\n",
       "  <tbody>\n",
       "    <tr>\n",
       "      <th rowspan=\"4\" valign=\"top\">0b1e1539f2cc45b7b9fa7c272da2e1d7</th>\n",
       "      <th>offer received</th>\n",
       "      <td>0.00</td>\n",
       "    </tr>\n",
       "    <tr>\n",
       "      <th>offer viewed</th>\n",
       "      <td>0.00</td>\n",
       "    </tr>\n",
       "    <tr>\n",
       "      <th>transaction</th>\n",
       "      <td>5359.54</td>\n",
       "    </tr>\n",
       "    <tr>\n",
       "      <th>offer completed</th>\n",
       "      <td>23391.71</td>\n",
       "    </tr>\n",
       "    <tr>\n",
       "      <th rowspan=\"4\" valign=\"top\">2298d6c36e964ae4a3e7e9706d1fb8c2</th>\n",
       "      <th>offer received</th>\n",
       "      <td>0.00</td>\n",
       "    </tr>\n",
       "    <tr>\n",
       "      <th>offer viewed</th>\n",
       "      <td>0.00</td>\n",
       "    </tr>\n",
       "    <tr>\n",
       "      <th>transaction</th>\n",
       "      <td>9848.95</td>\n",
       "    </tr>\n",
       "    <tr>\n",
       "      <th>offer completed</th>\n",
       "      <td>63587.95</td>\n",
       "    </tr>\n",
       "    <tr>\n",
       "      <th rowspan=\"4\" valign=\"top\">2906b810c7d4411798c6938adc9daaa5</th>\n",
       "      <th>offer received</th>\n",
       "      <td>0.00</td>\n",
       "    </tr>\n",
       "    <tr>\n",
       "      <th>offer viewed</th>\n",
       "      <td>0.00</td>\n",
       "    </tr>\n",
       "    <tr>\n",
       "      <th>transaction</th>\n",
       "      <td>8008.39</td>\n",
       "    </tr>\n",
       "    <tr>\n",
       "      <th>offer completed</th>\n",
       "      <td>36480.98</td>\n",
       "    </tr>\n",
       "    <tr>\n",
       "      <th rowspan=\"4\" valign=\"top\">3f207df678b143eea3cee63160fa8bed</th>\n",
       "      <th>offer received</th>\n",
       "      <td>0.00</td>\n",
       "    </tr>\n",
       "    <tr>\n",
       "      <th>offer viewed</th>\n",
       "      <td>0.00</td>\n",
       "    </tr>\n",
       "    <tr>\n",
       "      <th>transaction</th>\n",
       "      <td>41570.44</td>\n",
       "    </tr>\n",
       "    <tr>\n",
       "      <th>offer completed</th>\n",
       "      <td>NaN</td>\n",
       "    </tr>\n",
       "    <tr>\n",
       "      <th rowspan=\"4\" valign=\"top\">4d5c57ea9a6940dd891ad53e9dbe8da0</th>\n",
       "      <th>offer received</th>\n",
       "      <td>0.00</td>\n",
       "    </tr>\n",
       "    <tr>\n",
       "      <th>offer viewed</th>\n",
       "      <td>0.00</td>\n",
       "    </tr>\n",
       "    <tr>\n",
       "      <th>transaction</th>\n",
       "      <td>16967.47</td>\n",
       "    </tr>\n",
       "    <tr>\n",
       "      <th>offer completed</th>\n",
       "      <td>57119.28</td>\n",
       "    </tr>\n",
       "    <tr>\n",
       "      <th rowspan=\"4\" valign=\"top\">5a8bc65990b245e5a138643cd4eb9837</th>\n",
       "      <th>offer received</th>\n",
       "      <td>0.00</td>\n",
       "    </tr>\n",
       "    <tr>\n",
       "      <th>offer viewed</th>\n",
       "      <td>0.00</td>\n",
       "    </tr>\n",
       "    <tr>\n",
       "      <th>transaction</th>\n",
       "      <td>56366.03</td>\n",
       "    </tr>\n",
       "    <tr>\n",
       "      <th>offer completed</th>\n",
       "      <td>NaN</td>\n",
       "    </tr>\n",
       "    <tr>\n",
       "      <th rowspan=\"4\" valign=\"top\">9b98b8c7a33c4b65b9aebfe6a799e6d9</th>\n",
       "      <th>offer received</th>\n",
       "      <td>0.00</td>\n",
       "    </tr>\n",
       "    <tr>\n",
       "      <th>offer viewed</th>\n",
       "      <td>0.00</td>\n",
       "    </tr>\n",
       "    <tr>\n",
       "      <th>transaction</th>\n",
       "      <td>8030.28</td>\n",
       "    </tr>\n",
       "    <tr>\n",
       "      <th>offer completed</th>\n",
       "      <td>32478.11</td>\n",
       "    </tr>\n",
       "    <tr>\n",
       "      <th rowspan=\"4\" valign=\"top\">ae264e3637204a6fb9bb56bc8210ddfd</th>\n",
       "      <th>offer received</th>\n",
       "      <td>0.00</td>\n",
       "    </tr>\n",
       "    <tr>\n",
       "      <th>offer viewed</th>\n",
       "      <td>0.00</td>\n",
       "    </tr>\n",
       "    <tr>\n",
       "      <th>transaction</th>\n",
       "      <td>16707.88</td>\n",
       "    </tr>\n",
       "    <tr>\n",
       "      <th>offer completed</th>\n",
       "      <td>51138.91</td>\n",
       "    </tr>\n",
       "    <tr>\n",
       "      <th rowspan=\"4\" valign=\"top\">f19421c1d4aa40978ebb69ca19b0e20d</th>\n",
       "      <th>offer received</th>\n",
       "      <td>0.00</td>\n",
       "    </tr>\n",
       "    <tr>\n",
       "      <th>offer viewed</th>\n",
       "      <td>0.00</td>\n",
       "    </tr>\n",
       "    <tr>\n",
       "      <th>transaction</th>\n",
       "      <td>13530.60</td>\n",
       "    </tr>\n",
       "    <tr>\n",
       "      <th>offer completed</th>\n",
       "      <td>63149.45</td>\n",
       "    </tr>\n",
       "    <tr>\n",
       "      <th rowspan=\"4\" valign=\"top\">fafdcd668e3743c1bb461111dcafc2a4</th>\n",
       "      <th>offer received</th>\n",
       "      <td>0.00</td>\n",
       "    </tr>\n",
       "    <tr>\n",
       "      <th>offer viewed</th>\n",
       "      <td>0.00</td>\n",
       "    </tr>\n",
       "    <tr>\n",
       "      <th>transaction</th>\n",
       "      <td>12921.57</td>\n",
       "    </tr>\n",
       "    <tr>\n",
       "      <th>offer completed</th>\n",
       "      <td>67891.69</td>\n",
       "    </tr>\n",
       "    <tr>\n",
       "      <th rowspan=\"4\" valign=\"top\">unknown</th>\n",
       "      <th>offer received</th>\n",
       "      <td>NaN</td>\n",
       "    </tr>\n",
       "    <tr>\n",
       "      <th>offer viewed</th>\n",
       "      <td>NaN</td>\n",
       "    </tr>\n",
       "    <tr>\n",
       "      <th>transaction</th>\n",
       "      <td>1190902.74</td>\n",
       "    </tr>\n",
       "    <tr>\n",
       "      <th>offer completed</th>\n",
       "      <td>NaN</td>\n",
       "    </tr>\n",
       "  </tbody>\n",
       "</table>\n",
       "</div>"
      ],
      "text/plain": [
       "                                                      amount\n",
       "offer id                         event                      \n",
       "0b1e1539f2cc45b7b9fa7c272da2e1d7 offer received         0.00\n",
       "                                 offer viewed           0.00\n",
       "                                 transaction         5359.54\n",
       "                                 offer completed    23391.71\n",
       "2298d6c36e964ae4a3e7e9706d1fb8c2 offer received         0.00\n",
       "                                 offer viewed           0.00\n",
       "                                 transaction         9848.95\n",
       "                                 offer completed    63587.95\n",
       "2906b810c7d4411798c6938adc9daaa5 offer received         0.00\n",
       "                                 offer viewed           0.00\n",
       "                                 transaction         8008.39\n",
       "                                 offer completed    36480.98\n",
       "3f207df678b143eea3cee63160fa8bed offer received         0.00\n",
       "                                 offer viewed           0.00\n",
       "                                 transaction        41570.44\n",
       "                                 offer completed         NaN\n",
       "4d5c57ea9a6940dd891ad53e9dbe8da0 offer received         0.00\n",
       "                                 offer viewed           0.00\n",
       "                                 transaction        16967.47\n",
       "                                 offer completed    57119.28\n",
       "5a8bc65990b245e5a138643cd4eb9837 offer received         0.00\n",
       "                                 offer viewed           0.00\n",
       "                                 transaction        56366.03\n",
       "                                 offer completed         NaN\n",
       "9b98b8c7a33c4b65b9aebfe6a799e6d9 offer received         0.00\n",
       "                                 offer viewed           0.00\n",
       "                                 transaction         8030.28\n",
       "                                 offer completed    32478.11\n",
       "ae264e3637204a6fb9bb56bc8210ddfd offer received         0.00\n",
       "                                 offer viewed           0.00\n",
       "                                 transaction        16707.88\n",
       "                                 offer completed    51138.91\n",
       "f19421c1d4aa40978ebb69ca19b0e20d offer received         0.00\n",
       "                                 offer viewed           0.00\n",
       "                                 transaction        13530.60\n",
       "                                 offer completed    63149.45\n",
       "fafdcd668e3743c1bb461111dcafc2a4 offer received         0.00\n",
       "                                 offer viewed           0.00\n",
       "                                 transaction        12921.57\n",
       "                                 offer completed    67891.69\n",
       "unknown                          offer received          NaN\n",
       "                                 offer viewed            NaN\n",
       "                                 transaction      1190902.74\n",
       "                                 offer completed         NaN"
      ]
     },
     "execution_count": 1893,
     "metadata": {},
     "output_type": "execute_result"
    }
   ],
   "source": [
    "df.groupby(['offer id', 'event'])[['amount']].sum()"
   ]
  },
  {
   "cell_type": "code",
   "execution_count": 1894,
   "metadata": {},
   "outputs": [
    {
     "data": {
      "text/html": [
       "<div>\n",
       "<style scoped>\n",
       "    .dataframe tbody tr th:only-of-type {\n",
       "        vertical-align: middle;\n",
       "    }\n",
       "\n",
       "    .dataframe tbody tr th {\n",
       "        vertical-align: top;\n",
       "    }\n",
       "\n",
       "    .dataframe thead th {\n",
       "        text-align: right;\n",
       "    }\n",
       "</style>\n",
       "<table border=\"1\" class=\"dataframe\">\n",
       "  <thead>\n",
       "    <tr style=\"text-align: right;\">\n",
       "      <th></th>\n",
       "      <th>amount</th>\n",
       "    </tr>\n",
       "    <tr>\n",
       "      <th>offer id</th>\n",
       "      <th></th>\n",
       "    </tr>\n",
       "  </thead>\n",
       "  <tbody>\n",
       "    <tr>\n",
       "      <th>0b1e1539f2cc45b7b9fa7c272da2e1d7</th>\n",
       "      <td>28751.25</td>\n",
       "    </tr>\n",
       "    <tr>\n",
       "      <th>2298d6c36e964ae4a3e7e9706d1fb8c2</th>\n",
       "      <td>73436.90</td>\n",
       "    </tr>\n",
       "    <tr>\n",
       "      <th>2906b810c7d4411798c6938adc9daaa5</th>\n",
       "      <td>44489.37</td>\n",
       "    </tr>\n",
       "    <tr>\n",
       "      <th>3f207df678b143eea3cee63160fa8bed</th>\n",
       "      <td>41570.44</td>\n",
       "    </tr>\n",
       "    <tr>\n",
       "      <th>4d5c57ea9a6940dd891ad53e9dbe8da0</th>\n",
       "      <td>74086.75</td>\n",
       "    </tr>\n",
       "    <tr>\n",
       "      <th>5a8bc65990b245e5a138643cd4eb9837</th>\n",
       "      <td>56366.03</td>\n",
       "    </tr>\n",
       "    <tr>\n",
       "      <th>9b98b8c7a33c4b65b9aebfe6a799e6d9</th>\n",
       "      <td>40508.39</td>\n",
       "    </tr>\n",
       "    <tr>\n",
       "      <th>ae264e3637204a6fb9bb56bc8210ddfd</th>\n",
       "      <td>67846.79</td>\n",
       "    </tr>\n",
       "    <tr>\n",
       "      <th>f19421c1d4aa40978ebb69ca19b0e20d</th>\n",
       "      <td>76680.05</td>\n",
       "    </tr>\n",
       "    <tr>\n",
       "      <th>fafdcd668e3743c1bb461111dcafc2a4</th>\n",
       "      <td>80813.26</td>\n",
       "    </tr>\n",
       "    <tr>\n",
       "      <th>unknown</th>\n",
       "      <td>1190902.74</td>\n",
       "    </tr>\n",
       "  </tbody>\n",
       "</table>\n",
       "</div>"
      ],
      "text/plain": [
       "                                      amount\n",
       "offer id                                    \n",
       "0b1e1539f2cc45b7b9fa7c272da2e1d7    28751.25\n",
       "2298d6c36e964ae4a3e7e9706d1fb8c2    73436.90\n",
       "2906b810c7d4411798c6938adc9daaa5    44489.37\n",
       "3f207df678b143eea3cee63160fa8bed    41570.44\n",
       "4d5c57ea9a6940dd891ad53e9dbe8da0    74086.75\n",
       "5a8bc65990b245e5a138643cd4eb9837    56366.03\n",
       "9b98b8c7a33c4b65b9aebfe6a799e6d9    40508.39\n",
       "ae264e3637204a6fb9bb56bc8210ddfd    67846.79\n",
       "f19421c1d4aa40978ebb69ca19b0e20d    76680.05\n",
       "fafdcd668e3743c1bb461111dcafc2a4    80813.26\n",
       "unknown                           1190902.74"
      ]
     },
     "execution_count": 1894,
     "metadata": {},
     "output_type": "execute_result"
    }
   ],
   "source": [
    "df.groupby(['offer id'])[['amount']].sum()"
   ]
  },
  {
   "cell_type": "code",
   "execution_count": 1895,
   "metadata": {},
   "outputs": [
    {
     "data": {
      "text/plain": [
       "offer id                          event          \n",
       "0b1e1539f2cc45b7b9fa7c272da2e1d7  offer received      7668\n",
       "                                  offer viewed        2663\n",
       "                                  transaction          615\n",
       "                                  offer completed     3340\n",
       "2298d6c36e964ae4a3e7e9706d1fb8c2  offer received      7646\n",
       "                                  offer viewed        7337\n",
       "                                  transaction         1544\n",
       "                                  offer completed     5112\n",
       "2906b810c7d4411798c6938adc9daaa5  offer received      7632\n",
       "                                  offer viewed        4118\n",
       "                                  transaction          892\n",
       "                                  offer completed     3964\n",
       "3f207df678b143eea3cee63160fa8bed  offer received      7617\n",
       "                                  offer viewed        4144\n",
       "                                  transaction         2677\n",
       "                                  offer completed        0\n",
       "4d5c57ea9a6940dd891ad53e9dbe8da0  offer received      7593\n",
       "                                  offer viewed        7298\n",
       "                                  transaction         2820\n",
       "                                  offer completed     3301\n",
       "5a8bc65990b245e5a138643cd4eb9837  offer received      7618\n",
       "                                  offer viewed        6687\n",
       "                                  transaction         4522\n",
       "                                  offer completed        0\n",
       "9b98b8c7a33c4b65b9aebfe6a799e6d9  offer received      7677\n",
       "                                  offer viewed        4171\n",
       "                                  transaction          959\n",
       "                                  offer completed     4303\n",
       "ae264e3637204a6fb9bb56bc8210ddfd  offer received      7658\n",
       "                                  offer viewed        6716\n",
       "                                  transaction         2682\n",
       "                                  offer completed     3635\n",
       "f19421c1d4aa40978ebb69ca19b0e20d  offer received      7571\n",
       "                                  offer viewed        7264\n",
       "                                  transaction         2056\n",
       "                                  offer completed     4262\n",
       "fafdcd668e3743c1bb461111dcafc2a4  offer received      7597\n",
       "                                  offer viewed        7327\n",
       "                                  transaction         1508\n",
       "                                  offer completed     5265\n",
       "unknown                           offer received         0\n",
       "                                  offer viewed           0\n",
       "                                  transaction        97039\n",
       "                                  offer completed        0\n",
       "Name: event, dtype: int64"
      ]
     },
     "execution_count": 1895,
     "metadata": {},
     "output_type": "execute_result"
    }
   ],
   "source": [
    "df.groupby(['offer id', 'event'])['event'].count()"
   ]
  },
  {
   "cell_type": "code",
   "execution_count": 1896,
   "metadata": {},
   "outputs": [],
   "source": [
    "df_backup=df.copy()\n",
    "\n",
    "df0=df.copy()\n",
    "\n",
    "# df=df_backup.copy()"
   ]
  },
  {
   "cell_type": "markdown",
   "metadata": {},
   "source": [
    "## More Dataset Exploration and Cleaning"
   ]
  },
  {
   "cell_type": "markdown",
   "metadata": {},
   "source": [
    "### offer received each customer"
   ]
  },
  {
   "cell_type": "code",
   "execution_count": 1897,
   "metadata": {},
   "outputs": [
    {
     "data": {
      "text/plain": [
       "<matplotlib.axes._subplots.AxesSubplot at 0x2e6355e90>"
      ]
     },
     "execution_count": 1897,
     "metadata": {},
     "output_type": "execute_result"
    },
    {
     "data": {
      "image/png": "[encoded data removed]",
      "text/plain": [
       "<Figure size 432x288 with 1 Axes>"
      ]
     },
     "metadata": {
      "needs_background": "light"
     },
     "output_type": "display_data"
    }
   ],
   "source": [
    "df[df['event']=='offer received'].groupby('person')['event'].count().hist(bins=range(1,8), rwidth=0.5, align='left')\n"
   ]
  },
  {
   "cell_type": "code",
   "execution_count": 1898,
   "metadata": {},
   "outputs": [
    {
     "name": "stdout",
     "output_type": "stream",
     "text": [
      "['12ede229379747bd8d74ccdc20097ca3' '3a4874d8f0ef42b9a1b72294902afea9'\n",
      " 'ae8111e7e8cd4b60a8d35c42c1110555' 'c6e579c6821c41d1a7a6a9cf936e91bb'\n",
      " 'da7a7c0dcfcb41a8acc7864a53cf60fb' 'eb540099db834cf59001f83a4561aef3']\n"
     ]
    }
   ],
   "source": [
    "offer_count=df[df['event']=='offer received'].groupby('person')[['event']].count().reset_index()\n",
    "\n",
    "# check the customers that never received any offers\n",
    "a=df['person'].unique()\n",
    "b=offer_count['person'].unique()\n",
    "print(np.setdiff1d(a,b))\n",
    "\n",
    "# add the number of offer received to the dataset as a new feature\n",
    "offer_count.rename(columns={\"event\": \"offer_cnt\"}, inplace=True)\n",
    "df=df.merge(offer_count, right_on='person', left_on='person', how='left')\n",
    "df['offer_cnt'].fillna(0, inplace=True)"
   ]
  },
  {
   "cell_type": "markdown",
   "metadata": {},
   "source": [
    "### Transaction Cleaning"
   ]
  },
  {
   "cell_type": "markdown",
   "metadata": {},
   "source": [
    "**Goal**： keep 1 transaction history for each offer/order. \n",
    "\n",
    "**Summary** of the three features added before:\n",
    "* offer_driven: all \"offer_complete\" event and qualified \"transaction\" event == 1\n",
    "* active_customer: \n",
    "    * active customer == 1\n",
    "    * inactive customer == 0 -- without any transaction/complete\n",
    "* offer_irrelevant: all other \"transaction\" event not qualified as \"offer_driven\" == 1 \n",
    "\n",
    "\n",
    "**Two ways to clean the data, can use a second method for sanity check purpose\n",
    "\n",
    "**_method 1_:**\n",
    "**Steps**:\n",
    "\n",
    "* Event Type 1: start with \"offer received\"\n",
    "    1. for inactive customers, keep \"offer received\" will result no info loss (**A**)\n",
    "    2. for active customers, there are two scenerios:\n",
    "        1. offer does not lead to purchases (**B**)\n",
    "        2. offer leads to purchases  ---> labeled as \"offer_drive\"==1 (**C**)\n",
    "            \n",
    "* Event Type 2: standalone purchases (**D**)\n",
    "    * labeled as \"offer_irrelevant\"==1\n",
    "\n",
    "\n",
    "This way, we transferred all feature labels to \"offer received\" event. We can delete all other events with no info loss. \n",
    "\n",
    "a active customer may received multiple offers, but only 1 trasactions maybe, so need to keep \"offer_received\" event for all, but mark it as 1. at the end, keep all offer received event.\n",
    "\n",
    "\n",
    "**_method 2_:**\n",
    "**Steps**:\n",
    "* **A** Each customer may received multiple offers. No matter they used it or not, it is a history of offer sent. So all \"offer received\" event should be kept. We add a new feature **keep** to flag all rows to be kept.\n",
    "* **B** There may be standalone transactions without any offers. All of them don't have an \"offer id\". They will need to be kept.\n",
    "* **C** For \"transaction\" (Informational offers), we would like to copy those labels from \"transaction\"events to their corresponding \"offer received\" events. \n",
    "* **D** For \"offer completed\" (BOGO/Discount offers), we would like to copy those labels from \"offer completed\"events to their corresponding \"offer received\" events. \n"
   ]
  },
  {
   "cell_type": "code",
   "execution_count": 1899,
   "metadata": {},
   "outputs": [],
   "source": [
    "df['keep']=0"
   ]
  },
  {
   "cell_type": "markdown",
   "metadata": {},
   "source": [
    "**A**: \"offer received\" event for inactive customers"
   ]
  },
  {
   "cell_type": "code",
   "execution_count": 1900,
   "metadata": {},
   "outputs": [],
   "source": [
    "# df.loc[(df['event']=='offer received') & (df['active_customer']==0), 'keep']=1\n",
    "df.loc[(df['event']=='offer received') , 'keep']=1"
   ]
  },
  {
   "cell_type": "code",
   "execution_count": 1901,
   "metadata": {},
   "outputs": [
    {
     "data": {
      "text/html": [
       "<div>\n",
       "<style scoped>\n",
       "    .dataframe tbody tr th:only-of-type {\n",
       "        vertical-align: middle;\n",
       "    }\n",
       "\n",
       "    .dataframe tbody tr th {\n",
       "        vertical-align: top;\n",
       "    }\n",
       "\n",
       "    .dataframe thead th {\n",
       "        text-align: right;\n",
       "    }\n",
       "</style>\n",
       "<table border=\"1\" class=\"dataframe\">\n",
       "  <thead>\n",
       "    <tr style=\"text-align: right;\">\n",
       "      <th></th>\n",
       "      <th>amount</th>\n",
       "    </tr>\n",
       "    <tr>\n",
       "      <th>offer id</th>\n",
       "      <th></th>\n",
       "    </tr>\n",
       "  </thead>\n",
       "  <tbody>\n",
       "    <tr>\n",
       "      <th>0b1e1539f2cc45b7b9fa7c272da2e1d7</th>\n",
       "      <td>28751.25</td>\n",
       "    </tr>\n",
       "    <tr>\n",
       "      <th>2298d6c36e964ae4a3e7e9706d1fb8c2</th>\n",
       "      <td>73436.90</td>\n",
       "    </tr>\n",
       "    <tr>\n",
       "      <th>2906b810c7d4411798c6938adc9daaa5</th>\n",
       "      <td>44489.37</td>\n",
       "    </tr>\n",
       "    <tr>\n",
       "      <th>3f207df678b143eea3cee63160fa8bed</th>\n",
       "      <td>41570.44</td>\n",
       "    </tr>\n",
       "    <tr>\n",
       "      <th>4d5c57ea9a6940dd891ad53e9dbe8da0</th>\n",
       "      <td>74086.75</td>\n",
       "    </tr>\n",
       "    <tr>\n",
       "      <th>5a8bc65990b245e5a138643cd4eb9837</th>\n",
       "      <td>56366.03</td>\n",
       "    </tr>\n",
       "    <tr>\n",
       "      <th>9b98b8c7a33c4b65b9aebfe6a799e6d9</th>\n",
       "      <td>40508.39</td>\n",
       "    </tr>\n",
       "    <tr>\n",
       "      <th>ae264e3637204a6fb9bb56bc8210ddfd</th>\n",
       "      <td>67846.79</td>\n",
       "    </tr>\n",
       "    <tr>\n",
       "      <th>f19421c1d4aa40978ebb69ca19b0e20d</th>\n",
       "      <td>76680.05</td>\n",
       "    </tr>\n",
       "    <tr>\n",
       "      <th>fafdcd668e3743c1bb461111dcafc2a4</th>\n",
       "      <td>80813.26</td>\n",
       "    </tr>\n",
       "    <tr>\n",
       "      <th>unknown</th>\n",
       "      <td>1190902.74</td>\n",
       "    </tr>\n",
       "  </tbody>\n",
       "</table>\n",
       "</div>"
      ],
      "text/plain": [
       "                                      amount\n",
       "offer id                                    \n",
       "0b1e1539f2cc45b7b9fa7c272da2e1d7    28751.25\n",
       "2298d6c36e964ae4a3e7e9706d1fb8c2    73436.90\n",
       "2906b810c7d4411798c6938adc9daaa5    44489.37\n",
       "3f207df678b143eea3cee63160fa8bed    41570.44\n",
       "4d5c57ea9a6940dd891ad53e9dbe8da0    74086.75\n",
       "5a8bc65990b245e5a138643cd4eb9837    56366.03\n",
       "9b98b8c7a33c4b65b9aebfe6a799e6d9    40508.39\n",
       "ae264e3637204a6fb9bb56bc8210ddfd    67846.79\n",
       "f19421c1d4aa40978ebb69ca19b0e20d    76680.05\n",
       "fafdcd668e3743c1bb461111dcafc2a4    80813.26\n",
       "unknown                           1190902.74"
      ]
     },
     "execution_count": 1901,
     "metadata": {},
     "output_type": "execute_result"
    }
   ],
   "source": [
    "df.groupby(['offer id'])[['amount']].sum()"
   ]
  },
  {
   "cell_type": "markdown",
   "metadata": {},
   "source": [
    "**B**: standalone purchases"
   ]
  },
  {
   "cell_type": "code",
   "execution_count": 1902,
   "metadata": {},
   "outputs": [],
   "source": [
    "# standalone transactions\n",
    "df.loc[((df['event'] == 'transaction') & (df['offer id'] == 'unknown')), 'keep']=1"
   ]
  },
  {
   "cell_type": "code",
   "execution_count": 1903,
   "metadata": {},
   "outputs": [
    {
     "data": {
      "text/html": [
       "<div>\n",
       "<style scoped>\n",
       "    .dataframe tbody tr th:only-of-type {\n",
       "        vertical-align: middle;\n",
       "    }\n",
       "\n",
       "    .dataframe tbody tr th {\n",
       "        vertical-align: top;\n",
       "    }\n",
       "\n",
       "    .dataframe thead th {\n",
       "        text-align: right;\n",
       "    }\n",
       "</style>\n",
       "<table border=\"1\" class=\"dataframe\">\n",
       "  <thead>\n",
       "    <tr style=\"text-align: right;\">\n",
       "      <th></th>\n",
       "      <th>amount</th>\n",
       "    </tr>\n",
       "    <tr>\n",
       "      <th>offer id</th>\n",
       "      <th></th>\n",
       "    </tr>\n",
       "  </thead>\n",
       "  <tbody>\n",
       "    <tr>\n",
       "      <th>0b1e1539f2cc45b7b9fa7c272da2e1d7</th>\n",
       "      <td>28751.25</td>\n",
       "    </tr>\n",
       "    <tr>\n",
       "      <th>2298d6c36e964ae4a3e7e9706d1fb8c2</th>\n",
       "      <td>73436.90</td>\n",
       "    </tr>\n",
       "    <tr>\n",
       "      <th>2906b810c7d4411798c6938adc9daaa5</th>\n",
       "      <td>44489.37</td>\n",
       "    </tr>\n",
       "    <tr>\n",
       "      <th>3f207df678b143eea3cee63160fa8bed</th>\n",
       "      <td>41570.44</td>\n",
       "    </tr>\n",
       "    <tr>\n",
       "      <th>4d5c57ea9a6940dd891ad53e9dbe8da0</th>\n",
       "      <td>74086.75</td>\n",
       "    </tr>\n",
       "    <tr>\n",
       "      <th>5a8bc65990b245e5a138643cd4eb9837</th>\n",
       "      <td>56366.03</td>\n",
       "    </tr>\n",
       "    <tr>\n",
       "      <th>9b98b8c7a33c4b65b9aebfe6a799e6d9</th>\n",
       "      <td>40508.39</td>\n",
       "    </tr>\n",
       "    <tr>\n",
       "      <th>ae264e3637204a6fb9bb56bc8210ddfd</th>\n",
       "      <td>67846.79</td>\n",
       "    </tr>\n",
       "    <tr>\n",
       "      <th>f19421c1d4aa40978ebb69ca19b0e20d</th>\n",
       "      <td>76680.05</td>\n",
       "    </tr>\n",
       "    <tr>\n",
       "      <th>fafdcd668e3743c1bb461111dcafc2a4</th>\n",
       "      <td>80813.26</td>\n",
       "    </tr>\n",
       "    <tr>\n",
       "      <th>unknown</th>\n",
       "      <td>1190902.74</td>\n",
       "    </tr>\n",
       "  </tbody>\n",
       "</table>\n",
       "</div>"
      ],
      "text/plain": [
       "                                      amount\n",
       "offer id                                    \n",
       "0b1e1539f2cc45b7b9fa7c272da2e1d7    28751.25\n",
       "2298d6c36e964ae4a3e7e9706d1fb8c2    73436.90\n",
       "2906b810c7d4411798c6938adc9daaa5    44489.37\n",
       "3f207df678b143eea3cee63160fa8bed    41570.44\n",
       "4d5c57ea9a6940dd891ad53e9dbe8da0    74086.75\n",
       "5a8bc65990b245e5a138643cd4eb9837    56366.03\n",
       "9b98b8c7a33c4b65b9aebfe6a799e6d9    40508.39\n",
       "ae264e3637204a6fb9bb56bc8210ddfd    67846.79\n",
       "f19421c1d4aa40978ebb69ca19b0e20d    76680.05\n",
       "fafdcd668e3743c1bb461111dcafc2a4    80813.26\n",
       "unknown                           1190902.74"
      ]
     },
     "execution_count": 1903,
     "metadata": {},
     "output_type": "execute_result"
    }
   ],
   "source": [
    "df.groupby(['offer id'])[['amount']].sum()"
   ]
  },
  {
   "cell_type": "markdown",
   "metadata": {},
   "source": [
    "**C** & **D**\n",
    "* shift(-1) to check if there is a \"transaction\" or \"order completed\" event follows an \"offer received\". "
   ]
  },
  {
   "cell_type": "code",
   "execution_count": 1904,
   "metadata": {},
   "outputs": [],
   "source": [
    "df['post_event']=df[((df['event']=='offer received') | (df['event']=='transaction') |(df['event']=='offer completed'))].sort_values(['time', 'event']).groupby(['person', 'offer id'])['event'].shift(-1)\n",
    "df['post_id']=df[((df['event']=='offer received') | (df['event']=='transaction') |(df['event']=='offer completed'))].sort_values(['time', 'event']).groupby(['person', 'offer id'])['offer id'].shift(-1)\n",
    "\n",
    "df['post_driven']=df[((df['event']=='offer received') | (df['event']=='transaction')  |(df['event']=='offer completed'))].sort_values(['time', 'event']).groupby(['person', 'offer id'])['offer_driven'].shift(-1)\n",
    "df['post_irrelevant']=df[((df['event']=='offer received') | (df['event']=='transaction') |(df['event']=='offer completed'))].sort_values(['time', 'event']).groupby(['person', 'offer id'])['offer_irrelevant'].shift(-1)\n",
    "\n",
    "df['post_amount']=df[((df['event']=='offer received') | (df['event']=='transaction')  |(df['event']=='offer completed'))].sort_values(['time', 'event']).groupby(['person', 'offer id'])['amount'].shift(-1)\n"
   ]
  },
  {
   "cell_type": "code",
   "execution_count": 1905,
   "metadata": {},
   "outputs": [
    {
     "data": {
      "text/html": [
       "<div>\n",
       "<style scoped>\n",
       "    .dataframe tbody tr th:only-of-type {\n",
       "        vertical-align: middle;\n",
       "    }\n",
       "\n",
       "    .dataframe tbody tr th {\n",
       "        vertical-align: top;\n",
       "    }\n",
       "\n",
       "    .dataframe thead th {\n",
       "        text-align: right;\n",
       "    }\n",
       "</style>\n",
       "<table border=\"1\" class=\"dataframe\">\n",
       "  <thead>\n",
       "    <tr style=\"text-align: right;\">\n",
       "      <th></th>\n",
       "      <th>keep</th>\n",
       "      <th>time</th>\n",
       "      <th>event</th>\n",
       "      <th>pre_event</th>\n",
       "      <th>offer id</th>\n",
       "      <th>post_id</th>\n",
       "      <th>offer_driven</th>\n",
       "      <th>offer_irrelevant</th>\n",
       "      <th>amount</th>\n",
       "      <th>post_driven</th>\n",
       "      <th>post_irrelevant</th>\n",
       "      <th>post_amount</th>\n",
       "    </tr>\n",
       "  </thead>\n",
       "  <tbody>\n",
       "    <tr>\n",
       "      <th>127716</th>\n",
       "      <td>1</td>\n",
       "      <td>336</td>\n",
       "      <td>offer received</td>\n",
       "      <td>NaN</td>\n",
       "      <td>0b1e1539f2cc45b7b9fa7c272da2e1d7</td>\n",
       "      <td>0b1e1539f2cc45b7b9fa7c272da2e1d7</td>\n",
       "      <td>0</td>\n",
       "      <td>0</td>\n",
       "      <td>0.00</td>\n",
       "      <td>0.0</td>\n",
       "      <td>0.0</td>\n",
       "      <td>0.00</td>\n",
       "    </tr>\n",
       "    <tr>\n",
       "      <th>127717</th>\n",
       "      <td>0</td>\n",
       "      <td>354</td>\n",
       "      <td>offer viewed</td>\n",
       "      <td>NaN</td>\n",
       "      <td>0b1e1539f2cc45b7b9fa7c272da2e1d7</td>\n",
       "      <td>NaN</td>\n",
       "      <td>0</td>\n",
       "      <td>0</td>\n",
       "      <td>0.00</td>\n",
       "      <td>NaN</td>\n",
       "      <td>NaN</td>\n",
       "      <td>NaN</td>\n",
       "    </tr>\n",
       "    <tr>\n",
       "      <th>127718</th>\n",
       "      <td>1</td>\n",
       "      <td>408</td>\n",
       "      <td>offer received</td>\n",
       "      <td>NaN</td>\n",
       "      <td>0b1e1539f2cc45b7b9fa7c272da2e1d7</td>\n",
       "      <td>0b1e1539f2cc45b7b9fa7c272da2e1d7</td>\n",
       "      <td>0</td>\n",
       "      <td>0</td>\n",
       "      <td>0.00</td>\n",
       "      <td>1.0</td>\n",
       "      <td>0.0</td>\n",
       "      <td>15.75</td>\n",
       "    </tr>\n",
       "    <tr>\n",
       "      <th>127720</th>\n",
       "      <td>0</td>\n",
       "      <td>492</td>\n",
       "      <td>offer completed</td>\n",
       "      <td>transaction</td>\n",
       "      <td>0b1e1539f2cc45b7b9fa7c272da2e1d7</td>\n",
       "      <td>0b1e1539f2cc45b7b9fa7c272da2e1d7</td>\n",
       "      <td>1</td>\n",
       "      <td>0</td>\n",
       "      <td>15.75</td>\n",
       "      <td>1.0</td>\n",
       "      <td>0.0</td>\n",
       "      <td>14.24</td>\n",
       "    </tr>\n",
       "    <tr>\n",
       "      <th>127721</th>\n",
       "      <td>0</td>\n",
       "      <td>516</td>\n",
       "      <td>offer viewed</td>\n",
       "      <td>NaN</td>\n",
       "      <td>0b1e1539f2cc45b7b9fa7c272da2e1d7</td>\n",
       "      <td>NaN</td>\n",
       "      <td>0</td>\n",
       "      <td>0</td>\n",
       "      <td>0.00</td>\n",
       "      <td>NaN</td>\n",
       "      <td>NaN</td>\n",
       "      <td>NaN</td>\n",
       "    </tr>\n",
       "    <tr>\n",
       "      <th>127722</th>\n",
       "      <td>0</td>\n",
       "      <td>564</td>\n",
       "      <td>offer completed</td>\n",
       "      <td>transaction</td>\n",
       "      <td>0b1e1539f2cc45b7b9fa7c272da2e1d7</td>\n",
       "      <td>NaN</td>\n",
       "      <td>1</td>\n",
       "      <td>0</td>\n",
       "      <td>14.24</td>\n",
       "      <td>NaN</td>\n",
       "      <td>NaN</td>\n",
       "      <td>NaN</td>\n",
       "    </tr>\n",
       "  </tbody>\n",
       "</table>\n",
       "</div>"
      ],
      "text/plain": [
       "        keep  time            event    pre_event  \\\n",
       "127716     1   336   offer received          NaN   \n",
       "127717     0   354     offer viewed          NaN   \n",
       "127718     1   408   offer received          NaN   \n",
       "127720     0   492  offer completed  transaction   \n",
       "127721     0   516     offer viewed          NaN   \n",
       "127722     0   564  offer completed  transaction   \n",
       "\n",
       "                                offer id                           post_id  \\\n",
       "127716  0b1e1539f2cc45b7b9fa7c272da2e1d7  0b1e1539f2cc45b7b9fa7c272da2e1d7   \n",
       "127717  0b1e1539f2cc45b7b9fa7c272da2e1d7                               NaN   \n",
       "127718  0b1e1539f2cc45b7b9fa7c272da2e1d7  0b1e1539f2cc45b7b9fa7c272da2e1d7   \n",
       "127720  0b1e1539f2cc45b7b9fa7c272da2e1d7  0b1e1539f2cc45b7b9fa7c272da2e1d7   \n",
       "127721  0b1e1539f2cc45b7b9fa7c272da2e1d7                               NaN   \n",
       "127722  0b1e1539f2cc45b7b9fa7c272da2e1d7                               NaN   \n",
       "\n",
       "        offer_driven  offer_irrelevant  amount  post_driven  post_irrelevant  \\\n",
       "127716             0                 0    0.00          0.0              0.0   \n",
       "127717             0                 0    0.00          NaN              NaN   \n",
       "127718             0                 0    0.00          1.0              0.0   \n",
       "127720             1                 0   15.75          1.0              0.0   \n",
       "127721             0                 0    0.00          NaN              NaN   \n",
       "127722             1                 0   14.24          NaN              NaN   \n",
       "\n",
       "        post_amount  \n",
       "127716         0.00  \n",
       "127717          NaN  \n",
       "127718        15.75  \n",
       "127720        14.24  \n",
       "127721          NaN  \n",
       "127722          NaN  "
      ]
     },
     "execution_count": 1905,
     "metadata": {},
     "output_type": "execute_result"
    }
   ],
   "source": [
    "df[(df['offer id']=='0b1e1539f2cc45b7b9fa7c272da2e1d7')& (df['person']=='072731be403a472883bed6c38a8e7aa8')][['keep','time','event', 'pre_event', 'offer id', 'post_id',  'offer_driven', 'offer_irrelevant','amount', 'post_driven', 'post_irrelevant','post_amount']]\n",
    "\n"
   ]
  },
  {
   "cell_type": "code",
   "execution_count": 1906,
   "metadata": {},
   "outputs": [],
   "source": [
    "# # flag offer related purchases on \"offer receive event\"\n",
    "# df.loc[(df['event']=='offer received') & ( (~((df['post_event']=='offer completed') | (df['post_event']=='transaction'))) | (df['offer id'] != df['post_id'])), 'keep']=1\n"
   ]
  },
  {
   "cell_type": "markdown",
   "metadata": {},
   "source": [
    "**C**: active customer, \"offer received\", has transactions\n",
    "* \"offer received\" is followed by a \"transaction\" or \"order completed\" event with the same \"offer id\""
   ]
  },
  {
   "cell_type": "code",
   "execution_count": 1907,
   "metadata": {},
   "outputs": [],
   "source": [
    "\n",
    "# flag offer related purchases on \"offer receive event\" and copy the transaction amount to 'offer received event'\n",
    "# df.loc[(df['event']=='offer received') & ((df['post_event']=='offer completed') | (df['post_event']=='transaction')) & (df['offer id'] == df['post_id']), ['offer_irrelevant','offer_driven', 'amount']]=df[(df['event']=='offer received') & ((df['post_event']=='offer completed') | (df['post_event']=='transaction')) & (df['offer id'] == df['post_id'])][['post_irrelevant', 'post_driven', 'post_amount']]\n",
    "\n",
    "# offer received --> offer completed (including offer received --> transaction --> offer completed)\n",
    "# offer received --> transaction\n",
    "\n",
    "# mark those records as records to \"keep\"\n",
    "df.loc[(df['event']=='offer received') & ((df['post_event']=='offer completed') | (df['post_event']=='transaction')) & (df['offer id'] == df['post_id']), 'keep']=1\n",
    "\n",
    "\n",
    "df.loc[(df['event']=='offer received') & ((df['post_event']=='offer completed') | (df['post_event']=='transaction')) & (df['offer id'] == df['post_id']), 'offer_irrelevant']=df[(df['event']=='offer received') & ((df['post_event']=='offer completed') | (df['post_event']=='transaction')) & (df['offer id'] == df['post_id'])]['post_irrelevant']\n",
    "df.loc[(df['event']=='offer received') & ((df['post_event']=='offer completed') | (df['post_event']=='transaction')) & (df['offer id'] == df['post_id']), 'offer_driven']=df[(df['event']=='offer received') & ((df['post_event']=='offer completed') | (df['post_event']=='transaction')) & (df['offer id'] == df['post_id'])]['post_driven']\n",
    "df.loc[(df['event']=='offer received') & ((df['post_event']=='offer completed') | (df['post_event']=='transaction')) & (df['offer id'] == df['post_id']), 'amount']=df[(df['event']=='offer received') & ((df['post_event']=='offer completed') | (df['post_event']=='transaction')) & (df['offer id'] == df['post_id'])]['post_amount']\n",
    "\n"
   ]
  },
  {
   "cell_type": "code",
   "execution_count": 1910,
   "metadata": {},
   "outputs": [],
   "source": [
    "# df.loc[(df['event']=='offer received') & (df['pre_event']=='offer completed') & (df['offer id'] == df['pre_id']), 'keep']=1"
   ]
  },
  {
   "cell_type": "code",
   "execution_count": 1911,
   "metadata": {},
   "outputs": [
    {
     "data": {
      "text/html": [
       "<div>\n",
       "<style scoped>\n",
       "    .dataframe tbody tr th:only-of-type {\n",
       "        vertical-align: middle;\n",
       "    }\n",
       "\n",
       "    .dataframe tbody tr th {\n",
       "        vertical-align: top;\n",
       "    }\n",
       "\n",
       "    .dataframe thead th {\n",
       "        text-align: right;\n",
       "    }\n",
       "</style>\n",
       "<table border=\"1\" class=\"dataframe\">\n",
       "  <thead>\n",
       "    <tr style=\"text-align: right;\">\n",
       "      <th></th>\n",
       "      <th>keep</th>\n",
       "      <th>time</th>\n",
       "      <th>event</th>\n",
       "      <th>pre_event</th>\n",
       "      <th>offer id</th>\n",
       "      <th>post_id</th>\n",
       "      <th>offer_driven</th>\n",
       "      <th>offer_irrelevant</th>\n",
       "      <th>amount</th>\n",
       "      <th>post_driven</th>\n",
       "      <th>post_irrelevant</th>\n",
       "      <th>post_amount</th>\n",
       "    </tr>\n",
       "  </thead>\n",
       "  <tbody>\n",
       "    <tr>\n",
       "      <th>127716</th>\n",
       "      <td>1</td>\n",
       "      <td>336</td>\n",
       "      <td>offer received</td>\n",
       "      <td>NaN</td>\n",
       "      <td>0b1e1539f2cc45b7b9fa7c272da2e1d7</td>\n",
       "      <td>0b1e1539f2cc45b7b9fa7c272da2e1d7</td>\n",
       "      <td>0.0</td>\n",
       "      <td>0.0</td>\n",
       "      <td>0.00</td>\n",
       "      <td>0.0</td>\n",
       "      <td>0.0</td>\n",
       "      <td>0.00</td>\n",
       "    </tr>\n",
       "    <tr>\n",
       "      <th>127717</th>\n",
       "      <td>0</td>\n",
       "      <td>354</td>\n",
       "      <td>offer viewed</td>\n",
       "      <td>NaN</td>\n",
       "      <td>0b1e1539f2cc45b7b9fa7c272da2e1d7</td>\n",
       "      <td>NaN</td>\n",
       "      <td>0.0</td>\n",
       "      <td>0.0</td>\n",
       "      <td>0.00</td>\n",
       "      <td>NaN</td>\n",
       "      <td>NaN</td>\n",
       "      <td>NaN</td>\n",
       "    </tr>\n",
       "    <tr>\n",
       "      <th>127718</th>\n",
       "      <td>1</td>\n",
       "      <td>408</td>\n",
       "      <td>offer received</td>\n",
       "      <td>NaN</td>\n",
       "      <td>0b1e1539f2cc45b7b9fa7c272da2e1d7</td>\n",
       "      <td>0b1e1539f2cc45b7b9fa7c272da2e1d7</td>\n",
       "      <td>1.0</td>\n",
       "      <td>0.0</td>\n",
       "      <td>15.75</td>\n",
       "      <td>1.0</td>\n",
       "      <td>0.0</td>\n",
       "      <td>15.75</td>\n",
       "    </tr>\n",
       "    <tr>\n",
       "      <th>127720</th>\n",
       "      <td>0</td>\n",
       "      <td>492</td>\n",
       "      <td>offer completed</td>\n",
       "      <td>transaction</td>\n",
       "      <td>0b1e1539f2cc45b7b9fa7c272da2e1d7</td>\n",
       "      <td>0b1e1539f2cc45b7b9fa7c272da2e1d7</td>\n",
       "      <td>1.0</td>\n",
       "      <td>0.0</td>\n",
       "      <td>15.75</td>\n",
       "      <td>1.0</td>\n",
       "      <td>0.0</td>\n",
       "      <td>14.24</td>\n",
       "    </tr>\n",
       "    <tr>\n",
       "      <th>127721</th>\n",
       "      <td>0</td>\n",
       "      <td>516</td>\n",
       "      <td>offer viewed</td>\n",
       "      <td>NaN</td>\n",
       "      <td>0b1e1539f2cc45b7b9fa7c272da2e1d7</td>\n",
       "      <td>NaN</td>\n",
       "      <td>0.0</td>\n",
       "      <td>0.0</td>\n",
       "      <td>0.00</td>\n",
       "      <td>NaN</td>\n",
       "      <td>NaN</td>\n",
       "      <td>NaN</td>\n",
       "    </tr>\n",
       "    <tr>\n",
       "      <th>127722</th>\n",
       "      <td>0</td>\n",
       "      <td>564</td>\n",
       "      <td>offer completed</td>\n",
       "      <td>transaction</td>\n",
       "      <td>0b1e1539f2cc45b7b9fa7c272da2e1d7</td>\n",
       "      <td>NaN</td>\n",
       "      <td>1.0</td>\n",
       "      <td>0.0</td>\n",
       "      <td>14.24</td>\n",
       "      <td>NaN</td>\n",
       "      <td>NaN</td>\n",
       "      <td>NaN</td>\n",
       "    </tr>\n",
       "  </tbody>\n",
       "</table>\n",
       "</div>"
      ],
      "text/plain": [
       "        keep  time            event    pre_event  \\\n",
       "127716     1   336   offer received          NaN   \n",
       "127717     0   354     offer viewed          NaN   \n",
       "127718     1   408   offer received          NaN   \n",
       "127720     0   492  offer completed  transaction   \n",
       "127721     0   516     offer viewed          NaN   \n",
       "127722     0   564  offer completed  transaction   \n",
       "\n",
       "                                offer id                           post_id  \\\n",
       "127716  0b1e1539f2cc45b7b9fa7c272da2e1d7  0b1e1539f2cc45b7b9fa7c272da2e1d7   \n",
       "127717  0b1e1539f2cc45b7b9fa7c272da2e1d7                               NaN   \n",
       "127718  0b1e1539f2cc45b7b9fa7c272da2e1d7  0b1e1539f2cc45b7b9fa7c272da2e1d7   \n",
       "127720  0b1e1539f2cc45b7b9fa7c272da2e1d7  0b1e1539f2cc45b7b9fa7c272da2e1d7   \n",
       "127721  0b1e1539f2cc45b7b9fa7c272da2e1d7                               NaN   \n",
       "127722  0b1e1539f2cc45b7b9fa7c272da2e1d7                               NaN   \n",
       "\n",
       "        offer_driven  offer_irrelevant  amount  post_driven  post_irrelevant  \\\n",
       "127716           0.0               0.0    0.00          0.0              0.0   \n",
       "127717           0.0               0.0    0.00          NaN              NaN   \n",
       "127718           1.0               0.0   15.75          1.0              0.0   \n",
       "127720           1.0               0.0   15.75          1.0              0.0   \n",
       "127721           0.0               0.0    0.00          NaN              NaN   \n",
       "127722           1.0               0.0   14.24          NaN              NaN   \n",
       "\n",
       "        post_amount  \n",
       "127716         0.00  \n",
       "127717          NaN  \n",
       "127718        15.75  \n",
       "127720        14.24  \n",
       "127721          NaN  \n",
       "127722          NaN  "
      ]
     },
     "execution_count": 1911,
     "metadata": {},
     "output_type": "execute_result"
    }
   ],
   "source": [
    "df[(df['offer id']=='0b1e1539f2cc45b7b9fa7c272da2e1d7')& (df['person']=='072731be403a472883bed6c38a8e7aa8')][['keep','time','event', 'pre_event', 'offer id', 'post_id',  'offer_driven', 'offer_irrelevant','amount', 'post_driven', 'post_irrelevant','post_amount']]\n",
    "\n"
   ]
  },
  {
   "cell_type": "markdown",
   "metadata": {},
   "source": [
    "#### other type of transactions that not happening with right order, but already marked with \"offer_driven\" or \"offer_irrelevant\""
   ]
  },
  {
   "cell_type": "code",
   "execution_count": 1912,
   "metadata": {},
   "outputs": [],
   "source": [
    "# offer received --> offer completed  --> transaction\n",
    "df['pre_event']=df[((df['event']=='offer received') | (df['event']=='transaction') |(df['event']=='offer completed'))].sort_values(['time', 'event']).groupby(['person', 'offer id'])['event'].shift(1)\n",
    "df['pre_id']=df[((df['event']=='offer received') | (df['event']=='transaction') |(df['event']=='offer completed'))].sort_values(['time', 'event']).groupby(['person', 'offer id'])['offer id'].shift(1)\n",
    "\n",
    "df.loc[(df['event']==\"transaction\") & (df['pre_event']==\"offer completed\") & (df['keep']==0) & ((df['offer_driven']==1)|(df['offer_irrelevant']==1)), 'keep']=1\n"
   ]
  },
  {
   "cell_type": "markdown",
   "metadata": {},
   "source": [
    "offer completed happens between two offer received events: offer recieved --> offer received --> offer completed --> offer completed"
   ]
  },
  {
   "cell_type": "code",
   "execution_count": 1913,
   "metadata": {},
   "outputs": [],
   "source": [
    "df['pre_event']=df[((df['event']=='offer received') |(df['event']=='offer completed'))].sort_values(['time', 'event']).groupby(['person', 'offer id'])['event'].shift(1)\n",
    "df['pre_id']=df[((df['event']=='offer received') |(df['event']=='offer completed'))].sort_values(['time', 'event']).groupby(['person', 'offer id'])['offer id'].shift(1)\n",
    "\n",
    "df.loc[(df['event']==\"offer completed\") & (df['pre_event']==\"offer completed\") & (df['offer id']==df['pre_id']), 'keep']=1\n"
   ]
  },
  {
   "cell_type": "code",
   "execution_count": 1914,
   "metadata": {},
   "outputs": [
    {
     "data": {
      "text/html": [
       "<div>\n",
       "<style scoped>\n",
       "    .dataframe tbody tr th:only-of-type {\n",
       "        vertical-align: middle;\n",
       "    }\n",
       "\n",
       "    .dataframe tbody tr th {\n",
       "        vertical-align: top;\n",
       "    }\n",
       "\n",
       "    .dataframe thead th {\n",
       "        text-align: right;\n",
       "    }\n",
       "</style>\n",
       "<table border=\"1\" class=\"dataframe\">\n",
       "  <thead>\n",
       "    <tr style=\"text-align: right;\">\n",
       "      <th></th>\n",
       "      <th>keep</th>\n",
       "      <th>time</th>\n",
       "      <th>event</th>\n",
       "      <th>pre_event</th>\n",
       "      <th>offer id</th>\n",
       "      <th>post_event</th>\n",
       "      <th>offer_driven</th>\n",
       "      <th>offer_irrelevant</th>\n",
       "      <th>amount</th>\n",
       "      <th>post_driven</th>\n",
       "      <th>post_irrelevant</th>\n",
       "      <th>post_amount</th>\n",
       "    </tr>\n",
       "  </thead>\n",
       "  <tbody>\n",
       "    <tr>\n",
       "      <th>127716</th>\n",
       "      <td>1</td>\n",
       "      <td>336</td>\n",
       "      <td>offer received</td>\n",
       "      <td>NaN</td>\n",
       "      <td>0b1e1539f2cc45b7b9fa7c272da2e1d7</td>\n",
       "      <td>offer received</td>\n",
       "      <td>0.0</td>\n",
       "      <td>0.0</td>\n",
       "      <td>0.00</td>\n",
       "      <td>0.0</td>\n",
       "      <td>0.0</td>\n",
       "      <td>0.00</td>\n",
       "    </tr>\n",
       "    <tr>\n",
       "      <th>127717</th>\n",
       "      <td>0</td>\n",
       "      <td>354</td>\n",
       "      <td>offer viewed</td>\n",
       "      <td>NaN</td>\n",
       "      <td>0b1e1539f2cc45b7b9fa7c272da2e1d7</td>\n",
       "      <td>NaN</td>\n",
       "      <td>0.0</td>\n",
       "      <td>0.0</td>\n",
       "      <td>0.00</td>\n",
       "      <td>NaN</td>\n",
       "      <td>NaN</td>\n",
       "      <td>NaN</td>\n",
       "    </tr>\n",
       "    <tr>\n",
       "      <th>127718</th>\n",
       "      <td>1</td>\n",
       "      <td>408</td>\n",
       "      <td>offer received</td>\n",
       "      <td>offer received</td>\n",
       "      <td>0b1e1539f2cc45b7b9fa7c272da2e1d7</td>\n",
       "      <td>offer completed</td>\n",
       "      <td>1.0</td>\n",
       "      <td>0.0</td>\n",
       "      <td>15.75</td>\n",
       "      <td>1.0</td>\n",
       "      <td>0.0</td>\n",
       "      <td>15.75</td>\n",
       "    </tr>\n",
       "    <tr>\n",
       "      <th>127720</th>\n",
       "      <td>0</td>\n",
       "      <td>492</td>\n",
       "      <td>offer completed</td>\n",
       "      <td>offer received</td>\n",
       "      <td>0b1e1539f2cc45b7b9fa7c272da2e1d7</td>\n",
       "      <td>offer completed</td>\n",
       "      <td>1.0</td>\n",
       "      <td>0.0</td>\n",
       "      <td>15.75</td>\n",
       "      <td>1.0</td>\n",
       "      <td>0.0</td>\n",
       "      <td>14.24</td>\n",
       "    </tr>\n",
       "    <tr>\n",
       "      <th>127721</th>\n",
       "      <td>0</td>\n",
       "      <td>516</td>\n",
       "      <td>offer viewed</td>\n",
       "      <td>NaN</td>\n",
       "      <td>0b1e1539f2cc45b7b9fa7c272da2e1d7</td>\n",
       "      <td>NaN</td>\n",
       "      <td>0.0</td>\n",
       "      <td>0.0</td>\n",
       "      <td>0.00</td>\n",
       "      <td>NaN</td>\n",
       "      <td>NaN</td>\n",
       "      <td>NaN</td>\n",
       "    </tr>\n",
       "    <tr>\n",
       "      <th>127722</th>\n",
       "      <td>1</td>\n",
       "      <td>564</td>\n",
       "      <td>offer completed</td>\n",
       "      <td>offer completed</td>\n",
       "      <td>0b1e1539f2cc45b7b9fa7c272da2e1d7</td>\n",
       "      <td>NaN</td>\n",
       "      <td>1.0</td>\n",
       "      <td>0.0</td>\n",
       "      <td>14.24</td>\n",
       "      <td>NaN</td>\n",
       "      <td>NaN</td>\n",
       "      <td>NaN</td>\n",
       "    </tr>\n",
       "  </tbody>\n",
       "</table>\n",
       "</div>"
      ],
      "text/plain": [
       "        keep  time            event        pre_event  \\\n",
       "127716     1   336   offer received              NaN   \n",
       "127717     0   354     offer viewed              NaN   \n",
       "127718     1   408   offer received   offer received   \n",
       "127720     0   492  offer completed   offer received   \n",
       "127721     0   516     offer viewed              NaN   \n",
       "127722     1   564  offer completed  offer completed   \n",
       "\n",
       "                                offer id       post_event  offer_driven  \\\n",
       "127716  0b1e1539f2cc45b7b9fa7c272da2e1d7   offer received           0.0   \n",
       "127717  0b1e1539f2cc45b7b9fa7c272da2e1d7              NaN           0.0   \n",
       "127718  0b1e1539f2cc45b7b9fa7c272da2e1d7  offer completed           1.0   \n",
       "127720  0b1e1539f2cc45b7b9fa7c272da2e1d7  offer completed           1.0   \n",
       "127721  0b1e1539f2cc45b7b9fa7c272da2e1d7              NaN           0.0   \n",
       "127722  0b1e1539f2cc45b7b9fa7c272da2e1d7              NaN           1.0   \n",
       "\n",
       "        offer_irrelevant  amount  post_driven  post_irrelevant  post_amount  \n",
       "127716               0.0    0.00          0.0              0.0         0.00  \n",
       "127717               0.0    0.00          NaN              NaN          NaN  \n",
       "127718               0.0   15.75          1.0              0.0        15.75  \n",
       "127720               0.0   15.75          1.0              0.0        14.24  \n",
       "127721               0.0    0.00          NaN              NaN          NaN  \n",
       "127722               0.0   14.24          NaN              NaN          NaN  "
      ]
     },
     "execution_count": 1914,
     "metadata": {},
     "output_type": "execute_result"
    }
   ],
   "source": [
    "df[(df['offer id']=='0b1e1539f2cc45b7b9fa7c272da2e1d7')& (df['person']=='072731be403a472883bed6c38a8e7aa8')][['keep','time','event', 'pre_event', 'offer id', 'post_event',  'offer_driven', 'offer_irrelevant','amount', 'post_driven', 'post_irrelevant','post_amount']]\n"
   ]
  },
  {
   "cell_type": "markdown",
   "metadata": {},
   "source": [
    "### Dataset Clean"
   ]
  },
  {
   "cell_type": "code",
   "execution_count": 1915,
   "metadata": {},
   "outputs": [
    {
     "name": "stdout",
     "output_type": "stream",
     "text": [
      "284498 records before cleaning. 176043 records after cleaning\n"
     ]
    }
   ],
   "source": [
    "n_pre_record=df.shape[0]\n",
    "df=df[(df['keep']==1)]\n",
    "print(\"{} records before cleaning. {} records after cleaning\".format(n_pre_record,df.shape[0]))"
   ]
  },
  {
   "cell_type": "markdown",
   "metadata": {},
   "source": [
    "## Comparison\n",
    "df\n",
    "\n",
    "df0"
   ]
  },
  {
   "cell_type": "code",
   "execution_count": 1916,
   "metadata": {},
   "outputs": [
    {
     "data": {
      "text/plain": [
       "offer id\n",
       "0b1e1539f2cc45b7b9fa7c272da2e1d7    28751.25\n",
       "2298d6c36e964ae4a3e7e9706d1fb8c2    73436.90\n",
       "2906b810c7d4411798c6938adc9daaa5    44489.37\n",
       "3f207df678b143eea3cee63160fa8bed    41570.44\n",
       "4d5c57ea9a6940dd891ad53e9dbe8da0    74086.75\n",
       "5a8bc65990b245e5a138643cd4eb9837    56366.03\n",
       "9b98b8c7a33c4b65b9aebfe6a799e6d9    40508.39\n",
       "ae264e3637204a6fb9bb56bc8210ddfd    67846.79\n",
       "f19421c1d4aa40978ebb69ca19b0e20d    76680.05\n",
       "fafdcd668e3743c1bb461111dcafc2a4    80813.26\n",
       "Name: amount, dtype: float64"
      ]
     },
     "execution_count": 1916,
     "metadata": {},
     "output_type": "execute_result"
    }
   ],
   "source": [
    "df[df['offer id']!='unknown'].groupby('offer id')['amount'].sum()"
   ]
  },
  {
   "cell_type": "code",
   "execution_count": 1917,
   "metadata": {},
   "outputs": [
    {
     "data": {
      "text/plain": [
       "offer id\n",
       "0b1e1539f2cc45b7b9fa7c272da2e1d7    28751.25\n",
       "2298d6c36e964ae4a3e7e9706d1fb8c2    73436.90\n",
       "2906b810c7d4411798c6938adc9daaa5    44489.37\n",
       "3f207df678b143eea3cee63160fa8bed    41570.44\n",
       "4d5c57ea9a6940dd891ad53e9dbe8da0    74086.75\n",
       "5a8bc65990b245e5a138643cd4eb9837    56366.03\n",
       "9b98b8c7a33c4b65b9aebfe6a799e6d9    40508.39\n",
       "ae264e3637204a6fb9bb56bc8210ddfd    67846.79\n",
       "f19421c1d4aa40978ebb69ca19b0e20d    76680.05\n",
       "fafdcd668e3743c1bb461111dcafc2a4    80813.26\n",
       "Name: amount, dtype: float64"
      ]
     },
     "execution_count": 1917,
     "metadata": {},
     "output_type": "execute_result"
    }
   ],
   "source": [
    "df0[df0['offer id']!='unknown'].groupby('offer id')['amount'].sum()"
   ]
  },
  {
   "cell_type": "code",
   "execution_count": 1918,
   "metadata": {},
   "outputs": [],
   "source": [
    "a=set(df.index.to_list())\n",
    "b=set(df0.index.to_list())\n",
    "b-a;"
   ]
  },
  {
   "cell_type": "code",
   "execution_count": 1919,
   "metadata": {},
   "outputs": [],
   "source": [
    "A=df[(df['offer id']=='0b1e1539f2cc45b7b9fa7c272da2e1d7') & (df['amount']>0)].groupby('person')['amount'].sum()"
   ]
  },
  {
   "cell_type": "code",
   "execution_count": 1922,
   "metadata": {},
   "outputs": [],
   "source": [
    "B=df0[(df0['offer id']=='0b1e1539f2cc45b7b9fa7c272da2e1d7') & (df0['amount']>0)].groupby('person')['amount'].sum()"
   ]
  },
  {
   "cell_type": "code",
   "execution_count": 1923,
   "metadata": {},
   "outputs": [
    {
     "data": {
      "text/plain": [
       "Series([], Name: amount, dtype: float64)"
      ]
     },
     "execution_count": 1923,
     "metadata": {},
     "output_type": "execute_result"
    }
   ],
   "source": [
    "A[~A.isin(B.values)]"
   ]
  },
  {
   "cell_type": "code",
   "execution_count": 1924,
   "metadata": {},
   "outputs": [
    {
     "data": {
      "text/html": [
       "<div>\n",
       "<style scoped>\n",
       "    .dataframe tbody tr th:only-of-type {\n",
       "        vertical-align: middle;\n",
       "    }\n",
       "\n",
       "    .dataframe tbody tr th {\n",
       "        vertical-align: top;\n",
       "    }\n",
       "\n",
       "    .dataframe thead th {\n",
       "        text-align: right;\n",
       "    }\n",
       "</style>\n",
       "<table border=\"1\" class=\"dataframe\">\n",
       "  <thead>\n",
       "    <tr style=\"text-align: right;\">\n",
       "      <th></th>\n",
       "      <th>keep</th>\n",
       "      <th>time</th>\n",
       "      <th>event</th>\n",
       "      <th>pre_event</th>\n",
       "      <th>offer id</th>\n",
       "      <th>post_id</th>\n",
       "      <th>offer_driven</th>\n",
       "      <th>offer_irrelevant</th>\n",
       "      <th>amount</th>\n",
       "      <th>post_driven</th>\n",
       "      <th>post_irrelevant</th>\n",
       "      <th>post_amount</th>\n",
       "    </tr>\n",
       "  </thead>\n",
       "  <tbody>\n",
       "    <tr>\n",
       "      <th>127716</th>\n",
       "      <td>1</td>\n",
       "      <td>336</td>\n",
       "      <td>offer received</td>\n",
       "      <td>NaN</td>\n",
       "      <td>0b1e1539f2cc45b7b9fa7c272da2e1d7</td>\n",
       "      <td>0b1e1539f2cc45b7b9fa7c272da2e1d7</td>\n",
       "      <td>0.0</td>\n",
       "      <td>0.0</td>\n",
       "      <td>0.00</td>\n",
       "      <td>0.0</td>\n",
       "      <td>0.0</td>\n",
       "      <td>0.00</td>\n",
       "    </tr>\n",
       "    <tr>\n",
       "      <th>127718</th>\n",
       "      <td>1</td>\n",
       "      <td>408</td>\n",
       "      <td>offer received</td>\n",
       "      <td>offer received</td>\n",
       "      <td>0b1e1539f2cc45b7b9fa7c272da2e1d7</td>\n",
       "      <td>0b1e1539f2cc45b7b9fa7c272da2e1d7</td>\n",
       "      <td>1.0</td>\n",
       "      <td>0.0</td>\n",
       "      <td>15.75</td>\n",
       "      <td>1.0</td>\n",
       "      <td>0.0</td>\n",
       "      <td>15.75</td>\n",
       "    </tr>\n",
       "    <tr>\n",
       "      <th>127722</th>\n",
       "      <td>1</td>\n",
       "      <td>564</td>\n",
       "      <td>offer completed</td>\n",
       "      <td>offer completed</td>\n",
       "      <td>0b1e1539f2cc45b7b9fa7c272da2e1d7</td>\n",
       "      <td>NaN</td>\n",
       "      <td>1.0</td>\n",
       "      <td>0.0</td>\n",
       "      <td>14.24</td>\n",
       "      <td>NaN</td>\n",
       "      <td>NaN</td>\n",
       "      <td>NaN</td>\n",
       "    </tr>\n",
       "  </tbody>\n",
       "</table>\n",
       "</div>"
      ],
      "text/plain": [
       "        keep  time            event        pre_event  \\\n",
       "127716     1   336   offer received              NaN   \n",
       "127718     1   408   offer received   offer received   \n",
       "127722     1   564  offer completed  offer completed   \n",
       "\n",
       "                                offer id                           post_id  \\\n",
       "127716  0b1e1539f2cc45b7b9fa7c272da2e1d7  0b1e1539f2cc45b7b9fa7c272da2e1d7   \n",
       "127718  0b1e1539f2cc45b7b9fa7c272da2e1d7  0b1e1539f2cc45b7b9fa7c272da2e1d7   \n",
       "127722  0b1e1539f2cc45b7b9fa7c272da2e1d7                               NaN   \n",
       "\n",
       "        offer_driven  offer_irrelevant  amount  post_driven  post_irrelevant  \\\n",
       "127716           0.0               0.0    0.00          0.0              0.0   \n",
       "127718           1.0               0.0   15.75          1.0              0.0   \n",
       "127722           1.0               0.0   14.24          NaN              NaN   \n",
       "\n",
       "        post_amount  \n",
       "127716         0.00  \n",
       "127718        15.75  \n",
       "127722          NaN  "
      ]
     },
     "execution_count": 1924,
     "metadata": {},
     "output_type": "execute_result"
    }
   ],
   "source": [
    "df[(df['offer id']=='0b1e1539f2cc45b7b9fa7c272da2e1d7')& (df['person']=='072731be403a472883bed6c38a8e7aa8')][['keep','time','event', 'pre_event', 'offer id', 'post_id',  'offer_driven', 'offer_irrelevant','amount', 'post_driven', 'post_irrelevant','post_amount']]\n"
   ]
  },
  {
   "cell_type": "code",
   "execution_count": 1925,
   "metadata": {},
   "outputs": [
    {
     "data": {
      "text/html": [
       "<div>\n",
       "<style scoped>\n",
       "    .dataframe tbody tr th:only-of-type {\n",
       "        vertical-align: middle;\n",
       "    }\n",
       "\n",
       "    .dataframe tbody tr th {\n",
       "        vertical-align: top;\n",
       "    }\n",
       "\n",
       "    .dataframe thead th {\n",
       "        text-align: right;\n",
       "    }\n",
       "</style>\n",
       "<table border=\"1\" class=\"dataframe\">\n",
       "  <thead>\n",
       "    <tr style=\"text-align: right;\">\n",
       "      <th></th>\n",
       "      <th>time</th>\n",
       "      <th>event</th>\n",
       "      <th>pre_event</th>\n",
       "      <th>offer id</th>\n",
       "      <th>post_offer</th>\n",
       "      <th>offer_driven</th>\n",
       "      <th>offer_irrelevant</th>\n",
       "      <th>amount</th>\n",
       "    </tr>\n",
       "  </thead>\n",
       "  <tbody>\n",
       "    <tr>\n",
       "      <th>137384</th>\n",
       "      <td>336</td>\n",
       "      <td>offer received</td>\n",
       "      <td>NaN</td>\n",
       "      <td>0b1e1539f2cc45b7b9fa7c272da2e1d7</td>\n",
       "      <td>NaN</td>\n",
       "      <td>0</td>\n",
       "      <td>0</td>\n",
       "      <td>0.00</td>\n",
       "    </tr>\n",
       "    <tr>\n",
       "      <th>137385</th>\n",
       "      <td>354</td>\n",
       "      <td>offer viewed</td>\n",
       "      <td>NaN</td>\n",
       "      <td>0b1e1539f2cc45b7b9fa7c272da2e1d7</td>\n",
       "      <td>NaN</td>\n",
       "      <td>0</td>\n",
       "      <td>0</td>\n",
       "      <td>0.00</td>\n",
       "    </tr>\n",
       "    <tr>\n",
       "      <th>137387</th>\n",
       "      <td>408</td>\n",
       "      <td>offer received</td>\n",
       "      <td>NaN</td>\n",
       "      <td>0b1e1539f2cc45b7b9fa7c272da2e1d7</td>\n",
       "      <td>NaN</td>\n",
       "      <td>0</td>\n",
       "      <td>0</td>\n",
       "      <td>0.00</td>\n",
       "    </tr>\n",
       "    <tr>\n",
       "      <th>137389</th>\n",
       "      <td>492</td>\n",
       "      <td>offer completed</td>\n",
       "      <td>transaction</td>\n",
       "      <td>0b1e1539f2cc45b7b9fa7c272da2e1d7</td>\n",
       "      <td>0b1e1539f2cc45b7b9fa7c272da2e1d7</td>\n",
       "      <td>1</td>\n",
       "      <td>0</td>\n",
       "      <td>15.75</td>\n",
       "    </tr>\n",
       "    <tr>\n",
       "      <th>137390</th>\n",
       "      <td>516</td>\n",
       "      <td>offer viewed</td>\n",
       "      <td>NaN</td>\n",
       "      <td>0b1e1539f2cc45b7b9fa7c272da2e1d7</td>\n",
       "      <td>NaN</td>\n",
       "      <td>0</td>\n",
       "      <td>0</td>\n",
       "      <td>0.00</td>\n",
       "    </tr>\n",
       "    <tr>\n",
       "      <th>137392</th>\n",
       "      <td>564</td>\n",
       "      <td>offer completed</td>\n",
       "      <td>transaction</td>\n",
       "      <td>0b1e1539f2cc45b7b9fa7c272da2e1d7</td>\n",
       "      <td>NaN</td>\n",
       "      <td>1</td>\n",
       "      <td>0</td>\n",
       "      <td>14.24</td>\n",
       "    </tr>\n",
       "  </tbody>\n",
       "</table>\n",
       "</div>"
      ],
      "text/plain": [
       "        time            event    pre_event                          offer id  \\\n",
       "137384   336   offer received          NaN  0b1e1539f2cc45b7b9fa7c272da2e1d7   \n",
       "137385   354     offer viewed          NaN  0b1e1539f2cc45b7b9fa7c272da2e1d7   \n",
       "137387   408   offer received          NaN  0b1e1539f2cc45b7b9fa7c272da2e1d7   \n",
       "137389   492  offer completed  transaction  0b1e1539f2cc45b7b9fa7c272da2e1d7   \n",
       "137390   516     offer viewed          NaN  0b1e1539f2cc45b7b9fa7c272da2e1d7   \n",
       "137392   564  offer completed  transaction  0b1e1539f2cc45b7b9fa7c272da2e1d7   \n",
       "\n",
       "                              post_offer  offer_driven  offer_irrelevant  \\\n",
       "137384                               NaN             0                 0   \n",
       "137385                               NaN             0                 0   \n",
       "137387                               NaN             0                 0   \n",
       "137389  0b1e1539f2cc45b7b9fa7c272da2e1d7             1                 0   \n",
       "137390                               NaN             0                 0   \n",
       "137392                               NaN             1                 0   \n",
       "\n",
       "        amount  \n",
       "137384    0.00  \n",
       "137385    0.00  \n",
       "137387    0.00  \n",
       "137389   15.75  \n",
       "137390    0.00  \n",
       "137392   14.24  "
      ]
     },
     "execution_count": 1925,
     "metadata": {},
     "output_type": "execute_result"
    }
   ],
   "source": [
    "df0[(df0['offer id']=='0b1e1539f2cc45b7b9fa7c272da2e1d7')& (df0['person']=='072731be403a472883bed6c38a8e7aa8')][['time','event', 'pre_event', 'offer id', 'post_offer',  'offer_driven', 'offer_irrelevant','amount']]\n"
   ]
  },
  {
   "cell_type": "code",
   "execution_count": 1926,
   "metadata": {},
   "outputs": [
    {
     "data": {
      "text/html": [
       "<div>\n",
       "<style scoped>\n",
       "    .dataframe tbody tr th:only-of-type {\n",
       "        vertical-align: middle;\n",
       "    }\n",
       "\n",
       "    .dataframe tbody tr th {\n",
       "        vertical-align: top;\n",
       "    }\n",
       "\n",
       "    .dataframe thead th {\n",
       "        text-align: right;\n",
       "    }\n",
       "</style>\n",
       "<table border=\"1\" class=\"dataframe\">\n",
       "  <thead>\n",
       "    <tr style=\"text-align: right;\">\n",
       "      <th></th>\n",
       "      <th>time</th>\n",
       "      <th>event</th>\n",
       "      <th>post_event</th>\n",
       "      <th>offer id</th>\n",
       "      <th>post_offer</th>\n",
       "      <th>offer_driven</th>\n",
       "      <th>offer_irrelevant</th>\n",
       "      <th>amount</th>\n",
       "    </tr>\n",
       "  </thead>\n",
       "  <tbody>\n",
       "    <tr>\n",
       "      <th>137384</th>\n",
       "      <td>336</td>\n",
       "      <td>offer received</td>\n",
       "      <td>offer viewed</td>\n",
       "      <td>0b1e1539f2cc45b7b9fa7c272da2e1d7</td>\n",
       "      <td>0b1e1539f2cc45b7b9fa7c272da2e1d7</td>\n",
       "      <td>0</td>\n",
       "      <td>0</td>\n",
       "      <td>0.00</td>\n",
       "    </tr>\n",
       "    <tr>\n",
       "      <th>137385</th>\n",
       "      <td>354</td>\n",
       "      <td>offer viewed</td>\n",
       "      <td>transaction</td>\n",
       "      <td>0b1e1539f2cc45b7b9fa7c272da2e1d7</td>\n",
       "      <td>0b1e1539f2cc45b7b9fa7c272da2e1d7</td>\n",
       "      <td>0</td>\n",
       "      <td>0</td>\n",
       "      <td>0.00</td>\n",
       "    </tr>\n",
       "    <tr>\n",
       "      <th>137387</th>\n",
       "      <td>408</td>\n",
       "      <td>offer received</td>\n",
       "      <td>offer completed</td>\n",
       "      <td>0b1e1539f2cc45b7b9fa7c272da2e1d7</td>\n",
       "      <td>0b1e1539f2cc45b7b9fa7c272da2e1d7</td>\n",
       "      <td>0</td>\n",
       "      <td>0</td>\n",
       "      <td>0.00</td>\n",
       "    </tr>\n",
       "    <tr>\n",
       "      <th>137389</th>\n",
       "      <td>492</td>\n",
       "      <td>offer completed</td>\n",
       "      <td>offer viewed</td>\n",
       "      <td>0b1e1539f2cc45b7b9fa7c272da2e1d7</td>\n",
       "      <td>0b1e1539f2cc45b7b9fa7c272da2e1d7</td>\n",
       "      <td>1</td>\n",
       "      <td>0</td>\n",
       "      <td>0.00</td>\n",
       "    </tr>\n",
       "    <tr>\n",
       "      <th>137390</th>\n",
       "      <td>516</td>\n",
       "      <td>offer viewed</td>\n",
       "      <td>transaction</td>\n",
       "      <td>0b1e1539f2cc45b7b9fa7c272da2e1d7</td>\n",
       "      <td>0b1e1539f2cc45b7b9fa7c272da2e1d7</td>\n",
       "      <td>0</td>\n",
       "      <td>0</td>\n",
       "      <td>0.00</td>\n",
       "    </tr>\n",
       "    <tr>\n",
       "      <th>137392</th>\n",
       "      <td>564</td>\n",
       "      <td>offer completed</td>\n",
       "      <td>NaN</td>\n",
       "      <td>0b1e1539f2cc45b7b9fa7c272da2e1d7</td>\n",
       "      <td>NaN</td>\n",
       "      <td>1</td>\n",
       "      <td>0</td>\n",
       "      <td>14.24</td>\n",
       "    </tr>\n",
       "  </tbody>\n",
       "</table>\n",
       "</div>"
      ],
      "text/plain": [
       "        time            event       post_event  \\\n",
       "137384   336   offer received     offer viewed   \n",
       "137385   354     offer viewed      transaction   \n",
       "137387   408   offer received  offer completed   \n",
       "137389   492  offer completed     offer viewed   \n",
       "137390   516     offer viewed      transaction   \n",
       "137392   564  offer completed              NaN   \n",
       "\n",
       "                                offer id                        post_offer  \\\n",
       "137384  0b1e1539f2cc45b7b9fa7c272da2e1d7  0b1e1539f2cc45b7b9fa7c272da2e1d7   \n",
       "137385  0b1e1539f2cc45b7b9fa7c272da2e1d7  0b1e1539f2cc45b7b9fa7c272da2e1d7   \n",
       "137387  0b1e1539f2cc45b7b9fa7c272da2e1d7  0b1e1539f2cc45b7b9fa7c272da2e1d7   \n",
       "137389  0b1e1539f2cc45b7b9fa7c272da2e1d7  0b1e1539f2cc45b7b9fa7c272da2e1d7   \n",
       "137390  0b1e1539f2cc45b7b9fa7c272da2e1d7  0b1e1539f2cc45b7b9fa7c272da2e1d7   \n",
       "137392  0b1e1539f2cc45b7b9fa7c272da2e1d7                               NaN   \n",
       "\n",
       "        offer_driven  offer_irrelevant  amount  \n",
       "137384             0                 0    0.00  \n",
       "137385             0                 0    0.00  \n",
       "137387             0                 0    0.00  \n",
       "137389             1                 0    0.00  \n",
       "137390             0                 0    0.00  \n",
       "137392             1                 0   14.24  "
      ]
     },
     "execution_count": 1926,
     "metadata": {},
     "output_type": "execute_result"
    }
   ],
   "source": [
    "df00[(df00['offer id']=='0b1e1539f2cc45b7b9fa7c272da2e1d7')& (df0['person']=='072731be403a472883bed6c38a8e7aa8')][['time','event', 'post_event', 'offer id', 'post_offer',  'offer_driven', 'offer_irrelevant','amount']]\n"
   ]
  },
  {
   "cell_type": "code",
   "execution_count": null,
   "metadata": {},
   "outputs": [],
   "source": [
    "df0.groupby(['offer id', 'event'])[['amount']].sum().sum()"
   ]
  },
  {
   "cell_type": "code",
   "execution_count": null,
   "metadata": {},
   "outputs": [],
   "source": []
  },
  {
   "cell_type": "code",
   "execution_count": null,
   "metadata": {},
   "outputs": [],
   "source": []
  },
  {
   "cell_type": "code",
   "execution_count": null,
   "metadata": {},
   "outputs": [],
   "source": []
  },
  {
   "cell_type": "code",
   "execution_count": null,
   "metadata": {},
   "outputs": [],
   "source": []
  },
  {
   "cell_type": "markdown",
   "metadata": {},
   "source": [
    "### Sanity Checks"
   ]
  },
  {
   "cell_type": "code",
   "execution_count": null,
   "metadata": {},
   "outputs": [],
   "source": []
  },
  {
   "cell_type": "markdown",
   "metadata": {},
   "source": [
    "use method 2 to check if everything was done correclty"
   ]
  },
  {
   "cell_type": "code",
   "execution_count": null,
   "metadata": {},
   "outputs": [],
   "source": [
    "df1.loc[(df1['event']=='offer received'), 'keep']=1\n",
    "\n",
    "df1['post_event']=df1[((df1['event']=='offer received') | ((df1['event']=='transaction') & ((df1['offer_irrelevant']==1) | (df1['offer_driven']==1))) |(df1['event']=='offer completed'))].sort_values(['time', 'event']).groupby(['person', 'offer id'])['event'].shift(-1)\n",
    "df1['post_id']=df1[((df1['event']=='offer received') | ((df1['event']=='transaction') & ((df1['offer_irrelevant']==1) | (df1['offer_driven']==1))) |(df1['event']=='offer completed'))].sort_values(['time', 'event']).groupby(['person', 'offer id'])['offer id'].shift(-1)\n",
    "\n",
    "df1['post_driven']=df1[((df1['event']=='offer received') | ((df1['event']=='transaction') & ((df1['offer_irrelevant']==1) | (df1['offer_driven']==1))) |(df1['event']=='offer completed'))].sort_values(['time', 'event']).groupby(['person', 'offer id'])['offer_driven'].shift(-1)\n",
    "df1['post_irrelevant']=df1[((df1['event']=='offer received') | ((df1['event']=='transaction') & ((df1['offer_irrelevant']==1) | (df1['offer_driven']==1))) |(df1['event']=='offer completed'))].sort_values(['time', 'event']).groupby(['person', 'offer id'])['offer_irrelevant'].shift(-1)\n",
    "\n",
    "\n",
    "# flag offer related purchases on \"offer receive event\"\n",
    "df1.loc[(df1['event']=='offer received') & ((df1['post_event']=='offer completed') | (df1['post_event']=='transaction')) & (df1['offer id'] == df1['post_id']), 'offer_irrelevant']=df1[(df1['event']=='offer received') & ((df1['post_event']=='offer completed') | (df1['post_event']=='transaction')) & (df1['offer id'] == df1['post_id'])]['post_irrelevant']\n",
    "df1.loc[(df1['event']=='offer received') & ((df1['post_event']=='offer completed') | (df1['post_event']=='transaction')) & (df1['offer id'] == df1['post_id']), 'offer_driven']=df1[(df1['event']=='offer received') & ((df1['post_event']=='offer completed') | (df1['post_event']=='transaction')) & (df1['offer id'] == df1['post_id'])]['post_driven']\n",
    "\n",
    "# mark those records as records to \"keep\"\n",
    "df1.loc[(df1['event']=='offer received') & ((df1['post_event']=='offer completed') | (df1['post_event']=='transaction')) & (df1['offer id'] == df1['post_id']), 'keep']=1\n",
    "\n",
    "\n",
    "# standalone transactions\n",
    "df1.loc[((df1['event'] == 'transaction') & (df1['offer id'] == 'unknown')), 'keep']=1\n",
    "\n",
    "\n",
    "# check number of \"offer received\" event before and after cleaning\n",
    "n_pre_record=df1.shape[0]\n",
    "df1=df1[(df1['keep']==1)]\n",
    "print(\"{} records before cleaning. {} records after cleaning\".format(n_pre_record,df1.shape[0]))\n"
   ]
  },
  {
   "cell_type": "markdown",
   "metadata": {},
   "source": [
    "check distribution of number of offers received each person"
   ]
  },
  {
   "cell_type": "code",
   "execution_count": null,
   "metadata": {},
   "outputs": [],
   "source": [
    "\n",
    "df[df['event']=='offer received'].groupby('person')['event'].count().hist(bins=range(1,8), rwidth=0.5, align='left')\n"
   ]
  },
  {
   "cell_type": "code",
   "execution_count": null,
   "metadata": {},
   "outputs": [],
   "source": [
    "df[(df['event']=='transaction') & ((df['offer_driven']==0) & (df['offer_irrelevant']==0))]"
   ]
  },
  {
   "cell_type": "code",
   "execution_count": null,
   "metadata": {},
   "outputs": [],
   "source": [
    "# number of standalone transactions\n",
    "# df[(df['event']=='transaction')].shape[0]\n",
    "\n",
    "# equals\n",
    "df[(df['offer id']=='unknown')].shape[0]"
   ]
  },
  {
   "cell_type": "code",
   "execution_count": null,
   "metadata": {},
   "outputs": [],
   "source": [
    "df[((df['event']=='offer received') & ((df['offer_driven']==1) | (df['offer_irrelevant']==1)))].shape[0]\n"
   ]
  },
  {
   "cell_type": "code",
   "execution_count": null,
   "metadata": {},
   "outputs": [],
   "source": [
    "df[(df['offer id']!='unknown')]['offer_driven'].unique()"
   ]
  },
  {
   "cell_type": "code",
   "execution_count": 1935,
   "metadata": {},
   "outputs": [
    {
     "name": "stdout",
     "output_type": "stream",
     "text": [
      "total purchase amount with offers 584549.0\n",
      "total purchase amount without offers 1190903.0\n",
      "total purchase amount 1775452.0\n",
      "--------------------------------------------\n",
      "number of purchases with offer 53457\n",
      "number of purchases without offer 97039\n",
      "total number of purchases 150415\n"
     ]
    }
   ],
   "source": [
    "# total purchase amount\n",
    "print(\"total purchase amount with offers\", round(df[df['offer id']!='unknown'].groupby('offer id')['amount'].sum().sum()))\n",
    "print(\"total purchase amount without offers\", round(df[df['offer id']=='unknown'].groupby('offer id')['amount'].sum().sum()))\n",
    "print(\"total purchase amount\", round(df.groupby('offer id')['amount'].sum().sum()))\n",
    "\n",
    "print(\"--------------------------------------------\")\n",
    "\n",
    "# number of purchases with offer \n",
    "print(\"number of purchases with offer\", df[(df['offer id']!='unknown') & ((df['offer_driven']==1) | (df['offer_irrelevant']==1))].shape[0] )\n",
    "print(\"number of purchases without offer\", df[(df['offer id']=='unknown')].shape[0])\n",
    "print(\"total number of purchases\", df[(df['event']=='transaction') | ((df['event']=='offer received') & ((df['offer_driven']==1) | (df['offer_irrelevant']==1)))].shape[0])\n"
   ]
  },
  {
   "cell_type": "code",
   "execution_count": 1942,
   "metadata": {},
   "outputs": [
    {
     "name": "stdout",
     "output_type": "stream",
     "text": [
      "number of purchases with offer 53457\n",
      "number of purchases without offer 97039\n",
      "total number of purchases 150496\n"
     ]
    }
   ],
   "source": [
    "# number of purchases with offer \n",
    "print(\"number of purchases with offer\", df[ (df['offer id']!='unknown') & ((df['offer_driven']==1) | (df['offer_irrelevant']==1))].shape[0] )\n",
    "print(\"number of purchases without offer\", df[(df['offer id']=='unknown')].shape[0])\n",
    "print(\"total number of purchases\", df[(df['event']=='transaction') | (df['event']=='offer completed')| ((df['event']=='offer received') & ((df['offer_driven']==1) | (df['offer_irrelevant']==1)))].shape[0])\n"
   ]
  },
  {
   "cell_type": "code",
   "execution_count": 1939,
   "metadata": {},
   "outputs": [
    {
     "name": "stdout",
     "output_type": "stream",
     "text": [
      "number of purchases with offer 53457\n",
      "number of purchases without offer 97039\n",
      "total number of purchases 117314\n"
     ]
    }
   ],
   "source": [
    "# number of purchases with offer \n",
    "print(\"number of purchases with offer\", df0[ (df0['offer id']!='unknown') & ((df0['offer_driven']==1) | (df0['offer_irrelevant']==1))].shape[0] )\n",
    "print(\"number of purchases without offer\", df[(df['offer id']=='unknown')].shape[0])\n",
    "print(\"total number of purchases\", df0[(df0['event']=='transaction') | ((df0['event']=='offer received') & ((df0['offer_driven']==1) | (df0['offer_irrelevant']==1)))].shape[0])\n"
   ]
  },
  {
   "cell_type": "code",
   "execution_count": 1941,
   "metadata": {},
   "outputs": [
    {
     "name": "stdout",
     "output_type": "stream",
     "text": [
      "number of purchases with offer 53457\n",
      "number of purchases without offer 97039\n",
      "total number of purchases 150496\n"
     ]
    }
   ],
   "source": [
    "# number of purchases with offer \n",
    "print(\"number of purchases with offer\", df0[((df0['event']=='transaction') & (df0['offer id']!='unknown')) | (df0['event']=='offer completed') ].shape[0] )\n",
    "print(\"number of purchases without offer\", df[(df['event']=='transaction') & (df['offer id']=='unknown')].shape[0])\n",
    "print(\"total number of purchases\", df0[(df0['event']=='transaction') | (df0['event']=='offer completed')].shape[0])\n"
   ]
  },
  {
   "cell_type": "code",
   "execution_count": null,
   "metadata": {},
   "outputs": [],
   "source": []
  },
  {
   "cell_type": "code",
   "execution_count": null,
   "metadata": {},
   "outputs": [],
   "source": []
  },
  {
   "cell_type": "code",
   "execution_count": null,
   "metadata": {},
   "outputs": [],
   "source": []
  },
  {
   "cell_type": "code",
   "execution_count": null,
   "metadata": {},
   "outputs": [],
   "source": []
  },
  {
   "cell_type": "code",
   "execution_count": null,
   "metadata": {},
   "outputs": [],
   "source": []
  },
  {
   "cell_type": "code",
   "execution_count": null,
   "metadata": {},
   "outputs": [],
   "source": [
    "df.isnull().any()"
   ]
  },
  {
   "cell_type": "code",
   "execution_count": null,
   "metadata": {},
   "outputs": [],
   "source": [
    "df.columns"
   ]
  },
  {
   "cell_type": "code",
   "execution_count": null,
   "metadata": {},
   "outputs": [],
   "source": [
    "# Drop unnecessary columns\n",
    "to_be_dropped.append[\n",
    "    'pre_event', 'pre_offer', 'post_event', 'post_offer', 'post_driven','post_irrelevant', 'post_id',  \n",
    "    'time_since_receive', 'time',\n",
    "    'event']\n",
    "to_be_dropped=[x for i in to_be_dropped]\n",
    "df=df.drop(columns_to_drop, axis=1)"
   ]
  },
  {
   "cell_type": "markdown",
   "metadata": {},
   "source": [
    "## More Analysis"
   ]
  },
  {
   "cell_type": "code",
   "execution_count": null,
   "metadata": {},
   "outputs": [],
   "source": [
    "df[df['event']=='offer received'].groupby('person')['event'].count().hist(bins=range(1,8), rwidth=0.5, align='left')\n",
    "# offer_count=df[df['event']=='offer received'].groupby('person')[['event']].count().reset_index()\n",
    "\n",
    "# # check the customers that never received any offers\n",
    "# a=df['person'].unique()\n",
    "# b=offer_count['person'].unique()\n",
    "# np.setdiff1d(a,b)\n",
    "\n",
    "# # add the number of offer received to the dataset as a new feature\n",
    "# offer_count.rename(columns={\"event\": \"offer_cnt\"}, inplace=True)\n",
    "# df=df.merge(offer_count, right_on='person', left_on='person', how='left')\n",
    "# df['offer_cnt'].fillna(0, inplace=True)"
   ]
  },
  {
   "cell_type": "code",
   "execution_count": null,
   "metadata": {},
   "outputs": [],
   "source": [
    "df[df['offer id']!='unknown'].groupby('person')['offer id'].count().hist(bins=range(1,8), rwidth=0.5, align='left')"
   ]
  },
  {
   "cell_type": "code",
   "execution_count": null,
   "metadata": {},
   "outputs": [],
   "source": [
    "df[df['offer id']!='unknown'].groupby('person')['offer id'].count().hist(bins=range(1,8), rwidth=0.5, align='left')\n",
    "offer_count=df[df['event']=='offer received'].groupby('person')[['event']].count().reset_index()\n",
    "\n",
    "# check the customers that never received any offers\n",
    "a=df['person'].unique()\n",
    "b=offer_count['person'].unique()\n",
    "np.setdiff1d(a,b)\n",
    "\n",
    "# add the number of offer received to the dataset as a new feature\n",
    "offer_count.rename(columns={\"event\": \"offer_cnt\"}, inplace=True)\n",
    "df=df.merge(offer_count, right_on='person', left_on='person', how='left')\n",
    "df['offer_cnt'].fillna(0, inplace=True)"
   ]
  },
  {
   "cell_type": "markdown",
   "metadata": {},
   "source": [
    "#### How each gender response to offers"
   ]
  },
  {
   "cell_type": "code",
   "execution_count": null,
   "metadata": {},
   "outputs": [],
   "source": [
    "df.grouby('gender')[['offer_drive', 'offer_irrelevant', 'inactive_customer']].sum()"
   ]
  },
  {
   "cell_type": "markdown",
   "metadata": {},
   "source": [
    "#### Sales Amount associated with each offer"
   ]
  },
  {
   "cell_type": "code",
   "execution_count": null,
   "metadata": {},
   "outputs": [],
   "source": [
    "df.groupby(\"offer id\")['amount'].sum()"
   ]
  },
  {
   "cell_type": "markdown",
   "metadata": {},
   "source": [
    "## Analysis"
   ]
  },
  {
   "cell_type": "code",
   "execution_count": null,
   "metadata": {},
   "outputs": [],
   "source": [
    "df2=df[df['person']=='bc3abab34eb24ac9a44a6af6256dde4c'].copy()\n",
    "\n",
    "\n",
    "\n",
    "df2['diff_info']=df2[(df2['offer_type']=='informational') & ((df2['event']=='offer received') | (df2['event']=='transaction'))].groupby(['person','offer id'])[['time']].diff()\n",
    "\n",
    "print(df2.shape[0])\n",
    "df2[['person', 'offer id', 'time', 'event', 'offer_type', 'diff_info']]\n",
    "\n"
   ]
  },
  {
   "cell_type": "code",
   "execution_count": null,
   "metadata": {},
   "outputs": [],
   "source": []
  },
  {
   "cell_type": "code",
   "execution_count": null,
   "metadata": {},
   "outputs": [],
   "source": [
    "df['pre_event']=df.sort_values('time').groupby(['person','offer id'])['event'].shift(1)\n",
    "df['pre_offer']=df.sort_values('time').groupby(['person','offer id'])['offer id'].shift(1)\n",
    "df[(df['event']=='transaction') & (df['pre_event']=='offer viewed')]['offer id']=df[(df['event']=='transaction') & (df['pre_event']=='offer viewed')]['pre_offer']\n",
    "df[(df['event']=='transaction')]['person'].unique()"
   ]
  },
  {
   "cell_type": "markdown",
   "metadata": {},
   "source": [
    "# Modeling"
   ]
  },
  {
   "cell_type": "code",
   "execution_count": null,
   "metadata": {},
   "outputs": [],
   "source": [
    "# # find offer driven purchases ( Offer viewed & Offer complete & Offer is not expired)\n",
    "# df['offer_drive_purchase']=False\n",
    "# df[df['time']<df['duration'] & df['person'].isin(offer_complete_ls)]['offer_drive_purchase']=True"
   ]
  },
  {
   "cell_type": "code",
   "execution_count": null,
   "metadata": {},
   "outputs": [],
   "source": []
  }
 ],
 "metadata": {
  "kernelspec": {
   "display_name": "Python 3",
   "language": "python",
   "name": "python3"
  },
  "language_info": {
   "codemirror_mode": {
    "name": "ipython",
    "version": 3
   },
   "file_extension": ".py",
   "mimetype": "text/x-python",
   "name": "python",
   "nbconvert_exporter": "python",
   "pygments_lexer": "ipython3",
   "version": "3.7.4"
  }
 },
 "nbformat": 4,
 "nbformat_minor": 2
}
